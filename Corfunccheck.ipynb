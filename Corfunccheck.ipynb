{
 "cells": [
  {
   "cell_type": "markdown",
   "metadata": {
    "tags": []
   },
   "source": [
    "# import package\n"
   ]
  },
  {
   "cell_type": "code",
   "execution_count": 2,
   "metadata": {
    "execution": {
     "iopub.execute_input": "2021-03-12T13:19:19.418536Z",
     "iopub.status.busy": "2021-03-12T13:19:19.418352Z",
     "iopub.status.idle": "2021-03-12T13:19:20.157926Z",
     "shell.execute_reply": "2021-03-12T13:19:20.157413Z",
     "shell.execute_reply.started": "2021-03-12T13:19:19.418514Z"
    },
    "tags": []
   },
   "outputs": [],
   "source": [
    "import numpy as np"
   ]
  },
  {
   "cell_type": "code",
   "execution_count": null,
   "metadata": {},
   "outputs": [],
   "source": [
    "import numpy"
   ]
  },
  {
   "cell_type": "code",
   "execution_count": 3,
   "metadata": {
    "ExecuteTime": {
     "end_time": "2021-02-24T02:35:25.677184Z",
     "start_time": "2021-02-24T02:35:10.798826Z"
    },
    "execution": {
     "iopub.execute_input": "2021-03-12T13:19:21.166101Z",
     "iopub.status.busy": "2021-03-12T13:19:21.165928Z",
     "iopub.status.idle": "2021-03-12T13:19:23.290112Z",
     "shell.execute_reply": "2021-03-12T13:19:23.289604Z",
     "shell.execute_reply.started": "2021-03-12T13:19:21.166081Z"
    },
    "tags": []
   },
   "outputs": [],
   "source": [
    "import matplotlib.pyplot as plt\n",
    "import numpy as np"
   ]
  },
  {
   "cell_type": "code",
   "execution_count": 5,
   "metadata": {
    "execution": {
     "iopub.execute_input": "2021-03-08T08:36:53.854030Z",
     "iopub.status.busy": "2021-03-08T08:36:53.853812Z",
     "iopub.status.idle": "2021-03-08T08:36:53.862803Z",
     "shell.execute_reply": "2021-03-08T08:36:53.862324Z",
     "shell.execute_reply.started": "2021-03-08T08:36:53.854006Z"
    },
    "tags": []
   },
   "outputs": [],
   "source": [
    "%config Completer.use_jedi = False"
   ]
  },
  {
   "cell_type": "code",
   "execution_count": 6,
   "metadata": {
    "execution": {
     "iopub.execute_input": "2021-03-08T08:36:55.463883Z",
     "iopub.status.busy": "2021-03-08T08:36:55.463722Z",
     "iopub.status.idle": "2021-03-08T08:37:04.381709Z",
     "shell.execute_reply": "2021-03-08T08:37:04.381184Z",
     "shell.execute_reply.started": "2021-03-08T08:36:55.463863Z"
    },
    "tags": []
   },
   "outputs": [],
   "source": [
    "import Corrfunc"
   ]
  },
  {
   "cell_type": "code",
   "execution_count": 7,
   "metadata": {
    "execution": {
     "iopub.execute_input": "2021-03-08T08:37:04.382771Z",
     "iopub.status.busy": "2021-03-08T08:37:04.382587Z",
     "iopub.status.idle": "2021-03-08T08:37:10.704329Z",
     "shell.execute_reply": "2021-03-08T08:37:10.703752Z",
     "shell.execute_reply.started": "2021-03-08T08:37:04.382750Z"
    },
    "tags": []
   },
   "outputs": [],
   "source": [
    "import nbodykit"
   ]
  },
  {
   "cell_type": "code",
   "execution_count": 8,
   "metadata": {
    "execution": {
     "iopub.execute_input": "2021-03-08T08:37:10.705564Z",
     "iopub.status.busy": "2021-03-08T08:37:10.705395Z",
     "iopub.status.idle": "2021-03-08T08:37:15.110758Z",
     "shell.execute_reply": "2021-03-08T08:37:15.110229Z",
     "shell.execute_reply.started": "2021-03-08T08:37:10.705543Z"
    },
    "tags": []
   },
   "outputs": [],
   "source": [
    "from scipy import integrate\n",
    "import astropy.units as u\n",
    "import multiprocessing as mp"
   ]
  },
  {
   "cell_type": "code",
   "execution_count": null,
   "metadata": {},
   "outputs": [],
   "source": []
  },
  {
   "cell_type": "markdown",
   "metadata": {},
   "source": [
    "# load data"
   ]
  },
  {
   "cell_type": "code",
   "execution_count": 96,
   "metadata": {
    "ExecuteTime": {
     "end_time": "2021-02-24T03:05:10.854891Z",
     "start_time": "2021-02-24T03:05:10.780700Z"
    },
    "execution": {
     "iopub.execute_input": "2021-03-15T11:05:42.705703Z",
     "iopub.status.busy": "2021-03-15T11:05:42.705471Z",
     "iopub.status.idle": "2021-03-15T11:05:42.708881Z",
     "shell.execute_reply": "2021-03-15T11:05:42.708326Z",
     "shell.execute_reply.started": "2021-03-15T11:05:42.705677Z"
    },
    "tags": []
   },
   "outputs": [],
   "source": [
    "data = np.load('/home/yunzheng/mock/clustering/data/wp_direct/wp_bin_-20.5.npz')"
   ]
  },
  {
   "cell_type": "code",
   "execution_count": 88,
   "metadata": {
    "ExecuteTime": {
     "end_time": "2021-02-24T03:05:11.971097Z",
     "start_time": "2021-02-24T03:05:11.928678Z"
    },
    "execution": {
     "iopub.execute_input": "2021-03-15T10:21:31.761015Z",
     "iopub.status.busy": "2021-03-15T10:21:31.760815Z",
     "iopub.status.idle": "2021-03-15T10:21:31.765374Z",
     "shell.execute_reply": "2021-03-15T10:21:31.764865Z",
     "shell.execute_reply.started": "2021-03-15T10:21:31.760991Z"
    },
    "tags": []
   },
   "outputs": [
    {
     "data": {
      "text/plain": [
       "array([1.31131470e-02, 2.07682353e-02, 3.29194690e-02, 5.21772620e-02,\n",
       "       8.26968265e-02, 1.31015125e-01, 2.07561964e-01, 3.28797056e-01,\n",
       "       5.20980477e-01, 8.26016399e-01, 1.31042595e+00, 2.07906195e+00,\n",
       "       3.29710566e+00, 5.22692903e+00, 8.28538583e+00, 1.31341796e+01,\n",
       "       2.08205763e+01, 3.30059753e+01, 5.23182095e+01])"
      ]
     },
     "execution_count": 88,
     "metadata": {},
     "output_type": "execute_result"
    }
   ],
   "source": [
    "data['rp']"
   ]
  },
  {
   "cell_type": "code",
   "execution_count": 89,
   "metadata": {
    "ExecuteTime": {
     "end_time": "2021-02-24T03:05:13.997203Z",
     "start_time": "2021-02-24T03:05:13.993609Z"
    },
    "execution": {
     "iopub.execute_input": "2021-03-15T10:21:36.092734Z",
     "iopub.status.busy": "2021-03-15T10:21:36.092493Z",
     "iopub.status.idle": "2021-03-15T10:21:36.097162Z",
     "shell.execute_reply": "2021-03-15T10:21:36.096636Z",
     "shell.execute_reply.started": "2021-03-15T10:21:36.092707Z"
    }
   },
   "outputs": [
    {
     "data": {
      "text/plain": [
       "array([287.60366848, 256.11384643, 225.20216371, 198.57444476,\n",
       "       173.20715503, 148.42729041, 123.42746692,  97.86483162,\n",
       "        72.87540422,  51.19487537,  34.99111366,  24.4844029 ,\n",
       "        17.78805474,  12.88456165,   8.92734564,   5.72254441,\n",
       "         3.2192074 ,   1.54285573,   0.51167735])"
      ]
     },
     "execution_count": 89,
     "metadata": {},
     "output_type": "execute_result"
    }
   ],
   "source": [
    "data['wp']"
   ]
  },
  {
   "cell_type": "code",
   "execution_count": 8,
   "metadata": {
    "ExecuteTime": {
     "end_time": "2021-02-24T02:42:54.007041Z",
     "start_time": "2021-02-24T02:42:54.004686Z"
    }
   },
   "outputs": [],
   "source": [
    "rp = data[:,1]"
   ]
  },
  {
   "cell_type": "code",
   "execution_count": 94,
   "metadata": {
    "ExecuteTime": {
     "end_time": "2021-02-24T03:07:12.521959Z",
     "start_time": "2021-02-24T03:07:12.303616Z"
    },
    "execution": {
     "iopub.execute_input": "2021-03-15T11:05:20.494093Z",
     "iopub.status.busy": "2021-03-15T11:05:20.493863Z",
     "iopub.status.idle": "2021-03-15T11:05:20.526127Z",
     "shell.execute_reply": "2021-03-15T11:05:20.525576Z",
     "shell.execute_reply.started": "2021-03-15T11:05:20.494069Z"
    },
    "tags": []
   },
   "outputs": [],
   "source": [
    "wp = [[]for _ in range(8)]\n",
    "rp = [[]for _ in range(8)]\n",
    "temp = [[]for _ in range(8)]\n",
    "# rpbin = [[]for _ in range(8)]\n",
    "for i in range(4):\n",
    "    temp[i] = np.load('/home/yunzheng/mock/clustering/data/wp_direct/wp_bin_-%s.npz'%(18.5+0.5*i))\n",
    "    wp[i] = temp[i]['wp'] / (10**(0.15*(4-i)))\n",
    "#     wp[i] = temp[i]['wp'] \n",
    "    rp[i] = temp[i]['rp']\n",
    "for i in range(4,8):\n",
    "    temp[i] = np.load('/home/yunzheng/mock/clustering/data/wp_direct/wp_bin_-%s.npz'%(18.5+0.5*i))\n",
    "#     wp[i] = temp[i]['wp'] \n",
    "    wp[i] = temp[i]['wp'] * (10**(0.15*(i - 4)))\n",
    "    rp[i] = temp[i]['rp']"
   ]
  },
  {
   "cell_type": "code",
   "execution_count": 97,
   "metadata": {
    "ExecuteTime": {
     "end_time": "2021-02-24T03:07:19.451262Z",
     "start_time": "2021-02-24T03:07:18.487080Z"
    },
    "execution": {
     "iopub.execute_input": "2021-03-15T11:05:57.330284Z",
     "iopub.status.busy": "2021-03-15T11:05:57.330057Z",
     "iopub.status.idle": "2021-03-15T11:06:02.364799Z",
     "shell.execute_reply": "2021-03-15T11:06:02.363892Z",
     "shell.execute_reply.started": "2021-03-15T11:05:57.330259Z"
    },
    "tags": []
   },
   "outputs": [
    {
     "data": {
      "text/plain": [
       "Text(0.5, 1.0, 'Projected correlation function')"
      ]
     },
     "execution_count": 97,
     "metadata": {},
     "output_type": "execute_result"
    },
    {
     "data": {
      "image/png": "[encoded data removed]",
      "text/plain": [
       "<Figure size 720x576 with 2 Axes>"
      ]
     },
     "metadata": {
      "needs_background": "light"
     },
     "output_type": "display_data"
    }
   ],
   "source": [
    "fig = plt.figure(figsize=(10,8))\n",
    "ax1 = fig.add_subplot(111)\n",
    "\n",
    "colors = ['pink','orchid','darkslateblue','cornflowerblue','seagreen','orange','red','chocolate']\n",
    "l = [[]for _ in range(8)]\n",
    "\n",
    "for i in range(4):\n",
    "    l[i], = plt.plot(rp[i],wp[i],color = colors[i],label = '$Mag \\ <\\ -%s$'%(18.5+0.5*i))\n",
    "plt.legend(handles = [l[0],l[1],l[2],l[3]],loc = 'lower left')\n",
    "\n",
    "\n",
    "plt.plot(data['rp'],data['wp'],'ro')\n",
    "plt.xscale('log')\n",
    "plt.yscale('log')\n",
    "plt.grid(axis = 'both', linestyle = '--')\n",
    "plt.xlim(0.1,35)\n",
    "plt.ylim(0.4,10**4)\n",
    "plt.xlabel('$r_p (h^{-1} \\ Mpc)$')\n",
    "plt.ylabel('$W_p (r_{p})$')\n",
    "\n",
    "\n",
    "\n",
    "ax2 = ax1.twinx()\n",
    "for i in range(4,8):\n",
    "    l[i], = plt.plot(rp[i],wp[i],colors[i],label = '$Mag \\ <\\ -%s$'%(18.5+0.5*i))\n",
    "plt.legend(handles = [l[4],l[5],l[6],l[7]],loc = 'upper right')\n",
    "\n",
    "plt.xscale('log')\n",
    "plt.yscale('log')\n",
    "\n",
    "plt.xlim(0.1,35)\n",
    "plt.ylim(0.4,10**4)\n",
    "# plt.xlabel('$r_p (h^{-1} \\ Mpc)$')\n",
    "# plt.ylabel('$W_p (r_{p})$')\n",
    "plt.title('Projected correlation function')\n",
    "# plt.savefig('/home/yunzheng/mock/clustering/picture/Pcf_bins.pdf',dpi = 100)"
   ]
  },
  {
   "cell_type": "code",
   "execution_count": 98,
   "metadata": {
    "ExecuteTime": {
     "end_time": "2021-02-24T03:13:11.049162Z",
     "start_time": "2021-02-24T03:13:10.977594Z"
    },
    "execution": {
     "iopub.execute_input": "2021-03-15T11:17:02.317795Z",
     "iopub.status.busy": "2021-03-15T11:17:02.317488Z",
     "iopub.status.idle": "2021-03-15T11:17:02.351368Z",
     "shell.execute_reply": "2021-03-15T11:17:02.350788Z",
     "shell.execute_reply.started": "2021-03-15T11:17:02.317754Z"
    }
   },
   "outputs": [],
   "source": [
    "wp = [[]for _ in range(8)]\n",
    "rp = [[]for _ in range(8)]\n",
    "temp = [[]for _ in range(8)]\n",
    "# rpbin = [[]for _ in range(8)]\n",
    "for i in range(4):\n",
    "    temp[i] = np.load('/home/yunzheng/mock/clustering/data/wp_direct/wp2_bin_-%s.npz'%(18.5+0.5*i))\n",
    "    wp[i] = temp[i]['wp'] / (10**(0.15*(4-i)))\n",
    "#     wp[i] = temp[i]['wp'] \n",
    "    rp[i] = temp[i]['rp']\n",
    "for i in range(4,8):\n",
    "    temp[i] = np.load('/home/yunzheng/mock/clustering/data/wp_direct/wp2_bin_-%s.npz'%(18.5+0.5*i))\n",
    "#     wp[i] = temp[i]['wp'] \n",
    "    wp[i] = temp[i]['wp'] * (10**(0.15*(i - 4)))\n",
    "    rp[i] = temp[i]['rp']"
   ]
  },
  {
   "cell_type": "code",
   "execution_count": 99,
   "metadata": {
    "execution": {
     "iopub.execute_input": "2021-03-15T11:17:15.352083Z",
     "iopub.status.busy": "2021-03-15T11:17:15.351867Z",
     "iopub.status.idle": "2021-03-15T11:17:20.299034Z",
     "shell.execute_reply": "2021-03-15T11:17:20.298478Z",
     "shell.execute_reply.started": "2021-03-15T11:17:15.352061Z"
    }
   },
   "outputs": [
    {
     "data": {
      "text/plain": [
       "Text(0.5, 1.0, 'Projected correlation function')"
      ]
     },
     "execution_count": 99,
     "metadata": {},
     "output_type": "execute_result"
    },
    {
     "data": {
      "image/png": "[encoded data removed]",
      "text/plain": [
       "<Figure size 720x576 with 2 Axes>"
      ]
     },
     "metadata": {
      "needs_background": "light"
     },
     "output_type": "display_data"
    }
   ],
   "source": [
    "fig = plt.figure(figsize=(10,8))\n",
    "ax1 = fig.add_subplot(111)\n",
    "\n",
    "colors = ['pink','orchid','darkslateblue','cornflowerblue','seagreen','orange','red','chocolate']\n",
    "l = [[]for _ in range(8)]\n",
    "\n",
    "for i in range(4):\n",
    "    l[i], = plt.plot(rp[i],wp[i],color = colors[i],label = '$Mag \\ <\\ -%s$'%(18.5+0.5*i))\n",
    "plt.legend(handles = [l[0],l[1],l[2],l[3]],loc = 'lower left')\n",
    "\n",
    "\n",
    "# plt.plot(data['rp'],data['wp'],'ro')\n",
    "plt.xscale('log')\n",
    "plt.yscale('log')\n",
    "plt.grid(axis = 'both', linestyle = '--')\n",
    "plt.xlim(0.1,35)\n",
    "plt.ylim(0.4,10**4)\n",
    "plt.xlabel('$r_p (h^{-1} \\ Mpc)$')\n",
    "plt.ylabel('$W_p (r_{p})$')\n",
    "\n",
    "\n",
    "\n",
    "ax2 = ax1.twinx()\n",
    "for i in range(4,8):\n",
    "    l[i], = plt.plot(rp[i],wp[i],colors[i],label = '$Mag \\ <\\ -%s$'%(18.5+0.5*i))\n",
    "plt.legend(handles = [l[4],l[5],l[6],l[7]],loc = 'upper right')\n",
    "\n",
    "plt.xscale('log')\n",
    "plt.yscale('log')\n",
    "\n",
    "plt.xlim(0.1,35)\n",
    "plt.ylim(0.4,10**4)\n",
    "# plt.xlabel('$r_p (h^{-1} \\ Mpc)$')\n",
    "# plt.ylabel('$W_p (r_{p})$')\n",
    "plt.title('Projected correlation function')\n",
    "# plt.savefig('/home/yunzheng/mock/clustering/picture/Pcf_bins.pdf',dpi = 100)"
   ]
  },
  {
   "cell_type": "markdown",
   "metadata": {},
   "source": [
    "# wp_color"
   ]
  },
  {
   "cell_type": "markdown",
   "metadata": {},
   "source": [
    "## check blue or red galaxies"
   ]
  },
  {
   "cell_type": "code",
   "execution_count": 124,
   "metadata": {
    "execution": {
     "iopub.execute_input": "2021-03-15T12:08:34.375962Z",
     "iopub.status.busy": "2021-03-15T12:08:34.375737Z",
     "iopub.status.idle": "2021-03-15T12:08:36.901555Z",
     "shell.execute_reply": "2021-03-15T12:08:36.901047Z",
     "shell.execute_reply.started": "2021-03-15T12:08:34.375939Z"
    },
    "tags": []
   },
   "outputs": [
    {
     "name": "stdout",
     "output_type": "stream",
     "text": [
      "['subid', 'vpeak', 'posx', 'posy', 'posz', 'vx', 'vy', 'vz', 'zform', 'mag', 'color']\n",
      "Load Sucessfully!\n"
     ]
    }
   ],
   "source": [
    "table = np.load('/home/yunzheng/mock/color/data/newcatalogue/snapshot_92_new_withcolor.npz')\n",
    "print(table.files)\n",
    "vpeak = table['vpeak']\n",
    "posx = table['posx'] / 1000\n",
    "posy = table['posy'] / 1000\n",
    "posz = table['posz'] / 1000\n",
    "\n",
    "color = table['color']\n",
    "mag = table['mag']\n",
    "zform = table['zform']\n",
    "print('Load Sucessfully!')"
   ]
  },
  {
   "cell_type": "code",
   "execution_count": 125,
   "metadata": {
    "execution": {
     "iopub.execute_input": "2021-03-15T12:09:11.768222Z",
     "iopub.status.busy": "2021-03-15T12:09:11.768008Z",
     "iopub.status.idle": "2021-03-15T12:09:11.771633Z",
     "shell.execute_reply": "2021-03-15T12:09:11.771154Z",
     "shell.execute_reply.started": "2021-03-15T12:09:11.768200Z"
    },
    "tags": []
   },
   "outputs": [
    {
     "data": {
      "text/plain": [
       "array([0.25344051, 0.28906294, 0.44355603, ..., 0.95362194, 2.18064083,\n",
       "       0.86360329])"
      ]
     },
     "execution_count": 125,
     "metadata": {},
     "output_type": "execute_result"
    }
   ],
   "source": [
    "zform"
   ]
  },
  {
   "cell_type": "code",
   "execution_count": 126,
   "metadata": {
    "execution": {
     "iopub.execute_input": "2021-03-15T12:09:14.601795Z",
     "iopub.status.busy": "2021-03-15T12:09:14.601575Z",
     "iopub.status.idle": "2021-03-15T12:09:14.605191Z",
     "shell.execute_reply": "2021-03-15T12:09:14.604763Z",
     "shell.execute_reply.started": "2021-03-15T12:09:14.601772Z"
    },
    "tags": []
   },
   "outputs": [
    {
     "data": {
      "text/plain": [
       "array([-0.71317044, -0.67961998, -0.51425548, ..., -1.61803398,\n",
       "        5.2360679 , -1.61803398])"
      ]
     },
     "execution_count": 126,
     "metadata": {},
     "output_type": "execute_result"
    }
   ],
   "source": [
    "color"
   ]
  },
  {
   "cell_type": "code",
   "execution_count": 127,
   "metadata": {
    "execution": {
     "iopub.execute_input": "2021-03-15T12:09:19.729515Z",
     "iopub.status.busy": "2021-03-15T12:09:19.729297Z",
     "iopub.status.idle": "2021-03-15T12:09:19.733022Z",
     "shell.execute_reply": "2021-03-15T12:09:19.732565Z",
     "shell.execute_reply.started": "2021-03-15T12:09:19.729492Z"
    },
    "tags": []
   },
   "outputs": [
    {
     "data": {
      "text/plain": [
       "array([-15.19880718, -15.20075222, -15.19876185, ..., -23.18694452,\n",
       "       -23.07630745, -23.11460951])"
      ]
     },
     "execution_count": 127,
     "metadata": {},
     "output_type": "execute_result"
    }
   ],
   "source": [
    "mag"
   ]
  },
  {
   "cell_type": "code",
   "execution_count": 128,
   "metadata": {
    "execution": {
     "iopub.execute_input": "2021-03-15T12:09:21.740974Z",
     "iopub.status.busy": "2021-03-15T12:09:21.740781Z",
     "iopub.status.idle": "2021-03-15T12:09:22.225129Z",
     "shell.execute_reply": "2021-03-15T12:09:22.224685Z",
     "shell.execute_reply.started": "2021-03-15T12:09:21.740952Z"
    },
    "tags": []
   },
   "outputs": [
    {
     "data": {
      "text/plain": [
       "array([184.55509375, 468.45490625, 421.268     , ..., 106.277625  ,\n",
       "        81.29776562, 345.92540625])"
      ]
     },
     "execution_count": 128,
     "metadata": {},
     "output_type": "execute_result"
    }
   ],
   "source": [
    "posx"
   ]
  },
  {
   "cell_type": "code",
   "execution_count": 129,
   "metadata": {
    "execution": {
     "iopub.execute_input": "2021-03-15T12:09:25.664730Z",
     "iopub.status.busy": "2021-03-15T12:09:25.664509Z",
     "iopub.status.idle": "2021-03-15T12:09:25.668153Z",
     "shell.execute_reply": "2021-03-15T12:09:25.667697Z",
     "shell.execute_reply.started": "2021-03-15T12:09:25.664705Z"
    },
    "tags": []
   },
   "outputs": [
    {
     "data": {
      "text/plain": [
       "array([352.93053125, 264.3983125 , 594.4025    , ...,  73.42900781,\n",
       "       282.002375  , 576.20425   ])"
      ]
     },
     "execution_count": 129,
     "metadata": {},
     "output_type": "execute_result"
    }
   ],
   "source": [
    "posy"
   ]
  },
  {
   "cell_type": "code",
   "execution_count": 130,
   "metadata": {
    "execution": {
     "iopub.execute_input": "2021-03-15T12:09:27.758541Z",
     "iopub.status.busy": "2021-03-15T12:09:27.758380Z",
     "iopub.status.idle": "2021-03-15T12:09:27.761631Z",
     "shell.execute_reply": "2021-03-15T12:09:27.761223Z",
     "shell.execute_reply.started": "2021-03-15T12:09:27.758520Z"
    },
    "tags": []
   },
   "outputs": [
    {
     "data": {
      "text/plain": [
       "array([367.47328125, 465.73025   ,  95.92614063, ..., 473.01690625,\n",
       "       304.09653125, 563.9169375 ])"
      ]
     },
     "execution_count": 130,
     "metadata": {},
     "output_type": "execute_result"
    }
   ],
   "source": [
    "posz"
   ]
  },
  {
   "cell_type": "code",
   "execution_count": 101,
   "metadata": {
    "execution": {
     "iopub.execute_input": "2021-03-15T11:31:18.042385Z",
     "iopub.status.busy": "2021-03-15T11:31:18.042210Z",
     "iopub.status.idle": "2021-03-15T11:31:18.045316Z",
     "shell.execute_reply": "2021-03-15T11:31:18.044798Z",
     "shell.execute_reply.started": "2021-03-15T11:31:18.042364Z"
    },
    "tags": []
   },
   "outputs": [],
   "source": [
    "\n",
    "aa=np.linspace(-2.,1.8,20)\n",
    "bins = 10.**aa"
   ]
  },
  {
   "cell_type": "code",
   "execution_count": 131,
   "metadata": {
    "execution": {
     "iopub.execute_input": "2021-03-15T12:09:36.055776Z",
     "iopub.status.busy": "2021-03-15T12:09:36.055550Z",
     "iopub.status.idle": "2021-03-15T12:09:36.157509Z",
     "shell.execute_reply": "2021-03-15T12:09:36.156995Z",
     "shell.execute_reply.started": "2021-03-15T12:09:36.055753Z"
    },
    "tags": []
   },
   "outputs": [
    {
     "name": "stdout",
     "output_type": "stream",
     "text": [
      "The length of this mag bin is  364475\n",
      "The maximum mag is -21.000000223496002\n",
      "The minimum mag is -21.999991052036556\n"
     ]
    }
   ],
   "source": [
    "i = -21\n",
    "temp = (mag < i) & (mag > i-1)\n",
    "mag_bin = mag[temp]\n",
    "print(\"The length of this mag bin is \",len(mag_bin))\n",
    "print(\"The maximum mag is\",(np.max(mag_bin)))\n",
    "print(\"The minimum mag is\",(np.min(mag_bin)))\n",
    "\n",
    "x_bin = posx[temp]\n",
    "y_bin = posy[temp]\n",
    "z_bin = posz[temp]"
   ]
  },
  {
   "cell_type": "code",
   "execution_count": 132,
   "metadata": {
    "execution": {
     "iopub.execute_input": "2021-03-15T12:09:39.283433Z",
     "iopub.status.busy": "2021-03-15T12:09:39.283235Z",
     "iopub.status.idle": "2021-03-15T12:09:39.299356Z",
     "shell.execute_reply": "2021-03-15T12:09:39.298872Z",
     "shell.execute_reply.started": "2021-03-15T12:09:39.283411Z"
    },
    "tags": []
   },
   "outputs": [
    {
     "name": "stdout",
     "output_type": "stream",
     "text": [
      "The length of color is: 364475\n"
     ]
    }
   ],
   "source": [
    "color_bin = color[temp]\n",
    "print(\"The length of color is:\",len(color_bin))\n",
    "color_cut = 0.21 - 0.03 * mag_bin"
   ]
  },
  {
   "cell_type": "code",
   "execution_count": 40,
   "metadata": {
    "execution": {
     "iopub.execute_input": "2021-03-15T06:32:09.130142Z",
     "iopub.status.busy": "2021-03-15T06:32:09.129919Z",
     "iopub.status.idle": "2021-03-15T06:32:09.134019Z",
     "shell.execute_reply": "2021-03-15T06:32:09.133513Z",
     "shell.execute_reply.started": "2021-03-15T06:32:09.130119Z"
    },
    "tags": []
   },
   "outputs": [
    {
     "data": {
      "text/plain": [
       "0.17837796527294436"
      ]
     },
     "execution_count": 40,
     "metadata": {},
     "output_type": "execute_result"
    }
   ],
   "source": [
    "np.min(color_bin)"
   ]
  },
  {
   "cell_type": "code",
   "execution_count": 42,
   "metadata": {
    "execution": {
     "iopub.execute_input": "2021-03-15T06:32:53.023278Z",
     "iopub.status.busy": "2021-03-15T06:32:53.023045Z",
     "iopub.status.idle": "2021-03-15T06:32:53.027901Z",
     "shell.execute_reply": "2021-03-15T06:32:53.027432Z",
     "shell.execute_reply.started": "2021-03-15T06:32:53.023255Z"
    },
    "tags": []
   },
   "outputs": [
    {
     "data": {
      "text/plain": [
       "(array([103301, 107892, 108622, 140306, 151243, 160428, 172144, 173851,\n",
       "        177063, 179603, 180757, 190335, 201835, 201915, 202169, 204044,\n",
       "        205758, 207090, 208384, 209237, 211123, 221282, 222214, 230536,\n",
       "        233163, 244218, 245237, 254157, 257528, 266078, 274565, 278838,\n",
       "        280982, 287604, 290271, 297328, 297909, 302471, 307186, 308194,\n",
       "        320715, 332873, 353778, 357782]),)"
      ]
     },
     "execution_count": 42,
     "metadata": {},
     "output_type": "execute_result"
    }
   ],
   "source": [
    "np.where(color_bin == np.max(color_bin))"
   ]
  },
  {
   "cell_type": "code",
   "execution_count": 43,
   "metadata": {
    "execution": {
     "iopub.execute_input": "2021-03-15T06:35:12.539041Z",
     "iopub.status.busy": "2021-03-15T06:35:12.538882Z",
     "iopub.status.idle": "2021-03-15T06:35:12.542353Z",
     "shell.execute_reply": "2021-03-15T06:35:12.541865Z",
     "shell.execute_reply.started": "2021-03-15T06:35:12.539020Z"
    },
    "tags": []
   },
   "outputs": [
    {
     "name": "stdout",
     "output_type": "stream",
     "text": [
      "364475\n"
     ]
    }
   ],
   "source": [
    "redtemp = color_bin > color_cut\n",
    "print(len(redtemp))"
   ]
  },
  {
   "cell_type": "code",
   "execution_count": 50,
   "metadata": {
    "execution": {
     "iopub.execute_input": "2021-03-15T06:57:25.665178Z",
     "iopub.status.busy": "2021-03-15T06:57:25.665017Z",
     "iopub.status.idle": "2021-03-15T06:57:25.668276Z",
     "shell.execute_reply": "2021-03-15T06:57:25.667865Z",
     "shell.execute_reply.started": "2021-03-15T06:57:25.665156Z"
    }
   },
   "outputs": [
    {
     "data": {
      "text/plain": [
       "array([ True, False, False, ..., False, False, False])"
      ]
     },
     "execution_count": 50,
     "metadata": {},
     "output_type": "execute_result"
    }
   ],
   "source": [
    "redtemp"
   ]
  },
  {
   "cell_type": "code",
   "execution_count": 52,
   "metadata": {
    "execution": {
     "iopub.execute_input": "2021-03-15T06:59:28.697386Z",
     "iopub.status.busy": "2021-03-15T06:59:28.697163Z",
     "iopub.status.idle": "2021-03-15T06:59:28.700852Z",
     "shell.execute_reply": "2021-03-15T06:59:28.700325Z",
     "shell.execute_reply.started": "2021-03-15T06:59:28.697362Z"
    },
    "tags": []
   },
   "outputs": [],
   "source": [
    "newbluetemp = (1-redtemp).astype(bool)"
   ]
  },
  {
   "cell_type": "code",
   "execution_count": 58,
   "metadata": {
    "execution": {
     "iopub.execute_input": "2021-03-15T07:00:09.235408Z",
     "iopub.status.busy": "2021-03-15T07:00:09.235254Z",
     "iopub.status.idle": "2021-03-15T07:00:09.238513Z",
     "shell.execute_reply": "2021-03-15T07:00:09.238108Z",
     "shell.execute_reply.started": "2021-03-15T07:00:09.235388Z"
    },
    "tags": []
   },
   "outputs": [
    {
     "data": {
      "text/plain": [
       "array([False,  True,  True, ...,  True,  True,  True])"
      ]
     },
     "execution_count": 58,
     "metadata": {},
     "output_type": "execute_result"
    }
   ],
   "source": [
    "newbluetemp"
   ]
  },
  {
   "cell_type": "code",
   "execution_count": 45,
   "metadata": {
    "execution": {
     "iopub.execute_input": "2021-03-15T06:37:17.078182Z",
     "iopub.status.busy": "2021-03-15T06:37:17.078027Z",
     "iopub.status.idle": "2021-03-15T06:37:17.083173Z",
     "shell.execute_reply": "2021-03-15T06:37:17.082768Z",
     "shell.execute_reply.started": "2021-03-15T06:37:17.078162Z"
    },
    "tags": []
   },
   "outputs": [
    {
     "data": {
      "text/plain": [
       "(210537,)"
      ]
     },
     "execution_count": 45,
     "metadata": {},
     "output_type": "execute_result"
    }
   ],
   "source": [
    "color_bin[redtemp].shape"
   ]
  },
  {
   "cell_type": "code",
   "execution_count": 64,
   "metadata": {
    "execution": {
     "iopub.execute_input": "2021-03-15T07:02:48.107126Z",
     "iopub.status.busy": "2021-03-15T07:02:48.106973Z",
     "iopub.status.idle": "2021-03-15T07:02:48.110708Z",
     "shell.execute_reply": "2021-03-15T07:02:48.110291Z",
     "shell.execute_reply.started": "2021-03-15T07:02:48.107106Z"
    }
   },
   "outputs": [
    {
     "data": {
      "text/plain": [
       "array([173.8805625 , 294.854625  , 495.92590625, ..., 162.31235937,\n",
       "       332.69971875, 180.75321875])"
      ]
     },
     "execution_count": 64,
     "metadata": {},
     "output_type": "execute_result"
    }
   ],
   "source": [
    "x_bin"
   ]
  },
  {
   "cell_type": "code",
   "execution_count": 63,
   "metadata": {
    "execution": {
     "iopub.execute_input": "2021-03-15T07:02:40.527123Z",
     "iopub.status.busy": "2021-03-15T07:02:40.526970Z",
     "iopub.status.idle": "2021-03-15T07:02:40.532268Z",
     "shell.execute_reply": "2021-03-15T07:02:40.531862Z",
     "shell.execute_reply.started": "2021-03-15T07:02:40.527103Z"
    },
    "tags": []
   },
   "outputs": [
    {
     "data": {
      "text/plain": [
       "array([173.8805625 , 276.802875  ,  11.72563086, ..., 291.114875  ,\n",
       "       466.70228125, 254.87428125])"
      ]
     },
     "execution_count": 63,
     "metadata": {},
     "output_type": "execute_result"
    }
   ],
   "source": [
    "x_bin[redtemp]"
   ]
  },
  {
   "cell_type": "code",
   "execution_count": 62,
   "metadata": {
    "execution": {
     "iopub.execute_input": "2021-03-15T07:02:37.420335Z",
     "iopub.status.busy": "2021-03-15T07:02:37.420125Z",
     "iopub.status.idle": "2021-03-15T07:02:37.425902Z",
     "shell.execute_reply": "2021-03-15T07:02:37.425461Z",
     "shell.execute_reply.started": "2021-03-15T07:02:37.420312Z"
    },
    "tags": []
   },
   "outputs": [
    {
     "data": {
      "text/plain": [
       "array([294.854625  , 495.92590625, 282.99403125, ..., 162.31235937,\n",
       "       332.69971875, 180.75321875])"
      ]
     },
     "execution_count": 62,
     "metadata": {},
     "output_type": "execute_result"
    }
   ],
   "source": [
    "x_bin[newbluetemp]"
   ]
  },
  {
   "cell_type": "code",
   "execution_count": 48,
   "metadata": {
    "execution": {
     "iopub.execute_input": "2021-03-15T06:38:57.576283Z",
     "iopub.status.busy": "2021-03-15T06:38:57.576075Z",
     "iopub.status.idle": "2021-03-15T06:38:57.582072Z",
     "shell.execute_reply": "2021-03-15T06:38:57.581594Z",
     "shell.execute_reply.started": "2021-03-15T06:38:57.576260Z"
    },
    "tags": []
   },
   "outputs": [
    {
     "name": "stdout",
     "output_type": "stream",
     "text": [
      "364475\n",
      "(153938,)\n"
     ]
    }
   ],
   "source": [
    "bluetemp = color_bin < color_cut\n",
    "print(len(bluetemp))\n",
    "print(color_bin[bluetemp].shape)"
   ]
  },
  {
   "cell_type": "code",
   "execution_count": 133,
   "metadata": {
    "execution": {
     "iopub.execute_input": "2021-03-15T12:09:55.055962Z",
     "iopub.status.busy": "2021-03-15T12:09:55.055746Z",
     "iopub.status.idle": "2021-03-15T12:09:55.170159Z",
     "shell.execute_reply": "2021-03-15T12:09:55.169632Z",
     "shell.execute_reply.started": "2021-03-15T12:09:55.055940Z"
    },
    "tags": []
   },
   "outputs": [],
   "source": [
    "from Corrfunc.theory.wp import wp\n",
    "results = wp(boxsize = 600,pimax=60,nthreads = 30,binfile = bins,X = x_bin,Y = y_bin,Z = z_bin,output_rpavg=True)"
   ]
  },
  {
   "cell_type": "code",
   "execution_count": 134,
   "metadata": {
    "execution": {
     "iopub.execute_input": "2021-03-15T12:09:59.409391Z",
     "iopub.status.busy": "2021-03-15T12:09:59.409174Z",
     "iopub.status.idle": "2021-03-15T12:09:59.412999Z",
     "shell.execute_reply": "2021-03-15T12:09:59.412550Z",
     "shell.execute_reply.started": "2021-03-15T12:09:59.409368Z"
    },
    "tags": []
   },
   "outputs": [
    {
     "data": {
      "text/plain": [
       "array([1.29733165e-02, 2.03600694e-02, 3.24035942e-02, 5.15022083e-02,\n",
       "       8.17065054e-02, 1.29880556e-01, 2.05945256e-01, 3.26487397e-01,\n",
       "       5.18221482e-01, 8.22163965e-01, 1.30617122e+00, 2.07329751e+00,\n",
       "       3.29197135e+00, 5.21970009e+00, 8.27596047e+00, 1.31226676e+01,\n",
       "       2.08064364e+01, 3.29920821e+01, 5.23045647e+01])"
      ]
     },
     "execution_count": 134,
     "metadata": {},
     "output_type": "execute_result"
    }
   ],
   "source": [
    "results['rpavg']"
   ]
  },
  {
   "cell_type": "code",
   "execution_count": 135,
   "metadata": {
    "execution": {
     "iopub.execute_input": "2021-03-15T12:10:02.026437Z",
     "iopub.status.busy": "2021-03-15T12:10:02.026224Z",
     "iopub.status.idle": "2021-03-15T12:10:02.029986Z",
     "shell.execute_reply": "2021-03-15T12:10:02.029551Z",
     "shell.execute_reply.started": "2021-03-15T12:10:02.026415Z"
    },
    "tags": []
   },
   "outputs": [
    {
     "data": {
      "text/plain": [
       "array([5.39158218e+03, 3.63876066e+03, 2.28572566e+03, 1.50776348e+03,\n",
       "       1.04499913e+03, 7.28578255e+02, 4.97810509e+02, 3.31466919e+02,\n",
       "       2.15194862e+02, 1.36681605e+02, 8.77400907e+01, 5.85792915e+01,\n",
       "       4.08684983e+01, 2.84574295e+01, 1.95019896e+01, 1.23734425e+01,\n",
       "       6.96230013e+00, 3.31850855e+00, 1.19028694e+00])"
      ]
     },
     "execution_count": 135,
     "metadata": {},
     "output_type": "execute_result"
    }
   ],
   "source": [
    "results['wp']"
   ]
  },
  {
   "cell_type": "code",
   "execution_count": 13,
   "metadata": {
    "execution": {
     "iopub.execute_input": "2021-03-02T14:04:56.079473Z",
     "iopub.status.busy": "2021-03-02T14:04:56.079234Z",
     "iopub.status.idle": "2021-03-02T14:04:56.329787Z",
     "shell.execute_reply": "2021-03-02T14:04:56.329297Z",
     "shell.execute_reply.started": "2021-03-02T14:04:56.079448Z"
    }
   },
   "outputs": [],
   "source": [
    "wp = [[] for _ in range(3)]\n",
    "red_wp = [[] for _ in range(3)]\n",
    "blue_wp = [[] for _ in range(3)]\n",
    "for i in range(3):\n",
    "    wp[i] = np.load('/home/yunzheng/mock/clustering/data/wp_color/wp_total_%s.npy.npz'%(19+i))\n",
    "    red_wp[i] = np.load('/home/yunzheng/mock/clustering/data/wp_color/wp_red_%s.npy.npz'%(19+i))\n",
    "    blue_wp[i] = np.load('/home/yunzheng/mock/clustering/data/wp_color/wp_blue_%s.npy.npz'%(19+i))"
   ]
  },
  {
   "cell_type": "code",
   "execution_count": 8,
   "metadata": {
    "execution": {
     "iopub.execute_input": "2021-03-02T02:34:30.769744Z",
     "iopub.status.busy": "2021-03-02T02:34:30.769528Z",
     "iopub.status.idle": "2021-03-02T02:34:30.773164Z",
     "shell.execute_reply": "2021-03-02T02:34:30.772670Z",
     "shell.execute_reply.started": "2021-03-02T02:34:30.769721Z"
    }
   },
   "outputs": [
    {
     "data": {
      "text/plain": [
       "['wp', 'rp']"
      ]
     },
     "execution_count": 8,
     "metadata": {},
     "output_type": "execute_result"
    }
   ],
   "source": [
    "wp[0].files"
   ]
  },
  {
   "cell_type": "code",
   "execution_count": 18,
   "metadata": {
    "execution": {
     "iopub.execute_input": "2021-03-02T02:41:23.363730Z",
     "iopub.status.busy": "2021-03-02T02:41:23.363491Z",
     "iopub.status.idle": "2021-03-02T02:41:23.368312Z",
     "shell.execute_reply": "2021-03-02T02:41:23.367790Z",
     "shell.execute_reply.started": "2021-03-02T02:41:23.363704Z"
    }
   },
   "outputs": [
    {
     "data": {
      "text/plain": [
       "array([1.27404873e+06, 8.02558895e+05, 5.07086167e+05, 3.18534895e+05,\n",
       "       2.01533213e+05, 1.27043847e+05, 8.00609610e+04, 5.04522103e+04,\n",
       "       3.17704466e+04, 1.99882908e+04, 1.25564351e+04, 7.87107852e+03,\n",
       "       4.91847321e+03, 3.05568934e+03, 1.88140296e+03, 1.14084543e+03,\n",
       "       6.74259500e+02, 3.80008131e+02, 1.95164016e+02])"
      ]
     },
     "execution_count": 18,
     "metadata": {},
     "output_type": "execute_result"
    }
   ],
   "source": [
    "wp[0]['wp']"
   ]
  },
  {
   "cell_type": "code",
   "execution_count": 96,
   "metadata": {
    "execution": {
     "iopub.execute_input": "2021-03-02T04:10:06.227664Z",
     "iopub.status.busy": "2021-03-02T04:10:06.227444Z",
     "iopub.status.idle": "2021-03-02T04:10:06.232156Z",
     "shell.execute_reply": "2021-03-02T04:10:06.231645Z",
     "shell.execute_reply.started": "2021-03-02T04:10:06.227639Z"
    }
   },
   "outputs": [
    {
     "data": {
      "text/plain": [
       "array([1.34153481e+06, 8.43436612e+05, 5.20194854e+05, 3.21148441e+05,\n",
       "       2.01892727e+05, 1.27985261e+05, 8.04957004e+04, 5.07727779e+04,\n",
       "       3.20021830e+04, 2.00969619e+04, 1.26220145e+04, 7.90800158e+03,\n",
       "       4.93936720e+03, 3.06867258e+03, 1.88830506e+03, 1.14495349e+03,\n",
       "       6.76431266e+02, 3.80767200e+02, 1.95008526e+02])"
      ]
     },
     "execution_count": 96,
     "metadata": {},
     "output_type": "execute_result"
    }
   ],
   "source": [
    "wp[2]['wp']"
   ]
  },
  {
   "cell_type": "code",
   "execution_count": 97,
   "metadata": {
    "execution": {
     "iopub.execute_input": "2021-03-02T04:10:08.721767Z",
     "iopub.status.busy": "2021-03-02T04:10:08.721595Z",
     "iopub.status.idle": "2021-03-02T04:10:08.725573Z",
     "shell.execute_reply": "2021-03-02T04:10:08.725086Z",
     "shell.execute_reply.started": "2021-03-02T04:10:08.721747Z"
    }
   },
   "outputs": [
    {
     "data": {
      "text/plain": [
       "array([1.34522436e+06, 8.44698646e+05, 5.21581449e+05, 3.21367872e+05,\n",
       "       2.02790296e+05, 1.28071466e+05, 8.08072228e+04, 5.09284368e+04,\n",
       "       3.20933742e+04, 2.01667424e+04, 1.26526643e+04, 7.92472794e+03,\n",
       "       4.94734458e+03, 3.07254868e+03, 1.89043019e+03, 1.14614810e+03,\n",
       "       6.76968490e+02, 3.80910871e+02, 1.95044139e+02])"
      ]
     },
     "execution_count": 97,
     "metadata": {},
     "output_type": "execute_result"
    }
   ],
   "source": [
    "red_wp[2]['wp']"
   ]
  },
  {
   "cell_type": "code",
   "execution_count": 98,
   "metadata": {
    "execution": {
     "iopub.execute_input": "2021-03-02T04:10:15.116855Z",
     "iopub.status.busy": "2021-03-02T04:10:15.116640Z",
     "iopub.status.idle": "2021-03-02T04:10:15.121248Z",
     "shell.execute_reply": "2021-03-02T04:10:15.120710Z",
     "shell.execute_reply.started": "2021-03-02T04:10:15.116832Z"
    }
   },
   "outputs": [
    {
     "data": {
      "text/plain": [
       "array([1.32904664e+06, 8.39946008e+05, 5.17926604e+05, 3.20952277e+05,\n",
       "       2.01201925e+05, 1.27610862e+05, 8.00550727e+04, 5.05455903e+04,\n",
       "       3.18724612e+04, 2.00423022e+04, 1.25723726e+04, 7.88428087e+03,\n",
       "       4.92981990e+03, 3.06437563e+03, 1.88582846e+03, 1.14344110e+03,\n",
       "       6.75782982e+02, 3.80569688e+02, 1.94960411e+02])"
      ]
     },
     "execution_count": 98,
     "metadata": {},
     "output_type": "execute_result"
    }
   ],
   "source": [
    "blue_wp[2]['wp']"
   ]
  },
  {
   "cell_type": "code",
   "execution_count": 14,
   "metadata": {
    "execution": {
     "iopub.execute_input": "2021-03-02T02:37:12.257832Z",
     "iopub.status.busy": "2021-03-02T02:37:12.257598Z",
     "iopub.status.idle": "2021-03-02T02:37:12.261161Z",
     "shell.execute_reply": "2021-03-02T02:37:12.260588Z",
     "shell.execute_reply.started": "2021-03-02T02:37:12.257808Z"
    }
   },
   "outputs": [],
   "source": [
    "rp = red_wp[1]['rp']"
   ]
  },
  {
   "cell_type": "code",
   "execution_count": 102,
   "metadata": {
    "execution": {
     "iopub.execute_input": "2021-03-02T04:13:38.514426Z",
     "iopub.status.busy": "2021-03-02T04:13:38.514204Z",
     "iopub.status.idle": "2021-03-02T04:13:50.891973Z",
     "shell.execute_reply": "2021-03-02T04:13:50.891397Z",
     "shell.execute_reply.started": "2021-03-02T04:13:38.514402Z"
    }
   },
   "outputs": [
    {
     "data": {
      "image/png": "[encoded data removed]",
      "text/plain": [
       "<Figure size 576x864 with 6 Axes>"
      ]
     },
     "metadata": {
      "needs_background": "light"
     },
     "output_type": "display_data"
    }
   ],
   "source": [
    "fig2 = plt.figure(figsize=(8,12))\n",
    "# ax1 = fig2.add_subplot(111)\n",
    "frame1 = fig2.add_axes((.1,.65,.8,.3)) #前两个参数表示起点的位置坐标，后两个参数表示长宽\n",
    "ax1 = plt.gca()\n",
    "\n",
    "plt.plot(rp,wp[2]['wp'],label = 'total',color = 'k',linewidth = 0.5)\n",
    "plt.plot(rp,red_wp[2]['wp'],label = 'red',color = 'red',linewidth = 0.5)\n",
    "plt.plot(rp,blue_wp[2]['wp'],label = 'blue',color = 'blue',linewidth = 0.5)\n",
    "plt.text(8,100000,'$ -22\\  <\\  M_{r} \\ < \\ -21$',fontsize = 10)\n",
    "plt.xlim(0.1,35)\n",
    "plt.ylim(100,1000000)\n",
    "plt.legend()\n",
    "\n",
    "plt.title(r'Color WP ')\n",
    "plt.ylabel(r'$Wp(h^{-1} \\ Mpc)$')\n",
    "frame1.set_xticklabels([])\n",
    "frame1.set_yticklabels([])\n",
    "plt.xscale('log')\n",
    "plt.yscale('log')\n",
    "ax2 = ax1.twinx()\n",
    "plt.plot(rp,wp[2]['wp'],label = 'total',color = 'k',linewidth = 0.5)\n",
    "plt.xlim(0.1,35)\n",
    "plt.ylim(100,1000000)\n",
    "plt.xscale('log')\n",
    "plt.yscale('log')\n",
    "\n",
    "plt.legend()\n",
    "\n",
    "frame2 = fig2.add_axes((.1,.35,.8,.3))\n",
    "ax1 = plt.gca()\n",
    "\n",
    "plt.plot(rp,wp[1]['wp'],label = 'total',color = 'k',linewidth = 0.5)\n",
    "plt.plot(rp,red_wp[1]['wp'],label = 'red',color = 'red',linewidth = 0.5)\n",
    "plt.plot(rp,blue_wp[1]['wp'],label = 'blue',color = 'blue',linewidth = 0.5)\n",
    "plt.text(8,100000,'$ -21 < M_{r} \\ < \\ -20$',fontsize = 10)\n",
    "plt.xlim(0.1,35)\n",
    "plt.ylim(100,1000000)\n",
    "plt.legend()\n",
    "\n",
    "plt.ylabel(r'$Wp(h^{-1} \\ Mpc)$')\n",
    "frame1.set_xticklabels([])\n",
    "\n",
    "plt.xscale('log')\n",
    "plt.yscale('log')\n",
    "ax2 = ax1.twinx()\n",
    "plt.plot(rp,wp[1]['wp'],label = 'total',color = 'k',linewidth = 0.5)\n",
    "plt.xlim(0.1,35)\n",
    "plt.ylim(100,1000000)\n",
    "plt.xscale('log')\n",
    "plt.yscale('log')\n",
    "plt.legend()\n",
    "\n",
    "frame3 = fig2.add_axes((.1,.05,.8,.3))\n",
    "ax1 = plt.gca()\n",
    "\n",
    "plt.plot(rp,wp[0]['wp'],label = 'total',color = 'k',linewidth = 0.5)\n",
    "plt.plot(rp,red_wp[0]['wp'],label = 'red',color = 'red',linewidth = 0.5)\n",
    "plt.plot(rp,blue_wp[0]['wp'],label = 'blue',color = 'blue',linewidth = 0.5)\n",
    "plt.text(8,100000,'$ -20 < M_{r} \\ < \\ -19$',fontsize = 10)\n",
    "plt.xlim(0.1,35)\n",
    "plt.ylim(100,1000000)\n",
    "plt.legend()\n",
    "# plt.title(r'Color WP ')\n",
    "plt.ylabel(r'$Wp(h^{-1} \\ Mpc)$')\n",
    "frame1.set_xticklabels([])\n",
    "\n",
    "# ax2 = ax.twinx()\n",
    "plt.xscale('log')\n",
    "plt.yscale('log')\n",
    "\n",
    "ax2 = ax1.twinx()\n",
    "plt.plot(rp,wp[0]['wp'],label = 'total',color = 'k',linewidth = 0.5)\n",
    "plt.xlim(0.1,35)\n",
    "plt.ylim(100,1000000)\n",
    "plt.xscale('log')\n",
    "plt.yscale('log')\n",
    "plt.legend()\n",
    "# plt.savefig('/home/yunzheng/mock/clustering/picture/colorwp.pdf',dpi = 100)"
   ]
  },
  {
   "cell_type": "code",
   "execution_count": 136,
   "metadata": {
    "execution": {
     "iopub.execute_input": "2021-03-15T12:21:52.087966Z",
     "iopub.status.busy": "2021-03-15T12:21:52.087739Z",
     "iopub.status.idle": "2021-03-15T12:21:52.199509Z",
     "shell.execute_reply": "2021-03-15T12:21:52.199043Z",
     "shell.execute_reply.started": "2021-03-15T12:21:52.087943Z"
    },
    "tags": []
   },
   "outputs": [],
   "source": [
    "wp = [[] for _ in range(3)]\n",
    "red_wp = [[] for _ in range(3)]\n",
    "blue_wp = [[] for _ in range(3)]\n",
    "for i in range(3):\n",
    "    \n",
    "    wp[i] = np.load('/home/yunzheng/mock/clustering/data/wp_color/wp3_total_-%s.npz'%(19+i))\n",
    "    red_wp[i] = np.load('/home/yunzheng/mock/clustering/data/wp_color/wp3_red_-%s.npz'%(19+i))\n",
    "    blue_wp[i] = np.load('/home/yunzheng/mock/clustering/data/wp_color/wp3_blue_-%s.npz'%(19+i))"
   ]
  },
  {
   "cell_type": "code",
   "execution_count": 140,
   "metadata": {
    "execution": {
     "iopub.execute_input": "2021-03-15T12:22:13.271704Z",
     "iopub.status.busy": "2021-03-15T12:22:13.271493Z",
     "iopub.status.idle": "2021-03-15T12:22:13.274862Z",
     "shell.execute_reply": "2021-03-15T12:22:13.274431Z",
     "shell.execute_reply.started": "2021-03-15T12:22:13.271680Z"
    },
    "tags": []
   },
   "outputs": [
    {
     "data": {
      "text/plain": [
       "['rp', 'wp']"
      ]
     },
     "execution_count": 140,
     "metadata": {},
     "output_type": "execute_result"
    }
   ],
   "source": [
    "wp[0].files"
   ]
  },
  {
   "cell_type": "code",
   "execution_count": 138,
   "metadata": {
    "execution": {
     "iopub.execute_input": "2021-03-15T12:22:10.086950Z",
     "iopub.status.busy": "2021-03-15T12:22:10.086730Z",
     "iopub.status.idle": "2021-03-15T12:22:10.090014Z",
     "shell.execute_reply": "2021-03-15T12:22:10.089543Z",
     "shell.execute_reply.started": "2021-03-15T12:22:10.086927Z"
    },
    "tags": []
   },
   "outputs": [],
   "source": [
    "rp = red_wp[1]['rp']"
   ]
  },
  {
   "cell_type": "code",
   "execution_count": 139,
   "metadata": {
    "execution": {
     "iopub.execute_input": "2021-03-15T12:22:10.477518Z",
     "iopub.status.busy": "2021-03-15T12:22:10.477364Z",
     "iopub.status.idle": "2021-03-15T12:22:10.480623Z",
     "shell.execute_reply": "2021-03-15T12:22:10.480215Z",
     "shell.execute_reply.started": "2021-03-15T12:22:10.477498Z"
    },
    "tags": []
   },
   "outputs": [
    {
     "data": {
      "text/plain": [
       "array([1.30910316e-02, 2.05525944e-02, 3.28585325e-02, 5.21904493e-02,\n",
       "       8.27728871e-02, 1.30951094e-01, 2.07191122e-01, 3.27786332e-01,\n",
       "       5.18850054e-01, 8.21804308e-01, 1.30435858e+00, 2.07249756e+00,\n",
       "       3.29125426e+00, 5.22106510e+00, 8.27719816e+00, 1.31242457e+01,\n",
       "       2.08087719e+01, 3.29936027e+01, 5.23047829e+01])"
      ]
     },
     "execution_count": 139,
     "metadata": {},
     "output_type": "execute_result"
    }
   ],
   "source": [
    "rp"
   ]
  },
  {
   "cell_type": "code",
   "execution_count": 5,
   "metadata": {
    "execution": {
     "iopub.execute_input": "2021-03-03T01:59:22.982691Z",
     "iopub.status.busy": "2021-03-03T01:59:22.982487Z",
     "iopub.status.idle": "2021-03-03T01:59:22.988086Z",
     "shell.execute_reply": "2021-03-03T01:59:22.987569Z",
     "shell.execute_reply.started": "2021-03-03T01:59:22.982658Z"
    }
   },
   "outputs": [
    {
     "data": {
      "text/plain": [
       "array([1.25892541e-02, 1.99526231e-02, 3.16227766e-02, 5.01187234e-02,\n",
       "       7.94328235e-02, 1.25892541e-01, 1.99526231e-01, 3.16227766e-01,\n",
       "       5.01187234e-01, 7.94328235e-01, 1.25892541e+00, 1.99526231e+00,\n",
       "       3.16227766e+00, 5.01187234e+00, 7.94328235e+00, 1.25892541e+01,\n",
       "       1.99526231e+01, 3.16227766e+01, 5.01187234e+01])"
      ]
     },
     "execution_count": 5,
     "metadata": {},
     "output_type": "execute_result"
    }
   ],
   "source": [
    "rp"
   ]
  },
  {
   "cell_type": "code",
   "execution_count": 141,
   "metadata": {
    "execution": {
     "iopub.execute_input": "2021-03-15T12:22:24.858773Z",
     "iopub.status.busy": "2021-03-15T12:22:24.858544Z",
     "iopub.status.idle": "2021-03-15T12:22:24.862881Z",
     "shell.execute_reply": "2021-03-15T12:22:24.862444Z",
     "shell.execute_reply.started": "2021-03-15T12:22:24.858749Z"
    },
    "tags": []
   },
   "outputs": [
    {
     "data": {
      "text/plain": [
       "array([1.29733165e-02, 2.03600694e-02, 3.24035942e-02, 5.15022083e-02,\n",
       "       8.17065054e-02, 1.29880556e-01, 2.05945256e-01, 3.26487397e-01,\n",
       "       5.18221482e-01, 8.22163965e-01, 1.30617122e+00, 2.07329751e+00,\n",
       "       3.29197135e+00, 5.21970009e+00, 8.27596047e+00, 1.31226676e+01,\n",
       "       2.08064364e+01, 3.29920821e+01, 5.23045647e+01])"
      ]
     },
     "execution_count": 141,
     "metadata": {},
     "output_type": "execute_result"
    }
   ],
   "source": [
    "wp[2]['rp']"
   ]
  },
  {
   "cell_type": "code",
   "execution_count": 145,
   "metadata": {
    "execution": {
     "iopub.execute_input": "2021-03-15T12:22:47.790306Z",
     "iopub.status.busy": "2021-03-15T12:22:47.790088Z",
     "iopub.status.idle": "2021-03-15T12:22:47.794677Z",
     "shell.execute_reply": "2021-03-15T12:22:47.794240Z",
     "shell.execute_reply.started": "2021-03-15T12:22:47.790282Z"
    },
    "tags": []
   },
   "outputs": [
    {
     "data": {
      "text/plain": [
       "array([1.40883966e+03, 1.04059481e+03, 7.15356650e+02, 5.48788159e+02,\n",
       "       4.29776072e+02, 3.36847518e+02, 2.62589025e+02, 2.00723832e+02,\n",
       "       1.46820495e+02, 1.00716705e+02, 6.64765421e+01, 4.40449497e+01,\n",
       "       3.05064512e+01, 2.16455339e+01, 1.48168848e+01, 9.45008199e+00,\n",
       "       5.20368383e+00, 2.45734600e+00, 8.30369530e-01])"
      ]
     },
     "execution_count": 145,
     "metadata": {},
     "output_type": "execute_result"
    }
   ],
   "source": [
    "wp[1]['wp']"
   ]
  },
  {
   "cell_type": "code",
   "execution_count": 143,
   "metadata": {
    "execution": {
     "iopub.execute_input": "2021-03-15T12:22:32.813054Z",
     "iopub.status.busy": "2021-03-15T12:22:32.812876Z",
     "iopub.status.idle": "2021-03-15T12:22:32.816911Z",
     "shell.execute_reply": "2021-03-15T12:22:32.816493Z",
     "shell.execute_reply.started": "2021-03-15T12:22:32.813034Z"
    },
    "tags": []
   },
   "outputs": [
    {
     "data": {
      "text/plain": [
       "array([897.52083475, 790.99762315, 712.25616868, 656.57401492,\n",
       "       589.57614888, 525.39139135, 439.60882434, 338.65245789,\n",
       "       235.49499747, 149.15912605,  88.87407379,  54.86000681,\n",
       "        36.92836101,  25.92021618,  17.59638055,  11.30313726,\n",
       "         6.39546998,   3.06925121,   0.98313127])"
      ]
     },
     "execution_count": 143,
     "metadata": {},
     "output_type": "execute_result"
    }
   ],
   "source": [
    "red_wp[0]['wp']"
   ]
  },
  {
   "cell_type": "code",
   "execution_count": 144,
   "metadata": {
    "execution": {
     "iopub.execute_input": "2021-03-15T12:22:36.060151Z",
     "iopub.status.busy": "2021-03-15T12:22:36.059941Z",
     "iopub.status.idle": "2021-03-15T12:22:36.064132Z",
     "shell.execute_reply": "2021-03-15T12:22:36.063708Z",
     "shell.execute_reply.started": "2021-03-15T12:22:36.060127Z"
    },
    "tags": []
   },
   "outputs": [
    {
     "data": {
      "text/plain": [
       "array([1.17654884e+03, 9.45130588e+02, 6.92678634e+02, 6.13113900e+02,\n",
       "       5.23949956e+02, 4.53104941e+02, 3.80481903e+02, 3.00046611e+02,\n",
       "       2.17873988e+02, 1.43951405e+02, 8.91758234e+01, 5.57354123e+01,\n",
       "       3.72244510e+01, 2.61382326e+01, 1.78699797e+01, 1.14018621e+01,\n",
       "       6.31918447e+00, 2.97918911e+00, 9.58135295e-01])"
      ]
     },
     "execution_count": 144,
     "metadata": {},
     "output_type": "execute_result"
    }
   ],
   "source": [
    "red_wp[1]['wp']"
   ]
  },
  {
   "cell_type": "code",
   "execution_count": 146,
   "metadata": {
    "execution": {
     "iopub.execute_input": "2021-03-15T12:23:12.566929Z",
     "iopub.status.busy": "2021-03-15T12:23:12.566717Z",
     "iopub.status.idle": "2021-03-15T12:23:12.570987Z",
     "shell.execute_reply": "2021-03-15T12:23:12.570554Z",
     "shell.execute_reply.started": "2021-03-15T12:23:12.566907Z"
    },
    "tags": []
   },
   "outputs": [
    {
     "data": {
      "text/plain": [
       "array([1.62975234e+03, 1.22808621e+03, 7.41973220e+02, 5.28980865e+02,\n",
       "       3.73035109e+02, 2.69886222e+02, 1.89251288e+02, 1.35589761e+02,\n",
       "       9.95741184e+01, 7.07144764e+01, 4.99335650e+01, 3.52430893e+01,\n",
       "       2.52935251e+01, 1.80181581e+01, 1.23561654e+01, 7.76551583e+00,\n",
       "       4.26579252e+00, 2.01114588e+00, 7.14724331e-01])"
      ]
     },
     "execution_count": 146,
     "metadata": {},
     "output_type": "execute_result"
    }
   ],
   "source": [
    "blue_wp[1]['wp']"
   ]
  },
  {
   "cell_type": "code",
   "execution_count": 15,
   "metadata": {
    "execution": {
     "iopub.execute_input": "2021-03-02T14:05:53.001388Z",
     "iopub.status.busy": "2021-03-02T14:05:53.001140Z",
     "iopub.status.idle": "2021-03-02T14:05:53.006209Z",
     "shell.execute_reply": "2021-03-02T14:05:53.005656Z",
     "shell.execute_reply.started": "2021-03-02T14:05:53.001363Z"
    }
   },
   "outputs": [
    {
     "data": {
      "text/plain": [
       "array([1.27004638e+06, 7.99456608e+05, 5.05299748e+05, 3.17546825e+05,\n",
       "       2.00870437e+05, 1.26617284e+05, 7.97871602e+04, 5.03018659e+04,\n",
       "       3.16761020e+04, 1.99350631e+04, 1.25275782e+04, 7.85514713e+03,\n",
       "       4.90962220e+03, 3.05067358e+03, 1.87886212e+03, 1.13962926e+03,\n",
       "       6.73719172e+02, 3.79870472e+02, 1.95136002e+02])"
      ]
     },
     "execution_count": 15,
     "metadata": {},
     "output_type": "execute_result"
    }
   ],
   "source": [
    "blue_wp[0]['wp']"
   ]
  },
  {
   "cell_type": "code",
   "execution_count": 150,
   "metadata": {
    "execution": {
     "iopub.execute_input": "2021-03-15T12:36:28.457634Z",
     "iopub.status.busy": "2021-03-15T12:36:28.457420Z",
     "iopub.status.idle": "2021-03-15T12:36:36.281678Z",
     "shell.execute_reply": "2021-03-15T12:36:36.281175Z",
     "shell.execute_reply.started": "2021-03-15T12:36:28.457612Z"
    },
    "tags": []
   },
   "outputs": [
    {
     "data": {
      "image/png": "[encoded data removed]",
      "text/plain": [
       "<Figure size 576x864 with 6 Axes>"
      ]
     },
     "metadata": {
      "needs_background": "light"
     },
     "output_type": "display_data"
    }
   ],
   "source": [
    "fig2 = plt.figure(figsize=(8,12))\n",
    "# ax1 = fig2.add_subplot(111)\n",
    "ax1 = plt.subplot(311)\n",
    "# frame1 = fig2.add_axes((.1,.64,.8,.3)) #前两个参数表示起点的位置坐标，后两个参数表示长宽\n",
    "# ax1 = plt.gca()\n",
    "\n",
    "plt.plot(rp,wp[2]['wp'],label = 'total',color = 'k',linewidth = 0.5)\n",
    "plt.plot(rp,red_wp[2]['wp'],label = 'red',color = 'red',linewidth = 0.5)\n",
    "plt.plot(rp,blue_wp[2]['wp'],label = 'blue',color = 'blue',linewidth = 0.5)\n",
    "plt.text(8,100,'$ -22\\  <\\  M_{r} \\ < \\ -21$',fontsize = 10)\n",
    "plt.xlim(0.1,35)\n",
    "plt.ylim(1,1500)\n",
    "plt.legend()\n",
    "# frame1.set_xticklabels([])\n",
    "# frame1.set_yticklabels([])\n",
    "plt.title(r'Color WP ')\n",
    "plt.ylabel(r'$Wp(h^{-1} \\ Mpc)$')\n",
    "\n",
    "plt.xscale('log')\n",
    "plt.yscale('log')\n",
    "ax2 = ax1.twinx()\n",
    "# plt.plot(rp,wp[2]['wp'],label = 'total',color = 'k',linewidth = 0.5)\n",
    "plt.xlim(0.1,35)\n",
    "plt.ylim(1,1500)\n",
    "plt.xscale('log')\n",
    "plt.yscale('log')\n",
    "plt.setp(ax1.get_xticklabels(), visible=False)\n",
    "\n",
    "# plt.legend()\n",
    "\n",
    "ax3 = plt.subplot(312)\n",
    "\n",
    "plt.plot(rp,wp[1]['wp'],label = 'total',color = 'k',linewidth = 0.5)\n",
    "plt.plot(rp,red_wp[1]['wp'],label = 'red',color = 'red',linewidth = 0.5)\n",
    "plt.plot(rp,blue_wp[1]['wp'],label = 'blue',color = 'blue',linewidth = 0.5)\n",
    "plt.text(8,100,'$ -21 < M_{r} \\ < \\ -20$',fontsize = 10)\n",
    "plt.xlim(0.1,35)\n",
    "plt.ylim(1,1500)\n",
    "plt.legend()\n",
    "\n",
    "plt.ylabel(r'$Wp(h^{-1} \\ Mpc)$')\n",
    "# frame2.set_xticklabels([])\n",
    "# frame2.set_yticklabels([])\n",
    "plt.xscale('log')\n",
    "plt.yscale('log')\n",
    "ax4 = ax3.twinx()\n",
    "# plt.plot(rp,wp[1]['wp'],label = 'total',color = 'k',linewidth = 0.5)\n",
    "plt.xlim(0.1,35)\n",
    "plt.ylim(1,1500)\n",
    "plt.xscale('log')\n",
    "plt.yscale('log')\n",
    "# plt.legend()\n",
    "plt.setp(ax3.get_xticklabels(), visible=False)\n",
    "\n",
    "\n",
    "ax5 = plt.subplot(313)\n",
    "\n",
    "plt.plot(rp,wp[0]['wp'],label = 'total',color = 'k',linewidth = 0.5)\n",
    "plt.plot(rp,red_wp[0]['wp'],label = 'red',color = 'red',linewidth = 0.5)\n",
    "plt.plot(rp,blue_wp[0]['wp'],label = 'blue',color = 'blue',linewidth = 0.5)\n",
    "plt.text(8,100,'$ -20 < M_{r} \\ < \\ -19$',fontsize = 10)\n",
    "plt.xlim(0.1,35)\n",
    "plt.ylim(1,1500)\n",
    "plt.legend()\n",
    "# plt.title(r'Color WP ')\n",
    "plt.xlabel('$r_{p} (h^{-1} \\ Mpc)$')\n",
    "plt.ylabel(r'$Wp(h^{-1} \\ Mpc)$')\n",
    "# frame3.set_xticklabels([])\n",
    "\n",
    "# ax2 = ax.twinx()\n",
    "plt.xscale('log')\n",
    "plt.yscale('log')\n",
    "\n",
    "ax6 = ax5.twinx()\n",
    "# plt.plot(rp,wp[0]['wp'],label = 'total',color = 'k',linewidth = 0.5)\n",
    "plt.xlim(0.1,35)\n",
    "plt.ylim(1,1500)\n",
    "plt.xscale('log')\n",
    "plt.yscale('log')\n",
    "plt.setp(ax5.get_xticklabels(), visible=False)\n",
    "# plt.legend()\n",
    "plt.savefig('/home/yunzheng/mock/clustering/picture/colorwp.pdf',dpi = 100)"
   ]
  },
  {
   "cell_type": "markdown",
   "metadata": {},
   "source": [
    "# $\\xi(s)$"
   ]
  },
  {
   "cell_type": "code",
   "execution_count": 45,
   "metadata": {
    "execution": {
     "iopub.execute_input": "2021-03-10T07:53:51.085164Z",
     "iopub.status.busy": "2021-03-10T07:53:51.084944Z",
     "iopub.status.idle": "2021-03-10T07:53:51.087748Z",
     "shell.execute_reply": "2021-03-10T07:53:51.087275Z",
     "shell.execute_reply.started": "2021-03-10T07:53:51.085140Z"
    }
   },
   "outputs": [],
   "source": [
    "import os"
   ]
  },
  {
   "cell_type": "code",
   "execution_count": 50,
   "metadata": {
    "execution": {
     "iopub.execute_input": "2021-03-10T08:01:23.480882Z",
     "iopub.status.busy": "2021-03-10T08:01:23.480650Z",
     "iopub.status.idle": "2021-03-10T08:01:23.947783Z",
     "shell.execute_reply": "2021-03-10T08:01:23.947289Z",
     "shell.execute_reply.started": "2021-03-10T08:01:23.480857Z"
    },
    "tags": []
   },
   "outputs": [],
   "source": [
    "xi = [[] for _ in range(7)]\n",
    "xi_mo = [[] for _ in range(7)]\n",
    "\n",
    "path = \"/home/yunzheng/mock/clustering/data/xi/xi_circle/\"\n",
    "# files= os.listdir(path)\n",
    "# s = []\n",
    "# for file in files: #遍历文件夹\n",
    "#     if not os.path.isdir(file): #判断是否是文件夹，不是文件夹才打开\n",
    "#         f = open(path+\"/\"+file)#打开文件\n",
    "#         iter_f = iter(f) #创建迭代器\n",
    "#         str = \"\"\n",
    "#         for line in iter_f: #遍历文件，一行行遍历，读取文本\n",
    "#             str = str + line\n",
    "#             s.append(str) #每个文件的文本存到list中\n",
    "#             print(s) \n",
    "\n",
    "\n",
    "for i in range(7):\n",
    "\n",
    "    xi[i] = np.load('/home/yunzheng/mock/clustering/data/xi/xi_circle/xi_%s.npz'%(18.5+i*0.5))\n",
    "    xi_mo[i] = np.load('/home/yunzheng/mock/clustering/data/xi/xi_circle/ximonopole_%s.npz'%(18.5+i*0.5))\n",
    "    \n",
    "#     blue_wp[i] = np.load('/home/yunzheng/mock/clustering/data/wp_color/wp_blue_%s.npy.npz'%(19+i))"
   ]
  },
  {
   "cell_type": "code",
   "execution_count": 51,
   "metadata": {
    "execution": {
     "iopub.execute_input": "2021-03-10T08:01:26.648936Z",
     "iopub.status.busy": "2021-03-10T08:01:26.648764Z",
     "iopub.status.idle": "2021-03-10T08:01:26.652086Z",
     "shell.execute_reply": "2021-03-10T08:01:26.651664Z",
     "shell.execute_reply.started": "2021-03-10T08:01:26.648916Z"
    },
    "tags": []
   },
   "outputs": [
    {
     "data": {
      "text/plain": [
       "['s', 'xi']"
      ]
     },
     "execution_count": 51,
     "metadata": {},
     "output_type": "execute_result"
    }
   ],
   "source": [
    "xi[0].files"
   ]
  },
  {
   "cell_type": "code",
   "execution_count": 47,
   "metadata": {
    "collapsed": true,
    "execution": {
     "iopub.execute_input": "2021-03-02T15:10:25.599711Z",
     "iopub.status.busy": "2021-03-02T15:10:25.599474Z",
     "iopub.status.idle": "2021-03-02T15:10:25.604857Z",
     "shell.execute_reply": "2021-03-02T15:10:25.604410Z",
     "shell.execute_reply.started": "2021-03-02T15:10:25.599686Z"
    },
    "jupyter": {
     "outputs_hidden": true
    }
   },
   "outputs": [
    {
     "data": {
      "text/plain": [
       "array([         nan,          nan,   1.        ,          nan,\n",
       "       101.        , 201.        ,  34.33333333,          nan,\n",
       "                nan, 301.        ,          nan, 101.        ,\n",
       "                nan,   1.        ,          nan,          nan,\n",
       "       101.        ,          nan,  51.        ,   1.        ,\n",
       "       101.        , 101.        ,          nan,          nan,\n",
       "        -9.        , 401.        ,          nan, 101.        ,\n",
       "                nan,          nan,          nan,  51.        ,\n",
       "       101.        ,   1.        ,          nan,          nan,\n",
       "       101.        ,          nan,          nan,          nan,\n",
       "                nan, 201.        ,          nan, 101.        ,\n",
       "                nan,          nan,          nan,          nan,\n",
       "         1.        , 201.        , 401.        , 201.        ,\n",
       "         1.        , 301.        , 101.        ,          nan,\n",
       "         1.        ,          nan,          nan, 191.        ,\n",
       "                nan, 101.        ,          nan,          nan,\n",
       "                nan,   1.        ,   1.        ,          nan,\n",
       "       101.        ,   1.        ,          nan,          nan,\n",
       "        91.        ,          nan, 201.        ,          nan,\n",
       "       101.        , 301.        ,  91.        ,          nan,\n",
       "                nan,          nan,          nan,          nan,\n",
       "                nan,          nan,  51.        ,          nan,\n",
       "       101.        , 101.        , 201.        ,  -9.        ,\n",
       "                nan,          nan,          nan,          nan,\n",
       "                nan, 201.        ,          nan,          nan])"
      ]
     },
     "execution_count": 47,
     "metadata": {},
     "output_type": "execute_result"
    }
   ],
   "source": [
    "xi[0]['xi2d'][900:1000]"
   ]
  },
  {
   "cell_type": "code",
   "execution_count": 48,
   "metadata": {
    "collapsed": true,
    "execution": {
     "iopub.execute_input": "2021-03-02T15:10:29.553538Z",
     "iopub.status.busy": "2021-03-02T15:10:29.553376Z",
     "iopub.status.idle": "2021-03-02T15:10:29.558249Z",
     "shell.execute_reply": "2021-03-02T15:10:29.557832Z",
     "shell.execute_reply.started": "2021-03-02T15:10:29.553517Z"
    },
    "jupyter": {
     "outputs_hidden": true
    }
   },
   "outputs": [
    {
     "data": {
      "text/plain": [
       "array([         nan,          nan,   1.        ,          nan,\n",
       "       101.        , 201.        ,  34.33333333,          nan,\n",
       "                nan, 301.        ,          nan, 101.        ,\n",
       "                nan,   1.        ,          nan,          nan,\n",
       "       101.        ,          nan,  51.        ,   1.        ,\n",
       "       101.        , 101.        ,          nan,          nan,\n",
       "        -9.        , 401.        ,          nan, 101.        ,\n",
       "                nan,          nan,          nan,  51.        ,\n",
       "       101.        ,   1.        ,          nan,          nan,\n",
       "       101.        ,          nan,          nan,          nan,\n",
       "                nan, 201.        ,          nan, 101.        ,\n",
       "                nan,          nan,          nan,          nan,\n",
       "         1.        , 201.        , 401.        , 201.        ,\n",
       "         1.        , 301.        , 101.        ,          nan,\n",
       "         1.        ,          nan,          nan, 191.        ,\n",
       "                nan, 101.        ,          nan,          nan,\n",
       "                nan,   1.        ,   1.        ,          nan,\n",
       "       101.        ,   1.        ,          nan,          nan,\n",
       "        91.        ,          nan, 201.        ,          nan,\n",
       "       101.        , 301.        ,  91.        ,          nan,\n",
       "                nan,          nan,          nan,          nan,\n",
       "                nan,          nan,  51.        ,          nan,\n",
       "       101.        , 101.        , 201.        ,  -9.        ,\n",
       "                nan,          nan,          nan,          nan,\n",
       "                nan, 201.        ,          nan,          nan])"
      ]
     },
     "execution_count": 48,
     "metadata": {},
     "output_type": "execute_result"
    }
   ],
   "source": [
    "xi[0]['xi_cor'][900:1000]"
   ]
  },
  {
   "cell_type": "code",
   "execution_count": 49,
   "metadata": {
    "execution": {
     "iopub.execute_input": "2021-03-02T15:10:56.943524Z",
     "iopub.status.busy": "2021-03-02T15:10:56.943310Z",
     "iopub.status.idle": "2021-03-02T15:10:56.946723Z",
     "shell.execute_reply": "2021-03-02T15:10:56.946287Z",
     "shell.execute_reply.started": "2021-03-02T15:10:56.943501Z"
    }
   },
   "outputs": [
    {
     "data": {
      "text/plain": [
       "['s', 'xi0', 'xi0_cor']"
      ]
     },
     "execution_count": 49,
     "metadata": {},
     "output_type": "execute_result"
    }
   ],
   "source": [
    "xi_mo[0].files"
   ]
  },
  {
   "cell_type": "code",
   "execution_count": 39,
   "metadata": {
    "execution": {
     "iopub.execute_input": "2021-03-08T13:15:05.125167Z",
     "iopub.status.busy": "2021-03-08T13:15:05.124972Z",
     "iopub.status.idle": "2021-03-08T13:15:05.157792Z",
     "shell.execute_reply": "2021-03-08T13:15:05.157333Z",
     "shell.execute_reply.started": "2021-03-08T13:15:05.125144Z"
    },
    "tags": []
   },
   "outputs": [],
   "source": [
    "xi_mo[0] = np.load('/home/yunzheng/mock/clustering/data/xi/xi_circle/ximonopole_21.5.npz')"
   ]
  },
  {
   "cell_type": "code",
   "execution_count": 40,
   "metadata": {
    "execution": {
     "iopub.execute_input": "2021-03-08T13:15:06.049621Z",
     "iopub.status.busy": "2021-03-08T13:15:06.049471Z",
     "iopub.status.idle": "2021-03-08T13:15:08.028528Z",
     "shell.execute_reply": "2021-03-08T13:15:08.028119Z",
     "shell.execute_reply.started": "2021-03-08T13:15:06.049600Z"
    },
    "tags": []
   },
   "outputs": [
    {
     "data": {
      "text/plain": [
       "['s', 'xi0']"
      ]
     },
     "execution_count": 40,
     "metadata": {},
     "output_type": "execute_result"
    }
   ],
   "source": [
    "xi_mo[0].files"
   ]
  },
  {
   "cell_type": "code",
   "execution_count": 52,
   "metadata": {
    "execution": {
     "iopub.execute_input": "2021-03-10T08:01:43.050144Z",
     "iopub.status.busy": "2021-03-10T08:01:43.049932Z",
     "iopub.status.idle": "2021-03-10T08:01:43.055097Z",
     "shell.execute_reply": "2021-03-10T08:01:43.054657Z",
     "shell.execute_reply.started": "2021-03-10T08:01:43.050121Z"
    },
    "tags": []
   },
   "outputs": [
    {
     "data": {
      "text/plain": [
       "array([1.35628223e-03, 2.28688873e-03, 2.99452938e-03, 4.79394226e-03,\n",
       "       4.17931720e-03, 7.35810612e-03, 8.69134813e-03, 1.09141852e-02,\n",
       "       1.48160686e-02, 1.96368774e-02, 2.14453498e-02, 2.51772406e-02,\n",
       "       2.87279164e-02, 3.23968000e-02, 3.60671378e-02, 3.90647338e-02,\n",
       "       4.29766661e-02, 4.69900648e-02, 5.13356385e-02, 5.61748344e-02,\n",
       "       6.13481006e-02, 6.70621503e-02, 7.32011903e-02, 7.99177867e-02,\n",
       "       8.72931920e-02, 9.53873343e-02, 1.04312583e-01, 1.13788122e-01,\n",
       "       1.24379293e-01, 1.35855010e-01, 1.48403411e-01, 1.62201274e-01,\n",
       "       1.77134399e-01, 1.93533669e-01, 2.11458207e-01, 2.30877368e-01,\n",
       "       2.52264972e-01, 2.75580571e-01, 3.00934926e-01, 3.28804045e-01,\n",
       "       3.59208157e-01, 3.92375752e-01, 4.28672977e-01, 4.68249000e-01,\n",
       "       5.11468229e-01, 5.58771806e-01, 6.10424332e-01, 6.66777833e-01,\n",
       "       7.28409149e-01, 7.95693530e-01, 8.69243595e-01, 9.49599282e-01,\n",
       "       1.03733842e+00, 1.13311835e+00, 1.23788530e+00, 1.35230056e+00,\n",
       "       1.47726643e+00, 1.61374799e+00, 1.76286437e+00, 1.92572689e+00,\n",
       "       2.10376184e+00, 2.29817200e+00, 2.51060436e+00, 2.74256284e+00,\n",
       "       2.99599191e+00, 3.27290745e+00, 3.57533663e+00, 3.90569266e+00,\n",
       "       4.26670162e+00, 4.66100784e+00, 5.09170534e+00, 5.56225881e+00,\n",
       "       6.07624710e+00, 6.63776735e+00, 7.25115042e+00, 7.92131764e+00,\n",
       "       8.65335486e+00, 9.45309408e+00, 1.03267293e+01, 1.12810970e+01,\n",
       "       1.23237875e+01, 1.34627626e+01, 1.47070423e+01, 1.60663638e+01,\n",
       "       1.75514189e+01, 1.91735824e+01, 2.09458156e+01, 2.28816793e+01,\n",
       "       2.49966186e+01, 2.73069421e+01, 2.98305415e+01, 3.25876039e+01,\n",
       "       3.55994023e+01, 3.88897133e+01, 4.24838367e+01, 4.64101586e+01,\n",
       "       5.06991751e+01, 5.53843829e+01, 6.05029595e+01])"
      ]
     },
     "execution_count": 52,
     "metadata": {},
     "output_type": "execute_result"
    }
   ],
   "source": [
    "xi_mo[0]['s']"
   ]
  },
  {
   "cell_type": "code",
   "execution_count": 53,
   "metadata": {
    "execution": {
     "iopub.execute_input": "2021-03-10T08:01:47.504479Z",
     "iopub.status.busy": "2021-03-10T08:01:47.504296Z",
     "iopub.status.idle": "2021-03-10T08:01:47.509097Z",
     "shell.execute_reply": "2021-03-10T08:01:47.508655Z",
     "shell.execute_reply.started": "2021-03-10T08:01:47.504457Z"
    },
    "tags": []
   },
   "outputs": [
    {
     "data": {
      "text/plain": [
       "array([        nan,         nan,         nan,         nan,         nan,\n",
       "               nan,         nan,         nan,         nan,         nan,\n",
       "               nan,         nan,         nan,         nan,         nan,\n",
       "               nan, 94.97365176, 73.77624431, 73.02537919, 66.33778455,\n",
       "       68.19302739, 55.95293182, 51.86453945, 50.37938462, 44.41592955,\n",
       "       41.54239139, 40.59326371, 38.08153024, 36.94574077, 33.26931112,\n",
       "       30.64158149, 28.68148117, 27.08027811, 25.61455948, 23.92530487,\n",
       "       22.27707619, 20.7337266 , 19.50419081, 18.26428937, 16.89233084,\n",
       "       15.8732537 , 14.92941813, 13.86435657, 12.8732948 , 11.98607937,\n",
       "       11.20632889, 10.42526614,  9.70079439,  8.95981893,  8.30249481,\n",
       "        7.7049752 ,  7.10955211,  6.54880204,  6.03108383,  5.54837218,\n",
       "        5.10660935,  4.68006292,  4.29806731,  3.94053459,  3.61391173,\n",
       "        3.30908914,  3.03758892,  2.78431701,  2.5514024 ,  2.33762553,\n",
       "        2.13901884,  1.95713094,  1.78762074,  1.63141236,  1.48511115,\n",
       "        1.34941901,  1.2219188 ,  1.10380691,  0.99348249,  0.89113587,\n",
       "        0.79734638,  0.71118251,  0.63164288,  0.55902709,  0.49299979,\n",
       "        0.43333002,  0.3808131 ,  0.33395055,  0.29262836,  0.25690198,\n",
       "        0.22662784,  0.20146936,  0.18052588,  0.16406767,  0.1514906 ,\n",
       "        0.14151242,  0.13357284,  0.12766816,  0.12334777,  0.12043826,\n",
       "        0.11851481,  0.11732735,  0.11620453,  0.11570961])"
      ]
     },
     "execution_count": 53,
     "metadata": {},
     "output_type": "execute_result"
    }
   ],
   "source": [
    "xi_mo[0]['xi0']"
   ]
  },
  {
   "cell_type": "code",
   "execution_count": 21,
   "metadata": {
    "execution": {
     "iopub.execute_input": "2021-03-03T02:11:26.221478Z",
     "iopub.status.busy": "2021-03-03T02:11:26.221261Z",
     "iopub.status.idle": "2021-03-03T02:11:26.226765Z",
     "shell.execute_reply": "2021-03-03T02:11:26.226219Z",
     "shell.execute_reply.started": "2021-03-03T02:11:26.221455Z"
    }
   },
   "outputs": [
    {
     "data": {
      "text/plain": [
       "array([           nan,            nan,            nan,            nan,\n",
       "                  nan,            nan,            nan,            nan,\n",
       "                  nan,            nan,            nan,            nan,\n",
       "                  nan,            nan,            nan,            nan,\n",
       "                  nan,            nan,            nan,            nan,\n",
       "                  nan,            nan,            nan,            nan,\n",
       "                  nan,            nan,            nan,            nan,\n",
       "                  nan,            nan,            nan,            nan,\n",
       "                  nan,            nan, 1.07663810e+02,            nan,\n",
       "       7.18029978e+01, 6.71439570e+01, 6.58982221e+01, 5.67805731e+01,\n",
       "       5.42458365e+01, 4.43795419e+01, 3.99370178e+01, 3.71550689e+01,\n",
       "       3.25415105e+01, 2.85929951e+01, 2.55265817e+01, 2.37976078e+01,\n",
       "       2.12514885e+01, 1.97654765e+01, 1.73058175e+01, 1.60487023e+01,\n",
       "       1.47028125e+01, 1.31716151e+01, 1.17805975e+01, 1.07241224e+01,\n",
       "       9.75696765e+00, 8.85089422e+00, 7.95969096e+00, 7.13717599e+00,\n",
       "       6.48188699e+00, 5.82997897e+00, 5.26899919e+00, 4.74140833e+00,\n",
       "       4.25784167e+00, 3.76483854e+00, 3.37785549e+00, 3.04195194e+00,\n",
       "       2.69592085e+00, 2.37558462e+00, 2.12784093e+00, 1.87355990e+00,\n",
       "       1.65232550e+00, 1.44488069e+00, 1.27679776e+00, 1.10452464e+00,\n",
       "       9.62466243e-01, 8.36307683e-01, 7.18822224e-01, 6.17397290e-01,\n",
       "       5.30303291e-01, 4.53286007e-01, 3.82171864e-01, 3.24154700e-01,\n",
       "       2.73730592e-01, 2.28116951e-01, 1.91575680e-01, 1.60123599e-01,\n",
       "       1.33796104e-01, 1.10443891e-01, 9.11217280e-02, 7.33165730e-02,\n",
       "       5.81416069e-02, 4.56435769e-02, 3.59635930e-02, 2.89670628e-02,\n",
       "       2.29249574e-02, 1.66951904e-02, 1.25697191e-02])"
      ]
     },
     "execution_count": 21,
     "metadata": {},
     "output_type": "execute_result"
    }
   ],
   "source": [
    "xi_mo[4]['xi0_cor']"
   ]
  },
  {
   "cell_type": "code",
   "execution_count": 54,
   "metadata": {
    "execution": {
     "iopub.execute_input": "2021-03-10T08:01:58.313821Z",
     "iopub.status.busy": "2021-03-10T08:01:58.313608Z",
     "iopub.status.idle": "2021-03-10T08:01:59.597727Z",
     "shell.execute_reply": "2021-03-10T08:01:59.597236Z",
     "shell.execute_reply.started": "2021-03-10T08:01:58.313798Z"
    },
    "tags": []
   },
   "outputs": [
    {
     "data": {
      "text/plain": [
       "(0.1, 35)"
      ]
     },
     "execution_count": 54,
     "metadata": {},
     "output_type": "execute_result"
    },
    {
     "data": {
      "image/png": "[encoded data removed]",
      "text/plain": [
       "<Figure size 432x288 with 1 Axes>"
      ]
     },
     "metadata": {
      "needs_background": "light"
     },
     "output_type": "display_data"
    }
   ],
   "source": [
    "# plt.plot(xi_mo[3]['s'],xi_mo[3]['xi0_cor'])\n",
    "plt.plot(xi_mo[0]['s'],xi_mo[0]['xi0'])\n",
    "plt.xscale('log')\n",
    "plt.yscale('log')\n",
    "plt.xlim(0.1,35)"
   ]
  },
  {
   "cell_type": "code",
   "execution_count": 10,
   "metadata": {
    "execution": {
     "iopub.execute_input": "2021-03-03T02:02:55.746567Z",
     "iopub.status.busy": "2021-03-03T02:02:55.746343Z",
     "iopub.status.idle": "2021-03-03T02:02:55.750081Z",
     "shell.execute_reply": "2021-03-03T02:02:55.749640Z",
     "shell.execute_reply.started": "2021-03-03T02:02:55.746543Z"
    }
   },
   "outputs": [
    {
     "data": {
      "text/plain": [
       "1.4125375446227544"
      ]
     },
     "execution_count": 10,
     "metadata": {},
     "output_type": "execute_result"
    }
   ],
   "source": [
    "10**0.15"
   ]
  },
  {
   "cell_type": "code",
   "execution_count": 59,
   "metadata": {
    "execution": {
     "iopub.execute_input": "2021-03-10T08:09:51.621808Z",
     "iopub.status.busy": "2021-03-10T08:09:51.621575Z",
     "iopub.status.idle": "2021-03-10T08:09:58.269377Z",
     "shell.execute_reply": "2021-03-10T08:09:58.268898Z",
     "shell.execute_reply.started": "2021-03-10T08:09:51.621784Z"
    },
    "tags": []
   },
   "outputs": [
    {
     "data": {
      "image/png": "[encoded data removed]",
      "text/plain": [
       "<Figure size 720x576 with 2 Axes>"
      ]
     },
     "metadata": {
      "needs_background": "light"
     },
     "output_type": "display_data"
    }
   ],
   "source": [
    "fig = plt.figure(figsize=(10,8))\n",
    "ax1 = fig.add_subplot(111)\n",
    "\n",
    "\n",
    "# colors = ['pink','orchid','darkslateblue','cornflowerblue','seagreen','orange','red','chocolate']\n",
    "colors = ['pink','orchid','darkslateblue','cornflowerblue','seagreen','orange','red']\n",
    "l = [[]for _ in range(7)]\n",
    "\n",
    "for i in range(4):\n",
    "    y = xi_mo[i]['xi0'] /  (10**(0.15*(4-i)))\n",
    "    l[i], = plt.plot(xi_mo[i]['s'],y,color = colors[i],label = '$Mag \\ <\\ -%s$'%(18.5+0.5*i))\n",
    "plt.legend(handles = [l[0],l[1],l[2],l[3]],loc = 'lower left')\n",
    "\n",
    "\n",
    "plt.plot(xi_mo[4]['s'],xi_mo[4]['xi0'],'ro')\n",
    "plt.xscale('log')\n",
    "plt.yscale('log')\n",
    "plt.grid(axis = 'both', linestyle = '--')\n",
    "plt.xlim(0.1,50)\n",
    "plt.ylim(0.01,10**3.2)\n",
    "plt.xlabel('$s (h^{-1} \\ Mpc)$')\n",
    "plt.ylabel(r'$\\xi(s)$')\n",
    "\n",
    "\n",
    "\n",
    "ax2 = ax1.twinx()\n",
    "for i in range(4,7):\n",
    "    y = xi_mo[i]['xi0'] * (10**(0.15*(i - 4)))\n",
    "    l[i], = plt.plot(xi_mo[i]['s'],y,colors[i],label = '$Mag \\ <\\ -%s$'%(18.5+0.5*i))\n",
    "plt.legend(handles = [l[4],l[5],l[6]],loc = 'upper right')\n",
    "\n",
    "plt.xscale('log')\n",
    "plt.yscale('log')\n",
    "\n",
    "plt.xlim(0.1,50)\n",
    "plt.ylim(0.01,10**3.2)\n",
    "# plt.xlabel('$r_p (h^{-1} \\ Mpc)$')\n",
    "# plt.ylabel('$W_p (r_{p})$')\n",
    "plt.title('Redshift-space correlation function monopole')\n",
    "# plt.savefig('/home/yunzheng/mock/clustering/picture/ximomopole.pdf',dpi = 100)"
   ]
  },
  {
   "cell_type": "markdown",
   "metadata": {
    "tags": []
   },
   "source": [
    "# data check"
   ]
  },
  {
   "cell_type": "markdown",
   "metadata": {},
   "source": [
    "## data download"
   ]
  },
  {
   "cell_type": "code",
   "execution_count": 30,
   "metadata": {
    "execution": {
     "iopub.execute_input": "2021-03-13T13:51:43.602146Z",
     "iopub.status.busy": "2021-03-13T13:51:43.601895Z",
     "iopub.status.idle": "2021-03-13T13:51:43.979376Z",
     "shell.execute_reply": "2021-03-13T13:51:43.978742Z",
     "shell.execute_reply.started": "2021-03-13T13:51:43.602120Z"
    },
    "tags": []
   },
   "outputs": [],
   "source": [
    "\n",
    "xi = [[] for _ in range(7)]\n",
    "xi_mo = [[] for _ in range(7)]\n",
    "\n",
    "path = \"/home/yunzheng/mock/clustering/data/xis_direct/\"\n",
    "# files= os.listdir(path)\n",
    "# s = []\n",
    "# for file in files: #遍历文件夹\n",
    "#     if not os.path.isdir(file): #判断是否是文件夹，不是文件夹才打开\n",
    "#         f = open(path+\"/\"+file)#打开文件\n",
    "#         iter_f = iter(f) #创建迭代器\n",
    "#         str = \"\"\n",
    "#         for line in iter_f: #遍历文件，一行行遍历，读取文本\n",
    "#             str = str + line\n",
    "#             s.append(str) #每个文件的文本存到list中\n",
    "#             print(s) \n",
    "\n",
    "\n",
    "for i in range(7):\n",
    "\n",
    "    xi[i] = np.load(path+\"xi_%s.npz\"%(18.5+i*0.5))\n",
    "    xi_mo[i] = np.load(path+\"ximonopole_%s.npz\"%(18.5+i*0.5))\n",
    "    \n",
    "#     blue_wp[i] = np.load('/home/yunzheng/mock/clustering/data/wp_color/wp_blue_%s.npy.npz'%(19+i))\n"
   ]
  },
  {
   "cell_type": "code",
   "execution_count": 14,
   "metadata": {
    "execution": {
     "iopub.execute_input": "2021-03-13T11:56:08.010326Z",
     "iopub.status.busy": "2021-03-13T11:56:08.010175Z",
     "iopub.status.idle": "2021-03-13T11:56:09.359201Z",
     "shell.execute_reply": "2021-03-13T11:56:09.358794Z",
     "shell.execute_reply.started": "2021-03-13T11:56:08.010306Z"
    },
    "tags": []
   },
   "outputs": [
    {
     "data": {
      "text/plain": [
       "['s', 'xi0']"
      ]
     },
     "execution_count": 14,
     "metadata": {},
     "output_type": "execute_result"
    }
   ],
   "source": [
    "xi0.files"
   ]
  },
  {
   "cell_type": "code",
   "execution_count": 64,
   "metadata": {
    "execution": {
     "iopub.execute_input": "2021-03-12T10:09:58.410616Z",
     "iopub.status.busy": "2021-03-12T10:09:58.410388Z",
     "iopub.status.idle": "2021-03-12T10:09:58.413737Z",
     "shell.execute_reply": "2021-03-12T10:09:58.413245Z",
     "shell.execute_reply.started": "2021-03-12T10:09:58.410591Z"
    },
    "tags": []
   },
   "outputs": [],
   "source": [
    "nmubins = 100\n",
    "delta_mu = 1.0 / nmubins\n",
    "mu_p = np.linspace(0.01, 1.0, nmubins) - 0.5 * delta_mu"
   ]
  },
  {
   "cell_type": "code",
   "execution_count": 5,
   "metadata": {
    "execution": {
     "iopub.execute_input": "2021-03-12T13:19:41.437473Z",
     "iopub.status.busy": "2021-03-12T13:19:41.437314Z",
     "iopub.status.idle": "2021-03-12T13:19:41.442452Z",
     "shell.execute_reply": "2021-03-12T13:19:41.442046Z",
     "shell.execute_reply.started": "2021-03-12T13:19:41.437452Z"
    },
    "tags": []
   },
   "outputs": [
    {
     "data": {
      "text/plain": [
       "(19,)"
      ]
     },
     "execution_count": 5,
     "metadata": {},
     "output_type": "execute_result"
    }
   ],
   "source": [
    "xi['s'].shape"
   ]
  },
  {
   "cell_type": "code",
   "execution_count": 67,
   "metadata": {
    "execution": {
     "iopub.execute_input": "2021-03-12T10:10:57.897082Z",
     "iopub.status.busy": "2021-03-12T10:10:57.896901Z",
     "iopub.status.idle": "2021-03-12T10:10:57.902488Z",
     "shell.execute_reply": "2021-03-12T10:10:57.902045Z",
     "shell.execute_reply.started": "2021-03-12T10:10:57.897062Z"
    },
    "tags": []
   },
   "outputs": [],
   "source": [
    "# xi_cor_smu = xi['xi'].reshape(-1, nmubins)\n",
    "xi0_cor = integrate.trapz(xi_cor_smu, mu_p)\n",
    "savg = xi['s']\n",
    "# np.savez('/home/yunzheng/mock/clustering/data/xis_direct/ximonopole_%s.npz' % i, s=savg, xi0=xi0_cor)\n",
    "\n"
   ]
  },
  {
   "cell_type": "code",
   "execution_count": 68,
   "metadata": {
    "execution": {
     "iopub.execute_input": "2021-03-12T10:11:12.815790Z",
     "iopub.status.busy": "2021-03-12T10:11:12.815611Z",
     "iopub.status.idle": "2021-03-12T10:11:12.819192Z",
     "shell.execute_reply": "2021-03-12T10:11:12.818776Z",
     "shell.execute_reply.started": "2021-03-12T10:11:12.815769Z"
    },
    "tags": []
   },
   "outputs": [
    {
     "data": {
      "text/plain": [
       "array([           nan,            nan, 1.51701752e+04, 5.14609976e+03,\n",
       "       2.35062503e+03, 1.14502621e+03, 5.43364803e+02, 2.51184582e+02,\n",
       "       1.10664124e+02, 4.56583047e+01, 1.75694376e+01, 6.70826844e+00,\n",
       "       2.87192913e+00, 1.38614744e+00, 6.74087875e-01, 3.09644134e-01,\n",
       "       1.30004967e-01, 4.66317228e-02, 1.34468876e-02])"
      ]
     },
     "execution_count": 68,
     "metadata": {},
     "output_type": "execute_result"
    }
   ],
   "source": [
    "xi0_cor"
   ]
  },
  {
   "cell_type": "code",
   "execution_count": 151,
   "metadata": {
    "execution": {
     "iopub.execute_input": "2021-03-15T12:43:24.654166Z",
     "iopub.status.busy": "2021-03-15T12:43:24.653947Z",
     "iopub.status.idle": "2021-03-15T12:43:32.079949Z",
     "shell.execute_reply": "2021-03-15T12:43:32.079448Z",
     "shell.execute_reply.started": "2021-03-15T12:43:24.654143Z"
    },
    "tags": []
   },
   "outputs": [
    {
     "data": {
      "image/png": "[encoded data removed]",
      "text/plain": [
       "<Figure size 720x576 with 2 Axes>"
      ]
     },
     "metadata": {
      "needs_background": "light"
     },
     "output_type": "display_data"
    }
   ],
   "source": [
    "fig = plt.figure(figsize=(10,8))\n",
    "ax1 = fig.add_subplot(111)\n",
    "\n",
    "\n",
    "# colors = ['pink','orchid','darkslateblue','cornflowerblue','seagreen','orange','red','chocolate']\n",
    "colors = ['pink','orchid','darkslateblue','cornflowerblue','seagreen','orange','red']\n",
    "l = [[]for _ in range(7)]\n",
    "\n",
    "for i in range(4):\n",
    "    y = xi_mo[i]['xi0'] /  (10**(0.15*(4-i)))\n",
    "    l[i], = plt.plot(xi_mo[i]['s'],y,color = colors[i],label = '$Mag \\ <\\ -%s$'%(18.5+0.5*i))\n",
    "plt.legend(handles = [l[0],l[1],l[2],l[3]],loc = 'lower left')\n",
    "\n",
    "\n",
    "plt.plot(xi_mo[4]['s'],xi_mo[4]['xi0'],'ro')\n",
    "plt.xscale('log')\n",
    "plt.yscale('log')\n",
    "plt.grid(axis = 'both', linestyle = '--')\n",
    "plt.xlim(0.1,50)\n",
    "plt.ylim(0.01,10**3.2)\n",
    "plt.xlabel('$s (h^{-1} \\ Mpc)$')\n",
    "plt.ylabel(r'$\\xi(s)$')\n",
    "\n",
    "\n",
    "\n",
    "ax2 = ax1.twinx()\n",
    "for i in range(4,7):\n",
    "    y = xi_mo[i]['xi0'] * (10**(0.15*(i - 4)))\n",
    "    l[i], = plt.plot(xi_mo[i]['s'],y,colors[i],label = '$Mag \\ <\\ -%s$'%(18.5+0.5*i))\n",
    "plt.legend(handles = [l[4],l[5],l[6]],loc = 'upper right')\n",
    "\n",
    "plt.xscale('log')\n",
    "plt.yscale('log')\n",
    "\n",
    "plt.xlim(0.1,50)\n",
    "plt.ylim(0.01,10**3.2)\n",
    "# plt.xlabel('$r_p (h^{-1} \\ Mpc)$')\n",
    "# plt.ylabel('$W_p (r_{p})$')\n",
    "plt.title('Redshift-space correlation function monopole')\n",
    "plt.savefig('/home/yunzheng/mock/clustering/picture/ximomopole.pdf',dpi = 100)"
   ]
  },
  {
   "cell_type": "code",
   "execution_count": 45,
   "metadata": {
    "execution": {
     "iopub.execute_input": "2021-03-03T08:38:39.341950Z",
     "iopub.status.busy": "2021-03-03T08:38:39.341773Z",
     "iopub.status.idle": "2021-03-03T08:38:39.345982Z",
     "shell.execute_reply": "2021-03-03T08:38:39.345475Z",
     "shell.execute_reply.started": "2021-03-03T08:38:39.341929Z"
    }
   },
   "outputs": [
    {
     "data": {
      "text/plain": [
       "array([      0,       0,       0, ..., 1483218, 1493650, 1506146],\n",
       "      dtype=uint64)"
      ]
     },
     "execution_count": 45,
     "metadata": {},
     "output_type": "execute_result"
    }
   ],
   "source": [
    "savg['DD']"
   ]
  },
  {
   "cell_type": "code",
   "execution_count": 44,
   "metadata": {
    "execution": {
     "iopub.execute_input": "2021-03-03T08:38:33.828549Z",
     "iopub.status.busy": "2021-03-03T08:38:33.828342Z",
     "iopub.status.idle": "2021-03-03T08:38:33.832871Z",
     "shell.execute_reply": "2021-03-03T08:38:33.832347Z",
     "shell.execute_reply.started": "2021-03-03T08:38:33.828525Z"
    }
   },
   "outputs": [
    {
     "data": {
      "text/plain": [
       "array([       0,        0,        0, ..., 14963325, 15016310, 15116544],\n",
       "      dtype=uint64)"
      ]
     },
     "execution_count": 44,
     "metadata": {},
     "output_type": "execute_result"
    }
   ],
   "source": [
    "savg['DR']"
   ]
  },
  {
   "cell_type": "code",
   "execution_count": 47,
   "metadata": {
    "execution": {
     "iopub.execute_input": "2021-03-03T08:39:13.502438Z",
     "iopub.status.busy": "2021-03-03T08:39:13.502223Z",
     "iopub.status.idle": "2021-03-03T08:39:13.506821Z",
     "shell.execute_reply": "2021-03-03T08:39:13.506287Z",
     "shell.execute_reply.started": "2021-03-03T08:39:13.502415Z"
    }
   },
   "outputs": [
    {
     "data": {
      "text/plain": [
       "0"
      ]
     },
     "execution_count": 47,
     "metadata": {},
     "output_type": "execute_result"
    }
   ],
   "source": [
    "savg['RR']"
   ]
  },
  {
   "cell_type": "code",
   "execution_count": 52,
   "metadata": {
    "execution": {
     "iopub.execute_input": "2021-03-03T08:40:40.322813Z",
     "iopub.status.busy": "2021-03-03T08:40:40.322652Z",
     "iopub.status.idle": "2021-03-03T08:40:40.327145Z",
     "shell.execute_reply": "2021-03-03T08:40:40.326611Z",
     "shell.execute_reply.started": "2021-03-03T08:40:40.322793Z"
    }
   },
   "outputs": [
    {
     "data": {
      "text/plain": [
       "(9900,)"
      ]
     },
     "execution_count": 52,
     "metadata": {},
     "output_type": "execute_result"
    }
   ],
   "source": [
    "savg['DDsavg']"
   ]
  },
  {
   "cell_type": "code",
   "execution_count": 50,
   "metadata": {
    "execution": {
     "iopub.execute_input": "2021-03-03T08:39:48.174103Z",
     "iopub.status.busy": "2021-03-03T08:39:48.173905Z",
     "iopub.status.idle": "2021-03-03T08:39:48.178373Z",
     "shell.execute_reply": "2021-03-03T08:39:48.177861Z",
     "shell.execute_reply.started": "2021-03-03T08:39:48.174081Z"
    }
   },
   "outputs": [
    {
     "data": {
      "text/plain": [
       "array([ 0.        ,  0.        ,  0.        , ..., 60.49970203,\n",
       "       60.50017704, 60.50021153])"
      ]
     },
     "execution_count": 50,
     "metadata": {},
     "output_type": "execute_result"
    }
   ],
   "source": [
    "savg['DRsavg']"
   ]
  },
  {
   "cell_type": "code",
   "execution_count": 51,
   "metadata": {
    "execution": {
     "iopub.execute_input": "2021-03-03T08:39:55.038369Z",
     "iopub.status.busy": "2021-03-03T08:39:55.038151Z",
     "iopub.status.idle": "2021-03-03T08:39:55.042820Z",
     "shell.execute_reply": "2021-03-03T08:39:55.042308Z",
     "shell.execute_reply.started": "2021-03-03T08:39:55.038346Z"
    }
   },
   "outputs": [
    {
     "data": {
      "text/plain": [
       "array([ 0.        ,  0.        ,  0.        , ..., 60.50025576,\n",
       "       60.50010196, 60.50036555])"
      ]
     },
     "execution_count": 51,
     "metadata": {},
     "output_type": "execute_result"
    }
   ],
   "source": [
    "savg['RRsavg']"
   ]
  },
  {
   "cell_type": "code",
   "execution_count": 28,
   "metadata": {
    "execution": {
     "iopub.execute_input": "2021-03-13T13:20:42.093676Z",
     "iopub.status.busy": "2021-03-13T13:20:42.093427Z",
     "iopub.status.idle": "2021-03-13T13:20:42.096940Z",
     "shell.execute_reply": "2021-03-13T13:20:42.096368Z",
     "shell.execute_reply.started": "2021-03-13T13:20:42.093642Z"
    }
   },
   "outputs": [],
   "source": [
    "dat = np.array([18.5,19,19.5,20,20.5,21,21.5,22])\n",
    "dat = -dat"
   ]
  },
  {
   "cell_type": "code",
   "execution_count": 29,
   "metadata": {
    "execution": {
     "iopub.execute_input": "2021-03-13T13:20:44.716901Z",
     "iopub.status.busy": "2021-03-13T13:20:44.716681Z",
     "iopub.status.idle": "2021-03-13T13:20:44.720878Z",
     "shell.execute_reply": "2021-03-13T13:20:44.720360Z",
     "shell.execute_reply.started": "2021-03-13T13:20:44.716876Z"
    }
   },
   "outputs": [
    {
     "data": {
      "text/plain": [
       "array([-18.5, -19. , -19.5, -20. , -20.5, -21. , -21.5, -22. ])"
      ]
     },
     "execution_count": 29,
     "metadata": {},
     "output_type": "execute_result"
    }
   ],
   "source": [
    "dat"
   ]
  },
  {
   "cell_type": "markdown",
   "metadata": {},
   "source": []
  }
 ],
 "metadata": {
  "kernelspec": {
   "display_name": "Python 3",
   "language": "python",
   "name": "python3"
  },
  "language_info": {
   "codemirror_mode": {
    "name": "ipython",
    "version": 3
   },
   "file_extension": ".py",
   "mimetype": "text/x-python",
   "name": "python",
   "nbconvert_exporter": "python",
   "pygments_lexer": "ipython3",
   "version": "3.7.10"
  },
  "toc": {
   "base_numbering": 1,
   "nav_menu": {},
   "number_sections": true,
   "sideBar": true,
   "skip_h1_title": false,
   "title_cell": "Table of Contents",
   "title_sidebar": "Contents",
   "toc_cell": false,
   "toc_position": {},
   "toc_section_display": true,
   "toc_window_display": false
  },
  "toc-autonumbering": true,
  "toc-showcode": false,
  "toc-showmarkdowntxt": true,
  "toc-showtags": true
 },
 "nbformat": 4,
 "nbformat_minor": 4
}
