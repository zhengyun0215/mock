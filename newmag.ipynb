{
 "cells": [
  {
   "cell_type": "code",
   "execution_count": 3,
   "metadata": {
    "ExecuteTime": {
     "end_time": "2020-11-24T07:50:50.136921Z",
     "start_time": "2020-11-24T07:50:35.733338Z"
    }
   },
   "outputs": [],
   "source": [
    "import numpy as np\n",
    "import matplotlib.pyplot as plt"
   ]
  },
  {
   "cell_type": "code",
   "execution_count": 3,
   "metadata": {},
   "outputs": [],
   "source": [
    "newmag_84 = np.loadtxt('/home/yunzheng/mock/abundance_new/data/newmag_84.txt')"
   ]
  },
  {
   "cell_type": "code",
   "execution_count": 5,
   "metadata": {},
   "outputs": [],
   "source": [
    "newmag_85 = np.loadtxt('/home/yunzheng/mock/abundance_new/data/newmag_85.txt')"
   ]
  },
  {
   "cell_type": "code",
   "execution_count": 8,
   "metadata": {},
   "outputs": [],
   "source": [
    "newmag_86 = np.loadtxt('/home/yunzheng/mock/abundance_new/data/newmag_86.txt')"
   ]
  },
  {
   "cell_type": "code",
   "execution_count": 15,
   "metadata": {},
   "outputs": [],
   "source": [
    "newmag_87 = np.loadtxt('/home/yunzheng/mock/abundance_new/data/newmag_87.txt')"
   ]
  },
  {
   "cell_type": "code",
   "execution_count": 17,
   "metadata": {},
   "outputs": [],
   "source": [
    "newmag_88 = np.loadtxt('/home/yunzheng/mock/abundance_new/data/newmag_88.txt')"
   ]
  },
  {
   "cell_type": "code",
   "execution_count": 18,
   "metadata": {},
   "outputs": [],
   "source": [
    "newmag_89 = np.loadtxt('/home/yunzheng/mock/abundance_new/data/newmag_89.txt')"
   ]
  },
  {
   "cell_type": "code",
   "execution_count": 19,
   "metadata": {},
   "outputs": [],
   "source": [
    "newmag_91 = np.loadtxt('/home/yunzheng/mock/abundance_new/data/newmag_91.txt')"
   ]
  },
  {
   "cell_type": "code",
   "execution_count": 20,
   "metadata": {},
   "outputs": [],
   "source": [
    "newmag_92 = np.loadtxt('/home/yunzheng/mock/abundance_new/data/newmag_92.txt')"
   ]
  },
  {
   "cell_type": "code",
   "execution_count": 21,
   "metadata": {},
   "outputs": [],
   "source": [
    "newmag_94 = np.loadtxt('/home/yunzheng/mock/abundance_new/data/newmag_94.txt')"
   ]
  },
  {
   "cell_type": "code",
   "execution_count": 22,
   "metadata": {},
   "outputs": [],
   "source": [
    "newmag_95 = np.loadtxt('/home/yunzheng/mock/abundance_new/data/newmag_95.txt')"
   ]
  },
  {
   "cell_type": "code",
   "execution_count": 23,
   "metadata": {},
   "outputs": [],
   "source": [
    "newmag_97 = np.loadtxt('/home/yunzheng/mock/abundance_new/data/newmag_97.txt')"
   ]
  },
  {
   "cell_type": "code",
   "execution_count": 5,
   "metadata": {
    "ExecuteTime": {
     "end_time": "2020-11-24T07:52:06.958444Z",
     "start_time": "2020-11-24T07:51:02.804638Z"
    }
   },
   "outputs": [],
   "source": [
    "newmag_99 = np.loadtxt('/home/yunzheng/mock/abundance_new/data/newmag_99.txt')"
   ]
  },
  {
   "cell_type": "code",
   "execution_count": 68,
   "metadata": {},
   "outputs": [
    {
     "name": "stdout",
     "output_type": "stream",
     "text": [
      "[-16.8033454  -16.80334549 -16.80334559 ... -23.62510164 -23.66016366\n",
      " -23.71779653]\n",
      "[-16.59638914 -16.59638924 -16.59638933 ... -23.58891192 -23.6241428\n",
      " -23.6820751 ]\n",
      "[-16.39196477 -16.39196487 -16.39196497 ... -23.55393252 -23.58937244\n",
      " -23.64756927]\n",
      "[-16.18849639 -16.18849649 -16.18849659 ... -23.51983955 -23.55543569\n",
      " -23.61391526]\n"
     ]
    }
   ],
   "source": [
    "print(newmag_84)\n",
    "print(newmag_85)\n",
    "print(newmag_86)\n",
    "print(newmag_87)"
   ]
  },
  {
   "cell_type": "code",
   "execution_count": 25,
   "metadata": {},
   "outputs": [
    {
     "name": "stdout",
     "output_type": "stream",
     "text": [
      "[-15.98660231 -15.98660242 -15.98660252 ... -23.4866363  -23.52238877\n",
      " -23.58114349]\n",
      "[-15.7862735  -15.78627361 -15.78627371 ... -23.45431377 -23.49023152\n",
      " -23.54925423]\n",
      "[-15.39320692 -15.39320704 -15.39320715 ... -23.39257999 -23.42883497\n",
      " -23.48837156]\n",
      "[-15.19837208 -15.19837219 -15.19837231 ... -23.36264436 -23.39905791\n",
      " -23.45884601]\n",
      "[-14.22941673 -14.22941687 -14.22941702 ... -23.26038465 -23.29763116\n",
      " -23.35886628]\n",
      "[-12.89734296 -12.89734318 -12.89734339 ... -23.12015307 -23.15642714\n",
      " -23.21613113]\n",
      "[-12.56231122 -12.56231145 -12.56231168 ... -23.00165844 -23.03707634\n",
      " -23.09524871]\n",
      "[-12.42343613 -12.42343636 -12.4234366  ... -22.90684043 -22.94228826\n",
      " -23.00048483]\n"
     ]
    }
   ],
   "source": [
    "print(newmag_88)\n",
    "print(newmag_89)\n",
    "print(newmag_91)\n",
    "print(newmag_92)\n",
    "print(newmag_94)\n",
    "print(newmag_95)\n",
    "print(newmag_97)\n",
    "print(newmag_99)"
   ]
  },
  {
   "cell_type": "code",
   "execution_count": 27,
   "metadata": {},
   "outputs": [
    {
     "name": "stdout",
     "output_type": "stream",
     "text": [
      "(26419790,)\n",
      "(26407747,)\n",
      "(26393338,)\n",
      "(26374834,)\n",
      "(26350859,)\n",
      "(26325572,)\n",
      "(26274211,)\n",
      "(26241654,)\n",
      "(26181822,)\n",
      "(26152243,)\n",
      "(26088686,)\n",
      "(26029862,)\n"
     ]
    }
   ],
   "source": [
    "print(newmag_84.shape)\n",
    "print(newmag_85.shape)\n",
    "print(newmag_86.shape)\n",
    "print(newmag_87.shape)\n",
    "print(newmag_88.shape)\n",
    "print(newmag_89.shape)\n",
    "print(newmag_91.shape)\n",
    "print(newmag_92.shape)\n",
    "print(newmag_94.shape)\n",
    "print(newmag_95.shape)\n",
    "print(newmag_97.shape)\n",
    "print(newmag_99.shape)"
   ]
  },
  {
   "cell_type": "markdown",
   "metadata": {},
   "source": [
    "## load Vpeak data"
   ]
  },
  {
   "cell_type": "code",
   "execution_count": 28,
   "metadata": {},
   "outputs": [
    {
     "ename": "NameError",
     "evalue": "name 'calc_number_densities' is not defined",
     "output_type": "error",
     "traceback": [
      "\u001b[0;31m---------------------------------------------------------------------------\u001b[0m",
      "\u001b[0;31mNameError\u001b[0m                                 Traceback (most recent call last)",
      "\u001b[0;32m<ipython-input-28-4da6be903003>\u001b[0m in \u001b[0;36m<module>\u001b[0;34m\u001b[0m\n\u001b[1;32m      6\u001b[0m \u001b[0mstag\u001b[0m \u001b[0;34m=\u001b[0m \u001b[0mnp\u001b[0m\u001b[0;34m.\u001b[0m\u001b[0margsort\u001b[0m\u001b[0;34m(\u001b[0m\u001b[0mvpeak\u001b[0m\u001b[0;34m)\u001b[0m\u001b[0;34m\u001b[0m\u001b[0;34m\u001b[0m\u001b[0m\n\u001b[1;32m      7\u001b[0m \u001b[0mvpeak\u001b[0m \u001b[0;34m=\u001b[0m \u001b[0mvpeak\u001b[0m\u001b[0;34m[\u001b[0m\u001b[0mstag\u001b[0m\u001b[0;34m]\u001b[0m\u001b[0;34m\u001b[0m\u001b[0;34m\u001b[0m\u001b[0m\n\u001b[0;32m----> 8\u001b[0;31m \u001b[0mnd_halos\u001b[0m \u001b[0;34m=\u001b[0m \u001b[0mcalc_number_densities\u001b[0m\u001b[0;34m(\u001b[0m\u001b[0mvpeak\u001b[0m\u001b[0;34m,\u001b[0m\u001b[0;36m600\u001b[0m\u001b[0;34m)\u001b[0m\u001b[0;34m\u001b[0m\u001b[0;34m\u001b[0m\u001b[0m\n\u001b[0m",
      "\u001b[0;31mNameError\u001b[0m: name 'calc_number_densities' is not defined"
     ]
    }
   ],
   "source": [
    "\n",
    "subhalo = np.loadtxt('/home/yunzheng/mock/subhalos_new/subhalotable/snapshot_99.txt')\n",
    "\n",
    "orphan = np.load('/home/yunzheng/mock/orphan_new/final_selection_new/snapshot_99/orphantable_final.npy')\n",
    "\n",
    "vpeak = np.concatenate((subhalo[:,4], orphan[:,4]))\n",
    "stag = np.argsort(vpeak)\n",
    "vpeak = vpeak[stag]"
   ]
  },
  {
   "cell_type": "code",
   "execution_count": 62,
   "metadata": {},
   "outputs": [
    {
     "data": {
      "text/plain": [
       "array([  27.64322853,   29.2680912 ,   29.31170654, ..., 1716.5234375 ,\n",
       "       1837.66821289, 1841.12133789])"
      ]
     },
     "execution_count": 62,
     "metadata": {},
     "output_type": "execute_result"
    }
   ],
   "source": [
    "vpeak"
   ]
  },
  {
   "cell_type": "code",
   "execution_count": 31,
   "metadata": {},
   "outputs": [],
   "source": [
    "box_size = 600\n",
    "from AbundanceMatching import *"
   ]
  },
  {
   "cell_type": "code",
   "execution_count": 32,
   "metadata": {},
   "outputs": [],
   "source": [
    "nd_halos = calc_number_densities(vpeak,600)"
   ]
  },
  {
   "cell_type": "code",
   "execution_count": 63,
   "metadata": {},
   "outputs": [
    {
     "data": {
      "text/plain": [
       "array([1.20508620e-01, 1.20508616e-01, 1.20508611e-01, ...,\n",
       "       1.38888889e-08, 9.25925926e-09, 4.62962963e-09])"
      ]
     },
     "execution_count": 63,
     "metadata": {},
     "output_type": "execute_result"
    }
   ],
   "source": [
    "nd_halos"
   ]
  },
  {
   "cell_type": "code",
   "execution_count": 36,
   "metadata": {},
   "outputs": [
    {
     "data": {
      "text/plain": [
       "Text(0, 0.5, 'Abundance of subhalos')"
      ]
     },
     "execution_count": 36,
     "metadata": {},
     "output_type": "execute_result"
    },
    {
     "data": {
      "image/png": "[encoded data removed]",
      "text/plain": [
       "<Figure size 432x288 with 1 Axes>"
      ]
     },
     "metadata": {
      "needs_background": "light"
     },
     "output_type": "display_data"
    }
   ],
   "source": [
    "plt.scatter(vpeak,nd_halos,s =0.2)\n",
    "plt.xscale('log')\n",
    "plt.yscale('log')\n",
    "plt.xlabel(r'subhalo $ V_{peak} (km/s) $')\n",
    "plt.ylabel(r'Abundance of subhalos')"
   ]
  },
  {
   "cell_type": "code",
   "execution_count": 37,
   "metadata": {},
   "outputs": [],
   "source": [
    "np.save('/home/yunzheng/mock/abundance_new/data/largedata/vpeak.npy',vpeak)"
   ]
  },
  {
   "cell_type": "markdown",
   "metadata": {},
   "source": [
    "## Abundance Matching"
   ]
  },
  {
   "cell_type": "code",
   "execution_count": 38,
   "metadata": {
    "code_folding": []
   },
   "outputs": [],
   "source": [
    "\n",
    "###luminosity function###\n",
    "#############################\n",
    "def luminosity_evolution(M,M_star0,phi_star0,alpha,P,Q,z):\n",
    "    M_star = M_star0 - Q * (z - 0.1)\n",
    "    phi_star = phi_star0 * np.power(10,0.4 * P * z)\n",
    "    y = 0.4 * np.log(10) * phi_star * (np.power(10,(0.4 * (M_star - M)))) ** (1 + alpha) * np.exp(- 10 ** (0.4 * (M_star - M)))\n",
    "    return y\n",
    "\n",
    "\n",
    "M_star_Blanton = -20.44\n",
    "phi_star_Blanton = 0.0149\n",
    "P_Blanton = 0.18\n",
    "Q_Blanton = 1.62\n",
    "alpha_Blanton = -1.05\n",
    "\n",
    "\n",
    "M_star_Loveday = -20.70\n",
    "phi_star_Loveday = 0.0094\n",
    "P_Loveday = 1.8\n",
    "Q_Loveday = 0.7\n",
    "alpha_Loveday = -1.23\n",
    "\n",
    "def omega(z):\n",
    "    y = (1 + np.exp(-100 * (z - 0.15))) ** (-1)\n",
    "    return y\n",
    "\n",
    "def phi_total(M,z):\n",
    "    y = (1 - omega(z)) * luminosity_evolution(M,M_star_Blanton,phi_star_Blanton,alpha_Blanton,P_Blanton,Q_Blanton,z) + omega(z) * luminosity_evolution(M,M_star_Loveday,phi_star_Loveday,alpha_Loveday,P_Loveday,Q_Loveday,z)\n",
    "    return y\n",
    "\n",
    "def luminosity_final(M,z):\n",
    "    if z <= 0.1:\n",
    "        phi_1 = luminosity_evolution(M,M_star_Blanton,phi_star_Blanton,alpha_Blanton,P_Blanton,Q_Blanton,z)\n",
    "        return phi_1\n",
    "    if 0.1 < z < 0.2:\n",
    "        phi_2 = phi_total(M,z)\n",
    "        return phi_2\n",
    "    if z >= 0.2:\n",
    "        phi_3 = luminosity_evolution(M,M_star_Loveday,phi_star_Loveday,alpha_Loveday,P_Loveday,Q_Loveday,z)\n",
    "        return phi_3"
   ]
  },
  {
   "cell_type": "code",
   "execution_count": 64,
   "metadata": {},
   "outputs": [],
   "source": [
    "nstep=1000\n",
    "lfx0 = np.linspace(-25,-10,nstep)\n",
    "lfy0 = luminosity_final(lfx0,0.1)\n",
    "af_test = AbundanceFunction(lfx0,lfy0,(-25,-10))\n",
    "catalog_test = af_test.match(nd_halos)"
   ]
  },
  {
   "cell_type": "code",
   "execution_count": 61,
   "metadata": {},
   "outputs": [
    {
     "data": {
      "text/plain": [
       "array([-12.69358107, -12.6935813 , -12.69358153, ..., -23.07030386,\n",
       "       -23.10570069, -23.16383038])"
      ]
     },
     "execution_count": 61,
     "metadata": {},
     "output_type": "execute_result"
    }
   ],
   "source": [
    "catalog_test"
   ]
  },
  {
   "cell_type": "code",
   "execution_count": 46,
   "metadata": {},
   "outputs": [
    {
     "data": {
      "text/plain": [
       "<matplotlib.collections.PathCollection at 0x2b04396b8710>"
      ]
     },
     "execution_count": 46,
     "metadata": {},
     "output_type": "execute_result"
    },
    {
     "data": {
      "image/png": "[encoded data removed]",
      "text/plain": [
       "<Figure size 432x288 with 1 Axes>"
      ]
     },
     "metadata": {
      "needs_background": "light"
     },
     "output_type": "display_data"
    }
   ],
   "source": [
    "plt.scatter(vpeak,catalog_test,s=0.05,marker = '*')"
   ]
  },
  {
   "cell_type": "markdown",
   "metadata": {},
   "source": [
    "### compare with dr7"
   ]
  },
  {
   "cell_type": "code",
   "execution_count": 47,
   "metadata": {},
   "outputs": [],
   "source": [
    "lfBlanton = np.loadtxt('/home/yunzheng/code/yanglei/yanglei/data/full1/vmax/lfvmax-q2.00a-1.00.dr72full1.dat')\n",
    "lfB03x=lfBlanton[:,0]\n",
    "lfB03y=lfBlanton[:,1]\n",
    "\n",
    "af = AbundanceFunction(lfB03x, lfB03y, (-27, -5))\n",
    "catalog = af.match(nd_halos)"
   ]
  },
  {
   "cell_type": "code",
   "execution_count": 49,
   "metadata": {},
   "outputs": [
    {
     "data": {
      "image/png": "[encoded data removed]",
      "text/plain": [
       "<Figure size 432x288 with 1 Axes>"
      ]
     },
     "metadata": {
      "needs_background": "light"
     },
     "output_type": "display_data"
    }
   ],
   "source": [
    "plt.scatter(vpeak,catalog,s = 0.05)\n",
    "plt.scatter(vpeak,catalog_test,s=0.05,marker = '*')\n",
    "\n",
    "plt.title(r'Matched set comparison')\n",
    "plt.xlabel(r' $Vpeak$ ')\n",
    "plt.ylabel(r'Magnitude')\n",
    "plt.legend(('dr7','evoLF'),facecolor='white', framealpha=1)\n",
    "plt.savefig('/home/yunzheng/mock/abundance_new/picture/Matchcomparision_final.pdf',dpi = 60)"
   ]
  },
  {
   "cell_type": "code",
   "execution_count": 60,
   "metadata": {},
   "outputs": [
    {
     "data": {
      "text/plain": [
       "array([-15.16929239, -15.16929246, -15.16929254, ..., -23.19565508,\n",
       "       -23.23498981, -23.29965742])"
      ]
     },
     "execution_count": 60,
     "metadata": {},
     "output_type": "execute_result"
    }
   ],
   "source": [
    "catalog"
   ]
  },
  {
   "cell_type": "code",
   "execution_count": 65,
   "metadata": {},
   "outputs": [
    {
     "data": {
      "text/plain": [
       "array([-12.68628987, -12.6862901 , -12.68629034, ..., -23.07030111,\n",
       "       -23.10569808, -23.16382802])"
      ]
     },
     "execution_count": 65,
     "metadata": {},
     "output_type": "execute_result"
    }
   ],
   "source": [
    "catalog_test"
   ]
  },
  {
   "cell_type": "code",
   "execution_count": 67,
   "metadata": {},
   "outputs": [
    {
     "data": {
      "image/png": "[encoded data removed]",
      "text/plain": [
       "<Figure size 720x576 with 1 Axes>"
      ]
     },
     "metadata": {
      "needs_background": "light"
     },
     "output_type": "display_data"
    }
   ],
   "source": [
    "plt.figure(figsize = (10,8))\n",
    "\n",
    "plt.scatter(vpeak,catalog,s = 0.05)\n",
    "plt.scatter(vpeak,catalog_test,s=0.05,marker = '*')\n",
    "\n",
    "plt.title(r'Matched set comparison')\n",
    "plt.xlabel(r' $Vpeak$ ')\n",
    "plt.ylabel(r'Magnitude')\n",
    "plt.legend(('dr7','evoLF'),facecolor='white', framealpha=1)\n",
    "plt.savefig('/home/yunzheng/mock/abundance_new/picture/Matchcomparision_final.png',format = 'png',dpi = 60)"
   ]
  },
  {
   "cell_type": "markdown",
   "metadata": {},
   "source": [
    "## scatter"
   ]
  },
  {
   "cell_type": "code",
   "execution_count": 50,
   "metadata": {
    "ExecuteTime": {
     "end_time": "2020-11-25T10:18:07.982237Z",
     "start_time": "2020-11-25T10:18:07.980008Z"
    }
   },
   "outputs": [],
   "source": [
    "def scatter(M):\n",
    "    y = 0.8 + 0.4 * np.tanh(M + 20)\n",
    "    return y"
   ]
  },
  {
   "cell_type": "code",
   "execution_count": 6,
   "metadata": {
    "ExecuteTime": {
     "end_time": "2020-11-24T07:52:06.966193Z",
     "start_time": "2020-11-24T07:52:06.960335Z"
    }
   },
   "outputs": [
    {
     "data": {
      "text/plain": [
       "array([-12.42343613, -12.42343636, -12.4234366 , ..., -22.90684043,\n",
       "       -22.94228826, -23.00048483])"
      ]
     },
     "execution_count": 6,
     "metadata": {},
     "output_type": "execute_result"
    }
   ],
   "source": [
    "newmag_99"
   ]
  },
  {
   "cell_type": "code",
   "execution_count": 8,
   "metadata": {
    "ExecuteTime": {
     "end_time": "2020-11-24T07:53:45.346324Z",
     "start_time": "2020-11-24T07:53:41.676595Z"
    }
   },
   "outputs": [
    {
     "data": {
      "text/plain": [
       "(-17.0, -23.0)"
      ]
     },
     "execution_count": 8,
     "metadata": {},
     "output_type": "execute_result"
    },
    {
     "data": {
      "image/png": "[encoded data removed]",
      "text/plain": [
       "<Figure size 432x288 with 1 Axes>"
      ]
     },
     "metadata": {
      "needs_background": "light"
     },
     "output_type": "display_data"
    }
   ],
   "source": [
    "plt.plot(newmag_99,scatter(newmag_99))\n",
    "plt.xlim(-17,-23)"
   ]
  },
  {
   "cell_type": "markdown",
   "metadata": {},
   "source": [
    "### truncnorm test"
   ]
  },
  {
   "cell_type": "code",
   "execution_count": 10,
   "metadata": {
    "ExecuteTime": {
     "end_time": "2020-11-24T15:25:30.851207Z",
     "start_time": "2020-11-24T15:25:30.849243Z"
    }
   },
   "outputs": [],
   "source": [
    "from scipy.stats import truncnorm"
   ]
  },
  {
   "cell_type": "code",
   "execution_count": 40,
   "metadata": {
    "ExecuteTime": {
     "end_time": "2020-11-24T16:27:50.531533Z",
     "start_time": "2020-11-24T16:27:50.527500Z"
    }
   },
   "outputs": [],
   "source": [
    "mu, sigma = 5, 0.7\n",
    "lower, upper = mu - 2.5 * sigma, mu + 2.5 * sigma \n",
    "\n",
    "X = truncnorm((lower - mu) / sigma, (upper - mu) / sigma, loc=mu, scale=sigma)\n",
    "\n",
    "M = truncnorm((lower - mu) / sigma, (upper - mu) / sigma)\n"
   ]
  },
  {
   "cell_type": "code",
   "execution_count": 41,
   "metadata": {
    "ExecuteTime": {
     "end_time": "2020-11-24T16:27:52.226360Z",
     "start_time": "2020-11-24T16:27:52.216268Z"
    },
    "collapsed": true
   },
   "outputs": [
    {
     "data": {
      "text/plain": [
       "array([3.60212856, 4.40557938, 3.65665406, 3.93245545, 3.79727431,\n",
       "       3.608921  , 3.68711279, 3.63318559, 3.90732156, 3.78491149,\n",
       "       4.56303832, 3.67748825, 3.61275915, 3.86328018, 4.00135641,\n",
       "       3.71659868, 3.76352077, 4.03044598, 3.92348372, 3.69314765,\n",
       "       4.10035319, 4.00135175, 4.03697219, 3.90657969, 3.67734203,\n",
       "       3.6097354 , 3.62665579, 3.78437277, 3.89586257, 3.65023203,\n",
       "       4.25669289, 3.61573472, 3.87445841, 3.64945488, 3.71560085,\n",
       "       4.71813009, 4.61295799, 3.66069292, 3.83051606, 3.63007218,\n",
       "       3.76980473, 3.65911452, 3.74010203, 3.71852428, 3.6362894 ,\n",
       "       3.68207909, 3.6198098 , 3.64962514, 3.80634543, 3.86517262,\n",
       "       4.21217801, 4.1772383 , 3.92264199, 4.09987162, 3.92251044,\n",
       "       3.89029728, 3.73428639, 3.67394499, 3.88792922, 3.78998603,\n",
       "       4.10665176, 3.83811039, 3.77308438, 3.69891755, 4.05228903,\n",
       "       3.69810142, 4.00283925, 3.87308474, 3.92156204, 3.87398702,\n",
       "       3.88409157, 3.60313961, 3.76613424, 3.92033256, 3.86602666,\n",
       "       3.71722771, 3.81420626, 4.01875265, 3.70559948, 3.66206473,\n",
       "       3.89444385, 3.73051956, 3.62029461, 3.70071147, 3.77644586,\n",
       "       3.70932968, 3.69137246, 3.86512688, 3.80288117, 4.00039606,\n",
       "       3.75651803, 3.95483369, 3.6333303 , 3.71390291, 3.81920208,\n",
       "       3.93636482, 3.69445205, 4.32485272, 3.83233132, 3.72787679,\n",
       "       3.7176676 , 3.69149691, 3.78042541, 3.6978094 , 3.79880931,\n",
       "       4.36028233, 3.82086467, 3.74254582, 3.67380533, 3.67349659,\n",
       "       3.78679758, 3.75575287, 3.63711639, 3.69406264, 4.44346325,\n",
       "       4.06665388, 3.67122609, 3.60675608, 3.61722087, 4.11646335,\n",
       "       4.40828649, 4.04246623, 3.92201296, 3.65579648, 3.60254372,\n",
       "       3.61770945, 3.93808288, 4.25493337, 3.64951478, 3.6230813 ,\n",
       "       3.682091  , 3.70495553, 3.73320082, 3.63384349, 3.74892584,\n",
       "       3.87480655, 3.63881187, 3.86972001, 3.8810414 , 3.81940913,\n",
       "       3.86773251, 3.60575215, 3.60003797, 3.68036748, 3.78579603,\n",
       "       3.94460704, 3.67998845, 4.05253272, 3.87916103, 3.64604009,\n",
       "       3.6583728 , 3.69757548, 3.73485897, 3.84923052, 3.97298833,\n",
       "       3.65786185, 3.67354496, 3.82340359, 4.34150918, 3.60356315,\n",
       "       4.03629268, 3.87159067, 3.73988   , 3.60651986, 3.72962277,\n",
       "       3.71817807, 3.68402798, 3.72506294, 3.69283846, 4.13155115,\n",
       "       3.70556276, 3.72964746, 3.75736495, 3.93977807, 3.63365206,\n",
       "       3.74457902, 4.12130279, 3.72466781, 3.91046115, 3.61415485,\n",
       "       3.74203029, 4.10029927, 3.69889018, 3.60223014, 3.84341885,\n",
       "       3.60775023, 3.77288042, 3.73991699, 3.792647  , 3.87567044,\n",
       "       4.05182527, 3.66069429, 3.69194137, 3.73869965, 3.92033739,\n",
       "       3.66607894, 3.60839377, 5.27268537, 3.97255081, 3.91618885,\n",
       "       4.24105784, 3.6485384 , 3.84718387, 3.63763324, 4.73449639,\n",
       "       3.60079761, 3.80823268, 4.10350079, 4.66169615, 3.6600742 ,\n",
       "       3.9270844 , 3.64061656, 3.85344897, 3.87148939, 3.64465408,\n",
       "       3.69770478, 3.60827926, 3.98802742, 3.84772486, 4.56137468,\n",
       "       3.70704592, 3.67205977, 3.68252343, 3.83003885, 3.63229247,\n",
       "       3.69506853, 4.48246877, 3.62624078, 3.84964991, 3.80690531,\n",
       "       3.69476106, 3.60924169, 3.62153365, 3.65662969, 3.80183043,\n",
       "       4.44633168, 3.7073681 , 3.66071868, 3.99447576, 4.06784495,\n",
       "       3.75918948, 3.97257804, 3.79209923, 3.62798257, 4.04855877,\n",
       "       4.31074572, 3.85459516, 3.66322052, 3.94399595, 4.06969655,\n",
       "       3.64426312, 3.78769032, 3.73961269, 3.8313107 , 3.67253228,\n",
       "       4.16016988, 3.68135996, 3.89162524, 3.68621785, 4.11286299,\n",
       "       4.12801999, 4.08690204, 5.12787492, 3.70457711, 3.9638958 ,\n",
       "       4.31725238, 3.74891309, 4.70917123, 4.09005864, 3.60084466,\n",
       "       4.59665249, 3.6516929 , 3.6933689 , 3.95196682, 3.79318551,\n",
       "       3.65626479, 4.05292507, 4.03750276, 3.85379433, 3.65559252,\n",
       "       4.11143413, 3.88903672, 3.68437439, 3.67033917, 3.7153948 ,\n",
       "       3.76924464, 3.82883417, 3.63637303, 3.89860884, 3.60366247,\n",
       "       3.99868377, 4.06747037, 3.68271748, 3.78308234, 3.86103636,\n",
       "       3.75357639, 3.72897921, 4.14153527, 3.73188079, 3.79242174,\n",
       "       3.67015456, 3.63966647, 3.71484275, 3.72734463, 3.60113487,\n",
       "       3.77141342, 3.63668679, 3.63196449, 3.80264305, 3.8533576 ,\n",
       "       4.02326281, 3.88833328, 3.75614383, 3.68951234, 4.45754085,\n",
       "       3.94103477, 3.68339314, 3.76605537, 3.70463259, 3.9103965 ,\n",
       "       3.85916241, 3.92119457, 4.63377481, 3.67014419, 3.83280393,\n",
       "       3.79810575, 3.65302511, 3.75867953, 3.96694944, 3.81783869,\n",
       "       4.98924377, 3.62364399, 3.8562533 , 4.12881558, 3.86758776,\n",
       "       3.9082083 , 4.18710942, 3.69504947, 3.68447636, 3.70094825,\n",
       "       3.60388265, 4.91900239, 3.61649904, 4.14554941, 3.73706741,\n",
       "       3.7989991 , 3.72502501, 4.15223494, 3.9104215 , 4.22487787,\n",
       "       3.60546045, 3.6390318 , 3.73988801, 3.69583896, 4.12217498,\n",
       "       3.96509692, 3.67143938, 4.00090406, 4.06130386, 4.08643043,\n",
       "       4.14638939, 3.71527802, 3.94008114, 4.05073542, 4.10881166,\n",
       "       3.75714482, 3.95429439, 3.85890733, 3.63037743, 3.74985139,\n",
       "       3.76206656, 3.79326269, 3.7328275 , 3.74822422, 4.13763553,\n",
       "       4.88295361, 3.64981812, 3.89386613, 4.10479576, 3.7710212 ,\n",
       "       3.76273068, 3.76482671, 3.70468639, 3.88359359, 3.61308632,\n",
       "       3.67037098, 3.64541341, 3.77271284, 3.89802424, 3.80739422,\n",
       "       3.80860485, 3.85052029, 3.64268639, 3.72921957, 3.99703413,\n",
       "       3.80631253, 4.12778114, 3.66121132, 3.66653369, 3.65637284,\n",
       "       3.71504496, 4.23904184, 3.76630781, 3.85233509, 3.74999709,\n",
       "       3.72199144, 4.06350459, 3.92581298, 3.75824321, 4.22338894,\n",
       "       3.78807777, 4.17120199, 3.65988739, 4.30423838, 3.64382448,\n",
       "       4.17259139, 3.65373504, 3.78464466, 3.61330913, 3.65634958,\n",
       "       4.06105896, 3.94587732, 4.02466689, 3.61167616, 3.8372095 ,\n",
       "       3.6511899 , 3.90400345, 4.18066107, 4.34634025, 3.92358166,\n",
       "       3.89497934, 3.60204199, 4.58237013, 3.84769896, 3.65357001,\n",
       "       3.73173318, 3.7735351 , 3.6772472 , 4.53114769, 3.79122546,\n",
       "       3.73187936, 3.95498259, 4.04590972, 3.88179832, 3.68688239,\n",
       "       3.60164041, 3.72060264, 3.80272486, 3.68749218, 3.63903039,\n",
       "       3.7504692 , 3.664016  , 3.62952518, 3.82055324, 3.79570013,\n",
       "       3.66837448, 3.69869067, 3.72160915, 3.7596882 , 3.8203272 ,\n",
       "       3.66987341, 3.8058585 , 3.97893901, 3.61176315, 3.96704818,\n",
       "       3.88692284, 3.76345953, 3.66131843, 3.8405547 , 4.0771636 ,\n",
       "       3.9438166 , 3.76391973, 3.61876331, 4.15282619, 3.65083587,\n",
       "       3.8626926 , 3.74278062, 4.11380883, 3.84518348, 3.76375529,\n",
       "       3.60033835, 3.67377304, 3.61965048, 4.12877187, 3.94146024,\n",
       "       3.84387726, 4.02467435, 3.62009227, 4.0141952 , 4.2261453 ,\n",
       "       4.12067236, 3.66151764, 3.61848258, 3.88254231, 3.69873798,\n",
       "       4.17986065, 3.75389003, 3.87336448, 3.68592356, 3.78153231,\n",
       "       3.75221089, 3.69042763, 4.19275744, 3.6629146 , 3.77989062,\n",
       "       4.43637745, 3.73243204, 3.69580426, 3.78947537, 4.09629106,\n",
       "       3.6706935 , 3.86659399, 4.02256624, 3.70975721, 3.62403725,\n",
       "       3.69367595, 3.68225002, 3.93856763, 3.80388193, 3.61501658,\n",
       "       3.64877159, 3.76450896, 3.88044302, 4.13357066, 3.61208242,\n",
       "       3.67286587, 3.97520471, 4.03664243, 3.82125145, 3.80303666,\n",
       "       3.74119248, 3.69147711, 3.66371959, 3.72604323, 3.63411179,\n",
       "       3.99631387, 4.17554389, 3.92211893, 3.64904035, 3.90313234,\n",
       "       4.00083912, 3.69670947, 3.90836124, 3.76631302, 4.15103222,\n",
       "       3.71401841, 3.7602478 , 3.70964498, 4.15936896, 3.66783177,\n",
       "       3.60908965, 3.87393088, 3.91089306, 3.82367722, 3.61195787,\n",
       "       3.81490386, 3.82625676, 3.7561197 , 4.08760932, 4.13333612,\n",
       "       3.69893587, 3.90941197, 3.6803798 , 3.73475544, 3.91931264,\n",
       "       3.67219006, 3.90370215, 3.60180203, 3.69792761, 4.15039491,\n",
       "       3.81593867, 3.66459533, 3.86913383, 3.68438518, 3.72866683,\n",
       "       3.62909976, 4.81151059, 3.95638176, 4.1074991 , 3.91434067,\n",
       "       4.71608096, 3.78166154, 3.62637349, 3.64634125, 4.00810338,\n",
       "       3.78817318, 3.72399859, 3.93254824, 3.95012417, 3.87179471,\n",
       "       4.17705166, 4.60774293, 3.71442542, 3.71607845, 3.61255696,\n",
       "       3.61043845, 3.75170219, 3.84426517, 3.60276768, 4.04977177,\n",
       "       3.63109934, 4.21863608, 4.05283087, 3.64283708, 3.75599574,\n",
       "       3.83542442, 3.62602456, 3.70386539, 4.08065571, 4.09336545,\n",
       "       3.6925951 , 3.79603949, 3.76732302, 3.81339497, 3.77488118,\n",
       "       4.14612221, 3.70828671, 3.66822965, 3.91274483, 4.14192715,\n",
       "       4.43731089, 3.63517864, 3.63183173, 3.64918406, 4.32655466,\n",
       "       3.74976557, 3.62712913, 3.94652414, 3.76373514, 3.67044528,\n",
       "       3.95104831, 3.92114306, 3.61777225, 4.51976133, 3.81688746,\n",
       "       3.61850386, 3.89934687, 3.61155312, 3.93441104, 3.68711969,\n",
       "       3.63025993, 3.69029561, 3.88888225, 3.7513176 , 3.6141427 ,\n",
       "       3.80665059, 3.80743226, 4.40605018, 3.65142225, 4.05667829,\n",
       "       3.79823008, 4.04354972, 4.21407749, 3.69207685, 3.73789811,\n",
       "       3.8530766 , 3.61527156, 3.64456769, 3.63434161, 4.06253823,\n",
       "       3.70493229, 4.46946314, 3.66233315, 3.61122413, 3.95843507,\n",
       "       3.90397517, 3.78893088, 3.8258489 , 3.97554145, 3.99757692,\n",
       "       4.31781786, 3.99003352, 3.81659618, 3.73892513, 3.60112157,\n",
       "       3.71587637, 3.89083355, 3.87654265, 3.8123664 , 3.71406581,\n",
       "       4.2634117 , 3.81894471, 4.15626439, 3.66395833, 3.6718597 ,\n",
       "       3.75022869, 3.65382789, 3.82718744, 3.9656913 , 4.14220889,\n",
       "       4.14231193, 3.92755072, 4.07941155, 3.9422784 , 3.74391584,\n",
       "       4.0350363 , 3.84862317, 3.63638238, 3.95031649, 3.71971588,\n",
       "       3.87654316, 3.9404561 , 4.05236195, 3.62024946, 3.74562864,\n",
       "       3.96229066, 3.63490151, 3.93534666, 3.90850521, 3.65616615,\n",
       "       3.7078814 , 3.81682991, 3.68334018, 3.68933188, 3.8122492 ,\n",
       "       3.66477001, 3.90669566, 4.11200615, 4.5089261 , 3.89092529,\n",
       "       3.95998068, 3.73531271, 3.63383599, 3.85240771, 3.72062091,\n",
       "       3.61957466, 3.63976281, 3.69236297, 3.83407639, 3.74451542,\n",
       "       3.65074723, 3.62693935, 3.78939855, 3.70247245, 3.65037769,\n",
       "       3.82242024, 3.92501689, 3.79738238, 3.78525334, 3.73498034,\n",
       "       3.77675609, 3.80918303, 3.89025923, 3.63329094, 3.68899894,\n",
       "       3.78431446, 3.80537366, 3.85329699, 3.60493992, 3.76134048,\n",
       "       3.94988372, 4.0416772 , 4.26300505, 3.68264374, 3.80238889,\n",
       "       3.65120662, 3.65079266, 3.61404988, 4.17808997, 3.77724951,\n",
       "       3.73509804, 3.7359521 , 3.7542388 , 4.03661569, 3.74462786,\n",
       "       3.84673566, 3.77855703, 4.8449239 , 3.73969541, 3.87875254,\n",
       "       4.39057748, 3.95893476, 3.67916664, 3.67747487, 4.2105419 ,\n",
       "       3.78510564, 3.62216826, 4.36097582, 3.64950617, 3.64592243,\n",
       "       3.68014518, 4.36452583, 4.89941568, 3.67069464, 3.92178103,\n",
       "       3.86061745, 4.83493365, 3.94570523, 3.92080904, 3.60812148,\n",
       "       3.90111421, 3.63686332, 3.66603783, 3.88630338, 3.92956021,\n",
       "       3.88267043, 4.10941063, 3.61371319, 3.73716877, 3.60206303,\n",
       "       3.80968443, 3.64332946, 3.63851026, 3.73877983, 4.24767225,\n",
       "       3.67244825, 3.62598952, 3.60030289, 3.81262893, 3.66592346,\n",
       "       3.87114815, 4.2277335 , 4.19084925, 4.42963129, 4.05732233,\n",
       "       3.6037087 , 3.8827365 , 3.8043934 , 4.00217813, 4.04260724,\n",
       "       3.72558345, 3.70250267, 3.98202286, 3.82270618, 4.21960347,\n",
       "       3.67006566, 3.74713979, 3.64713154, 3.89471934, 3.79582065,\n",
       "       3.64275182, 3.73011656, 3.72228306, 3.88501847, 3.76851696,\n",
       "       3.91191766, 3.74340154, 3.79811885, 3.72467957, 3.72977044,\n",
       "       3.64300648, 3.94256752, 3.85131049, 3.66436292, 3.71861958,\n",
       "       3.72937184, 4.72139218, 3.96457373, 3.61574909, 3.73987487,\n",
       "       3.7389864 , 3.62360214, 4.19375148, 3.78845994, 4.39784284,\n",
       "       3.61402496, 3.94128881, 3.60629721, 4.15425583, 4.43338597,\n",
       "       4.60099669, 4.63194082, 3.65776686, 4.49454187, 3.69220698,\n",
       "       3.68442362, 3.60896672, 3.6213974 , 3.77157837, 4.00354239,\n",
       "       4.07567663, 3.62876606, 4.16601328, 3.90093164, 3.63518527,\n",
       "       3.83628399, 3.70174274, 3.7187645 , 3.67055412, 3.60077912,\n",
       "       4.68142713, 3.92368881, 3.62736062, 3.65644186, 4.45928014,\n",
       "       4.08860587, 3.69536913, 3.77129246, 3.70787396, 3.65874993,\n",
       "       3.60160685, 3.71643421, 3.63780315, 4.07701393, 4.11945924,\n",
       "       3.86647251, 3.92384904, 3.76620936, 3.68798537, 4.40862588,\n",
       "       4.53852155, 3.87104413, 4.50104683, 3.93505632, 4.06782612,\n",
       "       4.25750646, 3.62057297, 3.69826812, 3.66208236, 4.55354939,\n",
       "       3.889329  , 3.68803978, 4.21225172, 3.6299876 , 4.03591315,\n",
       "       3.64436919, 3.66434056, 3.61919993, 4.01294288, 4.01974457,\n",
       "       4.08895233, 3.65121655, 3.64665921, 3.65567513, 3.63142178,\n",
       "       3.81280507, 4.15663866, 3.8584916 , 3.6842813 , 3.78737462,\n",
       "       4.18339605, 3.71163203, 3.69560637, 4.50682532, 4.6938595 ,\n",
       "       3.73922907, 3.61240716, 3.71903038, 3.85392206, 4.01333917,\n",
       "       3.73967673, 4.12148052, 3.66584396, 3.7825762 , 3.61643437,\n",
       "       3.83463383, 4.49693632, 3.6524802 , 3.7300188 , 4.28348566,\n",
       "       3.79747799, 3.6760788 , 4.30946821, 3.90563392, 3.62078479,\n",
       "       3.62492041, 3.75040108, 4.09799915, 3.63892912, 3.65808331,\n",
       "       3.83625999, 3.61377058, 3.7183319 , 3.69479215, 3.83792914,\n",
       "       4.49522818, 3.65377643, 3.93700098, 3.70971213, 3.64815434,\n",
       "       4.14894311, 4.08461026, 3.6152798 , 3.75426607, 3.6694787 ,\n",
       "       4.17030864, 3.60289975, 3.80134481, 3.64628506, 3.86302181,\n",
       "       3.86618165, 3.87639723, 4.03304401, 3.76606474, 3.62416825,\n",
       "       3.66577883, 3.80951779, 3.78111251, 4.22021379, 3.60962449,\n",
       "       3.7051039 , 4.12264089, 3.7833057 , 3.64218247, 3.67062524,\n",
       "       3.87784271, 3.82063804, 3.81613652, 3.84133852, 3.88417751])"
      ]
     },
     "execution_count": 41,
     "metadata": {},
     "output_type": "execute_result"
    }
   ],
   "source": [
    "r"
   ]
  },
  {
   "cell_type": "code",
   "execution_count": 36,
   "metadata": {
    "ExecuteTime": {
     "end_time": "2020-11-24T16:16:41.042782Z",
     "start_time": "2020-11-24T16:16:41.039946Z"
    }
   },
   "outputs": [
    {
     "data": {
      "text/plain": [
       "<scipy.stats._distn_infrastructure.rv_frozen at 0x2b5ea7118a50>"
      ]
     },
     "execution_count": 36,
     "metadata": {},
     "output_type": "execute_result"
    }
   ],
   "source": [
    "X"
   ]
  },
  {
   "cell_type": "code",
   "execution_count": 37,
   "metadata": {
    "ExecuteTime": {
     "end_time": "2020-11-24T16:18:51.933270Z",
     "start_time": "2020-11-24T16:18:51.930554Z"
    }
   },
   "outputs": [
    {
     "data": {
      "text/plain": [
       "<scipy.stats._distn_infrastructure.rv_frozen at 0x2b5ea7129a10>"
      ]
     },
     "execution_count": 37,
     "metadata": {},
     "output_type": "execute_result"
    }
   ],
   "source": [
    "M"
   ]
  },
  {
   "cell_type": "code",
   "execution_count": 35,
   "metadata": {
    "ExecuteTime": {
     "end_time": "2020-11-24T16:04:09.483325Z",
     "start_time": "2020-11-24T16:04:09.480797Z"
    }
   },
   "outputs": [],
   "source": [
    "r = truncnorm.rvs(lower, upper, size=1000)"
   ]
  },
  {
   "cell_type": "code",
   "execution_count": 42,
   "metadata": {
    "ExecuteTime": {
     "end_time": "2020-11-24T16:28:02.419315Z",
     "start_time": "2020-11-24T16:28:02.173979Z"
    }
   },
   "outputs": [
    {
     "data": {
      "text/plain": [
       "(array([0.02046072, 0.03610715, 0.04934644, 0.06619644, 0.08786073,\n",
       "        0.11795002, 0.14803931, 0.17692503, 0.24312148, 0.27742327,\n",
       "        0.28825541, 0.35746078, 0.3526465 , 0.40861258, 0.40259472,\n",
       "        0.38935543, 0.41763937, 0.34783221, 0.32496435, 0.29607863,\n",
       "        0.26117505, 0.23890898, 0.17933218, 0.14322503, 0.11614467,\n",
       "        0.09929466, 0.06740001, 0.04814287, 0.03189465, 0.02346965]),\n",
       " array([-2.49545308, -2.32928101, -2.16310893, -1.99693686, -1.83076478,\n",
       "        -1.66459271, -1.49842064, -1.33224856, -1.16607649, -0.99990441,\n",
       "        -0.83373234, -0.66756026, -0.50138819, -0.33521612, -0.16904404,\n",
       "        -0.00287197,  0.16330011,  0.32947218,  0.49564425,  0.66181633,\n",
       "         0.8279884 ,  0.99416048,  1.16033255,  1.32650463,  1.4926767 ,\n",
       "         1.65884877,  1.82502085,  1.99119292,  2.157365  ,  2.32353707,\n",
       "         2.48970914]),\n",
       " <BarContainer object of 30 artists>)"
      ]
     },
     "execution_count": 42,
     "metadata": {},
     "output_type": "execute_result"
    },
    {
     "data": {
      "image/png": "[encoded data removed]",
      "text/plain": [
       "<Figure size 432x288 with 2 Axes>"
      ]
     },
     "metadata": {
      "needs_background": "light"
     },
     "output_type": "display_data"
    }
   ],
   "source": [
    "\n",
    "from pylab import *\n",
    "\n",
    "figure(1)\n",
    "subplot(2,1,1)\n",
    "plt.hist(X.rvs(10000), density=True, bins=30)   # 截断正态分布的直方图\n",
    "subplot(2,1,2)\n",
    "plt.hist(M.rvs(10000), density=True, bins=30)"
   ]
  },
  {
   "cell_type": "code",
   "execution_count": 46,
   "metadata": {
    "ExecuteTime": {
     "end_time": "2020-11-25T10:11:09.869340Z",
     "start_time": "2020-11-25T10:11:09.866978Z"
    }
   },
   "outputs": [],
   "source": [
    "lllll = M.rvs(1)"
   ]
  },
  {
   "cell_type": "code",
   "execution_count": 47,
   "metadata": {
    "ExecuteTime": {
     "end_time": "2020-11-25T10:11:14.563883Z",
     "start_time": "2020-11-25T10:11:14.561214Z"
    }
   },
   "outputs": [
    {
     "data": {
      "text/plain": [
       "array([-0.35739693])"
      ]
     },
     "execution_count": 47,
     "metadata": {},
     "output_type": "execute_result"
    }
   ],
   "source": [
    "lllll"
   ]
  },
  {
   "cell_type": "code",
   "execution_count": 39,
   "metadata": {
    "ExecuteTime": {
     "end_time": "2020-11-24T16:21:13.485750Z",
     "start_time": "2020-11-24T16:21:13.481035Z"
    }
   },
   "outputs": [],
   "source": [
    "truncnorm.rvs?"
   ]
  },
  {
   "cell_type": "markdown",
   "metadata": {},
   "source": [
    "### adding scatter"
   ]
  },
  {
   "cell_type": "code",
   "execution_count": 59,
   "metadata": {
    "ExecuteTime": {
     "end_time": "2020-11-25T10:22:10.636015Z",
     "start_time": "2020-11-25T10:22:10.632772Z"
    }
   },
   "outputs": [],
   "source": [
    "def mag_scatter(Mag):\n",
    "    mu = Mag\n",
    "    sigma = scatter(Mag)\n",
    "    lower, upper = mu - 2.5 * sigma, mu + 2.5 * sigma \n",
    "    G = truncnorm((lower - mu) / sigma, (upper - mu) / sigma, loc=mu, scale=sigma) \n",
    "    return (G.rvs(1))"
   ]
  },
  {
   "cell_type": "code",
   "execution_count": null,
   "metadata": {
    "ExecuteTime": {
     "start_time": "2020-11-25T10:25:55.307Z"
    }
   },
   "outputs": [],
   "source": [
    "mags = []\n",
    "for mag in newmag_99:\n",
    "    mags.append(mag_scatter(mag))"
   ]
  },
  {
   "cell_type": "code",
   "execution_count": 62,
   "metadata": {
    "ExecuteTime": {
     "end_time": "2020-11-25T10:22:57.392627Z",
     "start_time": "2020-11-25T10:22:57.389434Z"
    }
   },
   "outputs": [
    {
     "data": {
      "text/plain": [
       "array([-12.42343613, -12.42343636, -12.4234366 , ..., -22.90684043,\n",
       "       -22.94228826, -23.00048483])"
      ]
     },
     "execution_count": 62,
     "metadata": {},
     "output_type": "execute_result"
    }
   ],
   "source": [
    "newmag_99"
   ]
  },
  {
   "cell_type": "code",
   "execution_count": null,
   "metadata": {
    "ExecuteTime": {
     "start_time": "2020-11-25T10:37:07.683Z"
    }
   },
   "outputs": [],
   "source": [
    "mags"
   ]
  },
  {
   "cell_type": "code",
   "execution_count": null,
   "metadata": {},
   "outputs": [],
   "source": []
  }
 ],
 "metadata": {
  "kernelspec": {
   "display_name": "Python 3",
   "language": "python",
   "name": "python3"
  },
  "language_info": {
   "codemirror_mode": {
    "name": "ipython",
    "version": 3
   },
   "file_extension": ".py",
   "mimetype": "text/x-python",
   "name": "python",
   "nbconvert_exporter": "python",
   "pygments_lexer": "ipython3",
   "version": "3.7.8"
  },
  "toc": {
   "base_numbering": 1,
   "nav_menu": {
    "height": "77px",
    "width": "160px"
   },
   "number_sections": true,
   "sideBar": true,
   "skip_h1_title": false,
   "title_cell": "Table of Contents",
   "title_sidebar": "Contents",
   "toc_cell": false,
   "toc_position": {
    "height": "calc(100% - 180px)",
    "left": "10px",
    "top": "150px",
    "width": "211.1875px"
   },
   "toc_section_display": true,
   "toc_window_display": true
  }
 },
 "nbformat": 4,
 "nbformat_minor": 4
}
