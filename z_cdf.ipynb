{
 "cells": [
  {
   "cell_type": "markdown",
   "metadata": {},
   "source": [
    "# load data "
   ]
  },
  {
   "cell_type": "code",
   "execution_count": 2,
   "metadata": {
    "ExecuteTime": {
     "end_time": "2020-12-01T13:49:48.239111Z",
     "start_time": "2020-12-01T13:49:28.625156Z"
    }
   },
   "outputs": [],
   "source": [
    "import h5py\n",
    "import numpy as np"
   ]
  },
  {
   "cell_type": "code",
   "execution_count": 3,
   "metadata": {
    "ExecuteTime": {
     "end_time": "2020-12-01T13:49:48.330192Z",
     "start_time": "2020-12-01T13:49:48.240669Z"
    }
   },
   "outputs": [],
   "source": [
    "redshift = np.loadtxt('/home/yunzheng/mock/orphan/redshift.txt')"
   ]
  },
  {
   "cell_type": "code",
   "execution_count": 210,
   "metadata": {
    "ExecuteTime": {
     "end_time": "2020-12-04T07:13:27.260446Z",
     "start_time": "2020-12-04T07:13:27.005941Z"
    }
   },
   "outputs": [
    {
     "data": {
      "text/plain": [
       "0.2182580231028184"
      ]
     },
     "execution_count": 210,
     "metadata": {},
     "output_type": "execute_result"
    }
   ],
   "source": [
    "redshift[92]"
   ]
  },
  {
   "cell_type": "markdown",
   "metadata": {},
   "source": [
    "# 选取snapshot92来做mocktest"
   ]
  },
  {
   "cell_type": "markdown",
   "metadata": {},
   "source": [
    "## 存subhaloid、速度vmax、subhalo出现的snapshot"
   ]
  },
  {
   "cell_type": "code",
   "execution_count": 67,
   "metadata": {},
   "outputs": [],
   "source": [
    "sub_file = h5py.File('/home/cossim/CosmicGrowth/6610/subcat2/SubSnap_009.hdf5','r')['Subhalos'][...]\n",
    "subid = sub_file['TrackId']\n",
    "vmax = sub_file['VmaxPhysical']\n",
    "birthsnap = sub_file['SnapshotIndexOfBirth']"
   ]
  },
  {
   "cell_type": "code",
   "execution_count": 68,
   "metadata": {},
   "outputs": [
    {
     "data": {
      "text/plain": [
       "array([   0,    1,    2, ..., 9055, 9056, 9057])"
      ]
     },
     "execution_count": 68,
     "metadata": {},
     "output_type": "execute_result"
    }
   ],
   "source": [
    "subid"
   ]
  },
  {
   "cell_type": "code",
   "execution_count": 69,
   "metadata": {},
   "outputs": [
    {
     "data": {
      "text/plain": [
       "array([207.93156 ,   0.      , 180.1976  , ..., 102.518555, 125.204865,\n",
       "       112.25584 ], dtype=float32)"
      ]
     },
     "execution_count": 69,
     "metadata": {},
     "output_type": "execute_result"
    }
   ],
   "source": [
    "vmax"
   ]
  },
  {
   "cell_type": "code",
   "execution_count": 70,
   "metadata": {},
   "outputs": [
    {
     "data": {
      "text/plain": [
       "array([0, 0, 0, ..., 9, 9, 9], dtype=int32)"
      ]
     },
     "execution_count": 70,
     "metadata": {},
     "output_type": "execute_result"
    }
   ],
   "source": [
    "birthsnap"
   ]
  },
  {
   "cell_type": "code",
   "execution_count": 71,
   "metadata": {},
   "outputs": [],
   "source": [
    "a = np.stack((subid,vmax,birthsnap),axis= -1)"
   ]
  },
  {
   "cell_type": "code",
   "execution_count": 72,
   "metadata": {},
   "outputs": [
    {
     "data": {
      "text/plain": [
       "(9058, 3)"
      ]
     },
     "execution_count": 72,
     "metadata": {},
     "output_type": "execute_result"
    }
   ],
   "source": [
    "a.shape"
   ]
  },
  {
   "cell_type": "code",
   "execution_count": 73,
   "metadata": {},
   "outputs": [
    {
     "name": "stdout",
     "output_type": "stream",
     "text": [
      "the length of subid is 9058\n"
     ]
    }
   ],
   "source": [
    "print(\"the length of subid is %d\"%(len(subid)))"
   ]
  },
  {
   "cell_type": "code",
   "execution_count": 75,
   "metadata": {},
   "outputs": [],
   "source": [
    " b = np.load('/home/yunzheng/mock/color/data/vmax/snapshot_9.npy')"
   ]
  },
  {
   "cell_type": "code",
   "execution_count": 77,
   "metadata": {},
   "outputs": [
    {
     "data": {
      "text/plain": [
       "(9058, 3)"
      ]
     },
     "execution_count": 77,
     "metadata": {},
     "output_type": "execute_result"
    }
   ],
   "source": [
    "b.shape"
   ]
  },
  {
   "cell_type": "code",
   "execution_count": 26,
   "metadata": {},
   "outputs": [],
   "source": [
    "xxx = range(10,50)"
   ]
  },
  {
   "cell_type": "code",
   "execution_count": 33,
   "metadata": {},
   "outputs": [
    {
     "data": {
      "text/plain": [
       "49"
      ]
     },
     "execution_count": 33,
     "metadata": {},
     "output_type": "execute_result"
    }
   ],
   "source": [
    "xxx[39]"
   ]
  },
  {
   "cell_type": "markdown",
   "metadata": {},
   "source": [
    "## 在所有subhalo vmax中找到orphan与subhalo table相应的id"
   ]
  },
  {
   "cell_type": "code",
   "execution_count": 5,
   "metadata": {
    "ExecuteTime": {
     "end_time": "2020-12-01T13:54:51.064331Z",
     "start_time": "2020-12-01T13:50:02.859676Z"
    }
   },
   "outputs": [],
   "source": [
    "subhalo = np.loadtxt('/home/yunzheng/mock/subhalos_new/subhalotable/snapshot_%s.txt'%92)\n",
    "orphan = np.load('/home/yunzheng/mock/orphan_new/final_selection_new/snapshot_%s/orphantable_final.npy'%92)"
   ]
  },
  {
   "cell_type": "code",
   "execution_count": 6,
   "metadata": {
    "ExecuteTime": {
     "end_time": "2020-12-01T13:54:51.068469Z",
     "start_time": "2020-12-01T13:54:51.065772Z"
    }
   },
   "outputs": [
    {
     "data": {
      "text/plain": [
       "23086613"
      ]
     },
     "execution_count": 6,
     "metadata": {},
     "output_type": "execute_result"
    }
   ],
   "source": [
    "len(subhalo)"
   ]
  },
  {
   "cell_type": "code",
   "execution_count": 80,
   "metadata": {
    "ExecuteTime": {
     "end_time": "2020-12-02T12:18:43.333052Z",
     "start_time": "2020-12-02T12:18:43.330328Z"
    }
   },
   "outputs": [
    {
     "data": {
      "text/plain": [
       "26241654"
      ]
     },
     "execution_count": 80,
     "metadata": {},
     "output_type": "execute_result"
    }
   ],
   "source": [
    "len(orphan) + len(subhalo)"
   ]
  },
  {
   "cell_type": "code",
   "execution_count": 86,
   "metadata": {
    "ExecuteTime": {
     "end_time": "2020-12-02T12:31:26.522920Z",
     "start_time": "2020-12-02T12:31:26.520361Z"
    }
   },
   "outputs": [
    {
     "data": {
      "text/plain": [
       "(3155041, 12)"
      ]
     },
     "execution_count": 86,
     "metadata": {},
     "output_type": "execute_result"
    }
   ],
   "source": [
    "orphan.shape"
   ]
  },
  {
   "cell_type": "code",
   "execution_count": 8,
   "metadata": {
    "ExecuteTime": {
     "end_time": "2020-12-01T13:55:27.282054Z",
     "start_time": "2020-12-01T13:55:26.421704Z"
    }
   },
   "outputs": [],
   "source": [
    "\n",
    "\n",
    "subid = np.concatenate((subhalo[:,0], orphan[:,0]))\n",
    "\n",
    "vpeak = np.concatenate((subhalo[:,4], orphan[:,4]))\n",
    "\n",
    "vpeaksnap = np.concatenate((subhalo[:,5], orphan[:,5]))\n",
    "    "
   ]
  },
  {
   "cell_type": "code",
   "execution_count": 56,
   "metadata": {
    "ExecuteTime": {
     "end_time": "2020-12-02T02:15:31.813036Z",
     "start_time": "2020-12-02T02:15:31.740787Z"
    }
   },
   "outputs": [],
   "source": [
    "subid = np.array(subid,dtype = int)"
   ]
  },
  {
   "cell_type": "code",
   "execution_count": 90,
   "metadata": {
    "ExecuteTime": {
     "end_time": "2020-12-02T14:44:47.275721Z",
     "start_time": "2020-12-02T14:44:47.272814Z"
    }
   },
   "outputs": [
    {
     "data": {
      "text/plain": [
       "array([ 2,  3,  4,  7,  8,  9, 12, 13, 15, 20])"
      ]
     },
     "execution_count": 90,
     "metadata": {},
     "output_type": "execute_result"
    }
   ],
   "source": [
    "subid[:10]"
   ]
  },
  {
   "cell_type": "code",
   "execution_count": 83,
   "metadata": {
    "ExecuteTime": {
     "end_time": "2020-12-02T12:31:03.635716Z",
     "start_time": "2020-12-02T12:31:03.624550Z"
    }
   },
   "outputs": [],
   "source": [
    "orp_mass = np.ones(len(orphan)) * 0.05541996"
   ]
  },
  {
   "cell_type": "code",
   "execution_count": 85,
   "metadata": {
    "ExecuteTime": {
     "end_time": "2020-12-02T12:31:13.424134Z",
     "start_time": "2020-12-02T12:31:13.420848Z"
    }
   },
   "outputs": [
    {
     "data": {
      "text/plain": [
       "(3155041,)"
      ]
     },
     "execution_count": 85,
     "metadata": {},
     "output_type": "execute_result"
    }
   ],
   "source": [
    "orp_mass.shape"
   ]
  },
  {
   "cell_type": "code",
   "execution_count": 184,
   "metadata": {
    "ExecuteTime": {
     "end_time": "2020-12-04T03:53:24.966892Z",
     "start_time": "2020-12-04T03:53:24.964007Z"
    }
   },
   "outputs": [
    {
     "data": {
      "text/plain": [
       "53.0"
      ]
     },
     "execution_count": 184,
     "metadata": {},
     "output_type": "execute_result"
    }
   ],
   "source": [
    "subhalo[0][5]"
   ]
  },
  {
   "cell_type": "code",
   "execution_count": 171,
   "metadata": {
    "ExecuteTime": {
     "end_time": "2020-12-04T03:03:12.346946Z",
     "start_time": "2020-12-04T03:03:12.201409Z"
    }
   },
   "outputs": [],
   "source": [
    "vpeaksnap = np.array(vpeaksnap,dtype = 'int')"
   ]
  },
  {
   "cell_type": "code",
   "execution_count": 170,
   "metadata": {
    "ExecuteTime": {
     "end_time": "2020-12-04T03:02:54.382932Z",
     "start_time": "2020-12-04T03:02:54.379896Z"
    }
   },
   "outputs": [
    {
     "data": {
      "text/plain": [
       "51"
      ]
     },
     "execution_count": 170,
     "metadata": {},
     "output_type": "execute_result"
    }
   ],
   "source": [
    "vpeaksnap[10]"
   ]
  },
  {
   "cell_type": "code",
   "execution_count": 12,
   "metadata": {
    "ExecuteTime": {
     "end_time": "2020-12-02T01:33:36.615387Z",
     "start_time": "2020-12-02T01:33:36.610792Z"
    }
   },
   "outputs": [],
   "source": [
    "len_all = np.loadtxt('/home/yunzheng/mock/color/data/len_all.txt')"
   ]
  },
  {
   "cell_type": "code",
   "execution_count": 53,
   "metadata": {
    "ExecuteTime": {
     "end_time": "2020-12-02T02:06:29.810604Z",
     "start_time": "2020-12-02T02:06:29.807332Z"
    }
   },
   "outputs": [
    {
     "data": {
      "text/plain": [
       "array([  3.,  13.,  33.,  82., 212.])"
      ]
     },
     "execution_count": 53,
     "metadata": {},
     "output_type": "execute_result"
    }
   ],
   "source": [
    "len_all[:5]"
   ]
  },
  {
   "cell_type": "code",
   "execution_count": 187,
   "metadata": {
    "ExecuteTime": {
     "end_time": "2020-12-04T03:58:52.758309Z",
     "start_time": "2020-12-04T03:55:28.617651Z"
    }
   },
   "outputs": [
    {
     "ename": "KeyboardInterrupt",
     "evalue": "",
     "output_type": "error",
     "traceback": [
      "\u001b[0;31m---------------------------------------------------------------------------\u001b[0m",
      "\u001b[0;31mKeyboardInterrupt\u001b[0m                         Traceback (most recent call last)",
      "\u001b[0;32m<ipython-input-187-1d38c4d4bd42>\u001b[0m in \u001b[0;36m<module>\u001b[0;34m\u001b[0m\n\u001b[1;32m      1\u001b[0m \u001b[0mvmax\u001b[0m \u001b[0;34m=\u001b[0m \u001b[0;34m[\u001b[0m\u001b[0;34m]\u001b[0m\u001b[0;34m\u001b[0m\u001b[0;34m\u001b[0m\u001b[0m\n\u001b[1;32m      2\u001b[0m \u001b[0;32mfor\u001b[0m \u001b[0mi\u001b[0m \u001b[0;32min\u001b[0m \u001b[0mrange\u001b[0m\u001b[0;34m(\u001b[0m\u001b[0;36m100\u001b[0m\u001b[0;34m)\u001b[0m\u001b[0;34m:\u001b[0m\u001b[0;34m\u001b[0m\u001b[0;34m\u001b[0m\u001b[0m\n\u001b[0;32m----> 3\u001b[0;31m     \u001b[0mv\u001b[0m \u001b[0;34m=\u001b[0m \u001b[0mnp\u001b[0m\u001b[0;34m.\u001b[0m\u001b[0mload\u001b[0m\u001b[0;34m(\u001b[0m\u001b[0;34m'/home/yunzheng/mock/color/data/vmax/snapshot_%s.npy'\u001b[0m\u001b[0;34m%\u001b[0m\u001b[0mi\u001b[0m\u001b[0;34m)\u001b[0m\u001b[0;34m\u001b[0m\u001b[0;34m\u001b[0m\u001b[0m\n\u001b[0m\u001b[1;32m      4\u001b[0m     \u001b[0mvmax\u001b[0m\u001b[0;34m.\u001b[0m\u001b[0mappend\u001b[0m\u001b[0;34m(\u001b[0m\u001b[0mv\u001b[0m\u001b[0;34m)\u001b[0m\u001b[0;34m\u001b[0m\u001b[0;34m\u001b[0m\u001b[0m\n",
      "\u001b[0;32m~/anaconda/envs/py37/lib/python3.7/site-packages/numpy/lib/npyio.py\u001b[0m in \u001b[0;36mload\u001b[0;34m(file, mmap_mode, allow_pickle, fix_imports, encoding)\u001b[0m\n\u001b[1;32m    438\u001b[0m             \u001b[0;32melse\u001b[0m\u001b[0;34m:\u001b[0m\u001b[0;34m\u001b[0m\u001b[0;34m\u001b[0m\u001b[0m\n\u001b[1;32m    439\u001b[0m                 return format.read_array(fid, allow_pickle=allow_pickle,\n\u001b[0;32m--> 440\u001b[0;31m                                          pickle_kwargs=pickle_kwargs)\n\u001b[0m\u001b[1;32m    441\u001b[0m         \u001b[0;32melse\u001b[0m\u001b[0;34m:\u001b[0m\u001b[0;34m\u001b[0m\u001b[0;34m\u001b[0m\u001b[0m\n\u001b[1;32m    442\u001b[0m             \u001b[0;31m# Try a pickle\u001b[0m\u001b[0;34m\u001b[0m\u001b[0;34m\u001b[0m\u001b[0;34m\u001b[0m\u001b[0m\n",
      "\u001b[0;32m~/anaconda/envs/py37/lib/python3.7/site-packages/numpy/lib/format.py\u001b[0m in \u001b[0;36mread_array\u001b[0;34m(fp, allow_pickle, pickle_kwargs)\u001b[0m\n\u001b[1;32m    739\u001b[0m         \u001b[0;32mif\u001b[0m \u001b[0misfileobj\u001b[0m\u001b[0;34m(\u001b[0m\u001b[0mfp\u001b[0m\u001b[0;34m)\u001b[0m\u001b[0;34m:\u001b[0m\u001b[0;34m\u001b[0m\u001b[0;34m\u001b[0m\u001b[0m\n\u001b[1;32m    740\u001b[0m             \u001b[0;31m# We can use the fast fromfile() function.\u001b[0m\u001b[0;34m\u001b[0m\u001b[0;34m\u001b[0m\u001b[0;34m\u001b[0m\u001b[0m\n\u001b[0;32m--> 741\u001b[0;31m             \u001b[0marray\u001b[0m \u001b[0;34m=\u001b[0m \u001b[0mnumpy\u001b[0m\u001b[0;34m.\u001b[0m\u001b[0mfromfile\u001b[0m\u001b[0;34m(\u001b[0m\u001b[0mfp\u001b[0m\u001b[0;34m,\u001b[0m \u001b[0mdtype\u001b[0m\u001b[0;34m=\u001b[0m\u001b[0mdtype\u001b[0m\u001b[0;34m,\u001b[0m \u001b[0mcount\u001b[0m\u001b[0;34m=\u001b[0m\u001b[0mcount\u001b[0m\u001b[0;34m)\u001b[0m\u001b[0;34m\u001b[0m\u001b[0;34m\u001b[0m\u001b[0m\n\u001b[0m\u001b[1;32m    742\u001b[0m         \u001b[0;32melse\u001b[0m\u001b[0;34m:\u001b[0m\u001b[0;34m\u001b[0m\u001b[0;34m\u001b[0m\u001b[0m\n\u001b[1;32m    743\u001b[0m             \u001b[0;31m# This is not a real file. We have to read it the\u001b[0m\u001b[0;34m\u001b[0m\u001b[0;34m\u001b[0m\u001b[0;34m\u001b[0m\u001b[0m\n",
      "\u001b[0;31mKeyboardInterrupt\u001b[0m: "
     ]
    }
   ],
   "source": [
    "vmax = []\n",
    "for i in range(100):\n",
    "    v = np.load('/home/yunzheng/mock/color/data/vmax/snapshot_%s.npy'%i)\n",
    "    vmax.append(v)"
   ]
  },
  {
   "cell_type": "code",
   "execution_count": 228,
   "metadata": {
    "ExecuteTime": {
     "end_time": "2020-12-04T07:46:46.668420Z",
     "start_time": "2020-12-04T07:46:46.664306Z"
    },
    "scrolled": true
   },
   "outputs": [
    {
     "data": {
      "text/plain": [
       "array([[  0.        , 138.88401794,   0.        ],\n",
       "       [  1.        , 109.96416473,   0.        ],\n",
       "       [  2.        , 173.0643158 ,   0.        ],\n",
       "       [  3.        , 114.61103821,   1.        ],\n",
       "       [  4.        , 140.35394287,   1.        ],\n",
       "       [  5.        , 109.96416473,   1.        ],\n",
       "       [  6.        , 155.51281738,   1.        ],\n",
       "       [  7.        , 135.61853027,   1.        ],\n",
       "       [  8.        , 130.37728882,   1.        ],\n",
       "       [  9.        , 109.96416473,   1.        ],\n",
       "       [ 10.        , 145.68585205,   1.        ],\n",
       "       [ 11.        , 151.6381073 ,   1.        ],\n",
       "       [ 12.        , 111.9177475 ,   1.        ],\n",
       "       [ 13.        , 112.90650177,   2.        ],\n",
       "       [ 14.        , 109.96416473,   2.        ],\n",
       "       [ 15.        , 120.92839813,   2.        ],\n",
       "       [ 16.        , 126.07809448,   2.        ],\n",
       "       [ 17.        , 109.96416473,   2.        ],\n",
       "       [ 18.        , 122.42756653,   2.        ],\n",
       "       [ 19.        , 109.96416473,   2.        ],\n",
       "       [ 20.        , 141.92982483,   2.        ],\n",
       "       [ 21.        , 112.4147644 ,   2.        ],\n",
       "       [ 22.        , 113.06819916,   2.        ],\n",
       "       [ 23.        , 114.34871674,   2.        ],\n",
       "       [ 24.        , 109.96416473,   2.        ],\n",
       "       [ 25.        , 130.00135803,   2.        ],\n",
       "       [ 26.        , 109.96416473,   2.        ],\n",
       "       [ 27.        , 134.90487671,   2.        ],\n",
       "       [ 28.        , 133.27069092,   2.        ],\n",
       "       [ 29.        , 110.22639465,   2.        ],\n",
       "       [ 30.        , 124.95110321,   2.        ],\n",
       "       [ 31.        , 126.29673767,   2.        ],\n",
       "       [ 32.        , 134.1321106 ,   2.        ]])"
      ]
     },
     "execution_count": 228,
     "metadata": {},
     "output_type": "execute_result"
    }
   ],
   "source": [
    "vmax[2]"
   ]
  },
  {
   "cell_type": "code",
   "execution_count": 144,
   "metadata": {
    "ExecuteTime": {
     "end_time": "2020-12-04T02:34:48.779136Z",
     "start_time": "2020-12-04T02:34:48.777051Z"
    }
   },
   "outputs": [],
   "source": [
    "vmax_evo = []"
   ]
  },
  {
   "cell_type": "code",
   "execution_count": null,
   "metadata": {},
   "outputs": [],
   "source": [
    "vmax_evo.append(vmax)"
   ]
  },
  {
   "cell_type": "code",
   "execution_count": 248,
   "metadata": {
    "ExecuteTime": {
     "end_time": "2020-12-04T08:19:50.566347Z",
     "start_time": "2020-12-04T08:19:50.549510Z"
    }
   },
   "outputs": [
    {
     "name": "stdout",
     "output_type": "stream",
     "text": [
      "The vpeak is 306.27947998046875\n",
      "The vform is 229.70960998535156\n",
      "The vpeak snapshot is 53\n",
      "The birthsnap of 2th subhalo is 0\n",
      "The birthsnap check is 0\n",
      "j = 0\n",
      "The snapshot of interpretation is between 14 and 15 .\n",
      "The first redshift is 10.60817231932476\n",
      "The next redshift is 10.24519172362668\n",
      "The first vmax is 214.13926696777344\n",
      "The next vmax is 254.34100341796875\n",
      "The interplated redshift is 10.467588034097536\n",
      "The vpeak is 489.8222351074219\n",
      "The vform is 367.3666763305664\n",
      "The vpeak snapshot is 88\n",
      "The birthsnap of 3th subhalo is 1\n",
      "The birthsnap check is 1\n",
      "j = 1\n",
      "The snapshot of interpretation is between 49 and 50 .\n",
      "The first redshift is 3.1447514243462287\n",
      "The next redshift is 3.0254516503041575\n",
      "The first vmax is 360.27398681640625\n",
      "The next vmax is 368.58148193359375\n",
      "The interplated redshift is 3.0428968647643337\n",
      "The vpeak is 439.2156066894531\n",
      "The vform is 329.41170501708984\n",
      "The vpeak snapshot is 87\n",
      "The birthsnap of 4th subhalo is 1\n",
      "The birthsnap check is 1\n",
      "j = 1\n",
      "The snapshot of interpretation is between 26 and 27 .\n",
      "The first redshift is 7.09802553738869\n",
      "The next redshift is 6.870170364923613\n",
      "The first vmax is 322.6712951660156\n",
      "The next vmax is 356.7635192871094\n",
      "The interplated redshift is 7.05297604916385\n",
      "The vpeak is 426.4158935546875\n",
      "The vform is 319.8119201660156\n",
      "The vpeak snapshot is 87\n",
      "The birthsnap of 7th subhalo is 1\n",
      "The birthsnap check is 1\n",
      "j = 1\n",
      "The snapshot of interpretation is between 60 and 61 .\n",
      "The first redshift is 2.0225460258094037\n",
      "The next redshift is 1.937886914786529\n",
      "The first vmax is 314.29241943359375\n",
      "The next vmax is 324.9322509765625\n",
      "The interplated redshift is 1.9786284108161722\n",
      "The vpeak is 678.1197509765625\n",
      "The vform is 508.5898132324219\n",
      "The vpeak snapshot is 88\n",
      "The birthsnap of 8th subhalo is 1\n",
      "The birthsnap check is 1\n",
      "j = 1\n",
      "The snapshot of interpretation is between 46 and 47 .\n",
      "The first redshift is 3.516570933842927\n",
      "The next redshift is 3.3905334022466613\n",
      "The first vmax is 492.2900695800781\n",
      "The next vmax is 508.67041015625\n",
      "The interplated redshift is 3.3911535503617944\n",
      "The vpeak is 496.755859375\n",
      "The vform is 372.56689453125\n",
      "The vpeak snapshot is 91\n",
      "The birthsnap of 9th subhalo is 1\n",
      "The birthsnap check is 1\n",
      "j = 1\n",
      "The snapshot of interpretation is between 48 and 49 .\n",
      "The first redshift is 3.26410391652915\n",
      "The next redshift is 3.1447514243462287\n",
      "The first vmax is 362.97198486328125\n",
      "The next vmax is 372.82745361328125\n",
      "The interplated redshift is 3.147906867947156\n",
      "The vpeak is 464.805419921875\n",
      "The vform is 348.60406494140625\n",
      "The vpeak snapshot is 86\n",
      "The birthsnap of 12th subhalo is 1\n",
      "The birthsnap check is 1\n",
      "j = 1\n",
      "The snapshot of interpretation is between 57 and 58 .\n",
      "The first redshift is 2.2934185772760185\n",
      "The next redshift is 2.1992445631467485\n",
      "The first vmax is 334.7668151855469\n",
      "The next vmax is 366.56182861328125\n",
      "The interplated redshift is 2.2524338688725978\n",
      "The vpeak is 552.76708984375\n",
      "The vform is 414.5753173828125\n",
      "The vpeak snapshot is 73\n",
      "The birthsnap of 13th subhalo is 2\n",
      "The birthsnap check is 2\n",
      "j = 2\n",
      "The snapshot of interpretation is between 47 and 48 .\n",
      "The first redshift is 3.3905334022466613\n",
      "The next redshift is 3.26410391652915\n",
      "The first vmax is 401.04931640625\n",
      "The next vmax is 431.0024719238281\n",
      "The interplated redshift is 3.3334414091750872\n",
      "The vpeak is 885.5326538085938\n",
      "The vform is 664.1494903564453\n",
      "The vpeak snapshot is 91\n",
      "The birthsnap of 15th subhalo is 2\n",
      "The birthsnap check is 2\n",
      "j = 2\n",
      "The snapshot of interpretation is between 52 and 53 .\n",
      "The first redshift is 2.8005873765354523\n",
      "The next redshift is 2.6946066088497647\n",
      "The first vmax is 634.4641723632812\n",
      "The next vmax is 685.265625\n",
      "The interplated redshift is 2.738658580671939\n",
      "The vpeak is 383.9573059082031\n",
      "The vform is 287.96797943115234\n",
      "The vpeak snapshot is 85\n",
      "The birthsnap of 20th subhalo is 2\n",
      "The birthsnap check is 2\n",
      "j = 2\n",
      "The snapshot of interpretation is between 33 and 34 .\n",
      "The first redshift is 5.592347423277815\n",
      "The next redshift is 5.3996191632883175\n",
      "The first vmax is 287.0051574707031\n",
      "The next vmax is 295.2893981933594\n",
      "The interplated redshift is 5.56994790504441\n",
      "The vpeak is 444.5027770996094\n",
      "The vform is 333.37708282470703\n",
      "The vpeak snapshot is 51\n",
      "The birthsnap of 21th subhalo is 2\n",
      "The birthsnap check is 2\n",
      "j = 2\n",
      "The snapshot of interpretation is between 34 and 35 .\n",
      "The first redshift is 5.3996191632883175\n",
      "The next redshift is 5.21783911654972\n",
      "The first vmax is 325.343017578125\n",
      "The next vmax is 333.7884826660156\n",
      "The interplated redshift is 5.226694079728546\n",
      "The vpeak is 1308.5489501953125\n",
      "The vform is 981.4117126464844\n",
      "The vpeak snapshot is 85\n",
      "The birthsnap of 22th subhalo is 2\n",
      "The birthsnap check is 2\n",
      "j = 2\n",
      "The snapshot of interpretation is between 57 and 58 .\n",
      "The first redshift is 2.2934185772760185\n",
      "The next redshift is 2.1992445631467485\n",
      "The first vmax is 978.641357421875\n",
      "The next vmax is 1034.041259765625\n",
      "The interplated redshift is 2.2887092644247677\n",
      "The vpeak is 362.94085693359375\n",
      "The vform is 272.2056427001953\n",
      "The vpeak snapshot is 90\n",
      "The birthsnap of 25th subhalo is 2\n",
      "The birthsnap check is 2\n",
      "j = 2\n",
      "The snapshot of interpretation is between 34 and 35 .\n",
      "The first redshift is 5.3996191632883175\n",
      "The next redshift is 5.21783911654972\n",
      "The first vmax is 265.0077819824219\n",
      "The next vmax is 273.39825439453125\n",
      "The interplated redshift is 5.2436771145657195\n",
      "The vpeak is 563.1033325195312\n",
      "The vform is 422.32749938964844\n",
      "The vpeak snapshot is 75\n",
      "The birthsnap of 26th subhalo is 2\n",
      "The birthsnap check is 2\n",
      "j = 2\n",
      "The snapshot of interpretation is between 48 and 49 .\n",
      "The first redshift is 3.26410391652915\n",
      "The next redshift is 3.1447514243462287\n",
      "The first vmax is 421.046142578125\n",
      "The next vmax is 437.65234375\n",
      "The interplated redshift is 3.254894517748055\n",
      "The vpeak is 703.9463500976562\n",
      "The vform is 527.9597625732422\n",
      "The vpeak snapshot is 85\n",
      "The birthsnap of 27th subhalo is 2\n",
      "The birthsnap check is 2\n",
      "j = 2\n",
      "The snapshot of interpretation is between 42 and 43 .\n",
      "The first redshift is 4.071632754067143\n",
      "The next redshift is 3.9276823390813895\n",
      "The first vmax is 494.6109924316406\n",
      "The next vmax is 534.0400390625\n",
      "The interplated redshift is 3.949880652219698\n",
      "The vpeak is 660.2984619140625\n",
      "The vform is 495.2238464355469\n",
      "The vpeak snapshot is 92\n",
      "The birthsnap of 28th subhalo is 2\n",
      "The birthsnap check is 2\n",
      "j = 2\n",
      "The snapshot of interpretation is between 71 and 72 .\n",
      "The first redshift is 1.2084805376949679\n",
      "The next redshift is 1.147257309901478\n",
      "The first vmax is 485.5229187011719\n",
      "The next vmax is 519.3681030273438\n",
      "The interplated redshift is 1.190932336368419\n",
      "The vpeak is 656.8778076171875\n",
      "The vform is 492.6583557128906\n",
      "The vpeak snapshot is 92\n",
      "The birthsnap of 30th subhalo is 2\n",
      "The birthsnap check is 2\n",
      "j = 2\n",
      "The snapshot of interpretation is between 44 and 45 .\n",
      "The first redshift is 3.787121704161428\n",
      "The next redshift is 3.6500592094003323\n",
      "The first vmax is 490.6227111816406\n",
      "The next vmax is 513.5011596679688\n",
      "The interplated redshift is 3.7749263615416413\n",
      "The vpeak is 725.0039672851562\n",
      "The vform is 543.7529754638672\n",
      "The vpeak snapshot is 80\n",
      "The birthsnap of 32th subhalo is 2\n",
      "The birthsnap check is 2\n",
      "j = 2\n",
      "The snapshot of interpretation is between 39 and 40 .\n",
      "The first redshift is 4.534351371038977\n",
      "The next redshift is 4.374829976377098\n",
      "The first vmax is 500.02703857421875\n",
      "The next vmax is 549.9635009765625\n",
      "The interplated redshift is 4.3946694212177455\n",
      "The vpeak is 525.8765258789062\n",
      "The vform is 394.4073944091797\n",
      "The vpeak snapshot is 87\n",
      "The birthsnap of 34th subhalo is 3\n",
      "The birthsnap check is 3\n",
      "j = 3\n",
      "The snapshot of interpretation is between 56 and 57 .\n",
      "The first redshift is 2.3887372041571235\n",
      "The next redshift is 2.2934185772760185\n",
      "The first vmax is 373.7170715332031\n",
      "The next vmax is 395.5100402832031\n",
      "The interplated redshift is 2.2982413571300957\n",
      "The vpeak is 536.8182983398438\n",
      "The vform is 402.6137237548828\n",
      "The vpeak snapshot is 90\n",
      "The birthsnap of 36th subhalo is 3\n",
      "The birthsnap check is 3\n",
      "j = 3\n",
      "The snapshot of interpretation is between 39 and 40 .\n",
      "The first redshift is 4.534351371038977\n",
      "The next redshift is 4.374829976377098\n",
      "The first vmax is 398.62261962890625\n",
      "The next vmax is 407.45745849609375\n",
      "The interplated redshift is 4.462288200902266\n"
     ]
    }
   ],
   "source": [
    "z_form = []\n",
    "for i in range(20):\n",
    "    vform =  vpeak[i] * 0.75\n",
    "    print('The vpeak is %s'%(vpeak[i]))\n",
    "    print('The vform is %s'%(vform))\n",
    "    print('The vpeak snapshot is %s'%vpeaksnap[i])\n",
    "    for j in range(100):\n",
    "        if subid[i] <= len_all[j] -1:\n",
    "            print('The birthsnap of %dth subhalo is %d'%(subid[i],j))\n",
    "            print('The birthsnap check is %d'%(vmax[j][subid[i]][2]))\n",
    "            print('j = %d'%j)\n",
    "\n",
    "            for k in range(j,vpeaksnap[i]):\n",
    "                \n",
    "#                 vmax_evo = vmax[k][subid[i]][1]\n",
    "#                 print('The vmax is %s'%vmax_evo)\n",
    "#                 vmax_evo_1 = vmax[k+1][subid[i]][1]\n",
    "#                 print('The vmax of next snapshot is %s'%vmax_evo_1)\n",
    "                \n",
    "                if vform < vmax[k][subid[i]][1]:\n",
    "                    snap_bir = j\n",
    "                    print('The snapshot of birth is %s'%snap_bir)\n",
    "                    print('The vmax is %s'%vmax[k][subid[i]][1])\n",
    "                    z_form = redshift[j]\n",
    "                    print('The redshift is %s'%z_form)\n",
    "                    break\n",
    "#                 elif vmax_evo <= vform < vmax_evo_1 :\n",
    "                elif vmax[k][subid[i]][1] <= vform < vmax[k+1][subid[i]][1]:\n",
    "#                     snap_bir = k\n",
    "                    print('The snapshot of interpretation is between %s and %s .'%(k,k+1))\n",
    "                    print('The first redshift is %s'%(redshift[k]))\n",
    "                    print('The next redshift is %s'%(redshift[k+1]))\n",
    "                    print('The first vmax is %s'%(vmax[k][subid[i]][1]))\n",
    "                    print('The next vmax is %s'%(vmax[k+1][subid[i]][1]))\n",
    "                    interp_v = [vmax[k][subid[i]][1],vmax[k+1][subid[i]][1]]\n",
    "                    interp_z = [redshift[k],redshift[k+1]]\n",
    "                    red_new = np.interp(vform,interp_v,interp_z)\n",
    "#                     form_all = np.array((subid[i],vpeak[i],vpeaksnap[i],vform,red_new))\n",
    "#                     z_form.append(form_all)\n",
    "                    print('The interplated redshift is %s'%red_new)\n",
    "                    break\n",
    "#                 print('The circle number is %s'%k)\n",
    "            form_all = np.array((subid[i],vpeak[i],vpeaksnap[i],vform,red_new))\n",
    "            z_form.append(form_all)\n",
    "#             print('j = %d'%j)\n",
    "            break\n",
    "# print(z_form)\n",
    "        \n",
    "            \n",
    "\n",
    "        \n",
    "\n",
    "\n"
   ]
  },
  {
   "cell_type": "code",
   "execution_count": 243,
   "metadata": {
    "ExecuteTime": {
     "end_time": "2020-12-04T08:12:44.196811Z",
     "start_time": "2020-12-04T08:12:44.194931Z"
    }
   },
   "outputs": [],
   "source": [
    "z_form_test = z_form"
   ]
  },
  {
   "cell_type": "code",
   "execution_count": 250,
   "metadata": {
    "ExecuteTime": {
     "end_time": "2020-12-04T08:20:09.472336Z",
     "start_time": "2020-12-04T08:20:09.466636Z"
    }
   },
   "outputs": [
    {
     "data": {
      "text/plain": [
       "[array([  2.        , 306.27947998,  53.        , 229.70960999,\n",
       "         10.46758803]),\n",
       " array([  3.        , 489.82223511,  88.        , 367.36667633,\n",
       "          3.04289686]),\n",
       " array([  4.        , 439.21560669,  87.        , 329.41170502,\n",
       "          7.05297605]),\n",
       " array([  7.        , 426.41589355,  87.        , 319.81192017,\n",
       "          1.97862841]),\n",
       " array([  8.        , 678.11975098,  88.        , 508.58981323,\n",
       "          3.39115355]),\n",
       " array([  9.        , 496.75585938,  91.        , 372.56689453,\n",
       "          3.14790687]),\n",
       " array([ 12.        , 464.80541992,  86.        , 348.60406494,\n",
       "          2.25243387]),\n",
       " array([ 13.        , 552.76708984,  73.        , 414.57531738,\n",
       "          3.33344141]),\n",
       " array([ 15.        , 885.53265381,  91.        , 664.14949036,\n",
       "          2.73865858]),\n",
       " array([ 20.        , 383.95730591,  85.        , 287.96797943,\n",
       "          5.56994791]),\n",
       " array([ 21.        , 444.5027771 ,  51.        , 333.37708282,\n",
       "          5.22669408]),\n",
       " array([  22.        , 1308.5489502 ,   85.        ,  981.41171265,\n",
       "           2.28870926]),\n",
       " array([ 25.        , 362.94085693,  90.        , 272.2056427 ,\n",
       "          5.24367711]),\n",
       " array([ 26.        , 563.10333252,  75.        , 422.32749939,\n",
       "          3.25489452]),\n",
       " array([ 27.        , 703.9463501 ,  85.        , 527.95976257,\n",
       "          3.94988065]),\n",
       " array([ 28.        , 660.29846191,  92.        , 495.22384644,\n",
       "          1.19093234]),\n",
       " array([ 30.        , 656.87780762,  92.        , 492.65835571,\n",
       "          3.77492636]),\n",
       " array([ 32.        , 725.00396729,  80.        , 543.75297546,\n",
       "          4.39466942]),\n",
       " array([ 34.        , 525.87652588,  87.        , 394.40739441,\n",
       "          2.29824136]),\n",
       " array([ 36.        , 536.81829834,  90.        , 402.61372375,\n",
       "          4.4622882 ])]"
      ]
     },
     "execution_count": 250,
     "metadata": {},
     "output_type": "execute_result"
    }
   ],
   "source": [
    "z_form"
   ]
  },
  {
   "cell_type": "code",
   "execution_count": 240,
   "metadata": {
    "ExecuteTime": {
     "end_time": "2020-12-04T08:09:01.089512Z",
     "start_time": "2020-12-04T08:09:01.087454Z"
    }
   },
   "outputs": [],
   "source": [
    "z_form_test.append(subid[:10])"
   ]
  },
  {
   "cell_type": "code",
   "execution_count": 249,
   "metadata": {
    "ExecuteTime": {
     "end_time": "2020-12-04T08:20:07.392696Z",
     "start_time": "2020-12-04T08:20:07.386795Z"
    }
   },
   "outputs": [
    {
     "data": {
      "text/plain": [
       "[array([  2.        , 306.27947998,  53.        , 229.70960999,\n",
       "         10.46758803]),\n",
       " array([  3.        , 489.82223511,  88.        , 367.36667633,\n",
       "          3.04289686]),\n",
       " array([  4.        , 439.21560669,  87.        , 329.41170502,\n",
       "          7.05297605]),\n",
       " array([  7.        , 426.41589355,  87.        , 319.81192017,\n",
       "          1.97862841]),\n",
       " array([  8.        , 678.11975098,  88.        , 508.58981323,\n",
       "          3.39115355]),\n",
       " array([  9.        , 496.75585938,  91.        , 372.56689453,\n",
       "          3.14790687]),\n",
       " array([ 12.        , 464.80541992,  86.        , 348.60406494,\n",
       "          2.25243387]),\n",
       " array([ 13.        , 552.76708984,  73.        , 414.57531738,\n",
       "          3.33344141]),\n",
       " array([ 15.        , 885.53265381,  91.        , 664.14949036,\n",
       "          2.73865858]),\n",
       " array([ 20.        , 383.95730591,  85.        , 287.96797943,\n",
       "          5.56994791]),\n",
       " array([ 21.        , 444.5027771 ,  51.        , 333.37708282,\n",
       "          5.22669408]),\n",
       " array([  22.        , 1308.5489502 ,   85.        ,  981.41171265,\n",
       "           2.28870926]),\n",
       " array([ 25.        , 362.94085693,  90.        , 272.2056427 ,\n",
       "          5.24367711]),\n",
       " array([ 26.        , 563.10333252,  75.        , 422.32749939,\n",
       "          3.25489452]),\n",
       " array([ 27.        , 703.9463501 ,  85.        , 527.95976257,\n",
       "          3.94988065]),\n",
       " array([ 28.        , 660.29846191,  92.        , 495.22384644,\n",
       "          1.19093234]),\n",
       " array([ 30.        , 656.87780762,  92.        , 492.65835571,\n",
       "          3.77492636]),\n",
       " array([ 32.        , 725.00396729,  80.        , 543.75297546,\n",
       "          4.39466942]),\n",
       " array([ 34.        , 525.87652588,  87.        , 394.40739441,\n",
       "          2.29824136]),\n",
       " array([ 36.        , 536.81829834,  90.        , 402.61372375,\n",
       "          4.4622882 ])]"
      ]
     },
     "execution_count": 249,
     "metadata": {},
     "output_type": "execute_result"
    }
   ],
   "source": [
    "z_form_test"
   ]
  },
  {
   "cell_type": "code",
   "execution_count": null,
   "metadata": {},
   "outputs": [],
   "source": [
    "z_form_new = []\n",
    "for i in range(20):\n",
    "    vform =  vpeak[i] * 0.75\n",
    "    print('The vpeak is %s'%(vpeak[i]))\n",
    "    print('The vform is %s'%(vform))\n",
    "    print('The vpeak snapshot is %s'%vpeaksnap[i])\n",
    "    for j in range(100):\n",
    "        if subid[i] <= len_all[j] -1:\n",
    "            print('The birthsnap of %dth subhalo is %d'%(subid[i],j))\n",
    "            print('The birthsnap check is %d'%(vmax[j][subid[i]][2]))\n",
    "            print('j = %d'%j)\n",
    "\n",
    "            for k in range(j,vpeaksnap[i]):\n",
    "                \n",
    "#                 vmax_evo = vmax[k][subid[i]][1]\n",
    "#                 print('The vmax is %s'%vmax_evo)\n",
    "#                 vmax_evo_1 = vmax[k+1][subid[i]][1]\n",
    "#                 print('The vmax of next snapshot is %s'%vmax_evo_1)\n",
    "                \n",
    "                if vform < vmax[k][subid[i]][1]:\n",
    "                    snap_bir = j\n",
    "                    print('The snapshot of birth is %s'%snap_bir)\n",
    "                    print('The vmax is %s'%vmax[k][subid[i]][1])\n",
    "                    z_form = redshift[j]\n",
    "                    print('The redshift is %s'%z_form)\n",
    "                    break\n",
    "#                 elif vmax_evo <= vform < vmax_evo_1 :\n",
    "                elif vmax[k][subid[i]][1] <= vform < vmax[k+1][subid[i]][1]:\n",
    "#                     snap_bir = k\n",
    "                    print('The snapshot of interpretation is between %s and %s .'%(k,k+1))\n",
    "                    print('The first redshift is %s'%(redshift[k]))\n",
    "                    print('The next redshift is %s'%(redshift[k+1]))\n",
    "                    print('The first vmax is %s'%(vmax[k][subid[i]][1]))\n",
    "                    print('The next vmax is %s'%(vmax[k+1][subid[i]][1]))\n",
    "                    interp_v = [vmax[k][subid[i]][1],vmax[k+1][subid[i]][1]]\n",
    "                    interp_z = [redshift[k],redshift[k+1]]\n",
    "                    red_new = np.interp(vform,interp_v,interp_z)\n",
    "#                     form_all = np.array((subid[i],vpeak[i],vpeaksnap[i],vform,red_new))\n",
    "#                     z_form.append(form_all)\n",
    "                    print('The interplated redshift is %s'%red_new)\n",
    "                    break\n",
    "#                 print('The circle number is %s'%k)\n",
    "            form_all = np.array((subid[i],vpeak[i],vpeaksnap[i],vform,red_new))\n",
    "            z_form_new.append(form_all)\n",
    "#             print('j = %d'%j)\n",
    "            break\n",
    "# print(z_form)\n",
    "        \n",
    "            \n",
    "\n",
    "        \n",
    "\n",
    "\n",
    "\n"
   ]
  },
  {
   "cell_type": "code",
   "execution_count": 106,
   "metadata": {
    "ExecuteTime": {
     "end_time": "2020-12-02T15:08:42.051047Z",
     "start_time": "2020-12-02T15:08:42.049128Z"
    }
   },
   "outputs": [],
   "source": [
    "# for i in range(0,100):\n",
    "#     filein='/home/cossim/CosmicGrowth/6610/subcsubhaloaloSize/HaloSize_%d.hdf5' % i\n",
    "#     halos=h5py.File(filein,'r')['HostHalos'][...]\n",
    "#     Mvir=halos['MVir']\n",
    "#     HaloID=halos['HaloId']\n",
    "#     fileout='/home/yunzheng/mock/orphan/halosize/hosthalo_%d.dat' % i\n",
    "#     data=np.stack((HaloID,Mvir),axis=-1)\n",
    "#     np.savetxt(fileout, data,fmt='%1.6e')"
   ]
  },
  {
   "cell_type": "code",
   "execution_count": null,
   "metadata": {},
   "outputs": [],
   "source": []
  }
 ],
 "metadata": {
  "kernelspec": {
   "display_name": "Python 3",
   "language": "python",
   "name": "python3"
  },
  "language_info": {
   "codemirror_mode": {
    "name": "ipython",
    "version": 3
   },
   "file_extension": ".py",
   "mimetype": "text/x-python",
   "name": "python",
   "nbconvert_exporter": "python",
   "pygments_lexer": "ipython3",
   "version": "3.7.8"
  },
  "toc": {
   "base_numbering": 1,
   "nav_menu": {},
   "number_sections": true,
   "sideBar": true,
   "skip_h1_title": false,
   "title_cell": "Table of Contents",
   "title_sidebar": "Contents",
   "toc_cell": false,
   "toc_position": {},
   "toc_section_display": true,
   "toc_window_display": false
  }
 },
 "nbformat": 4,
 "nbformat_minor": 4
}
