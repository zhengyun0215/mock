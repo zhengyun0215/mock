{
 "cells": [
  {
   "cell_type": "markdown",
   "metadata": {},
   "source": [
    "# load data"
   ]
  },
  {
   "cell_type": "code",
   "execution_count": 2,
   "metadata": {},
   "outputs": [],
   "source": [
    "import numpy as np\n",
    "import matplotlib.pyplot as plt"
   ]
  },
  {
   "cell_type": "code",
   "execution_count": 3,
   "metadata": {},
   "outputs": [],
   "source": [
    "table = np.load('/home/yunzheng/mock/color/data/newcatalogue/snap_92_new_with_zform.npy')"
   ]
  },
  {
   "cell_type": "code",
   "execution_count": 4,
   "metadata": {},
   "outputs": [],
   "source": [
    "subid = table[:,0]\n",
    "vpeak = table[:,1]\n",
    "zform = table[:,11]"
   ]
  },
  {
   "cell_type": "markdown",
   "metadata": {},
   "source": [
    "## 按照速度由小到大重新排列"
   ]
  },
  {
   "cell_type": "code",
   "execution_count": 5,
   "metadata": {},
   "outputs": [],
   "source": [
    "stag = np.argsort(vpeak)\n",
    "subid = subid[stag]\n",
    "vpeak = vpeak[stag]\n",
    "zform = zform[stag]"
   ]
  },
  {
   "cell_type": "code",
   "execution_count": 754,
   "metadata": {},
   "outputs": [
    {
     "data": {
      "text/plain": [
       "26241654"
      ]
     },
     "execution_count": 754,
     "metadata": {},
     "output_type": "execute_result"
    }
   ],
   "source": [
    "len(vpeak)"
   ]
  },
  {
   "cell_type": "code",
   "execution_count": 14,
   "metadata": {},
   "outputs": [
    {
     "data": {
      "text/plain": [
       "4148.0"
      ]
     },
     "execution_count": 14,
     "metadata": {},
     "output_type": "execute_result"
    }
   ],
   "source": [
    "subid[24853104]"
   ]
  },
  {
   "cell_type": "code",
   "execution_count": 373,
   "metadata": {},
   "outputs": [
    {
     "data": {
      "text/plain": [
       "1835.6221923828125"
      ]
     },
     "execution_count": 373,
     "metadata": {},
     "output_type": "execute_result"
    }
   ],
   "source": [
    "vpeak[-1]"
   ]
  },
  {
   "cell_type": "code",
   "execution_count": 13,
   "metadata": {},
   "outputs": [
    {
     "data": {
      "text/plain": [
       "(array([24853104]),)"
      ]
     },
     "execution_count": 13,
     "metadata": {},
     "output_type": "execute_result"
    }
   ],
   "source": [
    "np.where(zform ==12.406872085246118)"
   ]
  },
  {
   "cell_type": "markdown",
   "metadata": {},
   "source": [
    "# 分bin统计"
   ]
  },
  {
   "cell_type": "code",
   "execution_count": 177,
   "metadata": {},
   "outputs": [],
   "source": [
    "######对整体\n",
    "bin_0 = np.arange(30,1841,10)\n",
    "inds = np.digitize(vpeak,bin_0)"
   ]
  },
  {
   "cell_type": "code",
   "execution_count": 178,
   "metadata": {},
   "outputs": [
    {
     "name": "stdout",
     "output_type": "stream",
     "text": [
      "182\n"
     ]
    }
   ],
   "source": [
    "print(len(bin_0))"
   ]
  },
  {
   "cell_type": "code",
   "execution_count": 243,
   "metadata": {},
   "outputs": [
    {
     "data": {
      "text/plain": [
       "730"
      ]
     },
     "execution_count": 243,
     "metadata": {},
     "output_type": "execute_result"
    }
   ],
   "source": [
    "bin_0[70]"
   ]
  },
  {
   "cell_type": "markdown",
   "metadata": {},
   "source": [
    "## 分bin存id，vpeak，zform"
   ]
  },
  {
   "cell_type": "code",
   "execution_count": 179,
   "metadata": {},
   "outputs": [],
   "source": [
    "# 尝试把subhalo信息都存成一行方便查找\n",
    "vpeak_bin = [[]for _ in range(182)]\n",
    "for n in range(len(vpeak)):\n",
    "    sub_info = np.array((int(subid[n]),vpeak[n],zform[n]))\n",
    "    vpeak_bin[inds[n]].append(sub_info)"
   ]
  },
  {
   "cell_type": "code",
   "execution_count": 180,
   "metadata": {},
   "outputs": [
    {
     "data": {
      "text/plain": [
       "array([220.0002594 , 220.00030518, 220.00032043, ..., 229.99919128,\n",
       "       229.99923706, 229.99951172])"
      ]
     },
     "execution_count": 180,
     "metadata": {},
     "output_type": "execute_result"
    }
   ],
   "source": [
    "a = np.array(vpeak_bin[20])\n",
    "a[:,1]"
   ]
  },
  {
   "cell_type": "code",
   "execution_count": 259,
   "metadata": {},
   "outputs": [
    {
     "data": {
      "text/plain": [
       "311"
      ]
     },
     "execution_count": 259,
     "metadata": {},
     "output_type": "execute_result"
    }
   ],
   "source": [
    "len(vpeak_bin[70])"
   ]
  },
  {
   "cell_type": "code",
   "execution_count": 260,
   "metadata": {},
   "outputs": [],
   "source": [
    "temp= (vpeak>800)*(vpeak<=840)"
   ]
  },
  {
   "cell_type": "code",
   "execution_count": 269,
   "metadata": {
    "collapsed": true,
    "jupyter": {
     "outputs_hidden": true
    }
   },
   "outputs": [
    {
     "data": {
      "text/plain": [
       "array([800.02410889, 800.04736328, 800.0602417 , 800.11102295,\n",
       "       800.12255859, 800.16906738, 800.2612915 , 800.27661133,\n",
       "       800.36535645, 800.38378906, 800.4598999 , 800.47894287,\n",
       "       800.52941895, 800.53625488, 800.59332275, 800.61730957,\n",
       "       800.80541992, 800.89318848, 801.15496826, 801.18585205,\n",
       "       801.19158936, 801.20428467, 801.29333496, 801.38171387,\n",
       "       801.39794922, 801.54937744, 801.61364746, 801.61883545,\n",
       "       801.6963501 , 801.73474121, 801.83331299, 801.85723877,\n",
       "       801.86480713, 801.92749023, 801.95794678, 801.97851562,\n",
       "       802.08105469, 802.12469482, 802.14923096, 802.15710449,\n",
       "       802.23583984, 802.25665283, 802.34173584, 802.34490967,\n",
       "       802.42895508, 802.50134277, 802.57330322, 802.62609863,\n",
       "       802.76898193, 802.81176758, 802.83184814, 802.8604126 ,\n",
       "       802.88476562, 802.99200439, 803.09338379, 803.1217041 ,\n",
       "       803.12988281, 803.16394043, 803.1741333 , 803.2197876 ,\n",
       "       803.34100342, 803.41473389, 803.47839355, 803.5446167 ,\n",
       "       803.66644287, 803.7387085 , 803.74725342, 803.82427979,\n",
       "       803.9362793 , 804.01281738, 804.05554199, 804.20770264,\n",
       "       804.25390625, 804.2901001 , 804.34155273, 804.3729248 ,\n",
       "       804.49353027, 804.60491943, 804.62567139, 804.72283936,\n",
       "       804.77679443, 804.78216553, 804.84637451, 804.87353516,\n",
       "       804.89666748, 804.96868896, 805.03216553, 805.04309082,\n",
       "       805.1305542 , 805.13195801, 805.16644287, 805.16766357,\n",
       "       805.2043457 , 805.20452881, 805.26635742, 805.32421875,\n",
       "       805.33892822, 805.49963379, 805.70489502, 805.8102417 ,\n",
       "       805.84393311, 805.93231201, 806.00927734, 806.0145874 ,\n",
       "       806.03057861, 806.08691406, 806.10443115, 806.17059326,\n",
       "       806.27331543, 806.34350586, 806.42999268, 806.46600342,\n",
       "       806.49719238, 806.50952148, 806.53826904, 806.61083984,\n",
       "       806.6307373 , 806.80767822, 806.95629883, 806.96490479,\n",
       "       807.06268311, 807.23016357, 807.40222168, 807.46368408,\n",
       "       807.50262451, 807.54370117, 807.61767578, 807.72845459,\n",
       "       807.9642334 , 808.01025391, 808.06201172, 808.10235596,\n",
       "       808.23284912, 808.36047363, 808.36462402, 808.43237305,\n",
       "       808.48449707, 808.56176758, 808.56854248, 808.57714844,\n",
       "       808.63537598, 808.68823242, 808.7489624 , 808.78717041,\n",
       "       808.82550049, 808.86193848, 808.8772583 , 808.93243408,\n",
       "       809.00280762, 809.01062012, 809.02404785, 809.0737915 ,\n",
       "       809.1083374 , 809.1428833 , 809.29290771, 809.33911133,\n",
       "       809.34747314, 809.41369629, 809.67163086, 809.67773438,\n",
       "       809.69171143, 809.78985596, 809.88262939, 809.972229  ,\n",
       "       810.0637207 , 810.09906006, 810.13696289, 810.24932861,\n",
       "       810.30987549, 810.31433105, 810.35913086, 810.38018799,\n",
       "       810.41699219, 810.43811035, 810.49212646, 810.49731445,\n",
       "       810.50579834, 810.54626465, 810.57867432, 810.66021729,\n",
       "       810.69549561, 810.73565674, 810.75457764, 810.75970459,\n",
       "       810.80395508, 810.81707764, 810.83087158, 810.99279785,\n",
       "       810.9979248 , 811.00396729, 811.11804199, 811.12774658,\n",
       "       811.13189697, 811.27050781, 811.28723145, 811.69390869,\n",
       "       811.7164917 , 811.73217773, 811.94885254, 812.06329346,\n",
       "       812.07684326, 812.10131836, 812.14520264, 812.2098999 ,\n",
       "       812.21569824, 812.26654053, 812.36029053, 812.36968994,\n",
       "       812.39178467, 812.45471191, 812.47021484, 812.55383301,\n",
       "       812.64672852, 812.65454102, 812.88360596, 812.89782715,\n",
       "       813.10021973, 813.11859131, 813.22338867, 813.24932861,\n",
       "       813.25750732, 813.57165527, 813.67401123, 813.7131958 ,\n",
       "       813.76391602, 813.77459717, 813.81628418, 813.87445068,\n",
       "       813.91656494, 813.93920898, 814.03448486, 814.06433105,\n",
       "       814.06677246, 814.33862305, 814.36938477, 814.3704834 ,\n",
       "       814.37878418, 814.5456543 , 814.64154053, 814.77886963,\n",
       "       814.91369629, 814.95117188, 815.30780029, 815.33483887,\n",
       "       815.46673584, 815.51678467, 815.52282715, 815.52954102,\n",
       "       815.73553467, 815.81848145, 815.88708496, 815.94219971,\n",
       "       815.94885254, 816.00653076, 816.08148193, 816.10845947,\n",
       "       816.11645508, 816.51434326, 816.56158447, 816.5960083 ,\n",
       "       816.62646484, 816.68737793, 816.69494629, 816.79772949,\n",
       "       816.86853027, 816.87335205, 817.0291748 , 817.08532715,\n",
       "       817.17449951, 817.18255615, 817.21087646, 817.21154785,\n",
       "       817.32086182, 817.47845459, 817.52349854, 817.54321289,\n",
       "       817.71392822, 817.82141113, 817.97589111, 818.0737915 ,\n",
       "       818.07836914, 818.18798828, 818.21990967, 818.24865723,\n",
       "       818.42053223, 818.43469238, 818.43603516, 818.44378662,\n",
       "       818.49053955, 818.50537109, 818.55743408, 818.60864258,\n",
       "       818.61871338, 818.62231445, 818.67602539, 818.69543457,\n",
       "       818.815979  , 818.84796143, 818.90893555, 819.15856934,\n",
       "       819.20532227, 819.315979  , 819.37011719, 819.38336182,\n",
       "       819.42248535, 819.43200684, 819.47979736, 819.54162598,\n",
       "       819.55969238, 819.86401367, 819.86437988, 819.987854  ,\n",
       "       819.99053955, 819.99481201, 820.09155273, 820.38720703,\n",
       "       820.49420166, 820.64819336, 820.82843018, 820.91186523,\n",
       "       820.95623779, 821.0892334 , 821.10650635, 821.14331055,\n",
       "       821.1473999 , 821.18841553, 821.2043457 , 821.21984863,\n",
       "       821.34515381, 821.371521  , 821.56768799, 821.62634277,\n",
       "       821.67541504, 821.68334961, 821.76568604, 821.91119385,\n",
       "       822.00805664, 822.17932129, 822.21746826, 822.28369141,\n",
       "       822.33337402, 822.35028076, 822.37524414, 822.39367676,\n",
       "       822.42932129, 822.51971436, 822.53869629, 822.57537842,\n",
       "       822.62573242, 822.64324951, 822.71661377, 822.75042725,\n",
       "       822.77105713, 822.8392334 , 822.91967773, 823.01092529,\n",
       "       823.03027344, 823.03942871, 823.1786499 , 823.20996094,\n",
       "       823.22943115, 823.23748779, 823.27661133, 823.29223633,\n",
       "       823.30883789, 823.34991455, 823.57989502, 823.58770752,\n",
       "       823.6427002 , 823.70703125, 823.74493408, 823.74810791,\n",
       "       823.75201416, 823.79119873, 823.9486084 , 823.95452881,\n",
       "       823.97290039, 823.9744873 , 824.09521484, 824.13287354,\n",
       "       824.15350342, 824.16430664, 824.19189453, 824.20330811,\n",
       "       824.20452881, 824.2699585 , 824.29840088, 824.33007812,\n",
       "       824.35858154, 824.39416504, 824.48974609, 824.52246094,\n",
       "       824.74749756, 824.80181885, 824.96032715, 824.9664917 ,\n",
       "       825.09155273, 825.30938721, 825.3480835 , 825.41223145,\n",
       "       825.43908691, 825.51080322, 825.55157471, 825.64068604,\n",
       "       825.73980713, 825.74041748, 825.75140381, 825.85028076,\n",
       "       826.09326172, 826.09796143, 826.10205078, 826.23999023,\n",
       "       826.30065918, 826.33911133, 826.40362549, 826.48345947,\n",
       "       826.50976562, 826.64538574, 826.69940186, 826.7020874 ,\n",
       "       826.89672852, 826.93579102, 827.29107666, 827.40704346,\n",
       "       827.58966064, 827.70837402, 827.85980225, 827.88861084,\n",
       "       827.91864014, 828.02416992, 828.02941895, 828.06140137,\n",
       "       828.13195801, 828.45074463, 828.4934082 , 828.49481201,\n",
       "       828.53857422, 828.54071045, 828.55731201, 828.56671143,\n",
       "       828.62268066, 828.74530029, 828.76196289, 829.05187988,\n",
       "       829.19158936, 829.19628906, 829.2041626 , 829.24755859,\n",
       "       829.28411865, 829.30145264, 829.37615967, 829.45031738,\n",
       "       829.50378418, 829.51971436, 829.68383789, 829.8190918 ,\n",
       "       829.87322998, 829.9229126 , 830.03082275, 830.07714844,\n",
       "       830.15222168, 830.24688721, 830.2713623 , 830.44439697,\n",
       "       830.45758057, 830.46179199, 830.49212646, 830.58410645,\n",
       "       830.63964844, 830.65679932, 830.70776367, 830.75653076,\n",
       "       830.79211426, 830.95733643, 831.03082275, 831.1104126 ,\n",
       "       831.12902832, 831.39880371, 831.47332764, 831.637146  ,\n",
       "       831.7053833 , 831.82391357, 831.9397583 , 832.05999756,\n",
       "       832.06323242, 832.07989502, 832.10418701, 832.14398193,\n",
       "       832.24060059, 832.2802124 , 832.44445801, 832.54272461,\n",
       "       832.57666016, 832.62219238, 832.79272461, 832.8336792 ,\n",
       "       832.8939209 , 832.91809082, 833.08575439, 833.18292236,\n",
       "       833.31231689, 833.35675049, 833.37036133, 833.71136475,\n",
       "       833.72113037, 833.73162842, 833.74005127, 833.91412354,\n",
       "       833.9161377 , 833.99847412, 834.07128906, 834.23034668,\n",
       "       834.24139404, 834.25177002, 834.25787354, 834.27069092,\n",
       "       834.40380859, 834.49951172, 834.53277588, 834.59210205,\n",
       "       834.63214111, 834.7432251 , 834.75335693, 834.79144287,\n",
       "       834.8338623 , 834.84686279, 834.9119873 , 835.19506836,\n",
       "       835.21276855, 835.37677002, 835.515625  , 835.58050537,\n",
       "       835.60076904, 835.88555908, 835.98394775, 835.99414062,\n",
       "       836.35949707, 836.36962891, 836.44073486, 836.44091797,\n",
       "       836.50146484, 836.55474854, 836.70941162, 836.85760498,\n",
       "       836.90588379, 836.97515869, 837.18133545, 837.19140625,\n",
       "       837.29992676, 837.34381104, 837.38269043, 837.41998291,\n",
       "       837.45294189, 837.53295898, 837.58538818, 837.69018555,\n",
       "       837.78503418, 837.82727051, 837.9342041 , 837.99536133,\n",
       "       838.05603027, 838.43127441, 838.49230957, 838.53656006,\n",
       "       838.55480957, 838.68579102, 838.71911621, 838.73052979,\n",
       "       838.81872559, 838.88690186, 839.09259033, 839.2699585 ,\n",
       "       839.32775879, 839.36779785, 839.37939453, 839.54052734,\n",
       "       839.63000488, 839.70172119, 839.70196533, 839.77514648,\n",
       "       839.80523682, 839.81170654, 839.84411621, 839.85162354])"
      ]
     },
     "execution_count": 269,
     "metadata": {},
     "output_type": "execute_result"
    }
   ],
   "source": [
    "vpeak[temp]"
   ]
  },
  {
   "cell_type": "markdown",
   "metadata": {},
   "source": [
    "# 对红移分bin计算 zform cdf"
   ]
  },
  {
   "cell_type": "markdown",
   "metadata": {},
   "source": [
    "## 对红移分bin"
   ]
  },
  {
   "cell_type": "code",
   "execution_count": 23,
   "metadata": {},
   "outputs": [
    {
     "name": "stdout",
     "output_type": "stream",
     "text": [
      "12.406872085246118\n"
     ]
    }
   ],
   "source": [
    "print(max(zform))"
   ]
  },
  {
   "cell_type": "code",
   "execution_count": 478,
   "metadata": {},
   "outputs": [],
   "source": [
    "arr_red = np.arange(51)\n",
    "bin_red = 0 + 12.5 * arr_red / 50"
   ]
  },
  {
   "cell_type": "code",
   "execution_count": 745,
   "metadata": {},
   "outputs": [
    {
     "data": {
      "text/plain": [
       "10.0"
      ]
     },
     "execution_count": 745,
     "metadata": {},
     "output_type": "execute_result"
    }
   ],
   "source": [
    "bin_red[40]"
   ]
  },
  {
   "cell_type": "code",
   "execution_count": 480,
   "metadata": {},
   "outputs": [
    {
     "data": {
      "text/plain": [
       "(51,)"
      ]
     },
     "execution_count": 480,
     "metadata": {},
     "output_type": "execute_result"
    }
   ],
   "source": [
    "bin_red.shape"
   ]
  },
  {
   "cell_type": "markdown",
   "metadata": {},
   "source": [
    "## 用np.histgram计算cdf"
   ]
  },
  {
   "cell_type": "code",
   "execution_count": 266,
   "metadata": {},
   "outputs": [
    {
     "data": {
      "image/png": "[encoded data removed]",
      "text/plain": [
       "<Figure size 432x288 with 1 Axes>"
      ]
     },
     "metadata": {
      "needs_background": "light"
     },
     "output_type": "display_data"
    }
   ],
   "source": [
    "for i in range(30,100,8):\n",
    "\n",
    "    info = np.array(vpeak_bin[i])\n",
    "    v_hist = np.histogram(info[:,2],bin_red)[0]\n",
    "    cdf = np.cumsum(v_hist/sum(v_hist))\n",
    "    plt.plot(bin_red[1:],cdf,label = '$%s\\ <\\ vpeak\\ < %s$'%(bin_0[i-1],bin_0[i]))\n",
    "plt.legend()\n",
    "plt.title('Cumulative Function')\n",
    "plt.xlabel(r' $Z_{form}$ ')\n",
    "plt.ylabel(r'$C\\ D \\ F$')\n",
    "plt.savefig('/home/yunzheng/mock/color/picture/cumulative_function_test.pdf',dpi = 100)"
   ]
  },
  {
   "cell_type": "markdown",
   "metadata": {},
   "source": [
    "# 分bin统计(log space)"
   ]
  },
  {
   "cell_type": "code",
   "execution_count": 346,
   "metadata": {},
   "outputs": [],
   "source": [
    "######对整体\n",
    "bin_log = np.logspace(1.478,3.264,num = 40)"
   ]
  },
  {
   "cell_type": "markdown",
   "metadata": {},
   "source": [
    "### 测试上下限"
   ]
  },
  {
   "cell_type": "code",
   "execution_count": 347,
   "metadata": {},
   "outputs": [
    {
     "data": {
      "text/plain": [
       "3.2648178230095364"
      ]
     },
     "execution_count": 347,
     "metadata": {},
     "output_type": "execute_result"
    }
   ],
   "source": [
    "np.log10(1840)"
   ]
  },
  {
   "cell_type": "code",
   "execution_count": 348,
   "metadata": {},
   "outputs": [
    {
     "data": {
      "text/plain": [
       "1836.5383433483455"
      ]
     },
     "execution_count": 348,
     "metadata": {},
     "output_type": "execute_result"
    }
   ],
   "source": [
    "10**3.264"
   ]
  },
  {
   "cell_type": "code",
   "execution_count": 349,
   "metadata": {},
   "outputs": [
    {
     "data": {
      "text/plain": [
       "1.4771212547196624"
      ]
     },
     "execution_count": 349,
     "metadata": {},
     "output_type": "execute_result"
    }
   ],
   "source": [
    "np.log10(30)"
   ]
  },
  {
   "cell_type": "code",
   "execution_count": 350,
   "metadata": {},
   "outputs": [
    {
     "data": {
      "text/plain": [
       "30.060763026282306"
      ]
     },
     "execution_count": 350,
     "metadata": {},
     "output_type": "execute_result"
    }
   ],
   "source": [
    "10**1.478"
   ]
  },
  {
   "cell_type": "code",
   "execution_count": 520,
   "metadata": {},
   "outputs": [
    {
     "data": {
      "text/plain": [
       "131.56131481070796"
      ]
     },
     "execution_count": 520,
     "metadata": {},
     "output_type": "execute_result"
    }
   ],
   "source": [
    "bin_log[14]"
   ]
  },
  {
   "cell_type": "code",
   "execution_count": 510,
   "metadata": {},
   "outputs": [
    {
     "data": {
      "text/plain": [
       "array([  30.06076303,   33.40372286,   37.1184424 ,   41.24626383,\n",
       "         45.83312688,   50.93008007,   56.59384888,   62.88746702,\n",
       "         69.88097799,   77.65221461,   86.28766522,   95.88343624,\n",
       "        106.54632179,  118.39499222,  131.56131481,  146.19182137,\n",
       "        162.44933906,  180.51480249,  200.58926744,  222.89614844,\n",
       "        247.68370523,  275.22780572,  305.83499617,  339.84591287,\n",
       "        377.63907316,  419.63508808,  466.30134342,  518.15720147,\n",
       "        575.77978109,  639.81038066,  710.96161525,  790.02534758,\n",
       "        877.88150081,  975.50785153, 1083.99091165, 1204.53802059,\n",
       "       1338.49078202, 1487.33999504, 1652.74224563, 1836.53834335])"
      ]
     },
     "execution_count": 510,
     "metadata": {},
     "output_type": "execute_result"
    }
   ],
   "source": [
    "bin_log"
   ]
  },
  {
   "cell_type": "markdown",
   "metadata": {},
   "source": [
    "## 分bin存vpeak、zform"
   ]
  },
  {
   "cell_type": "code",
   "execution_count": 353,
   "metadata": {},
   "outputs": [],
   "source": [
    "inds_log = np.digitize(vpeak,bin_log)"
   ]
  },
  {
   "cell_type": "code",
   "execution_count": 354,
   "metadata": {},
   "outputs": [],
   "source": [
    "vpeak_logbin = [[]for _ in range(40)]\n",
    "for n in range(len(vpeak)):\n",
    "    sub_info = np.array((int(subid[n]),vpeak[n],zform[n]))\n",
    "    vpeak_logbin[inds_log[n]].append(sub_info)"
   ]
  },
  {
   "cell_type": "code",
   "execution_count": 355,
   "metadata": {},
   "outputs": [
    {
     "data": {
      "text/plain": [
       "39"
      ]
     },
     "execution_count": 355,
     "metadata": {},
     "output_type": "execute_result"
    }
   ],
   "source": [
    "max(inds_log)"
   ]
  },
  {
   "cell_type": "code",
   "execution_count": 490,
   "metadata": {},
   "outputs": [
    {
     "data": {
      "text/plain": [
       "131.56131481070796"
      ]
     },
     "execution_count": 490,
     "metadata": {},
     "output_type": "execute_result"
    }
   ],
   "source": [
    "bin_log[14]"
   ]
  },
  {
   "cell_type": "code",
   "execution_count": 521,
   "metadata": {},
   "outputs": [
    {
     "data": {
      "text/plain": [
       "[array([4.33328990e+07, 1.18394997e+02, 2.32836545e+00]),\n",
       " array([1.47965420e+07, 1.18394997e+02, 3.66281661e+00]),\n",
       " array([1.69562300e+07, 1.18395004e+02, 4.91692408e+00]),\n",
       " array([1.62060330e+07, 1.18395020e+02, 4.88956178e+00]),\n",
       " array([1.68844860e+07, 1.18395042e+02, 4.71029025e+00])]"
      ]
     },
     "execution_count": 521,
     "metadata": {},
     "output_type": "execute_result"
    }
   ],
   "source": [
    "vpeak_logbin[14][:5]"
   ]
  },
  {
   "cell_type": "markdown",
   "metadata": {},
   "source": [
    "### 用内部函数分bin尝试如下"
   ]
  },
  {
   "cell_type": "code",
   "execution_count": 362,
   "metadata": {
    "collapsed": true,
    "jupyter": {
     "outputs_hidden": true
    }
   },
   "outputs": [
    {
     "name": "stdout",
     "output_type": "stream",
     "text": [
      "[ True  True  True ... False False False]\n",
      "(9, 3)\n",
      "[False False False ... False False False]\n",
      "(100, 3)\n",
      "[False False False ... False False False]\n",
      "(794, 3)\n",
      "[False False False ... False False False]\n",
      "(8315, 3)\n",
      "[False False False ... False False False]\n",
      "(46640, 3)\n",
      "[False False False ... False False False]\n",
      "(261756, 3)\n",
      "[False False False ... False False False]\n",
      "(975277, 3)\n",
      "[False False False ... False False False]\n",
      "(2458179, 3)\n",
      "[False False False ... False False False]\n",
      "(4262926, 3)\n",
      "[False False False ... False False False]\n",
      "(4770592, 3)\n",
      "[False False False ... False False False]\n",
      "(4106337, 3)\n",
      "[False False False ... False False False]\n",
      "(2957607, 3)\n",
      "[False False False ... False False False]\n",
      "(1963332, 3)\n",
      "[False False False ... False False False]\n",
      "(1327347, 3)\n",
      "[False False False ... False False False]\n",
      "(924729, 3)\n",
      "[False False False ... False False False]\n",
      "(648642, 3)\n",
      "[False False False ... False False False]\n",
      "(457500, 3)\n",
      "[False False False ... False False False]\n",
      "(322589, 3)\n",
      "[False False False ... False False False]\n",
      "(227271, 3)\n",
      "[False False False ... False False False]\n",
      "(159714, 3)\n",
      "[False False False ... False False False]\n",
      "(112062, 3)\n",
      "[False False False ... False False False]\n",
      "(78597, 3)\n",
      "[False False False ... False False False]\n",
      "(55186, 3)\n",
      "[False False False ... False False False]\n",
      "(38439, 3)\n",
      "[False False False ... False False False]\n",
      "(26409, 3)\n",
      "[False False False ... False False False]\n",
      "(18132, 3)\n",
      "[False False False ... False False False]\n",
      "(11958, 3)\n",
      "[False False False ... False False False]\n",
      "(8143, 3)\n",
      "[False False False ... False False False]\n",
      "(5302, 3)\n",
      "[False False False ... False False False]\n",
      "(3282, 3)\n",
      "[False False False ... False False False]\n",
      "(1995, 3)\n",
      "[False False False ... False False False]\n",
      "(1160, 3)\n",
      "[False False False ... False False False]\n",
      "(657, 3)\n",
      "[False False False ... False False False]\n",
      "(383, 3)\n",
      "[False False False ... False False False]\n",
      "(182, 3)\n",
      "[False False False ... False False False]\n",
      "(70, 3)\n",
      "[False False False ... False False False]\n",
      "(26, 3)\n",
      "[False False False ... False False False]\n",
      "(12, 3)\n",
      "[False False False ...  True  True  True]\n",
      "(3, 3)\n"
     ]
    },
    {
     "ename": "IndexError",
     "evalue": "index 40 is out of bounds for axis 0 with size 40",
     "output_type": "error",
     "traceback": [
      "\u001b[0;31m---------------------------------------------------------------------------\u001b[0m",
      "\u001b[0;31mIndexError\u001b[0m                                Traceback (most recent call last)",
      "\u001b[0;32m<ipython-input-362-b2185efc47a9>\u001b[0m in \u001b[0;36m<module>\u001b[0;34m\u001b[0m\n\u001b[1;32m      3\u001b[0m \u001b[0;32mfor\u001b[0m \u001b[0mn\u001b[0m \u001b[0;32min\u001b[0m \u001b[0mrange\u001b[0m\u001b[0;34m(\u001b[0m\u001b[0mlen\u001b[0m\u001b[0;34m(\u001b[0m\u001b[0mbin_log\u001b[0m\u001b[0;34m)\u001b[0m\u001b[0;34m)\u001b[0m\u001b[0;34m:\u001b[0m\u001b[0;34m\u001b[0m\u001b[0;34m\u001b[0m\u001b[0m\n\u001b[1;32m      4\u001b[0m \u001b[0;31m#     sub_info = np.array((int(subid[n]),vpeak[n],zform[n]))\u001b[0m\u001b[0;34m\u001b[0m\u001b[0;34m\u001b[0m\u001b[0;34m\u001b[0m\u001b[0m\n\u001b[0;32m----> 5\u001b[0;31m     \u001b[0mtemp\u001b[0m\u001b[0;34m=\u001b[0m \u001b[0;34m(\u001b[0m\u001b[0mvpeak\u001b[0m\u001b[0;34m>=\u001b[0m\u001b[0mbin_log\u001b[0m\u001b[0;34m[\u001b[0m\u001b[0mn\u001b[0m\u001b[0;34m]\u001b[0m\u001b[0;34m)\u001b[0m\u001b[0;34m*\u001b[0m\u001b[0;34m(\u001b[0m\u001b[0mvpeak\u001b[0m\u001b[0;34m<\u001b[0m\u001b[0mbin_log\u001b[0m\u001b[0;34m[\u001b[0m\u001b[0mn\u001b[0m\u001b[0;34m+\u001b[0m\u001b[0;36m1\u001b[0m\u001b[0;34m]\u001b[0m\u001b[0;34m)\u001b[0m\u001b[0;34m\u001b[0m\u001b[0;34m\u001b[0m\u001b[0m\n\u001b[0m\u001b[1;32m      6\u001b[0m     \u001b[0mprint\u001b[0m\u001b[0;34m(\u001b[0m\u001b[0mtemp\u001b[0m\u001b[0;34m)\u001b[0m\u001b[0;34m\u001b[0m\u001b[0;34m\u001b[0m\u001b[0m\n\u001b[1;32m      7\u001b[0m     \u001b[0ma\u001b[0m \u001b[0;34m=\u001b[0m \u001b[0mnp\u001b[0m\u001b[0;34m.\u001b[0m\u001b[0mstack\u001b[0m\u001b[0;34m(\u001b[0m\u001b[0;34m(\u001b[0m\u001b[0msubid\u001b[0m\u001b[0;34m[\u001b[0m\u001b[0mtemp\u001b[0m\u001b[0;34m]\u001b[0m\u001b[0;34m,\u001b[0m\u001b[0mvpeak\u001b[0m\u001b[0;34m[\u001b[0m\u001b[0mtemp\u001b[0m\u001b[0;34m]\u001b[0m\u001b[0;34m,\u001b[0m\u001b[0mzform\u001b[0m\u001b[0;34m[\u001b[0m\u001b[0mtemp\u001b[0m\u001b[0;34m]\u001b[0m\u001b[0;34m)\u001b[0m\u001b[0;34m,\u001b[0m\u001b[0maxis\u001b[0m\u001b[0;34m=\u001b[0m\u001b[0;36m1\u001b[0m\u001b[0;34m)\u001b[0m\u001b[0;34m\u001b[0m\u001b[0;34m\u001b[0m\u001b[0m\n",
      "\u001b[0;31mIndexError\u001b[0m: index 40 is out of bounds for axis 0 with size 40"
     ]
    }
   ],
   "source": [
    "vpeak_logbin_test = [[]for _ in range(40)]\n",
    "\n",
    "for n in range(len(bin_log)):\n",
    "#     sub_info = np.array((int(subid[n]),vpeak[n],zform[n]))\n",
    "    temp= (vpeak>=bin_log[n])*(vpeak<bin_log[n+1])\n",
    "    print(temp)\n",
    "    a = np.stack((subid[temp],vpeak[temp],zform[temp]),axis=1)\n",
    "    print(a.shape)\n",
    "\n",
    "    vpeak_logbin_test[n].append(a)"
   ]
  },
  {
   "cell_type": "code",
   "execution_count": 374,
   "metadata": {},
   "outputs": [
    {
     "data": {
      "text/plain": [
       "[array([[1.23607216e+08, 3.14089699e+01, 2.53440511e-01],\n",
       "        [1.23104252e+08, 3.22051086e+01, 2.89062937e-01],\n",
       "        [1.19959075e+08, 3.22896271e+01, 4.43556025e-01],\n",
       "        [1.23443625e+08, 3.23239708e+01, 2.53440511e-01],\n",
       "        [1.23153522e+08, 3.25514641e+01, 2.89062937e-01],\n",
       "        [1.23592840e+08, 3.28375664e+01, 2.53440511e-01],\n",
       "        [1.23785868e+08, 3.31623535e+01, 2.53440511e-01],\n",
       "        [1.23464336e+08, 3.33657494e+01, 2.53440511e-01],\n",
       "        [1.20105230e+08, 3.33743668e+01, 4.43556025e-01]])]"
      ]
     },
     "execution_count": 374,
     "metadata": {},
     "output_type": "execute_result"
    }
   ],
   "source": [
    "vpeak_logbin_test[0]"
   ]
  },
  {
   "cell_type": "markdown",
   "metadata": {},
   "source": [
    "## red_bin 统计"
   ]
  },
  {
   "cell_type": "code",
   "execution_count": 428,
   "metadata": {},
   "outputs": [
    {
     "name": "stdout",
     "output_type": "stream",
     "text": [
      "15\n",
      "16\n",
      "17\n"
     ]
    },
    {
     "data": {
      "text/plain": [
       "Text(0, 0.5, '$C\\\\ D \\\\ F$')"
      ]
     },
     "execution_count": 428,
     "metadata": {},
     "output_type": "execute_result"
    },
    {
     "data": {
      "image/png": "[encoded data removed]",
      "text/plain": [
       "<Figure size 720x576 with 1 Axes>"
      ]
     },
     "metadata": {
      "needs_background": "light"
     },
     "output_type": "display_data"
    }
   ],
   "source": [
    "plt.figure(figsize=(10,8))\n",
    "for i in range(15,18):\n",
    "    print(i)\n",
    "    info = np.array(vpeak_logbin[i])\n",
    "    v_hist = np.histogram(info[:,2],bin_red)[0]\n",
    "    cdf = np.cumsum(v_hist/sum(v_hist))\n",
    "    plt.plot(bin_red[1:],cdf,label = '$%s\\ <\\ vpeak\\ < %s$'%(bin_log[i-1],bin_log[i]))\n",
    "plt.legend()\n",
    "plt.title('Cumulative Function')\n",
    "plt.xlabel(r' $Z_{form}$ ')\n",
    "plt.ylabel(r'$C\\ D \\ F$')\n",
    "# plt.savefig('/home/yunzheng/mock/color/picture/cumulative_function_test.pdf',dpi = 100)"
   ]
  },
  {
   "cell_type": "markdown",
   "metadata": {},
   "source": [
    "### 通过画图比较得出从第35个bin开始出现问题"
   ]
  },
  {
   "cell_type": "markdown",
   "metadata": {},
   "source": [
    "#### 把35、36合并 把37、38、39合并 "
   ]
  },
  {
   "cell_type": "code",
   "execution_count": 592,
   "metadata": {},
   "outputs": [
    {
     "data": {
      "text/plain": [
       "array([[7.72800000e+03, 1.68668042e+03, 9.53621939e-01],\n",
       "       [3.30540000e+04, 1.69480127e+03, 2.18064083e+00],\n",
       "       [1.28834000e+05, 1.83562219e+03, 8.63603291e-01]])"
      ]
     },
     "execution_count": 592,
     "metadata": {},
     "output_type": "execute_result"
    }
   ],
   "source": [
    "np.array(vpeak_logbin[-1])"
   ]
  },
  {
   "cell_type": "code",
   "execution_count": 445,
   "metadata": {},
   "outputs": [],
   "source": [
    "a = np.array(vpeak_logbin[-1])\n",
    "b = np.array(vpeak_logbin[-2])\n",
    "c = np.array(vpeak_logbin[-3])\n"
   ]
  },
  {
   "cell_type": "code",
   "execution_count": 469,
   "metadata": {},
   "outputs": [],
   "source": [
    "temp1 = np.concatenate((c,b,a),axis=0)\n"
   ]
  },
  {
   "cell_type": "code",
   "execution_count": 449,
   "metadata": {},
   "outputs": [],
   "source": [
    "# temp1"
   ]
  },
  {
   "cell_type": "code",
   "execution_count": 451,
   "metadata": {},
   "outputs": [],
   "source": [
    "d = np.array(vpeak_logbin[-4])\n",
    "f = np.array(vpeak_logbin[-5])"
   ]
  },
  {
   "cell_type": "code",
   "execution_count": 499,
   "metadata": {},
   "outputs": [
    {
     "data": {
      "text/plain": [
       "[array([4.33328990e+07, 1.18394997e+02, 2.32836545e+00]),\n",
       " array([1.47965420e+07, 1.18394997e+02, 3.66281661e+00]),\n",
       " array([1.69562300e+07, 1.18395004e+02, 4.91692408e+00]),\n",
       " array([1.62060330e+07, 1.18395020e+02, 4.88956178e+00]),\n",
       " array([1.68844860e+07, 1.18395042e+02, 4.71029025e+00])]"
      ]
     },
     "execution_count": 499,
     "metadata": {},
     "output_type": "execute_result"
    }
   ],
   "source": [
    "vpeak_logbin[14][:5]"
   ]
  },
  {
   "cell_type": "code",
   "execution_count": 460,
   "metadata": {},
   "outputs": [
    {
     "data": {
      "text/plain": [
       "array([[7.89761000e+05, 1.08496313e+03, 3.93897204e-01],\n",
       "       [1.09711000e+05, 1.08498804e+03, 1.00151654e+00],\n",
       "       [1.47705000e+05, 1.08561145e+03, 2.17974646e+00],\n",
       "       [1.14548000e+05, 1.08572461e+03, 1.03508981e+00],\n",
       "       [3.48157000e+05, 1.08635437e+03, 7.04756034e-01]])"
      ]
     },
     "execution_count": 460,
     "metadata": {},
     "output_type": "execute_result"
    }
   ],
   "source": [
    "f[:5]"
   ]
  },
  {
   "cell_type": "code",
   "execution_count": 470,
   "metadata": {},
   "outputs": [],
   "source": [
    "temp2 = np.concatenate((f,d),axis=0)"
   ]
  },
  {
   "cell_type": "code",
   "execution_count": 457,
   "metadata": {
    "collapsed": true,
    "jupyter": {
     "outputs_hidden": true
    }
   },
   "outputs": [
    {
     "data": {
      "text/plain": [
       "array([0.3938972 , 1.00151654, 2.17974646, 1.03508981, 0.70475603,\n",
       "       0.86471871, 2.39100643, 0.86057493, 0.99048993, 0.76798234,\n",
       "       2.55212044, 1.31903162, 1.4577916 , 1.17777799, 0.92072244,\n",
       "       0.50900068, 2.1534536 , 2.23988362, 0.79176155, 0.9682981 ,\n",
       "       1.50598635, 1.51542159, 0.77002087, 0.97186446, 2.29148587,\n",
       "       0.88943922, 1.08921454, 1.238574  , 1.60480298, 0.6328248 ,\n",
       "       2.31068286, 0.80205033, 1.07267149, 0.80589956, 1.27045576,\n",
       "       2.8326688 , 1.70433316, 2.14241308, 2.06407656, 1.2662238 ,\n",
       "       1.1438714 , 2.00869864, 1.3954557 , 1.22164113, 0.46392403,\n",
       "       0.55750923, 0.81848023, 1.47760118, 0.83077985, 0.72689996,\n",
       "       1.43748812, 0.72559329, 2.02820695, 1.55392414, 2.15332388,\n",
       "       1.7530671 , 1.17379855, 2.51557377, 1.00834315, 1.35439316,\n",
       "       2.03598297, 0.71611188, 0.85746905, 1.39364   , 2.3928712 ,\n",
       "       2.72716532, 1.40403015, 0.80831892, 1.8469128 , 0.48353439,\n",
       "       1.80509287, 2.26120695, 0.72700795, 0.51629856, 2.24479884,\n",
       "       1.35237808, 0.86943815, 1.08971146, 0.78548076, 1.12041578,\n",
       "       1.62686147, 1.81116875, 2.95660327, 0.9559331 , 1.35622515,\n",
       "       1.345276  , 0.8257485 , 0.64729714, 0.9362438 , 1.94964682,\n",
       "       0.77149134, 0.43037183, 1.53888943, 0.75849056, 1.14822186,\n",
       "       1.18969376, 1.69239845, 1.12179454, 2.11358053, 1.00702525,\n",
       "       1.11509326, 1.85813482, 0.9401917 , 1.04781449, 0.5290049 ,\n",
       "       1.05466612, 1.81459241, 1.04539865, 0.72897767, 0.58825012,\n",
       "       1.19644693, 0.84083936, 1.61798413, 1.86580697, 0.92720772,\n",
       "       0.80062588, 0.88532483, 0.78035588, 0.73160327, 2.08138612,\n",
       "       1.76673092, 1.31683873, 1.75573107, 2.34279018, 1.30450488,\n",
       "       0.87564795, 1.78965727, 1.10015493, 1.90804093, 1.42639808,\n",
       "       0.90992576, 0.8980903 , 1.13940037, 0.28387942, 1.51115476,\n",
       "       2.33465813, 1.56845765, 1.06320902, 1.39348342, 1.02934299,\n",
       "       1.74043104, 1.01766533, 1.68450455, 1.25059851, 0.4605701 ,\n",
       "       1.21406782, 1.70938888, 0.97990454, 0.93973284, 1.82542569,\n",
       "       1.87404631, 1.68799535, 0.9912749 , 2.27542685, 1.24104611,\n",
       "       1.61975756, 0.65552981, 1.20487947, 0.92676505, 0.78348446,\n",
       "       2.84427435, 1.40695461, 1.77566084, 1.34811761, 1.33959299,\n",
       "       0.79222692, 2.35561168, 1.11126693, 1.28698795, 2.70847145,\n",
       "       0.69647185, 1.04570465, 0.36617515, 0.70632798, 1.13271362,\n",
       "       1.3476291 , 1.00161499, 1.27996142, 1.31405978, 1.46356783,\n",
       "       1.09930397, 0.74060371, 1.20299388, 0.4746694 , 1.27456319,\n",
       "       0.62365082, 2.33191472, 2.30278491, 1.93816147, 0.47790015,\n",
       "       1.62126844, 0.81978355, 0.90106627, 1.06051163, 1.91465865,\n",
       "       0.90386893, 1.26479766, 0.85201159, 0.65326038, 1.12754933,\n",
       "       0.61283628, 1.48128581, 1.06503089, 1.46901184, 1.59559799,\n",
       "       1.0112592 , 0.96441322, 1.16977974, 1.49467326, 0.69333349,\n",
       "       2.67532326, 0.53075032, 1.298717  , 2.40755208, 1.91386442,\n",
       "       1.60431278, 1.32938431, 1.48747151, 1.56815928, 0.99438852,\n",
       "       0.93151538, 0.86994093, 0.83840127, 1.22398387, 0.50886911,\n",
       "       0.90819799, 1.43851312, 0.55908191, 1.86000154, 1.49795202,\n",
       "       1.05799264, 0.72611644, 1.23254511, 1.70687713, 1.61558429,\n",
       "       0.85004622, 1.4148023 , 1.32910579, 0.68292558, 0.77049858,\n",
       "       1.19000969, 2.28870926, 1.36468282, 0.47971397, 1.18371794,\n",
       "       1.33212166, 1.36768577, 0.90440846, 1.89635271, 0.77749648,\n",
       "       1.412376  , 0.85637319])"
      ]
     },
     "execution_count": 457,
     "metadata": {},
     "output_type": "execute_result"
    }
   ],
   "source": [
    "# temp2[:,2]"
   ]
  },
  {
   "cell_type": "code",
   "execution_count": 516,
   "metadata": {},
   "outputs": [
    {
     "name": "stdout",
     "output_type": "stream",
     "text": [
      "14\n",
      "15\n"
     ]
    },
    {
     "data": {
      "text/plain": [
       "Text(0, 0.5, '$C\\\\ D \\\\ F$')"
      ]
     },
     "execution_count": 516,
     "metadata": {},
     "output_type": "execute_result"
    },
    {
     "data": {
      "image/png": "[encoded data removed]",
      "text/plain": [
       "<Figure size 720x576 with 1 Axes>"
      ]
     },
     "metadata": {
      "needs_background": "light"
     },
     "output_type": "display_data"
    }
   ],
   "source": [
    "plt.figure(figsize=(10,8))\n",
    "for i in range(14,16):\n",
    "    print(i)\n",
    "    info = np.array(vpeak_logbin[i])\n",
    "    v_hist = np.histogram(info[:,2],bin_red)[0]\n",
    "    cdf = np.cumsum(v_hist/sum(v_hist))\n",
    "    plt.plot(bin_red[1:],cdf,label = '$%s\\ <\\ vpeak\\ < %s$'%(bin_log[i-1],bin_log[i]))\n",
    "\n",
    "v_hist1 = np.histogram(temp1[:,2],bin_red)[0]\n",
    "cdf1 = np.cumsum(v_hist1/sum(v_hist1))\n",
    "v_hist2 = np.histogram(temp2[:,2],bin_red)[0]\n",
    "cdf2 = np.cumsum(v_hist2/sum(v_hist2))\n",
    "plt.plot(bin_red[1:],cdf1,label = 'maxbin')\n",
    "plt.plot(bin_red[1:],cdf2,label = '$%s\\ <\\ vpeak\\ < %s$'%(bin_log[34],bin_log[36]))\n",
    "\n",
    "\n",
    "plt.plot()\n",
    "plt.legend()\n",
    "plt.title('Cumulative Function')\n",
    "plt.xlabel(r' $Z_{form}$ ')\n",
    "plt.ylabel(r'$C\\ D \\ F$')"
   ]
  },
  {
   "cell_type": "markdown",
   "metadata": {},
   "source": [
    "### 统计每个bin的cdf"
   ]
  },
  {
   "cell_type": "markdown",
   "metadata": {},
   "source": [
    "#### 先统计满足规律的15-35 log bin"
   ]
  },
  {
   "cell_type": "code",
   "execution_count": 575,
   "metadata": {},
   "outputs": [],
   "source": [
    "z_cdf = [[]for _ in range(52)]\n",
    "\n",
    "for i in range(15,35):\n",
    "\n",
    "    info = np.array(vpeak_logbin[i])\n",
    "    vpeak_mean = np.mean(info[:,1])\n",
    "    v_hist = np.histogram(info[:,2],bin_red)[0]\n",
    "    cdf = np.cumsum(v_hist/sum(v_hist))\n",
    "    \n",
    "    for j in range(1,51):\n",
    "        z_red = 0.5 * (bin_red[j-1]+bin_red[j])\n",
    "        z_info = np.array((vpeak_mean,cdf[j-1],z_red))\n",
    "        z_cdf[j].append(z_info)\n",
    "            \n",
    "            "
   ]
  },
  {
   "cell_type": "markdown",
   "metadata": {},
   "source": [
    "#### 统计最后两个合并的bin"
   ]
  },
  {
   "cell_type": "code",
   "execution_count": 581,
   "metadata": {},
   "outputs": [],
   "source": [
    "v_hist1 = np.histogram(temp1[:,2],bin_red)[0]\n",
    "cdf1 = np.cumsum(v_hist1/sum(v_hist1))\n",
    "vpeak_mean1 = np.mean(temp1[:,1])\n",
    "\n",
    "v_hist2 = np.histogram(temp2[:,2],bin_red)[0]\n",
    "cdf2 = np.cumsum(v_hist2/sum(v_hist2))\n",
    "vpeak_mean2 = np.mean(temp2[:,1])\n",
    "\n",
    "for j in range(1,51):\n",
    "        z_red = 0.5 * (bin_red[j-1]+bin_red[j])\n",
    "        z_info = np.array((vpeak_mean2,cdf2[j-1],z_red))\n",
    "        z_cdf[j].append(z_info)\n",
    "        \n",
    "for j in range(1,51):\n",
    "        z_red = 0.5 * (bin_red[j-1]+bin_red[j])\n",
    "        z_info = np.array((vpeak_mean1,cdf1[j-1],z_red))\n",
    "        z_cdf[j].append(z_info)\n"
   ]
  },
  {
   "cell_type": "code",
   "execution_count": 722,
   "metadata": {},
   "outputs": [
    {
     "data": {
      "text/plain": [
       "array([0.        , 0.03968254, 0.1468254 , 0.35714286, 0.53571429,\n",
       "       0.70238095, 0.78968254, 0.86904762, 0.91666667, 0.96825397,\n",
       "       0.98809524, 1.        , 1.        , 1.        , 1.        ,\n",
       "       1.        , 1.        , 1.        , 1.        , 1.        ,\n",
       "       1.        , 1.        , 1.        , 1.        , 1.        ,\n",
       "       1.        , 1.        , 1.        , 1.        , 1.        ,\n",
       "       1.        , 1.        , 1.        , 1.        , 1.        ,\n",
       "       1.        , 1.        , 1.        , 1.        , 1.        ,\n",
       "       1.        , 1.        , 1.        , 1.        , 1.        ,\n",
       "       1.        , 1.        , 1.        , 1.        , 1.        ])"
      ]
     },
     "execution_count": 722,
     "metadata": {},
     "output_type": "execute_result"
    }
   ],
   "source": [
    "cdf2"
   ]
  },
  {
   "cell_type": "code",
   "execution_count": 723,
   "metadata": {},
   "outputs": [
    {
     "data": {
      "text/plain": [
       "array([0.        , 0.04878049, 0.19512195, 0.53658537, 0.70731707,\n",
       "       0.82926829, 0.87804878, 0.92682927, 0.97560976, 1.        ,\n",
       "       1.        , 1.        , 1.        , 1.        , 1.        ,\n",
       "       1.        , 1.        , 1.        , 1.        , 1.        ,\n",
       "       1.        , 1.        , 1.        , 1.        , 1.        ,\n",
       "       1.        , 1.        , 1.        , 1.        , 1.        ,\n",
       "       1.        , 1.        , 1.        , 1.        , 1.        ,\n",
       "       1.        , 1.        , 1.        , 1.        , 1.        ,\n",
       "       1.        , 1.        , 1.        , 1.        , 1.        ,\n",
       "       1.        , 1.        , 1.        , 1.        , 1.        ])"
      ]
     },
     "execution_count": 723,
     "metadata": {},
     "output_type": "execute_result"
    }
   ],
   "source": [
    "cdf1"
   ]
  },
  {
   "cell_type": "markdown",
   "metadata": {},
   "source": [
    "#### 想要添加第一组数据使得红移为0时所有subhalo cdf均为0"
   ]
  },
  {
   "cell_type": "code",
   "execution_count": 615,
   "metadata": {},
   "outputs": [],
   "source": [
    "vpeaktemp = np.array(z_cdf[2])[:,0]"
   ]
  },
  {
   "cell_type": "code",
   "execution_count": 616,
   "metadata": {},
   "outputs": [
    {
     "data": {
      "text/plain": [
       "array([ 138.31725831,  153.70415069,  170.79746599,  189.78722813,\n",
       "        210.8988981 ,  234.31149026,  260.38251905,  289.38892696,\n",
       "        321.53184686,  357.14593608,  396.89947377,  441.16687723,\n",
       "        490.12189185,  544.75286824,  605.02374879,  671.58179247,\n",
       "        746.29048005,  829.78158606,  920.11091797, 1023.68474306,\n",
       "       1170.94333758, 1467.45944288])"
      ]
     },
     "execution_count": 616,
     "metadata": {},
     "output_type": "execute_result"
    }
   ],
   "source": [
    "vpeaktemp"
   ]
  },
  {
   "cell_type": "code",
   "execution_count": 567,
   "metadata": {},
   "outputs": [],
   "source": [
    "redtemp = np.zeros(22)"
   ]
  },
  {
   "cell_type": "code",
   "execution_count": 572,
   "metadata": {},
   "outputs": [],
   "source": [
    "cdftemp = np.zeros(22)"
   ]
  },
  {
   "cell_type": "code",
   "execution_count": 596,
   "metadata": {},
   "outputs": [],
   "source": [
    "subtemp = []\n",
    "subtemp = np.stack((vpeaktemp,cdftemp,redtemp),axis=-1)"
   ]
  },
  {
   "cell_type": "code",
   "execution_count": 598,
   "metadata": {},
   "outputs": [],
   "source": [
    "z_cdf[0] = subtemp"
   ]
  },
  {
   "cell_type": "code",
   "execution_count": 728,
   "metadata": {},
   "outputs": [
    {
     "data": {
      "text/plain": [
       "array([[1.38317258e+02, 5.23679911e-01, 3.87500000e+00],\n",
       "       [1.53704151e+02, 5.92712159e-01, 3.87500000e+00],\n",
       "       [1.70797466e+02, 6.52271038e-01, 3.87500000e+00],\n",
       "       [1.89787228e+02, 7.03343883e-01, 3.87500000e+00],\n",
       "       [2.10898898e+02, 7.48529289e-01, 3.87500000e+00],\n",
       "       [2.34311490e+02, 7.92666892e-01, 3.87500000e+00],\n",
       "       [2.60382519e+02, 8.31334440e-01, 3.87500000e+00],\n",
       "       [2.89388927e+02, 8.63849765e-01, 3.87500000e+00],\n",
       "       [3.21531847e+02, 8.95716305e-01, 3.87500000e+00],\n",
       "       [3.57145936e+02, 9.17635735e-01, 3.87500000e+00],\n",
       "       [3.96899474e+02, 9.38922337e-01, 3.87500000e+00],\n",
       "       [4.41166877e+02, 9.53948820e-01, 3.87500000e+00],\n",
       "       [4.90121892e+02, 9.64208062e-01, 3.87500000e+00],\n",
       "       [5.44752868e+02, 9.78140734e-01, 3.87500000e+00],\n",
       "       [6.05023749e+02, 9.84911354e-01, 3.87500000e+00],\n",
       "       [6.71581792e+02, 9.87507617e-01, 3.87500000e+00],\n",
       "       [7.46290480e+02, 9.93984962e-01, 3.87500000e+00],\n",
       "       [8.29781586e+02, 9.95689655e-01, 3.87500000e+00],\n",
       "       [9.20110918e+02, 9.98477930e-01, 3.87500000e+00],\n",
       "       [1.02368474e+03, 1.00000000e+00, 3.87500000e+00],\n",
       "       [1.17094334e+03, 1.00000000e+00, 3.87500000e+00],\n",
       "       [1.46745944e+03, 1.00000000e+00, 3.87500000e+00]])"
      ]
     },
     "execution_count": 728,
     "metadata": {},
     "output_type": "execute_result"
    }
   ],
   "source": [
    "np.array(z_cdf[16])"
   ]
  },
  {
   "cell_type": "markdown",
   "metadata": {},
   "source": [
    "#### 想要添加最后一组数据使得红移为12.5时所有subhalo cdf均为1"
   ]
  },
  {
   "cell_type": "code",
   "execution_count": 606,
   "metadata": {},
   "outputs": [],
   "source": [
    "vpeaktemp = np.array(z_cdf[0])[:,0]"
   ]
  },
  {
   "cell_type": "code",
   "execution_count": 660,
   "metadata": {},
   "outputs": [],
   "source": [
    "redtemp = np.ones(22) * 12.5"
   ]
  },
  {
   "cell_type": "code",
   "execution_count": 608,
   "metadata": {},
   "outputs": [],
   "source": [
    "cdftemp = np.ones(22)"
   ]
  },
  {
   "cell_type": "code",
   "execution_count": 663,
   "metadata": {},
   "outputs": [],
   "source": [
    "subtemp = []\n",
    "subtemp = np.stack((vpeaktemp,cdftemp,redtemp),axis=-1)"
   ]
  },
  {
   "cell_type": "code",
   "execution_count": 664,
   "metadata": {},
   "outputs": [],
   "source": [
    "z_cdf[51] = subtemp"
   ]
  },
  {
   "cell_type": "code",
   "execution_count": 742,
   "metadata": {},
   "outputs": [
    {
     "data": {
      "text/plain": [
       "[array([138.31725831,   1.        ,  12.125     ]),\n",
       " array([153.70415069,   1.        ,  12.125     ]),\n",
       " array([170.79746599,   0.99999781,  12.125     ]),\n",
       " array([189.78722813,   1.        ,  12.125     ]),\n",
       " array([210.8988981,   1.       ,  12.125    ]),\n",
       " array([234.31149026,   1.        ,  12.125     ]),\n",
       " array([260.38251905,   1.        ,  12.125     ]),\n",
       " array([289.38892696,   1.        ,  12.125     ]),\n",
       " array([321.53184686,   1.        ,  12.125     ]),\n",
       " array([357.14593608,   1.        ,  12.125     ]),\n",
       " array([396.89947377,   1.        ,  12.125     ]),\n",
       " array([441.16687723,   1.        ,  12.125     ]),\n",
       " array([490.12189185,   1.        ,  12.125     ]),\n",
       " array([544.75286824,   1.        ,  12.125     ]),\n",
       " array([605.02374879,   1.        ,  12.125     ]),\n",
       " array([671.58179247,   1.        ,  12.125     ]),\n",
       " array([746.29048005,   1.        ,  12.125     ]),\n",
       " array([829.78158606,   1.        ,  12.125     ]),\n",
       " array([920.11091797,   1.        ,  12.125     ]),\n",
       " array([1.02368474e+03, 1.00000000e+00, 1.21250000e+01]),\n",
       " array([1.17094334e+03, 1.00000000e+00, 1.21250000e+01]),\n",
       " array([1.46745944e+03, 1.00000000e+00, 1.21250000e+01])]"
      ]
     },
     "execution_count": 742,
     "metadata": {},
     "output_type": "execute_result"
    }
   ],
   "source": [
    "z_cdf[49]"
   ]
  },
  {
   "cell_type": "code",
   "execution_count": 666,
   "metadata": {},
   "outputs": [],
   "source": [
    "np.save('/home/yunzheng/mock/color/data/zcdf/cdf.npy',z_cdf)"
   ]
  },
  {
   "cell_type": "markdown",
   "metadata": {},
   "source": [
    "# 对每个红移bin做vpeak插值"
   ]
  },
  {
   "cell_type": "markdown",
   "metadata": {},
   "source": [
    "## 用scipy.interpolate 做外插 得到每个subhalo速度"
   ]
  },
  {
   "cell_type": "code",
   "execution_count": 667,
   "metadata": {},
   "outputs": [],
   "source": [
    "z_cdf_new = np.load('/home/yunzheng/mock/color/data/zcdf/cdf.npy')"
   ]
  },
  {
   "cell_type": "code",
   "execution_count": 668,
   "metadata": {},
   "outputs": [
    {
     "data": {
      "text/plain": [
       "12.5"
      ]
     },
     "execution_count": 668,
     "metadata": {},
     "output_type": "execute_result"
    }
   ],
   "source": [
    "z_cdf_new[51][0][2]"
   ]
  },
  {
   "cell_type": "code",
   "execution_count": 632,
   "metadata": {},
   "outputs": [],
   "source": [
    "from scipy.interpolate import interp1d"
   ]
  },
  {
   "cell_type": "code",
   "execution_count": 729,
   "metadata": {},
   "outputs": [],
   "source": [
    "cdf_inter = [[]for _ in range(52)]\n",
    "temp_inter = [[]for _ in range(52)]\n",
    "for i in range(52):\n",
    "    v0 = z_cdf_new[i][:,0]\n",
    "    cdf0 = z_cdf_new[i][:,1]\n",
    "    red0 = z_cdf_new[i][:,2]\n",
    "    f_in = interp1d(v0,cdf0, fill_value='extrapolate')\n",
    "    temp_inter[i] = f_in(vpeak)\n",
    "    \n",
    "    temp_ex = temp_inter[i] > 1\n",
    "    temp_inter[i][temp_ex] = 1\n",
    "    \n",
    "    temp_ex = temp_inter[i] < 0\n",
    "    temp_inter[i][temp_ex] = 0\n",
    "    cdf_inter[i] = temp_inter[i]"
   ]
  },
  {
   "cell_type": "code",
   "execution_count": 750,
   "metadata": {},
   "outputs": [],
   "source": [
    "temparray = np.array(cdf_inter)"
   ]
  },
  {
   "cell_type": "code",
   "execution_count": 751,
   "metadata": {},
   "outputs": [
    {
     "data": {
      "text/plain": [
       "array([0.00000000e+00, 2.16338665e-06, 4.11748971e-04, 2.60204704e-03,\n",
       "       8.50046700e-03, 1.96692654e-02, 3.70805710e-02, 6.13089391e-02,\n",
       "       9.27997171e-02, 1.31010567e-01, 1.74240679e-01, 2.23186755e-01,\n",
       "       2.74550940e-01, 3.28166706e-01, 3.81785422e-01, 4.37039754e-01,\n",
       "       4.93369875e-01, 5.45917094e-01, 6.00116316e-01, 6.52681966e-01,\n",
       "       6.99873921e-01, 7.40985175e-01, 7.79310210e-01, 8.09832981e-01,\n",
       "       8.36983633e-01, 8.69322130e-01, 8.95279132e-01, 9.18802224e-01,\n",
       "       9.39430417e-01, 9.56947627e-01, 9.71531500e-01, 9.81964111e-01,\n",
       "       9.88981175e-01, 9.93315785e-01, 9.95858051e-01, 9.97773893e-01,\n",
       "       9.99004164e-01, 9.99548696e-01, 9.99795963e-01, 9.99899248e-01,\n",
       "       9.99999132e-01, 1.00000000e+00, 9.99996238e-01, 1.00000000e+00,\n",
       "       1.00000000e+00, 9.99998988e-01, 9.99999595e-01, 1.00000000e+00,\n",
       "       1.00000000e+00, 1.00000000e+00, 1.00000000e+00, 1.00000000e+00])"
      ]
     },
     "execution_count": 751,
     "metadata": {},
     "output_type": "execute_result"
    }
   ],
   "source": [
    "temparray[:,23139211]"
   ]
  },
  {
   "cell_type": "code",
   "execution_count": 669,
   "metadata": {},
   "outputs": [],
   "source": [
    "cdf_red = np.ones(52)\n",
    "for i in range(52):\n",
    "    cdf_red[i] = z_cdf_new[i][0][2] "
   ]
  },
  {
   "cell_type": "code",
   "execution_count": 671,
   "metadata": {},
   "outputs": [
    {
     "data": {
      "text/plain": [
       "array([ 0.   ,  0.125,  0.375,  0.625,  0.875,  1.125,  1.375,  1.625,\n",
       "        1.875,  2.125,  2.375,  2.625,  2.875,  3.125,  3.375,  3.625,\n",
       "        3.875,  4.125,  4.375,  4.625,  4.875,  5.125,  5.375,  5.625,\n",
       "        5.875,  6.125,  6.375,  6.625,  6.875,  7.125,  7.375,  7.625,\n",
       "        7.875,  8.125,  8.375,  8.625,  8.875,  9.125,  9.375,  9.625,\n",
       "        9.875, 10.125, 10.375, 10.625, 10.875, 11.125, 11.375, 11.625,\n",
       "       11.875, 12.125, 12.375, 12.5  ])"
      ]
     },
     "execution_count": 671,
     "metadata": {},
     "output_type": "execute_result"
    }
   ],
   "source": [
    "cdf_red"
   ]
  },
  {
   "cell_type": "code",
   "execution_count": 757,
   "metadata": {},
   "outputs": [],
   "source": [
    "np.save('/home/yunzheng/mock/color/data/zcdf/cdf_redbin.npy',cdf_red)"
   ]
  },
  {
   "cell_type": "code",
   "execution_count": 758,
   "metadata": {},
   "outputs": [],
   "source": [
    "np.save('/home/yunzheng/mock/color/data/zcdf/cdf_inter.npy',cdf_inter)"
   ]
  },
  {
   "cell_type": "markdown",
   "metadata": {},
   "source": [
    "## 画图检验"
   ]
  },
  {
   "cell_type": "code",
   "execution_count": 756,
   "metadata": {},
   "outputs": [
    {
     "data": {
      "text/plain": [
       "<matplotlib.legend.Legend at 0x2b76fa3f8850>"
      ]
     },
     "execution_count": 756,
     "metadata": {},
     "output_type": "execute_result"
    },
    {
     "data": {
      "image/png": "[encoded data removed]",
      "text/plain": [
       "<Figure size 720x576 with 1 Axes>"
      ]
     },
     "metadata": {
      "needs_background": "light"
     },
     "output_type": "display_data"
    }
   ],
   "source": [
    "plt.figure(figsize=(10,8))\n",
    "for i in range(23139211,26241654,500000):\n",
    "    plt.plot(cdf_red,temparray[:,i],label = 'vpeak is %s'%vpeak[i])\n",
    "plt.legend()"
   ]
  },
  {
   "cell_type": "code",
   "execution_count": null,
   "metadata": {},
   "outputs": [],
   "source": []
  }
 ],
 "metadata": {
  "kernelspec": {
   "display_name": "Python 3",
   "language": "python",
   "name": "python3"
  },
  "language_info": {
   "codemirror_mode": {
    "name": "ipython",
    "version": 3
   },
   "file_extension": ".py",
   "mimetype": "text/x-python",
   "name": "python",
   "nbconvert_exporter": "python",
   "pygments_lexer": "ipython3",
   "version": "3.7.8"
  }
 },
 "nbformat": 4,
 "nbformat_minor": 4
}
