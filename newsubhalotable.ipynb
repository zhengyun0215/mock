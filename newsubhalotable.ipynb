{
 "cells": [
  {
   "cell_type": "code",
   "execution_count": 1,
   "metadata": {
    "ExecuteTime": {
     "end_time": "2020-12-04T15:44:03.700576Z",
     "start_time": "2020-12-04T15:43:53.796752Z"
    }
   },
   "outputs": [],
   "source": [
    "import numpy as np\n",
    "import h5py"
   ]
  },
  {
   "cell_type": "code",
   "execution_count": 151,
   "metadata": {
    "ExecuteTime": {
     "end_time": "2020-12-11T04:35:08.044724Z",
     "start_time": "2020-12-11T04:34:56.341977Z"
    }
   },
   "outputs": [],
   "source": [
    "import matplotlib.pyplot as plt"
   ]
  },
  {
   "cell_type": "code",
   "execution_count": 2,
   "metadata": {
    "ExecuteTime": {
     "end_time": "2020-12-04T15:44:10.851298Z",
     "start_time": "2020-12-04T15:44:04.536348Z"
    }
   },
   "outputs": [],
   "source": [
    "sub_file = []\n",
    "for i in range(10):\n",
    "    sub_file.append(h5py.File('/home/cossim/CosmicGrowth/6610/subcat2/SubSnap_00%s.hdf5'%(i),'r'))\n",
    "for i in range(10,100):\n",
    "    sub_file.append(h5py.File('/home/cossim/CosmicGrowth/6610/subcat2/SubSnap_0%s.hdf5'%(i),'r'))"
   ]
  },
  {
   "cell_type": "code",
   "execution_count": 65,
   "metadata": {
    "ExecuteTime": {
     "end_time": "2020-12-06T09:02:23.756494Z",
     "start_time": "2020-12-06T09:02:23.754101Z"
    }
   },
   "outputs": [],
   "source": [
    "redshift = np.loadtxt('/home/yunzheng/mock/orphan/redshift.txt')"
   ]
  },
  {
   "cell_type": "code",
   "execution_count": 236,
   "metadata": {
    "ExecuteTime": {
     "end_time": "2020-12-11T08:18:44.834491Z",
     "start_time": "2020-12-11T08:18:44.831594Z"
    }
   },
   "outputs": [
    {
     "data": {
      "text/plain": [
       "5.21783911654972"
      ]
     },
     "execution_count": 236,
     "metadata": {},
     "output_type": "execute_result"
    }
   ],
   "source": [
    "redshift[35]"
   ]
  },
  {
   "cell_type": "code",
   "execution_count": 203,
   "metadata": {
    "ExecuteTime": {
     "end_time": "2020-12-11T07:20:20.186734Z",
     "start_time": "2020-12-11T07:20:20.083638Z"
    }
   },
   "outputs": [
    {
     "data": {
      "text/plain": [
       "115.482834"
      ]
     },
     "execution_count": 203,
     "metadata": {},
     "output_type": "execute_result"
    }
   ],
   "source": [
    "sub_file[92]['Subhalos'][647801]['LastMaxVmaxPhysical']"
   ]
  },
  {
   "cell_type": "code",
   "execution_count": 200,
   "metadata": {
    "ExecuteTime": {
     "end_time": "2020-12-11T07:19:03.633929Z",
     "start_time": "2020-12-11T07:19:03.616970Z"
    }
   },
   "outputs": [
    {
     "name": "stdout",
     "output_type": "stream",
     "text": [
      "102.76122\n",
      "95.99448\n",
      "113.04632\n",
      "110.95464\n",
      "115.482834\n",
      "113.478775\n",
      "110.34136\n",
      "108.181694\n",
      "98.22391\n",
      "91.06766\n",
      "90.89359\n",
      "77.286285\n",
      "89.78051\n",
      "85.314384\n",
      "76.531876\n",
      "0.0\n",
      "0.0\n"
     ]
    }
   ],
   "source": [
    "for i in range(19,36):\n",
    "    print(sub_file[i]['Subhalos'][647801]['VmaxPhysical'])"
   ]
  },
  {
   "cell_type": "code",
   "execution_count": 57,
   "metadata": {
    "ExecuteTime": {
     "end_time": "2020-12-06T08:50:49.368833Z",
     "start_time": "2020-12-06T08:50:49.364767Z"
    }
   },
   "outputs": [
    {
     "data": {
      "text/plain": [
       "23"
      ]
     },
     "execution_count": 57,
     "metadata": {},
     "output_type": "execute_result"
    }
   ],
   "source": [
    "sub_file[71]['Subhalos'][647801]['SnapshotIndexOfLastMaxVmax']"
   ]
  },
  {
   "cell_type": "code",
   "execution_count": 234,
   "metadata": {
    "ExecuteTime": {
     "end_time": "2020-12-11T08:07:02.012588Z",
     "start_time": "2020-12-11T08:07:02.008513Z"
    }
   },
   "outputs": [
    {
     "data": {
      "text/plain": [
       "89"
      ]
     },
     "execution_count": 234,
     "metadata": {},
     "output_type": "execute_result"
    }
   ],
   "source": [
    "sub_file[92]['Subhalos'][122113160]['SnapshotIndexOfBirth']"
   ]
  },
  {
   "cell_type": "code",
   "execution_count": 219,
   "metadata": {
    "ExecuteTime": {
     "end_time": "2020-12-11T07:52:45.495692Z",
     "start_time": "2020-12-11T07:52:45.420581Z"
    }
   },
   "outputs": [
    {
     "data": {
      "text/plain": [
       "36"
      ]
     },
     "execution_count": 219,
     "metadata": {},
     "output_type": "execute_result"
    }
   ],
   "source": [
    "sub_file[71]['Subhalos'][21407947]['SnapshotIndexOfLastMaxVmax']"
   ]
  },
  {
   "cell_type": "code",
   "execution_count": 237,
   "metadata": {
    "ExecuteTime": {
     "end_time": "2020-12-11T08:33:21.327241Z",
     "start_time": "2020-12-11T08:33:21.322772Z"
    }
   },
   "outputs": [
    {
     "data": {
      "text/plain": [
       "60"
      ]
     },
     "execution_count": 237,
     "metadata": {},
     "output_type": "execute_result"
    }
   ],
   "source": [
    "sub_file[91]['Subhalos'][123452839]['Nbound']"
   ]
  },
  {
   "cell_type": "code",
   "execution_count": 222,
   "metadata": {
    "ExecuteTime": {
     "end_time": "2020-12-11T07:56:03.990926Z",
     "start_time": "2020-12-11T07:56:03.308697Z"
    },
    "scrolled": true
   },
   "outputs": [
    {
     "name": "stdout",
     "output_type": "stream",
     "text": [
      "94.7722\n",
      "0.0\n",
      "0.0\n",
      "0.0\n",
      "0.0\n",
      "0.0\n",
      "0.0\n",
      "0.0\n",
      "0.0\n",
      "0.0\n",
      "67.65894\n",
      "80.77289\n",
      "71.13208\n",
      "77.4134\n",
      "75.81577\n",
      "85.285065\n",
      "80.606384\n",
      "82.12031\n",
      "81.633194\n",
      "80.936676\n",
      "77.10409\n",
      "74.90255\n",
      "74.679085\n",
      "74.82539\n",
      "82.01752\n",
      "81.44966\n",
      "86.226944\n",
      "89.15817\n",
      "93.69668\n",
      "91.30027\n",
      "84.559586\n",
      "80.01631\n",
      "84.83416\n",
      "89.56405\n",
      "88.35868\n",
      "87.36906\n",
      "85.851875\n",
      "84.982414\n",
      "85.685104\n",
      "81.90805\n",
      "82.028366\n",
      "88.91674\n",
      "90.88024\n",
      "88.01984\n",
      "93.985664\n",
      "86.78545\n",
      "84.267204\n",
      "82.94739\n",
      "83.2859\n",
      "86.79457\n",
      "92.30318\n",
      "86.175446\n",
      "85.49245\n",
      "87.36324\n",
      "86.331345\n",
      "83.44591\n",
      "85.9124\n",
      "86.03893\n",
      "79.24385\n",
      "86.3145\n",
      "92.311584\n",
      "88.876175\n",
      "82.27383\n",
      "81.712425\n"
     ]
    }
   ],
   "source": [
    "for i in range(35,99):\n",
    "    print(sub_file[i]['Subhalos'][20697051]['VmaxPhysical'])"
   ]
  },
  {
   "cell_type": "code",
   "execution_count": 221,
   "metadata": {
    "ExecuteTime": {
     "end_time": "2020-12-11T07:55:41.879545Z",
     "start_time": "2020-12-11T07:55:37.120611Z"
    },
    "scrolled": true
   },
   "outputs": [
    {
     "name": "stdout",
     "output_type": "stream",
     "text": [
      "92.60166\n",
      "81.81193\n",
      "82.53856\n",
      "63.9283\n",
      "71.82702\n",
      "75.87186\n",
      "76.43655\n",
      "74.03494\n",
      "71.79673\n",
      "67.76319\n",
      "68.25386\n",
      "68.429016\n",
      "70.84207\n",
      "74.52746\n",
      "66.49656\n",
      "75.18073\n",
      "67.57921\n",
      "70.97187\n",
      "73.71744\n",
      "68.13455\n",
      "65.60954\n",
      "67.81753\n",
      "65.66125\n",
      "71.230515\n",
      "78.98447\n",
      "76.18092\n",
      "75.3382\n",
      "74.41721\n",
      "76.69559\n",
      "80.56857\n",
      "83.165794\n",
      "82.641495\n",
      "77.31985\n",
      "71.32898\n",
      "69.11303\n",
      "78.06351\n",
      "70.90047\n",
      "76.42623\n",
      "78.71778\n",
      "81.912865\n",
      "75.344925\n",
      "68.73965\n",
      "71.84724\n",
      "76.213264\n",
      "73.49819\n",
      "76.037254\n",
      "83.15781\n",
      "75.14583\n",
      "76.23966\n",
      "72.63908\n",
      "73.57622\n",
      "75.83756\n",
      "76.33878\n",
      "75.455666\n",
      "83.634766\n",
      "71.617546\n",
      "69.334\n",
      "78.38884\n",
      "79.91306\n",
      "74.672295\n",
      "73.331795\n",
      "74.3454\n",
      "79.76416\n"
     ]
    }
   ],
   "source": [
    "for i in range(36,99):\n",
    "    print(sub_file[i]['Subhalos'][21407947]['VmaxPhysical'])"
   ]
  },
  {
   "cell_type": "code",
   "execution_count": 240,
   "metadata": {
    "ExecuteTime": {
     "end_time": "2020-12-11T08:34:19.450123Z",
     "start_time": "2020-12-11T08:34:19.433963Z"
    }
   },
   "outputs": [
    {
     "name": "stdout",
     "output_type": "stream",
     "text": [
      "40.700706\n",
      "60\n",
      "0.0\n",
      "1\n",
      "0.0\n",
      "1\n",
      "0.0\n",
      "1\n",
      "0.0\n",
      "1\n",
      "0.0\n",
      "1\n",
      "0.0\n",
      "1\n",
      "0.0\n",
      "1\n"
     ]
    }
   ],
   "source": [
    "for i in range(91,99):\n",
    "    print(sub_file[i]['Subhalos'][123452839]['VmaxPhysical'])\n",
    "    print(sub_file[i]['Subhalos'][123452839]['Nbound'])"
   ]
  },
  {
   "cell_type": "code",
   "execution_count": 241,
   "metadata": {
    "ExecuteTime": {
     "end_time": "2020-12-11T08:36:17.616622Z",
     "start_time": "2020-12-11T08:36:17.595300Z"
    }
   },
   "outputs": [
    {
     "name": "stdout",
     "output_type": "stream",
     "text": [
      "45.52648\n",
      "27\n",
      "45.10878\n",
      "72\n",
      "42.551323\n",
      "54\n",
      "0.0\n",
      "1\n",
      "0.0\n",
      "1\n",
      "0.0\n",
      "1\n",
      "37.082535\n",
      "57\n",
      "0.0\n",
      "1\n",
      "0.0\n",
      "1\n",
      "0.0\n",
      "1\n"
     ]
    }
   ],
   "source": [
    "for i in range(89,99):\n",
    "    print(sub_file[i]['Subhalos'][122113160]['VmaxPhysical'])\n",
    "    print(sub_file[i]['Subhalos'][122113160]['Nbound'])"
   ]
  },
  {
   "cell_type": "code",
   "execution_count": 121,
   "metadata": {
    "ExecuteTime": {
     "end_time": "2020-12-06T13:23:27.242766Z",
     "start_time": "2020-12-06T13:23:22.778875Z"
    }
   },
   "outputs": [],
   "source": [
    "table = np.load('/home/yunzheng/mock/color/data/newcatalogue/snapshot_92_new.npy')"
   ]
  },
  {
   "cell_type": "code",
   "execution_count": 128,
   "metadata": {
    "ExecuteTime": {
     "end_time": "2020-12-06T13:51:36.970900Z",
     "start_time": "2020-12-06T13:51:36.968264Z"
    }
   },
   "outputs": [
    {
     "data": {
      "text/plain": [
       "(26241654, 11)"
      ]
     },
     "execution_count": 128,
     "metadata": {},
     "output_type": "execute_result"
    }
   ],
   "source": [
    "table.shape"
   ]
  },
  {
   "cell_type": "code",
   "execution_count": 127,
   "metadata": {
    "ExecuteTime": {
     "end_time": "2020-12-06T13:51:26.296594Z",
     "start_time": "2020-12-06T13:51:26.293832Z"
    }
   },
   "outputs": [
    {
     "data": {
      "text/plain": [
       "26241654"
      ]
     },
     "execution_count": 127,
     "metadata": {},
     "output_type": "execute_result"
    }
   ],
   "source": [
    "len(table)"
   ]
  },
  {
   "cell_type": "code",
   "execution_count": 75,
   "metadata": {
    "ExecuteTime": {
     "end_time": "2020-12-06T11:44:34.221271Z",
     "start_time": "2020-12-06T11:44:20.267929Z"
    }
   },
   "outputs": [
    {
     "ename": "MemoryError",
     "evalue": "Unable to allocate 841. MiB for an array with shape (110166456,) and data type float64",
     "output_type": "error",
     "traceback": [
      "\u001b[0;31m---------------------------------------------------------------------------\u001b[0m",
      "\u001b[0;31mMemoryError\u001b[0m                               Traceback (most recent call last)",
      "\u001b[0;32m<ipython-input-75-1d38c4d4bd42>\u001b[0m in \u001b[0;36m<module>\u001b[0;34m\u001b[0m\n\u001b[1;32m      1\u001b[0m \u001b[0mvmax\u001b[0m \u001b[0;34m=\u001b[0m \u001b[0;34m[\u001b[0m\u001b[0;34m]\u001b[0m\u001b[0;34m\u001b[0m\u001b[0;34m\u001b[0m\u001b[0m\n\u001b[1;32m      2\u001b[0m \u001b[0;32mfor\u001b[0m \u001b[0mi\u001b[0m \u001b[0;32min\u001b[0m \u001b[0mrange\u001b[0m\u001b[0;34m(\u001b[0m\u001b[0;36m100\u001b[0m\u001b[0;34m)\u001b[0m\u001b[0;34m:\u001b[0m\u001b[0;34m\u001b[0m\u001b[0;34m\u001b[0m\u001b[0m\n\u001b[0;32m----> 3\u001b[0;31m     \u001b[0mv\u001b[0m \u001b[0;34m=\u001b[0m \u001b[0mnp\u001b[0m\u001b[0;34m.\u001b[0m\u001b[0mload\u001b[0m\u001b[0;34m(\u001b[0m\u001b[0;34m'/home/yunzheng/mock/color/data/vmax/snapshot_%s.npy'\u001b[0m\u001b[0;34m%\u001b[0m\u001b[0mi\u001b[0m\u001b[0;34m)\u001b[0m\u001b[0;34m\u001b[0m\u001b[0;34m\u001b[0m\u001b[0m\n\u001b[0m\u001b[1;32m      4\u001b[0m     \u001b[0mvmax\u001b[0m\u001b[0;34m.\u001b[0m\u001b[0mappend\u001b[0m\u001b[0;34m(\u001b[0m\u001b[0mv\u001b[0m\u001b[0;34m)\u001b[0m\u001b[0;34m\u001b[0m\u001b[0;34m\u001b[0m\u001b[0m\n",
      "\u001b[0;32m~/anaconda/envs/py37/lib/python3.7/site-packages/numpy/lib/npyio.py\u001b[0m in \u001b[0;36mload\u001b[0;34m(file, mmap_mode, allow_pickle, fix_imports, encoding)\u001b[0m\n\u001b[1;32m    438\u001b[0m             \u001b[0;32melse\u001b[0m\u001b[0;34m:\u001b[0m\u001b[0;34m\u001b[0m\u001b[0;34m\u001b[0m\u001b[0m\n\u001b[1;32m    439\u001b[0m                 return format.read_array(fid, allow_pickle=allow_pickle,\n\u001b[0;32m--> 440\u001b[0;31m                                          pickle_kwargs=pickle_kwargs)\n\u001b[0m\u001b[1;32m    441\u001b[0m         \u001b[0;32melse\u001b[0m\u001b[0;34m:\u001b[0m\u001b[0;34m\u001b[0m\u001b[0;34m\u001b[0m\u001b[0m\n\u001b[1;32m    442\u001b[0m             \u001b[0;31m# Try a pickle\u001b[0m\u001b[0;34m\u001b[0m\u001b[0;34m\u001b[0m\u001b[0;34m\u001b[0m\u001b[0m\n",
      "\u001b[0;32m~/anaconda/envs/py37/lib/python3.7/site-packages/numpy/lib/format.py\u001b[0m in \u001b[0;36mread_array\u001b[0;34m(fp, allow_pickle, pickle_kwargs)\u001b[0m\n\u001b[1;32m    739\u001b[0m         \u001b[0;32mif\u001b[0m \u001b[0misfileobj\u001b[0m\u001b[0;34m(\u001b[0m\u001b[0mfp\u001b[0m\u001b[0;34m)\u001b[0m\u001b[0;34m:\u001b[0m\u001b[0;34m\u001b[0m\u001b[0;34m\u001b[0m\u001b[0m\n\u001b[1;32m    740\u001b[0m             \u001b[0;31m# We can use the fast fromfile() function.\u001b[0m\u001b[0;34m\u001b[0m\u001b[0;34m\u001b[0m\u001b[0;34m\u001b[0m\u001b[0m\n\u001b[0;32m--> 741\u001b[0;31m             \u001b[0marray\u001b[0m \u001b[0;34m=\u001b[0m \u001b[0mnumpy\u001b[0m\u001b[0;34m.\u001b[0m\u001b[0mfromfile\u001b[0m\u001b[0;34m(\u001b[0m\u001b[0mfp\u001b[0m\u001b[0;34m,\u001b[0m \u001b[0mdtype\u001b[0m\u001b[0;34m=\u001b[0m\u001b[0mdtype\u001b[0m\u001b[0;34m,\u001b[0m \u001b[0mcount\u001b[0m\u001b[0;34m=\u001b[0m\u001b[0mcount\u001b[0m\u001b[0;34m)\u001b[0m\u001b[0;34m\u001b[0m\u001b[0;34m\u001b[0m\u001b[0m\n\u001b[0m\u001b[1;32m    742\u001b[0m         \u001b[0;32melse\u001b[0m\u001b[0;34m:\u001b[0m\u001b[0;34m\u001b[0m\u001b[0;34m\u001b[0m\u001b[0m\n\u001b[1;32m    743\u001b[0m             \u001b[0;31m# This is not a real file. We have to read it the\u001b[0m\u001b[0;34m\u001b[0m\u001b[0;34m\u001b[0m\u001b[0;34m\u001b[0m\u001b[0m\n",
      "\u001b[0;31mMemoryError\u001b[0m: Unable to allocate 841. MiB for an array with shape (110166456,) and data type float64"
     ]
    }
   ],
   "source": [
    "vmax = []\n",
    "for i in range(100):\n",
    "    v = np.load('/home/yunzheng/mock/color/data/vmax/snapshot_%s.npy'%i)\n",
    "    vmax.append(v)"
   ]
  },
  {
   "cell_type": "code",
   "execution_count": 129,
   "metadata": {
    "ExecuteTime": {
     "end_time": "2020-12-08T05:03:21.577342Z",
     "start_time": "2020-12-08T05:03:21.574566Z"
    }
   },
   "outputs": [
    {
     "data": {
      "text/plain": [
       "41"
      ]
     },
     "execution_count": 129,
     "metadata": {},
     "output_type": "execute_result"
    }
   ],
   "source": [
    "len(vmax)"
   ]
  },
  {
   "cell_type": "code",
   "execution_count": 124,
   "metadata": {
    "ExecuteTime": {
     "end_time": "2020-12-06T13:25:22.361936Z",
     "start_time": "2020-12-06T13:25:22.341039Z"
    },
    "collapsed": true
   },
   "outputs": [
    {
     "name": "stdout",
     "output_type": "stream",
     "text": [
      "The subhalo id is 2\n",
      "The vpeak is 306.27947998046875\n",
      "The vform is 229.70960998535156\n",
      "The snapshot of vpeak is 53\n",
      "The snapshot of birth is 0\n",
      "This subhalo couldn't interpolate\n",
      "The snapshot number is 0\n",
      "This subhalo couldn't interpolate\n",
      "The snapshot number is 1\n",
      "This subhalo couldn't interpolate\n",
      "The snapshot number is 2\n",
      "This subhalo couldn't interpolate\n",
      "The snapshot number is 3\n",
      "This subhalo couldn't interpolate\n",
      "The snapshot number is 4\n",
      "This subhalo couldn't interpolate\n",
      "The snapshot number is 5\n",
      "This subhalo couldn't interpolate\n",
      "The snapshot number is 6\n",
      "This subhalo couldn't interpolate\n",
      "The snapshot number is 7\n",
      "This subhalo couldn't interpolate\n",
      "The snapshot number is 8\n",
      "This subhalo couldn't interpolate\n",
      "The snapshot number is 9\n",
      "This subhalo couldn't interpolate\n",
      "The snapshot number is 10\n",
      "This subhalo couldn't interpolate\n",
      "The snapshot number is 11\n",
      "This subhalo couldn't interpolate\n",
      "The snapshot number is 12\n",
      "This subhalo couldn't interpolate\n",
      "The snapshot number is 13\n",
      "The snapshot of interpretation is between 14 and 15 .\n",
      "The first redshift is 10.60817231932476\n",
      "The next redshift is 10.24519172362668\n",
      "The first vmax is 214.13926696777344\n",
      "The next vmax is 254.34100341796875\n",
      "The interplated redshift is 10.467588034097536\n",
      "The snapshot number is 14\n",
      "The snapshot number is 14\n",
      "The subhalo id is 3\n",
      "The vpeak is 489.8222351074219\n",
      "The vform is 367.3666763305664\n",
      "The snapshot of vpeak is 88\n",
      "The snapshot of birth is 1\n",
      "This subhalo couldn't interpolate\n",
      "The snapshot number is 1\n",
      "This subhalo couldn't interpolate\n",
      "The snapshot number is 2\n",
      "This subhalo couldn't interpolate\n",
      "The snapshot number is 3\n",
      "This subhalo couldn't interpolate\n",
      "The snapshot number is 4\n",
      "This subhalo couldn't interpolate\n",
      "The snapshot number is 5\n",
      "This subhalo couldn't interpolate\n",
      "The snapshot number is 6\n",
      "This subhalo couldn't interpolate\n",
      "The snapshot number is 7\n",
      "This subhalo couldn't interpolate\n",
      "The snapshot number is 8\n",
      "This subhalo couldn't interpolate\n",
      "The snapshot number is 9\n",
      "This subhalo couldn't interpolate\n",
      "The snapshot number is 10\n",
      "This subhalo couldn't interpolate\n",
      "The snapshot number is 11\n",
      "This subhalo couldn't interpolate\n",
      "The snapshot number is 12\n",
      "This subhalo couldn't interpolate\n",
      "The snapshot number is 13\n",
      "This subhalo couldn't interpolate\n",
      "The snapshot number is 14\n",
      "This subhalo couldn't interpolate\n",
      "The snapshot number is 15\n",
      "This subhalo couldn't interpolate\n",
      "The snapshot number is 16\n",
      "This subhalo couldn't interpolate\n",
      "The snapshot number is 17\n",
      "This subhalo couldn't interpolate\n",
      "The snapshot number is 18\n",
      "This subhalo couldn't interpolate\n",
      "The snapshot number is 19\n",
      "This subhalo couldn't interpolate\n",
      "The snapshot number is 20\n",
      "This subhalo couldn't interpolate\n",
      "The snapshot number is 21\n",
      "This subhalo couldn't interpolate\n",
      "The snapshot number is 22\n",
      "This subhalo couldn't interpolate\n",
      "The snapshot number is 23\n",
      "This subhalo couldn't interpolate\n",
      "The snapshot number is 24\n",
      "This subhalo couldn't interpolate\n",
      "The snapshot number is 25\n",
      "This subhalo couldn't interpolate\n",
      "The snapshot number is 26\n",
      "This subhalo couldn't interpolate\n",
      "The snapshot number is 27\n",
      "This subhalo couldn't interpolate\n",
      "The snapshot number is 28\n",
      "This subhalo couldn't interpolate\n",
      "The snapshot number is 29\n",
      "This subhalo couldn't interpolate\n",
      "The snapshot number is 30\n",
      "This subhalo couldn't interpolate\n",
      "The snapshot number is 31\n",
      "This subhalo couldn't interpolate\n",
      "The snapshot number is 32\n",
      "This subhalo couldn't interpolate\n",
      "The snapshot number is 33\n",
      "This subhalo couldn't interpolate\n",
      "The snapshot number is 34\n",
      "This subhalo couldn't interpolate\n",
      "The snapshot number is 35\n",
      "This subhalo couldn't interpolate\n",
      "The snapshot number is 36\n",
      "This subhalo couldn't interpolate\n",
      "The snapshot number is 37\n",
      "This subhalo couldn't interpolate\n",
      "The snapshot number is 38\n",
      "This subhalo couldn't interpolate\n",
      "The snapshot number is 39\n"
     ]
    },
    {
     "ename": "IndexError",
     "evalue": "list index out of range",
     "output_type": "error",
     "traceback": [
      "\u001b[0;31m---------------------------------------------------------------------------\u001b[0m",
      "\u001b[0;31mIndexError\u001b[0m                                Traceback (most recent call last)",
      "\u001b[0;32m<ipython-input-124-bd5a629bbc71>\u001b[0m in \u001b[0;36m<module>\u001b[0;34m\u001b[0m\n\u001b[1;32m     19\u001b[0m \u001b[0;34m\u001b[0m\u001b[0m\n\u001b[1;32m     20\u001b[0m         \u001b[0;32mfor\u001b[0m \u001b[0mk\u001b[0m \u001b[0;32min\u001b[0m \u001b[0mrange\u001b[0m\u001b[0;34m(\u001b[0m\u001b[0mvbirth\u001b[0m\u001b[0;34m,\u001b[0m\u001b[0mvsnap\u001b[0m\u001b[0;34m)\u001b[0m\u001b[0;34m:\u001b[0m\u001b[0;34m\u001b[0m\u001b[0;34m\u001b[0m\u001b[0m\n\u001b[0;32m---> 21\u001b[0;31m             \u001b[0;32mif\u001b[0m \u001b[0mvmax\u001b[0m\u001b[0;34m[\u001b[0m\u001b[0mk\u001b[0m\u001b[0;34m]\u001b[0m\u001b[0;34m[\u001b[0m\u001b[0mid_sub\u001b[0m\u001b[0;34m]\u001b[0m\u001b[0;34m[\u001b[0m\u001b[0;36m1\u001b[0m\u001b[0;34m]\u001b[0m \u001b[0;34m<=\u001b[0m \u001b[0mvform\u001b[0m \u001b[0;34m<\u001b[0m \u001b[0mvmax\u001b[0m\u001b[0;34m[\u001b[0m\u001b[0mk\u001b[0m\u001b[0;34m+\u001b[0m\u001b[0;36m1\u001b[0m\u001b[0;34m]\u001b[0m\u001b[0;34m[\u001b[0m\u001b[0mid_sub\u001b[0m\u001b[0;34m]\u001b[0m\u001b[0;34m[\u001b[0m\u001b[0;36m1\u001b[0m\u001b[0;34m]\u001b[0m\u001b[0;34m:\u001b[0m\u001b[0;34m\u001b[0m\u001b[0;34m\u001b[0m\u001b[0m\n\u001b[0m\u001b[1;32m     22\u001b[0m \u001b[0;34m\u001b[0m\u001b[0m\n\u001b[1;32m     23\u001b[0m                 \u001b[0mprint\u001b[0m\u001b[0;34m(\u001b[0m\u001b[0;34m'The snapshot of interpretation is between %s and %s .'\u001b[0m\u001b[0;34m%\u001b[0m\u001b[0;34m(\u001b[0m\u001b[0mk\u001b[0m\u001b[0;34m,\u001b[0m\u001b[0mk\u001b[0m\u001b[0;34m+\u001b[0m\u001b[0;36m1\u001b[0m\u001b[0;34m)\u001b[0m\u001b[0;34m)\u001b[0m\u001b[0;34m\u001b[0m\u001b[0;34m\u001b[0m\u001b[0m\n",
      "\u001b[0;31mIndexError\u001b[0m: list index out of range"
     ]
    }
   ],
   "source": [
    "z_form = []\n",
    "for i in range(20):\n",
    "    id_sub = int(table[i][0])\n",
    "    vpeak = table[i][1]\n",
    "    vform = vpeak * 0.75\n",
    "    vsnap = int(table[i][2])\n",
    "    vbirth = int(table[i][3])\n",
    "    print('The subhalo id is %s'%(id_sub))\n",
    "    print('The vpeak is %s'%(table[i][1]))\n",
    "    print('The vform is %s'%(vform))\n",
    "#     print('The vpeak snapshot is %s'%(vsnap))\n",
    "    \n",
    "    if vsnap == vbirth:\n",
    "        print('The snapshot of vpeak equals to the birthsnap :%s'%vbirth)\n",
    "        z_form.append(redshift[vsnap])\n",
    "    else:\n",
    "        print('The snapshot of vpeak is %s'%vsnap)\n",
    "        print('The snapshot of birth is %s'%vbirth)\n",
    "        \n",
    "        for k in range(vbirth,vsnap):\n",
    "            if vmax[k][id_sub][1] <= vform < vmax[k+1][id_sub][1]:\n",
    "                \n",
    "                print('The snapshot of interpretation is between %s and %s .'%(k,k+1))\n",
    "                print('The first redshift is %s'%(redshift[k]))\n",
    "                print('The next redshift is %s'%(redshift[k+1]))\n",
    "                print('The first vmax is %s'%(vmax[k][id_sub][1]))\n",
    "                print('The next vmax is %s'%(vmax[k+1][id_sub][1]))\n",
    "                \n",
    "                interp_v = [vmax[k][id_sub][1],vmax[k+1][id_sub][1]]\n",
    "                interp_z = [redshift[k],redshift[k+1]]\n",
    "                red_new = np.interp(vform,interp_v,interp_z)\n",
    "                print('The interplated redshift is %s'%red_new)\n",
    "#                 z_form.append(red_new)\n",
    "                print('The snapshot number is %d'%k)\n",
    "                break\n",
    "                \n",
    "            else:\n",
    "                print(\"This subhalo couldn't interpolate\")\n",
    "                red_new = redshift[vbirth]\n",
    "#                 z_form.append(redshift[vbirth])\n",
    "                print('The snapshot number is %d'%k)\n",
    "    \n",
    "    \n",
    "        print('The snapshot number is %d'%k)\n",
    "        z_form.append(red_new)\n",
    "              \n"
   ]
  },
  {
   "cell_type": "code",
   "execution_count": 115,
   "metadata": {
    "ExecuteTime": {
     "end_time": "2020-12-06T12:56:01.365114Z",
     "start_time": "2020-12-06T12:56:01.362365Z"
    }
   },
   "outputs": [
    {
     "data": {
      "text/plain": [
       "1"
      ]
     },
     "execution_count": 115,
     "metadata": {},
     "output_type": "execute_result"
    }
   ],
   "source": [
    "len(z_form)"
   ]
  },
  {
   "cell_type": "code",
   "execution_count": 116,
   "metadata": {
    "ExecuteTime": {
     "end_time": "2020-12-06T12:56:03.177699Z",
     "start_time": "2020-12-06T12:56:03.174992Z"
    }
   },
   "outputs": [
    {
     "data": {
      "text/plain": [
       "[10.467588034097536]"
      ]
     },
     "execution_count": 116,
     "metadata": {},
     "output_type": "execute_result"
    }
   ],
   "source": [
    "z_form"
   ]
  },
  {
   "cell_type": "code",
   "execution_count": 130,
   "metadata": {
    "ExecuteTime": {
     "end_time": "2020-12-08T05:05:03.489134Z",
     "start_time": "2020-12-08T05:04:56.487205Z"
    }
   },
   "outputs": [],
   "source": [
    "newz = np.load('/home/yunzheng/mock/color/data/newcatalogue/snap_92_new_with_zform.npy')"
   ]
  },
  {
   "cell_type": "code",
   "execution_count": 133,
   "metadata": {
    "ExecuteTime": {
     "end_time": "2020-12-08T05:07:45.469740Z",
     "start_time": "2020-12-08T05:07:45.465923Z"
    }
   },
   "outputs": [
    {
     "data": {
      "text/plain": [
       "array([[ 2.00000000e+00,  3.06279480e+02,  5.30000000e+01, ...,\n",
       "        -1.23269623e+02,  5.79521484e+02,  1.04675880e+01],\n",
       "       [ 3.00000000e+00,  4.89822235e+02,  8.80000000e+01, ...,\n",
       "        -2.69914154e+02,  3.66092186e+01,  3.04289686e+00],\n",
       "       [ 4.00000000e+00,  4.39215607e+02,  8.70000000e+01, ...,\n",
       "        -3.94887085e+02,  1.05316719e+02,  7.05297605e+00],\n",
       "       ...,\n",
       "       [ 1.23021443e+08,  5.05629730e+01,  9.10000000e+01, ...,\n",
       "         6.24766479e+02,  4.58173599e+01,  2.89062937e-01],\n",
       "       [ 1.23110015e+08,  3.84949226e+01,  9.10000000e+01, ...,\n",
       "        -2.79874512e+02,  2.74074768e+02,  2.89062937e-01],\n",
       "       [ 1.23452839e+08,  4.07007065e+01,  9.10000000e+01, ...,\n",
       "        -3.34637604e+02,  3.67284607e+02,  2.53440511e-01]])"
      ]
     },
     "execution_count": 133,
     "metadata": {},
     "output_type": "execute_result"
    }
   ],
   "source": [
    "newz"
   ]
  },
  {
   "cell_type": "code",
   "execution_count": 134,
   "metadata": {
    "ExecuteTime": {
     "end_time": "2020-12-11T03:43:08.213237Z",
     "start_time": "2020-12-11T03:43:07.835504Z"
    }
   },
   "outputs": [],
   "source": [
    "fraction = np.load('/home/yunzheng/mock/color/data/newcatalogue/snap_92_new_new_zform.npy')"
   ]
  },
  {
   "cell_type": "code",
   "execution_count": 138,
   "metadata": {
    "ExecuteTime": {
     "end_time": "2020-12-11T03:44:51.873067Z",
     "start_time": "2020-12-11T03:44:51.866695Z"
    },
    "collapsed": true
   },
   "outputs": [
    {
     "data": {
      "text/plain": [
       "array([0.000000e+00, 3.100000e+01, 4.840000e+02, 5.627000e+03,\n",
       "       3.547800e+04, 1.642810e+05, 5.114370e+05, 1.141944e+06,\n",
       "       2.000345e+06, 2.561292e+06, 2.943796e+06, 2.756400e+06,\n",
       "       2.446092e+06, 2.040547e+06, 1.603524e+06, 1.300461e+06,\n",
       "       1.016395e+06, 8.176020e+05, 6.654760e+05, 5.455750e+05,\n",
       "       4.554470e+05, 3.847620e+05, 3.262150e+05, 2.797540e+05,\n",
       "       2.401360e+05, 2.088400e+05, 1.807780e+05, 1.580390e+05,\n",
       "       1.386170e+05, 1.223620e+05, 1.079230e+05, 9.579500e+04,\n",
       "       8.545300e+04, 7.631300e+04, 6.767800e+04, 6.136600e+04,\n",
       "       5.495600e+04, 4.973600e+04, 4.484400e+04, 4.089100e+04,\n",
       "       3.704600e+04, 3.363500e+04, 3.066600e+04, 2.763100e+04,\n",
       "       2.562300e+04, 2.351300e+04, 2.149400e+04, 1.979900e+04,\n",
       "       1.812700e+04, 1.674100e+04, 1.528500e+04, 1.449800e+04,\n",
       "       1.329300e+04, 1.242200e+04, 1.155900e+04, 1.059400e+04,\n",
       "       9.873000e+03, 9.159000e+03, 8.751000e+03, 8.068000e+03,\n",
       "       7.628000e+03, 7.088000e+03, 6.499000e+03, 6.310000e+03,\n",
       "       5.792000e+03, 5.501000e+03, 5.046000e+03, 4.894000e+03,\n",
       "       4.499000e+03, 4.144000e+03, 3.891000e+03, 3.750000e+03,\n",
       "       3.650000e+03, 3.334000e+03, 3.166000e+03, 2.934000e+03,\n",
       "       2.738000e+03, 2.707000e+03, 2.507000e+03, 2.344000e+03,\n",
       "       2.215000e+03, 2.220000e+03, 2.068000e+03, 1.852000e+03,\n",
       "       1.803000e+03, 1.722000e+03, 1.722000e+03, 1.584000e+03,\n",
       "       1.451000e+03, 1.382000e+03, 1.287000e+03, 1.243000e+03,\n",
       "       1.167000e+03, 1.210000e+03, 1.112000e+03, 1.051000e+03,\n",
       "       9.700000e+02, 9.240000e+02, 8.920000e+02, 8.800000e+02,\n",
       "       8.120000e+02, 7.860000e+02, 7.420000e+02, 7.070000e+02,\n",
       "       6.790000e+02, 7.080000e+02, 6.230000e+02, 5.960000e+02,\n",
       "       5.710000e+02, 6.190000e+02, 5.460000e+02, 5.100000e+02,\n",
       "       4.620000e+02, 4.540000e+02, 4.580000e+02, 4.150000e+02,\n",
       "       4.340000e+02, 3.590000e+02, 3.870000e+02, 3.740000e+02,\n",
       "       3.650000e+02, 3.130000e+02, 3.370000e+02, 2.990000e+02,\n",
       "       2.970000e+02, 2.730000e+02, 2.490000e+02, 2.610000e+02,\n",
       "       2.590000e+02, 2.250000e+02, 2.280000e+02, 2.150000e+02,\n",
       "       2.060000e+02, 2.010000e+02, 1.710000e+02, 1.860000e+02,\n",
       "       1.630000e+02, 1.670000e+02, 1.640000e+02, 1.640000e+02,\n",
       "       1.470000e+02, 1.400000e+02, 1.500000e+02, 1.160000e+02,\n",
       "       1.180000e+02, 1.330000e+02, 1.060000e+02, 1.120000e+02,\n",
       "       1.050000e+02, 1.150000e+02, 8.800000e+01, 9.400000e+01,\n",
       "       1.060000e+02, 8.400000e+01, 7.300000e+01, 8.600000e+01,\n",
       "       7.800000e+01, 7.800000e+01, 7.200000e+01, 8.200000e+01,\n",
       "       6.200000e+01, 6.900000e+01, 5.700000e+01, 5.700000e+01,\n",
       "       5.800000e+01, 6.900000e+01, 5.800000e+01, 4.800000e+01,\n",
       "       5.000000e+01, 4.700000e+01, 5.000000e+01, 3.400000e+01,\n",
       "       4.800000e+01, 5.800000e+01, 4.200000e+01, 4.700000e+01,\n",
       "       3.100000e+01, 3.800000e+01, 3.600000e+01, 3.000000e+01,\n",
       "       3.300000e+01, 2.800000e+01, 2.600000e+01, 3.700000e+01,\n",
       "       3.300000e+01, 2.800000e+01, 2.300000e+01, 2.300000e+01,\n",
       "       1.800000e+01, 2.500000e+01, 2.300000e+01, 1.500000e+01,\n",
       "       3.000000e+01, 2.800000e+01, 1.900000e+01, 1.700000e+01,\n",
       "       2.000000e+01, 1.800000e+01, 2.100000e+01, 1.400000e+01,\n",
       "       9.000000e+00, 1.800000e+01, 2.700000e+01, 2.500000e+01,\n",
       "       1.300000e+01, 1.000000e+01, 1.700000e+01, 1.400000e+01,\n",
       "       9.000000e+00, 1.700000e+01, 1.200000e+01, 1.000000e+01,\n",
       "       1.400000e+01, 1.200000e+01, 1.200000e+01, 5.000000e+00,\n",
       "       6.000000e+00, 3.000000e+00, 8.000000e+00, 1.300000e+01,\n",
       "       5.000000e+00, 1.000000e+01, 1.000000e+00, 8.000000e+00,\n",
       "       9.000000e+00, 8.000000e+00, 8.000000e+00, 5.000000e+00,\n",
       "       1.000000e+01, 8.000000e+00, 9.000000e+00, 3.000000e+00,\n",
       "       6.000000e+00, 7.000000e+00, 7.000000e+00, 3.000000e+00,\n",
       "       5.000000e+00, 5.000000e+00, 5.000000e+00, 5.000000e+00,\n",
       "       4.000000e+00, 8.000000e+00, 4.000000e+00, 0.000000e+00,\n",
       "       2.000000e+00, 1.000000e+00, 2.000000e+00, 4.000000e+00,\n",
       "       2.000000e+00, 0.000000e+00, 2.000000e+00, 1.000000e+00,\n",
       "       5.000000e+00, 1.000000e+00, 1.000000e+00, 2.000000e+00,\n",
       "       2.000000e+00, 2.000000e+00, 2.000000e+00, 1.000000e+00,\n",
       "       1.000000e+00, 2.000000e+00, 1.000000e+00, 1.000000e+00,\n",
       "       2.000000e+00, 1.000000e+00, 2.000000e+00, 3.000000e+00,\n",
       "       0.000000e+00, 1.000000e+00, 0.000000e+00, 1.000000e+00,\n",
       "       0.000000e+00, 0.000000e+00, 1.000000e+00, 0.000000e+00,\n",
       "       2.000000e+00, 2.000000e+00, 0.000000e+00, 1.000000e+00,\n",
       "       0.000000e+00, 1.000000e+00, 1.000000e+00, 1.000000e+00,\n",
       "       1.000000e+00, 1.000000e+00, 1.000000e+00, 1.000000e+00,\n",
       "       0.000000e+00, 0.000000e+00, 0.000000e+00, 2.000000e+00,\n",
       "       0.000000e+00, 0.000000e+00, 1.000000e+00, 1.000000e+00,\n",
       "       0.000000e+00, 2.000000e+00, 0.000000e+00, 0.000000e+00,\n",
       "       1.000000e+00, 2.000000e+00, 0.000000e+00, 1.000000e+00,\n",
       "       1.000000e+00, 0.000000e+00, 0.000000e+00, 1.000000e+00,\n",
       "       0.000000e+00, 0.000000e+00, 0.000000e+00, 0.000000e+00,\n",
       "       1.000000e+00, 0.000000e+00, 0.000000e+00, 0.000000e+00,\n",
       "       1.000000e+00, 0.000000e+00, 0.000000e+00, 0.000000e+00,\n",
       "       0.000000e+00, 0.000000e+00, 0.000000e+00, 0.000000e+00,\n",
       "       0.000000e+00, 0.000000e+00, 0.000000e+00, 0.000000e+00,\n",
       "       0.000000e+00, 0.000000e+00, 0.000000e+00, 0.000000e+00,\n",
       "       1.000000e+00, 1.000000e+00, 0.000000e+00, 0.000000e+00,\n",
       "       0.000000e+00, 0.000000e+00, 0.000000e+00, 0.000000e+00,\n",
       "       0.000000e+00, 0.000000e+00, 0.000000e+00, 0.000000e+00,\n",
       "       0.000000e+00, 0.000000e+00, 0.000000e+00, 0.000000e+00,\n",
       "       0.000000e+00, 0.000000e+00, 0.000000e+00, 0.000000e+00,\n",
       "       0.000000e+00, 0.000000e+00, 0.000000e+00, 0.000000e+00,\n",
       "       0.000000e+00, 0.000000e+00, 0.000000e+00, 0.000000e+00,\n",
       "       0.000000e+00, 0.000000e+00, 1.000000e+00])"
      ]
     },
     "execution_count": 138,
     "metadata": {},
     "output_type": "execute_result"
    }
   ],
   "source": [
    "fraction[:,1]"
   ]
  },
  {
   "cell_type": "code",
   "execution_count": 141,
   "metadata": {
    "ExecuteTime": {
     "end_time": "2020-12-11T03:55:25.461150Z",
     "start_time": "2020-12-11T03:55:25.458757Z"
    }
   },
   "outputs": [],
   "source": [
    "total = fraction[:,1]"
   ]
  },
  {
   "cell_type": "code",
   "execution_count": 144,
   "metadata": {
    "ExecuteTime": {
     "end_time": "2020-12-11T03:59:57.293854Z",
     "start_time": "2020-12-11T03:59:57.290525Z"
    }
   },
   "outputs": [
    {
     "data": {
      "text/plain": [
       "9.0"
      ]
     },
     "execution_count": 144,
     "metadata": {},
     "output_type": "execute_result"
    }
   ],
   "source": [
    "total[200]"
   ]
  },
  {
   "cell_type": "markdown",
   "metadata": {},
   "source": [
    "# $v_{peak} $ bin compararison"
   ]
  },
  {
   "cell_type": "code",
   "execution_count": 145,
   "metadata": {
    "ExecuteTime": {
     "end_time": "2020-12-11T04:28:31.394496Z",
     "start_time": "2020-12-11T04:28:25.955251Z"
    }
   },
   "outputs": [],
   "source": [
    "table = np.load('/home/yunzheng/mock/color/data/newcatalogue/snap_92_new_with_zform.npy')"
   ]
  },
  {
   "cell_type": "code",
   "execution_count": 146,
   "metadata": {
    "ExecuteTime": {
     "end_time": "2020-12-11T04:30:02.464058Z",
     "start_time": "2020-12-11T04:30:02.461620Z"
    }
   },
   "outputs": [],
   "source": [
    "vpeak = table[:,1]\n",
    "zform = table[:,11]"
   ]
  },
  {
   "cell_type": "code",
   "execution_count": 147,
   "metadata": {
    "ExecuteTime": {
     "end_time": "2020-12-11T04:30:35.365872Z",
     "start_time": "2020-12-11T04:30:34.328925Z"
    }
   },
   "outputs": [],
   "source": [
    "bin_0 = np.arange(30,1841,5)\n",
    "inds = np.digitize(vpeak,bin_0)"
   ]
  },
  {
   "cell_type": "markdown",
   "metadata": {},
   "source": [
    "## 分bin存vpeak和相应的zform"
   ]
  },
  {
   "cell_type": "code",
   "execution_count": 148,
   "metadata": {
    "ExecuteTime": {
     "end_time": "2020-12-11T04:30:59.690421Z",
     "start_time": "2020-12-11T04:30:40.747066Z"
    }
   },
   "outputs": [],
   "source": [
    "zform_sta = [[]for _ in range(363)]\n",
    "vpeak_sta = [[]for _ in range(363)]\n",
    "for n in range(len(vpeak)):\n",
    "    vpeak_sta[inds[n]].append(vpeak[n])\n",
    "    zform_sta[inds[n]].append(zform[n])"
   ]
  },
  {
   "cell_type": "markdown",
   "metadata": {},
   "source": [
    "## 对红移分bin计算 zform cdf"
   ]
  },
  {
   "cell_type": "code",
   "execution_count": 149,
   "metadata": {
    "ExecuteTime": {
     "end_time": "2020-12-11T04:34:18.897832Z",
     "start_time": "2020-12-11T04:34:18.895530Z"
    }
   },
   "outputs": [],
   "source": [
    "arr_red = np.arange(201)\n",
    "bin_red = 0 + 12 * arr_red / 200"
   ]
  },
  {
   "cell_type": "code",
   "execution_count": 174,
   "metadata": {
    "ExecuteTime": {
     "end_time": "2020-12-11T04:57:33.140352Z",
     "start_time": "2020-12-11T04:57:13.899740Z"
    }
   },
   "outputs": [
    {
     "data": {
      "text/plain": [
       "Text(0, 0.5, '$cdf$')"
      ]
     },
     "execution_count": 174,
     "metadata": {},
     "output_type": "execute_result"
    },
    {
     "data": {
      "image/png": "[encoded data removed]",
      "text/plain": [
       "<Figure size 432x288 with 1 Axes>"
      ]
     },
     "metadata": {
      "needs_background": "light"
     },
     "output_type": "display_data"
    }
   ],
   "source": [
    "# a = plt.hist(zform_sta[1],bin_red,density = True,cumulative = True,histtype = 'step',color = 'r')\n",
    "v_5 = plt.hist(zform_sta[5],bin_red,density = True,cumulative = True,histtype = 'step',color = 'pink',label = '$30 km /s \\ < \\ V_{peak}\\ < \\ 35 km/s$')\n",
    "v_10 = plt.hist(zform_sta[10],bin_red,density = True,cumulative = True,histtype = 'step',color = 'red',label = '$75 km /s \\ < \\ V_{peak}\\ < \\ 80 km/s$')\n",
    "v_15 = plt.hist(zform_sta[15],bin_red,density = True,cumulative = True,histtype = 'step',color = 'orangered',label = '$100 km /s \\ < \\ V_{peak}\\ < \\ 105 km/s$')\n",
    "v_20 = plt.hist(zform_sta[20],bin_red,density = True,cumulative = True,histtype = 'step',color = 'lightblue',label = '$125 km /s \\ < \\ V_{peak}\\ < \\ 130 km/s$')\n",
    "v_25 = plt.hist(zform_sta[25],bin_red,density = True,cumulative = True,histtype = 'step',color = 'green',label = '$150 km /s \\ < \\ V_{peak}\\ < \\ 155 km/s$')\n",
    "v_55 = plt.hist(zform_sta[55],bin_red,density = True,cumulative = True,histtype = 'step',color = 'blue',label = '$300 km /s \\ < \\ V_{peak}\\ < \\ 305 km/s$')\n",
    "v_105 = plt.hist(zform_sta[105],bin_red,density = True,cumulative = True,histtype = 'step',color = 'orange',label = '$550 km /s \\ < \\ V_{peak}\\ < \\ 555 km/s$')\n",
    "v_155 = plt.hist(zform_sta[155],bin_red,density = True,cumulative = True,histtype = 'step',color = 'yellow',label = '$800 km /s \\ < \\ V_{peak}\\ < \\ 805 km/s$')\n",
    "\n",
    "\n",
    "\n",
    "plt.legend(loc = 'lower right')\n",
    "plt.title(r'Cumulative distribution function')\n",
    "plt.xlabel(r' $Z_{form}$ ')\n",
    "plt.ylabel(r'$cdf$')\n",
    "# plt.savefig('/home/yunzheng/mock/color/picture/comparision_vpeak.pdf',dpi = 100)"
   ]
  },
  {
   "cell_type": "code",
   "execution_count": 183,
   "metadata": {
    "ExecuteTime": {
     "end_time": "2020-12-11T05:05:35.819580Z",
     "start_time": "2020-12-11T05:05:35.358049Z"
    }
   },
   "outputs": [
    {
     "data": {
      "image/png": "[encoded data removed]",
      "text/plain": [
       "<Figure size 432x288 with 1 Axes>"
      ]
     },
     "metadata": {
      "needs_background": "light"
     },
     "output_type": "display_data"
    }
   ],
   "source": [
    "plt.plot(v_5[1][1:],v_5[0],color = 'pink',linestyle = '--',label = '$30 km /s \\ < \\ V_{peak}\\ < \\ 35 km/s$')\n",
    "plt.plot(v_10[1][1:],v_10[0],color = 'red',linestyle = '--',label = '$75 km /s \\ < \\ V_{peak}\\ < \\ 80 km/s$')\n",
    "plt.plot(v_15[1][1:],v_15[0],color = 'orangered',label = '$100 km /s \\ < \\ V_{peak}\\ < \\ 105 km/s$',linestyle = '--')\n",
    "plt.plot(v_20[1][1:],v_20[0],color = 'orange',label = '$125 km /s \\ < \\ V_{peak}\\ < \\ 130 km/s$',linestyle = '--')\n",
    "plt.legend()\n",
    "plt.legend(loc = 'lower right')\n",
    "plt.title(r'Cumulative distribution function')\n",
    "plt.xlabel(r' $Z_{form}$ ')\n",
    "plt.ylabel(r'$cdf$')\n",
    "plt.savefig('/home/yunzheng/mock/color/picture/comparision_vpeak_1.pdf',dpi = 100)"
   ]
  },
  {
   "cell_type": "code",
   "execution_count": 188,
   "metadata": {
    "ExecuteTime": {
     "end_time": "2020-12-11T05:10:07.855128Z",
     "start_time": "2020-12-11T05:10:07.366663Z"
    }
   },
   "outputs": [
    {
     "data": {
      "image/png": "[encoded data removed]",
      "text/plain": [
       "<Figure size 432x288 with 1 Axes>"
      ]
     },
     "metadata": {
      "needs_background": "light"
     },
     "output_type": "display_data"
    }
   ],
   "source": [
    "plt.plot(v_20[1][1:],v_20[0],color = 'orange',label = '$125 km /s \\ < \\ V_{peak}\\ < \\ 130 km/s$',linestyle = '--')\n",
    "\n",
    "\n",
    "plt.plot(v_25[1][1:],v_25[0],color = 'green',label = '$150 km /s \\ < \\ V_{peak}\\ < \\ 155 km/s$')\n",
    "plt.plot(v_55[1][1:],v_55[0],color = 'blue',label = '$300 km /s \\ < \\ V_{peak}\\ < \\ 305 km/s$')\n",
    "plt.plot(v_105[1][1:],v_105[0],color = 'lightblue',label = '$550 km /s \\ < \\ V_{peak}\\ < \\ 555 km/s$')\n",
    "plt.plot(v_155[1][1:],v_155[0],color = 'yellow',label = '$800 km /s \\ < \\ V_{peak}\\ < \\ 805 km/s$')\n",
    "plt.legend()\n",
    "plt.legend(loc = 'lower right')\n",
    "plt.title(r'Cumulative distribution function')\n",
    "plt.xlabel(r' $Z_{form}$ ')\n",
    "plt.ylabel(r'$cdf$')\n",
    "plt.savefig('/home/yunzheng/mock/color/picture/comparision_vpeak_2.pdf',dpi = 100)"
   ]
  },
  {
   "cell_type": "markdown",
   "metadata": {},
   "source": [
    "## poor fraction"
   ]
  },
  {
   "cell_type": "code",
   "execution_count": 156,
   "metadata": {
    "ExecuteTime": {
     "end_time": "2020-12-11T04:43:06.474440Z",
     "start_time": "2020-12-11T04:43:06.470865Z"
    }
   },
   "outputs": [],
   "source": [
    "fraction = np.load('/home/yunzheng/mock/color/data/newcatalogue/snap_92_new_new_zform.npy')\n",
    "total = fraction[:,1]\n",
    "poor = fraction[:,0]"
   ]
  },
  {
   "cell_type": "code",
   "execution_count": 166,
   "metadata": {
    "ExecuteTime": {
     "end_time": "2020-12-11T04:51:34.473772Z",
     "start_time": "2020-12-11T04:51:34.471586Z"
    }
   },
   "outputs": [],
   "source": [
    "frac = poor[1:29] / total[1:29] "
   ]
  },
  {
   "cell_type": "code",
   "execution_count": 168,
   "metadata": {
    "ExecuteTime": {
     "end_time": "2020-12-11T04:51:59.858921Z",
     "start_time": "2020-12-11T04:51:59.856120Z"
    }
   },
   "outputs": [
    {
     "data": {
      "text/plain": [
       "31.0"
      ]
     },
     "execution_count": 168,
     "metadata": {},
     "output_type": "execute_result"
    }
   ],
   "source": []
  },
  {
   "cell_type": "code",
   "execution_count": 195,
   "metadata": {
    "ExecuteTime": {
     "end_time": "2020-12-11T05:15:36.760377Z",
     "start_time": "2020-12-11T05:15:36.492819Z"
    }
   },
   "outputs": [
    {
     "data": {
      "image/png": "[encoded data removed]",
      "text/plain": [
       "<Figure size 432x288 with 1 Axes>"
      ]
     },
     "metadata": {
      "needs_background": "light"
     },
     "output_type": "display_data"
    }
   ],
   "source": [
    "plt.plot(bin_0[1:29],frac,'bo')\n",
    "plt.axhline(y=0.05, color='r', linestyle='-',label = 'Fraction = 0.05')\n",
    "plt.title(r'Fraction of poor definition subhalos')\n",
    "plt.xlabel(r' $V_{peak}$ ')\n",
    "plt.ylabel(r'$Fraction$')\n",
    "plt.legend()\n",
    "plt.savefig('/home/yunzheng/mock/color/picture/Fraction_vpeak.pdf',dpi = 100)"
   ]
  },
  {
   "cell_type": "code",
   "execution_count": 197,
   "metadata": {
    "ExecuteTime": {
     "end_time": "2020-12-11T05:40:07.046650Z",
     "start_time": "2020-12-11T05:40:02.007500Z"
    }
   },
   "outputs": [
    {
     "data": {
      "text/plain": [
       "(0.0, 500.0)"
      ]
     },
     "execution_count": 197,
     "metadata": {},
     "output_type": "execute_result"
    },
    {
     "data": {
      "image/png": "[encoded data removed]",
      "text/plain": [
       "<Figure size 432x288 with 1 Axes>"
      ]
     },
     "metadata": {
      "needs_background": "light"
     },
     "output_type": "display_data"
    }
   ],
   "source": [
    "plt.hist(vpeak,bin_0)\n",
    "plt.xlim(0,500)"
   ]
  },
  {
   "cell_type": "code",
   "execution_count": null,
   "metadata": {},
   "outputs": [],
   "source": []
  }
 ],
 "metadata": {
  "kernelspec": {
   "display_name": "Python 3",
   "language": "python",
   "name": "python3"
  },
  "language_info": {
   "codemirror_mode": {
    "name": "ipython",
    "version": 3
   },
   "file_extension": ".py",
   "mimetype": "text/x-python",
   "name": "python",
   "nbconvert_exporter": "python",
   "pygments_lexer": "ipython3",
   "version": "3.7.8"
  },
  "toc": {
   "base_numbering": 1,
   "nav_menu": {},
   "number_sections": true,
   "sideBar": true,
   "skip_h1_title": false,
   "title_cell": "Table of Contents",
   "title_sidebar": "Contents",
   "toc_cell": false,
   "toc_position": {},
   "toc_section_display": true,
   "toc_window_display": false
  }
 },
 "nbformat": 4,
 "nbformat_minor": 4
}
