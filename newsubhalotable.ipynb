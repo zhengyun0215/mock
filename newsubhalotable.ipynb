{
 "cells": [
  {
   "cell_type": "markdown",
   "metadata": {},
   "source": [
    "# load data"
   ]
  },
  {
   "cell_type": "code",
   "execution_count": 3,
   "metadata": {
    "ExecuteTime": {
     "end_time": "2020-12-13T03:31:12.627233Z",
     "start_time": "2020-12-13T03:30:54.464414Z"
    }
   },
   "outputs": [],
   "source": [
    "import numpy as np\n",
    "import h5py"
   ]
  },
  {
   "cell_type": "code",
   "execution_count": 4,
   "metadata": {
    "ExecuteTime": {
     "end_time": "2020-12-11T04:35:08.044724Z",
     "start_time": "2020-12-11T04:34:56.341977Z"
    }
   },
   "outputs": [],
   "source": [
    "import matplotlib.pyplot as plt"
   ]
  },
  {
   "cell_type": "code",
   "execution_count": 46,
   "metadata": {
    "ExecuteTime": {
     "end_time": "2020-12-04T15:44:10.851298Z",
     "start_time": "2020-12-04T15:44:04.536348Z"
    }
   },
   "outputs": [],
   "source": [
    "sub_file = []\n",
    "for i in range(10):\n",
    "    sub_file.append(h5py.File('/home/cossim/CosmicGrowth/6610/subcat2/SubSnap_00%s.hdf5'%(i),'r'))\n",
    "for i in range(10,100):\n",
    "    sub_file.append(h5py.File('/home/cossim/CosmicGrowth/6610/subcat2/SubSnap_0%s.hdf5'%(i),'r'))"
   ]
  },
  {
   "cell_type": "code",
   "execution_count": 20,
   "metadata": {
    "ExecuteTime": {
     "end_time": "2020-12-06T09:02:23.756494Z",
     "start_time": "2020-12-06T09:02:23.754101Z"
    }
   },
   "outputs": [],
   "source": [
    "redshift = np.loadtxt('/home/yunzheng/mock/orphan/redshift.txt')"
   ]
  },
  {
   "cell_type": "code",
   "execution_count": 215,
   "metadata": {
    "ExecuteTime": {
     "end_time": "2020-12-11T08:18:44.834491Z",
     "start_time": "2020-12-11T08:18:44.831594Z"
    }
   },
   "outputs": [
    {
     "data": {
      "text/plain": [
       "0.02860234256155403"
      ]
     },
     "execution_count": 215,
     "metadata": {},
     "output_type": "execute_result"
    }
   ],
   "source": [
    "redshift[98]"
   ]
  },
  {
   "cell_type": "code",
   "execution_count": 47,
   "metadata": {
    "ExecuteTime": {
     "end_time": "2020-12-11T07:20:20.186734Z",
     "start_time": "2020-12-11T07:20:20.083638Z"
    }
   },
   "outputs": [
    {
     "data": {
      "text/plain": [
       "32.20511"
      ]
     },
     "execution_count": 47,
     "metadata": {},
     "output_type": "execute_result"
    }
   ],
   "source": [
    "sub_file[92]['Subhalos'][123104252]['LastMaxVmaxPhysical']"
   ]
  },
  {
   "cell_type": "code",
   "execution_count": 174,
   "metadata": {},
   "outputs": [
    {
     "data": {
      "text/plain": [
       "dtype([('TrackId', '<i8'), ('Nbound', '<i8'), ('Mbound', '<f4'), ('HostHaloId', '<i8'), ('Rank', '<i8'), ('Depth', '<i4'), ('LastMaxMass', '<f4'), ('SnapshotIndexOfLastMaxMass', '<i4'), ('SnapshotIndexOfLastIsolation', '<i4'), ('SnapshotIndexOfBirth', '<i4'), ('SnapshotIndexOfDeath', '<i4'), ('SnapshotIndexOfSink', '<i4'), ('RmaxComoving', '<f4'), ('VmaxPhysical', '<f4'), ('LastMaxVmaxPhysical', '<f4'), ('SnapshotIndexOfLastMaxVmax', '<i4'), ('R2SigmaComoving', '<f4'), ('RHalfComoving', '<f4'), ('BoundR200CritComoving', '<f4'), ('BoundM200Crit', '<f4'), ('SpecificSelfPotentialEnergy', '<f4'), ('SpecificSelfKineticEnergy', '<f4'), ('SpecificAngularMomentum', '<f4', (3,)), ('InertialTensor', '<f4', (6,)), ('InertialTensorWeighted', '<f4', (6,)), ('ComovingAveragePosition', '<f4', (3,)), ('PhysicalAverageVelocity', '<f4', (3,)), ('ComovingMostBoundPosition', '<f4', (3,)), ('PhysicalMostBoundVelocity', '<f4', (3,)), ('MostBoundParticleId', '<i8'), ('SinkTrackId', '<i8')])"
      ]
     },
     "execution_count": 174,
     "metadata": {},
     "output_type": "execute_result"
    }
   ],
   "source": [
    "sub_file[92]['Subhalos'][2].dtype"
   ]
  },
  {
   "cell_type": "code",
   "execution_count": 16,
   "metadata": {},
   "outputs": [
    {
     "name": "stdout",
     "output_type": "stream",
     "text": [
      "89.09249\n",
      "79.321686\n",
      "91.94895\n",
      "83.69414\n",
      "86.259575\n",
      "74.242645\n",
      "73.1961\n",
      "96.93289\n",
      "80.512924\n",
      "85.27573\n",
      "82.44897\n",
      "0.0\n"
     ]
    }
   ],
   "source": [
    "for i in range(23,35):\n",
    "    print(sub_file[i]['Subhalos'][2362836]['VmaxPhysical'])"
   ]
  },
  {
   "cell_type": "code",
   "execution_count": 18,
   "metadata": {},
   "outputs": [
    {
     "data": {
      "text/plain": [
       "72.6996675"
      ]
     },
     "execution_count": 18,
     "metadata": {},
     "output_type": "execute_result"
    }
   ],
   "source": [
    "96.93289 * 0.75"
   ]
  },
  {
   "cell_type": "code",
   "execution_count": 4,
   "metadata": {
    "ExecuteTime": {
     "end_time": "2020-12-13T03:38:12.767692Z",
     "start_time": "2020-12-13T03:36:12.140303Z"
    }
   },
   "outputs": [
    {
     "ename": "KeyboardInterrupt",
     "evalue": "",
     "output_type": "error",
     "traceback": [
      "\u001b[0;31m---------------------------------------------------------------------------\u001b[0m",
      "\u001b[0;31mKeyboardInterrupt\u001b[0m                         Traceback (most recent call last)",
      "\u001b[0;32m<ipython-input-4-7f3ea420b0f2>\u001b[0m in \u001b[0;36m<module>\u001b[0;34m\u001b[0m\n\u001b[0;32m----> 1\u001b[0;31m \u001b[0msubhalo\u001b[0m \u001b[0;34m=\u001b[0m \u001b[0mnp\u001b[0m\u001b[0;34m.\u001b[0m\u001b[0mloadtxt\u001b[0m\u001b[0;34m(\u001b[0m\u001b[0;34m'/home/yunzheng/mock/subhalos_new/subhalotable/snapshot_%s.txt'\u001b[0m\u001b[0;34m%\u001b[0m\u001b[0;36m92\u001b[0m\u001b[0;34m)\u001b[0m\u001b[0;34m\u001b[0m\u001b[0;34m\u001b[0m\u001b[0m\n\u001b[0m",
      "\u001b[0;32m~/anaconda/envs/py37/lib/python3.7/site-packages/numpy/lib/npyio.py\u001b[0m in \u001b[0;36mloadtxt\u001b[0;34m(fname, dtype, comments, delimiter, converters, skiprows, usecols, unpack, ndmin, encoding, max_rows)\u001b[0m\n\u001b[1;32m   1145\u001b[0m                 \u001b[0mnshape\u001b[0m\u001b[0;34m[\u001b[0m\u001b[0;36m0\u001b[0m\u001b[0;34m]\u001b[0m \u001b[0;34m+=\u001b[0m \u001b[0mlen\u001b[0m\u001b[0;34m(\u001b[0m\u001b[0mx\u001b[0m\u001b[0;34m)\u001b[0m\u001b[0;34m\u001b[0m\u001b[0;34m\u001b[0m\u001b[0m\n\u001b[1;32m   1146\u001b[0m                 \u001b[0mX\u001b[0m\u001b[0;34m.\u001b[0m\u001b[0mresize\u001b[0m\u001b[0;34m(\u001b[0m\u001b[0mnshape\u001b[0m\u001b[0;34m,\u001b[0m \u001b[0mrefcheck\u001b[0m\u001b[0;34m=\u001b[0m\u001b[0;32mFalse\u001b[0m\u001b[0;34m)\u001b[0m\u001b[0;34m\u001b[0m\u001b[0;34m\u001b[0m\u001b[0m\n\u001b[0;32m-> 1147\u001b[0;31m                 \u001b[0mX\u001b[0m\u001b[0;34m[\u001b[0m\u001b[0mpos\u001b[0m\u001b[0;34m:\u001b[0m\u001b[0;34m,\u001b[0m \u001b[0;34m...\u001b[0m\u001b[0;34m]\u001b[0m \u001b[0;34m=\u001b[0m \u001b[0mx\u001b[0m\u001b[0;34m\u001b[0m\u001b[0;34m\u001b[0m\u001b[0m\n\u001b[0m\u001b[1;32m   1148\u001b[0m     \u001b[0;32mfinally\u001b[0m\u001b[0;34m:\u001b[0m\u001b[0;34m\u001b[0m\u001b[0;34m\u001b[0m\u001b[0m\n\u001b[1;32m   1149\u001b[0m         \u001b[0;32mif\u001b[0m \u001b[0mfown\u001b[0m\u001b[0;34m:\u001b[0m\u001b[0;34m\u001b[0m\u001b[0;34m\u001b[0m\u001b[0m\n",
      "\u001b[0;31mKeyboardInterrupt\u001b[0m: "
     ]
    }
   ],
   "source": [
    "subhalo = np.loadtxt('/home/yunzheng/mock/subhalos_new/subhalotable/snapshot_%s.txt'%92)"
   ]
  },
  {
   "cell_type": "code",
   "execution_count": null,
   "metadata": {
    "ExecuteTime": {
     "end_time": "2020-12-13T03:38:12.769319Z",
     "start_time": "2020-12-13T03:36:41.911Z"
    }
   },
   "outputs": [],
   "source": [
    "len(subhalo)"
   ]
  },
  {
   "cell_type": "code",
   "execution_count": 19,
   "metadata": {
    "ExecuteTime": {
     "end_time": "2020-12-06T13:23:27.242766Z",
     "start_time": "2020-12-06T13:23:22.778875Z"
    }
   },
   "outputs": [],
   "source": [
    "table = np.load('/home/yunzheng/mock/color/data/newcatalogue/snapshot_92_new.npy')"
   ]
  },
  {
   "cell_type": "code",
   "execution_count": 13,
   "metadata": {
    "ExecuteTime": {
     "end_time": "2020-12-06T13:51:36.970900Z",
     "start_time": "2020-12-06T13:51:36.968264Z"
    }
   },
   "outputs": [],
   "source": [
    "orphanid = table[23086613:26241654,0]"
   ]
  },
  {
   "cell_type": "code",
   "execution_count": 14,
   "metadata": {},
   "outputs": [
    {
     "data": {
      "text/plain": [
       "array([1.56404000e+05, 6.76482000e+05, 1.20828200e+06, ...,\n",
       "       1.23021443e+08, 1.23110015e+08, 1.23452839e+08])"
      ]
     },
     "execution_count": 14,
     "metadata": {},
     "output_type": "execute_result"
    }
   ],
   "source": [
    "orphanid"
   ]
  },
  {
   "cell_type": "code",
   "execution_count": 20,
   "metadata": {
    "ExecuteTime": {
     "end_time": "2020-12-06T13:51:26.296594Z",
     "start_time": "2020-12-06T13:51:26.293832Z"
    }
   },
   "outputs": [],
   "source": [
    "ztest = [1,1,1,1,1,1,1,1,1]"
   ]
  },
  {
   "cell_type": "code",
   "execution_count": 25,
   "metadata": {},
   "outputs": [],
   "source": [
    "b = np.column_stack((table[:9],ztest))"
   ]
  },
  {
   "cell_type": "code",
   "execution_count": 27,
   "metadata": {},
   "outputs": [
    {
     "data": {
      "text/plain": [
       "(9, 12)"
      ]
     },
     "execution_count": 27,
     "metadata": {},
     "output_type": "execute_result"
    }
   ],
   "source": [
    "b.shape"
   ]
  },
  {
   "cell_type": "code",
   "execution_count": 75,
   "metadata": {
    "ExecuteTime": {
     "end_time": "2020-12-06T11:44:34.221271Z",
     "start_time": "2020-12-06T11:44:20.267929Z"
    },
    "collapsed": true,
    "jupyter": {
     "outputs_hidden": true
    }
   },
   "outputs": [
    {
     "ename": "MemoryError",
     "evalue": "Unable to allocate 841. MiB for an array with shape (110166456,) and data type float64",
     "output_type": "error",
     "traceback": [
      "\u001b[0;31m---------------------------------------------------------------------------\u001b[0m",
      "\u001b[0;31mMemoryError\u001b[0m                               Traceback (most recent call last)",
      "\u001b[0;32m<ipython-input-75-1d38c4d4bd42>\u001b[0m in \u001b[0;36m<module>\u001b[0;34m\u001b[0m\n\u001b[1;32m      1\u001b[0m \u001b[0mvmax\u001b[0m \u001b[0;34m=\u001b[0m \u001b[0;34m[\u001b[0m\u001b[0;34m]\u001b[0m\u001b[0;34m\u001b[0m\u001b[0;34m\u001b[0m\u001b[0m\n\u001b[1;32m      2\u001b[0m \u001b[0;32mfor\u001b[0m \u001b[0mi\u001b[0m \u001b[0;32min\u001b[0m \u001b[0mrange\u001b[0m\u001b[0;34m(\u001b[0m\u001b[0;36m100\u001b[0m\u001b[0;34m)\u001b[0m\u001b[0;34m:\u001b[0m\u001b[0;34m\u001b[0m\u001b[0;34m\u001b[0m\u001b[0m\n\u001b[0;32m----> 3\u001b[0;31m     \u001b[0mv\u001b[0m \u001b[0;34m=\u001b[0m \u001b[0mnp\u001b[0m\u001b[0;34m.\u001b[0m\u001b[0mload\u001b[0m\u001b[0;34m(\u001b[0m\u001b[0;34m'/home/yunzheng/mock/color/data/vmax/snapshot_%s.npy'\u001b[0m\u001b[0;34m%\u001b[0m\u001b[0mi\u001b[0m\u001b[0;34m)\u001b[0m\u001b[0;34m\u001b[0m\u001b[0;34m\u001b[0m\u001b[0m\n\u001b[0m\u001b[1;32m      4\u001b[0m     \u001b[0mvmax\u001b[0m\u001b[0;34m.\u001b[0m\u001b[0mappend\u001b[0m\u001b[0;34m(\u001b[0m\u001b[0mv\u001b[0m\u001b[0;34m)\u001b[0m\u001b[0;34m\u001b[0m\u001b[0;34m\u001b[0m\u001b[0m\n",
      "\u001b[0;32m~/anaconda/envs/py37/lib/python3.7/site-packages/numpy/lib/npyio.py\u001b[0m in \u001b[0;36mload\u001b[0;34m(file, mmap_mode, allow_pickle, fix_imports, encoding)\u001b[0m\n\u001b[1;32m    438\u001b[0m             \u001b[0;32melse\u001b[0m\u001b[0;34m:\u001b[0m\u001b[0;34m\u001b[0m\u001b[0;34m\u001b[0m\u001b[0m\n\u001b[1;32m    439\u001b[0m                 return format.read_array(fid, allow_pickle=allow_pickle,\n\u001b[0;32m--> 440\u001b[0;31m                                          pickle_kwargs=pickle_kwargs)\n\u001b[0m\u001b[1;32m    441\u001b[0m         \u001b[0;32melse\u001b[0m\u001b[0;34m:\u001b[0m\u001b[0;34m\u001b[0m\u001b[0;34m\u001b[0m\u001b[0m\n\u001b[1;32m    442\u001b[0m             \u001b[0;31m# Try a pickle\u001b[0m\u001b[0;34m\u001b[0m\u001b[0;34m\u001b[0m\u001b[0;34m\u001b[0m\u001b[0m\n",
      "\u001b[0;32m~/anaconda/envs/py37/lib/python3.7/site-packages/numpy/lib/format.py\u001b[0m in \u001b[0;36mread_array\u001b[0;34m(fp, allow_pickle, pickle_kwargs)\u001b[0m\n\u001b[1;32m    739\u001b[0m         \u001b[0;32mif\u001b[0m \u001b[0misfileobj\u001b[0m\u001b[0;34m(\u001b[0m\u001b[0mfp\u001b[0m\u001b[0;34m)\u001b[0m\u001b[0;34m:\u001b[0m\u001b[0;34m\u001b[0m\u001b[0;34m\u001b[0m\u001b[0m\n\u001b[1;32m    740\u001b[0m             \u001b[0;31m# We can use the fast fromfile() function.\u001b[0m\u001b[0;34m\u001b[0m\u001b[0;34m\u001b[0m\u001b[0;34m\u001b[0m\u001b[0m\n\u001b[0;32m--> 741\u001b[0;31m             \u001b[0marray\u001b[0m \u001b[0;34m=\u001b[0m \u001b[0mnumpy\u001b[0m\u001b[0;34m.\u001b[0m\u001b[0mfromfile\u001b[0m\u001b[0;34m(\u001b[0m\u001b[0mfp\u001b[0m\u001b[0;34m,\u001b[0m \u001b[0mdtype\u001b[0m\u001b[0;34m=\u001b[0m\u001b[0mdtype\u001b[0m\u001b[0;34m,\u001b[0m \u001b[0mcount\u001b[0m\u001b[0;34m=\u001b[0m\u001b[0mcount\u001b[0m\u001b[0;34m)\u001b[0m\u001b[0;34m\u001b[0m\u001b[0;34m\u001b[0m\u001b[0m\n\u001b[0m\u001b[1;32m    742\u001b[0m         \u001b[0;32melse\u001b[0m\u001b[0;34m:\u001b[0m\u001b[0;34m\u001b[0m\u001b[0;34m\u001b[0m\u001b[0m\n\u001b[1;32m    743\u001b[0m             \u001b[0;31m# This is not a real file. We have to read it the\u001b[0m\u001b[0;34m\u001b[0m\u001b[0;34m\u001b[0m\u001b[0;34m\u001b[0m\u001b[0m\n",
      "\u001b[0;31mMemoryError\u001b[0m: Unable to allocate 841. MiB for an array with shape (110166456,) and data type float64"
     ]
    }
   ],
   "source": [
    "vmax = []\n",
    "for i in range(100):\n",
    "    v = np.load('/home/yunzheng/mock/color/data/vmax/snapshot_%s.npy'%i)\n",
    "    vmax.append(v)"
   ]
  },
  {
   "cell_type": "code",
   "execution_count": 129,
   "metadata": {
    "ExecuteTime": {
     "end_time": "2020-12-08T05:03:21.577342Z",
     "start_time": "2020-12-08T05:03:21.574566Z"
    }
   },
   "outputs": [
    {
     "data": {
      "text/plain": [
       "41"
      ]
     },
     "execution_count": 129,
     "metadata": {},
     "output_type": "execute_result"
    }
   ],
   "source": [
    "len(vmax)"
   ]
  },
  {
   "cell_type": "markdown",
   "metadata": {},
   "source": [
    "# zform collection"
   ]
  },
  {
   "cell_type": "code",
   "execution_count": 124,
   "metadata": {
    "ExecuteTime": {
     "end_time": "2020-12-06T13:25:22.361936Z",
     "start_time": "2020-12-06T13:25:22.341039Z"
    },
    "collapsed": true,
    "jupyter": {
     "outputs_hidden": true
    }
   },
   "outputs": [
    {
     "name": "stdout",
     "output_type": "stream",
     "text": [
      "The subhalo id is 2\n",
      "The vpeak is 306.27947998046875\n",
      "The vform is 229.70960998535156\n",
      "The snapshot of vpeak is 53\n",
      "The snapshot of birth is 0\n",
      "This subhalo couldn't interpolate\n",
      "The snapshot number is 0\n",
      "This subhalo couldn't interpolate\n",
      "The snapshot number is 1\n",
      "This subhalo couldn't interpolate\n",
      "The snapshot number is 2\n",
      "This subhalo couldn't interpolate\n",
      "The snapshot number is 3\n",
      "This subhalo couldn't interpolate\n",
      "The snapshot number is 4\n",
      "This subhalo couldn't interpolate\n",
      "The snapshot number is 5\n",
      "This subhalo couldn't interpolate\n",
      "The snapshot number is 6\n",
      "This subhalo couldn't interpolate\n",
      "The snapshot number is 7\n",
      "This subhalo couldn't interpolate\n",
      "The snapshot number is 8\n",
      "This subhalo couldn't interpolate\n",
      "The snapshot number is 9\n",
      "This subhalo couldn't interpolate\n",
      "The snapshot number is 10\n",
      "This subhalo couldn't interpolate\n",
      "The snapshot number is 11\n",
      "This subhalo couldn't interpolate\n",
      "The snapshot number is 12\n",
      "This subhalo couldn't interpolate\n",
      "The snapshot number is 13\n",
      "The snapshot of interpretation is between 14 and 15 .\n",
      "The first redshift is 10.60817231932476\n",
      "The next redshift is 10.24519172362668\n",
      "The first vmax is 214.13926696777344\n",
      "The next vmax is 254.34100341796875\n",
      "The interplated redshift is 10.467588034097536\n",
      "The snapshot number is 14\n",
      "The snapshot number is 14\n",
      "The subhalo id is 3\n",
      "The vpeak is 489.8222351074219\n",
      "The vform is 367.3666763305664\n",
      "The snapshot of vpeak is 88\n",
      "The snapshot of birth is 1\n",
      "This subhalo couldn't interpolate\n",
      "The snapshot number is 1\n",
      "This subhalo couldn't interpolate\n",
      "The snapshot number is 2\n",
      "This subhalo couldn't interpolate\n",
      "The snapshot number is 3\n",
      "This subhalo couldn't interpolate\n",
      "The snapshot number is 4\n",
      "This subhalo couldn't interpolate\n",
      "The snapshot number is 5\n",
      "This subhalo couldn't interpolate\n",
      "The snapshot number is 6\n",
      "This subhalo couldn't interpolate\n",
      "The snapshot number is 7\n",
      "This subhalo couldn't interpolate\n",
      "The snapshot number is 8\n",
      "This subhalo couldn't interpolate\n",
      "The snapshot number is 9\n",
      "This subhalo couldn't interpolate\n",
      "The snapshot number is 10\n",
      "This subhalo couldn't interpolate\n",
      "The snapshot number is 11\n",
      "This subhalo couldn't interpolate\n",
      "The snapshot number is 12\n",
      "This subhalo couldn't interpolate\n",
      "The snapshot number is 13\n",
      "This subhalo couldn't interpolate\n",
      "The snapshot number is 14\n",
      "This subhalo couldn't interpolate\n",
      "The snapshot number is 15\n",
      "This subhalo couldn't interpolate\n",
      "The snapshot number is 16\n",
      "This subhalo couldn't interpolate\n",
      "The snapshot number is 17\n",
      "This subhalo couldn't interpolate\n",
      "The snapshot number is 18\n",
      "This subhalo couldn't interpolate\n",
      "The snapshot number is 19\n",
      "This subhalo couldn't interpolate\n",
      "The snapshot number is 20\n",
      "This subhalo couldn't interpolate\n",
      "The snapshot number is 21\n",
      "This subhalo couldn't interpolate\n",
      "The snapshot number is 22\n",
      "This subhalo couldn't interpolate\n",
      "The snapshot number is 23\n",
      "This subhalo couldn't interpolate\n",
      "The snapshot number is 24\n",
      "This subhalo couldn't interpolate\n",
      "The snapshot number is 25\n",
      "This subhalo couldn't interpolate\n",
      "The snapshot number is 26\n",
      "This subhalo couldn't interpolate\n",
      "The snapshot number is 27\n",
      "This subhalo couldn't interpolate\n",
      "The snapshot number is 28\n",
      "This subhalo couldn't interpolate\n",
      "The snapshot number is 29\n",
      "This subhalo couldn't interpolate\n",
      "The snapshot number is 30\n",
      "This subhalo couldn't interpolate\n",
      "The snapshot number is 31\n",
      "This subhalo couldn't interpolate\n",
      "The snapshot number is 32\n",
      "This subhalo couldn't interpolate\n",
      "The snapshot number is 33\n",
      "This subhalo couldn't interpolate\n",
      "The snapshot number is 34\n",
      "This subhalo couldn't interpolate\n",
      "The snapshot number is 35\n",
      "This subhalo couldn't interpolate\n",
      "The snapshot number is 36\n",
      "This subhalo couldn't interpolate\n",
      "The snapshot number is 37\n",
      "This subhalo couldn't interpolate\n",
      "The snapshot number is 38\n",
      "This subhalo couldn't interpolate\n",
      "The snapshot number is 39\n"
     ]
    },
    {
     "ename": "IndexError",
     "evalue": "list index out of range",
     "output_type": "error",
     "traceback": [
      "\u001b[0;31m---------------------------------------------------------------------------\u001b[0m",
      "\u001b[0;31mIndexError\u001b[0m                                Traceback (most recent call last)",
      "\u001b[0;32m<ipython-input-124-bd5a629bbc71>\u001b[0m in \u001b[0;36m<module>\u001b[0;34m\u001b[0m\n\u001b[1;32m     19\u001b[0m \u001b[0;34m\u001b[0m\u001b[0m\n\u001b[1;32m     20\u001b[0m         \u001b[0;32mfor\u001b[0m \u001b[0mk\u001b[0m \u001b[0;32min\u001b[0m \u001b[0mrange\u001b[0m\u001b[0;34m(\u001b[0m\u001b[0mvbirth\u001b[0m\u001b[0;34m,\u001b[0m\u001b[0mvsnap\u001b[0m\u001b[0;34m)\u001b[0m\u001b[0;34m:\u001b[0m\u001b[0;34m\u001b[0m\u001b[0;34m\u001b[0m\u001b[0m\n\u001b[0;32m---> 21\u001b[0;31m             \u001b[0;32mif\u001b[0m \u001b[0mvmax\u001b[0m\u001b[0;34m[\u001b[0m\u001b[0mk\u001b[0m\u001b[0;34m]\u001b[0m\u001b[0;34m[\u001b[0m\u001b[0mid_sub\u001b[0m\u001b[0;34m]\u001b[0m\u001b[0;34m[\u001b[0m\u001b[0;36m1\u001b[0m\u001b[0;34m]\u001b[0m \u001b[0;34m<=\u001b[0m \u001b[0mvform\u001b[0m \u001b[0;34m<\u001b[0m \u001b[0mvmax\u001b[0m\u001b[0;34m[\u001b[0m\u001b[0mk\u001b[0m\u001b[0;34m+\u001b[0m\u001b[0;36m1\u001b[0m\u001b[0;34m]\u001b[0m\u001b[0;34m[\u001b[0m\u001b[0mid_sub\u001b[0m\u001b[0;34m]\u001b[0m\u001b[0;34m[\u001b[0m\u001b[0;36m1\u001b[0m\u001b[0;34m]\u001b[0m\u001b[0;34m:\u001b[0m\u001b[0;34m\u001b[0m\u001b[0;34m\u001b[0m\u001b[0m\n\u001b[0m\u001b[1;32m     22\u001b[0m \u001b[0;34m\u001b[0m\u001b[0m\n\u001b[1;32m     23\u001b[0m                 \u001b[0mprint\u001b[0m\u001b[0;34m(\u001b[0m\u001b[0;34m'The snapshot of interpretation is between %s and %s .'\u001b[0m\u001b[0;34m%\u001b[0m\u001b[0;34m(\u001b[0m\u001b[0mk\u001b[0m\u001b[0;34m,\u001b[0m\u001b[0mk\u001b[0m\u001b[0;34m+\u001b[0m\u001b[0;36m1\u001b[0m\u001b[0;34m)\u001b[0m\u001b[0;34m)\u001b[0m\u001b[0;34m\u001b[0m\u001b[0;34m\u001b[0m\u001b[0m\n",
      "\u001b[0;31mIndexError\u001b[0m: list index out of range"
     ]
    }
   ],
   "source": [
    "z_form = []\n",
    "for i in range(20):\n",
    "    id_sub = int(table[i][0])\n",
    "    vpeak = table[i][1]\n",
    "    vform = vpeak * 0.75\n",
    "    vsnap = int(table[i][2])\n",
    "    vbirth = int(table[i][3])\n",
    "    print('The subhalo id is %s'%(id_sub))\n",
    "    print('The vpeak is %s'%(table[i][1]))\n",
    "    print('The vform is %s'%(vform))\n",
    "#     print('The vpeak snapshot is %s'%(vsnap))\n",
    "    \n",
    "    if vsnap == vbirth:\n",
    "        print('The snapshot of vpeak equals to the birthsnap :%s'%vbirth)\n",
    "        z_form.append(redshift[vsnap])\n",
    "    else:\n",
    "        print('The snapshot of vpeak is %s'%vsnap)\n",
    "        print('The snapshot of birth is %s'%vbirth)\n",
    "        \n",
    "        for k in range(vbirth,vsnap):\n",
    "            if vmax[k][id_sub][1] <= vform < vmax[k+1][id_sub][1]:\n",
    "                \n",
    "                print('The snapshot of interpretation is between %s and %s .'%(k,k+1))\n",
    "                print('The first redshift is %s'%(redshift[k]))\n",
    "                print('The next redshift is %s'%(redshift[k+1]))\n",
    "                print('The first vmax is %s'%(vmax[k][id_sub][1]))\n",
    "                print('The next vmax is %s'%(vmax[k+1][id_sub][1]))\n",
    "                \n",
    "                interp_v = [vmax[k][id_sub][1],vmax[k+1][id_sub][1]]\n",
    "                interp_z = [redshift[k],redshift[k+1]]\n",
    "                red_new = np.interp(vform,interp_v,interp_z)\n",
    "                print('The interplated redshift is %s'%red_new)\n",
    "#                 z_form.append(red_new)\n",
    "                print('The snapshot number is %d'%k)\n",
    "                break\n",
    "                \n",
    "            else:\n",
    "                print(\"This subhalo couldn't interpolate\")\n",
    "                red_new = redshift[vbirth]\n",
    "#                 z_form.append(redshift[vbirth])\n",
    "                print('The snapshot number is %d'%k)\n",
    "    \n",
    "    \n",
    "        print('The snapshot number is %d'%k)\n",
    "        z_form.append(red_new)\n",
    "              \n"
   ]
  },
  {
   "cell_type": "code",
   "execution_count": 115,
   "metadata": {
    "ExecuteTime": {
     "end_time": "2020-12-06T12:56:01.365114Z",
     "start_time": "2020-12-06T12:56:01.362365Z"
    }
   },
   "outputs": [
    {
     "data": {
      "text/plain": [
       "1"
      ]
     },
     "execution_count": 115,
     "metadata": {},
     "output_type": "execute_result"
    }
   ],
   "source": [
    "len(z_form)"
   ]
  },
  {
   "cell_type": "code",
   "execution_count": 116,
   "metadata": {
    "ExecuteTime": {
     "end_time": "2020-12-06T12:56:03.177699Z",
     "start_time": "2020-12-06T12:56:03.174992Z"
    }
   },
   "outputs": [
    {
     "data": {
      "text/plain": [
       "[10.467588034097536]"
      ]
     },
     "execution_count": 116,
     "metadata": {},
     "output_type": "execute_result"
    }
   ],
   "source": [
    "z_form"
   ]
  },
  {
   "cell_type": "markdown",
   "metadata": {},
   "source": [
    "# $v_{peak} $ bin compararison"
   ]
  },
  {
   "cell_type": "code",
   "execution_count": 202,
   "metadata": {
    "ExecuteTime": {
     "end_time": "2020-12-11T04:28:31.394496Z",
     "start_time": "2020-12-11T04:28:25.955251Z"
    }
   },
   "outputs": [],
   "source": [
    "table = np.load('/home/yunzheng/mock/color/data/newcatalogue/snap_92_new_with_zform.npy')"
   ]
  },
  {
   "cell_type": "code",
   "execution_count": 203,
   "metadata": {
    "ExecuteTime": {
     "end_time": "2020-12-11T04:30:02.464058Z",
     "start_time": "2020-12-11T04:30:02.461620Z"
    }
   },
   "outputs": [],
   "source": [
    "subid = table[:,0]\n",
    "vpeak = table[:,1]\n",
    "zform = table[:,11]"
   ]
  },
  {
   "cell_type": "code",
   "execution_count": 204,
   "metadata": {},
   "outputs": [],
   "source": [
    "stag = np.argsort(vpeak)\n",
    "subid = subid[stag]\n",
    "vpeak = vpeak[stag]\n",
    "zform = zform[stag]"
   ]
  },
  {
   "cell_type": "code",
   "execution_count": 63,
   "metadata": {},
   "outputs": [],
   "source": [
    "subid = np.array(subid,dtype='int')"
   ]
  },
  {
   "cell_type": "code",
   "execution_count": 122,
   "metadata": {},
   "outputs": [],
   "source": [
    "# subid[0]"
   ]
  },
  {
   "cell_type": "code",
   "execution_count": 119,
   "metadata": {},
   "outputs": [],
   "source": [
    "# table[-1]"
   ]
  },
  {
   "cell_type": "code",
   "execution_count": 120,
   "metadata": {},
   "outputs": [],
   "source": [
    "# subid[1]"
   ]
  },
  {
   "cell_type": "code",
   "execution_count": 35,
   "metadata": {},
   "outputs": [
    {
     "name": "stdout",
     "output_type": "stream",
     "text": [
      "32.205108642578125\n",
      "0.2890629369941624\n"
     ]
    }
   ],
   "source": [
    "print(vpeak[])\n",
    "print(zform[1])"
   ]
  },
  {
   "cell_type": "code",
   "execution_count": 37,
   "metadata": {},
   "outputs": [],
   "source": [
    "vpeak_s = vpeak[:23086613]\n",
    "vpeak_o = vpeak[23086613:]"
   ]
  },
  {
   "cell_type": "code",
   "execution_count": 41,
   "metadata": {},
   "outputs": [],
   "source": [
    "zform_s = zform[:23086613]\n",
    "zform_o = zform[23086613:]"
   ]
  },
  {
   "cell_type": "markdown",
   "metadata": {},
   "source": [
    "### 对subhalo和orphan分别统计分bin"
   ]
  },
  {
   "cell_type": "code",
   "execution_count": 205,
   "metadata": {
    "ExecuteTime": {
     "end_time": "2020-12-11T04:30:35.365872Z",
     "start_time": "2020-12-11T04:30:34.328925Z"
    }
   },
   "outputs": [],
   "source": [
    "######对整体\n",
    "bin_0 = np.arange(30,1841,5)\n",
    "inds = np.digitize(vpeak,bin_0)\n",
    "# ######对subhalo\n",
    "# bin_sub = np.arange(30,1841,5)\n",
    "# inds_sub = np.digitize(vpeak_s,bin_sub)\n",
    "# #######对orphan\n",
    "# bin_o = np.arange(30,796,5)\n",
    "# inds_o = np.digitize(vpeak_o,bin_o)"
   ]
  },
  {
   "cell_type": "code",
   "execution_count": 23,
   "metadata": {},
   "outputs": [
    {
     "name": "stdout",
     "output_type": "stream",
     "text": [
      "363\n"
     ]
    }
   ],
   "source": [
    "print(len(bin_0))\n",
    "# print(len(bin_sub))\n",
    "# print(len(bin_o))"
   ]
  },
  {
   "cell_type": "code",
   "execution_count": 164,
   "metadata": {},
   "outputs": [
    {
     "data": {
      "text/plain": [
       "1530"
      ]
     },
     "execution_count": 164,
     "metadata": {},
     "output_type": "execute_result"
    }
   ],
   "source": [
    "bin_0[300]"
   ]
  },
  {
   "cell_type": "markdown",
   "metadata": {},
   "source": [
    "## 分bin存vpeak和相应的zform"
   ]
  },
  {
   "cell_type": "code",
   "execution_count": 206,
   "metadata": {
    "ExecuteTime": {
     "end_time": "2020-12-11T04:30:59.690421Z",
     "start_time": "2020-12-11T04:30:40.747066Z"
    }
   },
   "outputs": [],
   "source": [
    "zform_sta = [[]for _ in range(363)]\n",
    "vpeak_sta = [[]for _ in range(363)]\n",
    "subid_sta = [[]for _ in range(363)]\n",
    "for n in range(len(vpeak)):\n",
    "    vpeak_sta[inds[n]].append(vpeak[n])\n",
    "    zform_sta[inds[n]].append(zform[n])\n",
    "    subid_sta[inds[n]].append(subid[n])"
   ]
  },
  {
   "cell_type": "code",
   "execution_count": 158,
   "metadata": {
    "collapsed": true,
    "jupyter": {
     "outputs_hidden": true
    }
   },
   "outputs": [
    {
     "name": "stdout",
     "output_type": "stream",
     "text": [
      "2\n",
      "1\n",
      "5\n",
      "1\n",
      "1\n",
      "2\n",
      "2\n",
      "2\n",
      "2\n",
      "1\n",
      "1\n",
      "2\n",
      "1\n",
      "1\n",
      "2\n",
      "1\n",
      "2\n",
      "3\n",
      "0\n",
      "1\n",
      "0\n",
      "1\n",
      "0\n",
      "0\n",
      "1\n",
      "0\n",
      "2\n",
      "2\n",
      "0\n",
      "1\n",
      "0\n",
      "1\n",
      "1\n",
      "1\n",
      "1\n",
      "1\n",
      "1\n",
      "1\n",
      "0\n",
      "0\n",
      "0\n",
      "2\n",
      "0\n",
      "0\n",
      "1\n",
      "1\n",
      "0\n",
      "2\n",
      "0\n",
      "0\n"
     ]
    }
   ],
   "source": [
    "for i in range(250,300):\n",
    "    print(len(vpeak_sta[i]))"
   ]
  },
  {
   "cell_type": "code",
   "execution_count": 184,
   "metadata": {},
   "outputs": [],
   "source": [
    "# for i in range(8,30):\n",
    "#     print(sub_file[i]['Subhalos'][4148]['LastMaxVmaxPhysical'])"
   ]
  },
  {
   "cell_type": "code",
   "execution_count": 209,
   "metadata": {},
   "outputs": [],
   "source": [
    "# 尝试把subhalo信息都存成一行方便查找\n",
    "vpeak_bin = [[]for _ in range(363)]\n",
    "for n in range(len(vpeak)):\n",
    "    sub_info = np.array((int(subid[n]),vpeak[n],zform[n]))\n",
    "    vpeak_bin[inds[n]].append(sub_info)"
   ]
  },
  {
   "cell_type": "code",
   "execution_count": 165,
   "metadata": {},
   "outputs": [],
   "source": [
    "aaa = np.array(6)"
   ]
  },
  {
   "cell_type": "code",
   "execution_count": 185,
   "metadata": {},
   "outputs": [],
   "source": [
    "# v_hist = np.histogram(aaa,bin_red)[0]\n",
    "# cdf = np.cumsum(v_hist/sum(v_hist))\n",
    "# plt.plot(bin_red[1:],cdf)"
   ]
  },
  {
   "cell_type": "code",
   "execution_count": 42,
   "metadata": {},
   "outputs": [],
   "source": [
    "zform_sub = [[]for _ in range(363)]\n",
    "vpeak_sub = [[]for _ in range(363)]\n",
    "for n in range(len(vpeak_s)):\n",
    "    vpeak_sub[inds_sub[n]].append(vpeak_s[n])\n",
    "    zform_sub[inds_sub[n]].append(zform_s[n])"
   ]
  },
  {
   "cell_type": "code",
   "execution_count": 44,
   "metadata": {},
   "outputs": [],
   "source": [
    "zform_orp = [[]for _ in range(154)]\n",
    "vpeak_orp = [[]for _ in range(154)]\n",
    "for n in range(len(vpeak_o)):\n",
    "    vpeak_orp[inds_o[n]].append(vpeak_o[n])\n",
    "    zform_orp[inds_o[n]].append(zform_o[n])"
   ]
  },
  {
   "cell_type": "code",
   "execution_count": 95,
   "metadata": {},
   "outputs": [],
   "source": [
    "len_vpeak = []\n",
    "for i in range(363):\n",
    "    len_vpeak.append(len(vpeak_sta[i]))"
   ]
  },
  {
   "cell_type": "code",
   "execution_count": 99,
   "metadata": {},
   "outputs": [],
   "source": [
    "len_orphan =[]\n",
    "for i in range(154):\n",
    "    len_orphan.append(len(vpeak_orp[i]))"
   ]
  },
  {
   "cell_type": "code",
   "execution_count": 71,
   "metadata": {},
   "outputs": [],
   "source": [
    "orp_frac = []\n",
    "sub_frac = []\n",
    "for i in range(1,154):\n",
    "    orp_frac.append(len(vpeak_orp[i])/len(vpeak_sta[i]))\n",
    "    sub_frac.append(len(vpeak_sub[i])/len(vpeak_sta[i]))"
   ]
  },
  {
   "cell_type": "code",
   "execution_count": 112,
   "metadata": {
    "collapsed": true,
    "jupyter": {
     "outputs_hidden": true
    }
   },
   "outputs": [
    {
     "data": {
      "text/plain": [
       "[54.713619232177734,\n",
       " 53.92045211791992,\n",
       " 54.80073165893555,\n",
       " 52.96757125854492,\n",
       " 51.884273529052734,\n",
       " 54.713619232177734,\n",
       " 54.70756912231445,\n",
       " 53.92045211791992,\n",
       " 53.160804748535156,\n",
       " 53.83265686035156,\n",
       " 54.631431579589844,\n",
       " 51.657135009765625,\n",
       " 54.373291015625,\n",
       " 53.90187454223633,\n",
       " 54.59855651855469,\n",
       " 54.56669998168945,\n",
       " 54.43025588989258,\n",
       " 51.42316818237305,\n",
       " 54.26779556274414,\n",
       " 54.89561462402344,\n",
       " 50.27521514892578,\n",
       " 54.713619232177734,\n",
       " 54.37729263305664,\n",
       " 50.91527557373047,\n",
       " 54.71036911010742,\n",
       " 54.093135833740234,\n",
       " 51.85139465332031,\n",
       " 54.713619232177734,\n",
       " 53.160804748535156,\n",
       " 54.913108825683594,\n",
       " 51.657135009765625,\n",
       " 51.657135009765625,\n",
       " 54.52949905395508,\n",
       " 50.187103271484375,\n",
       " 51.902671813964844,\n",
       " 52.554725646972656,\n",
       " 54.628379821777344,\n",
       " 50.22985076904297,\n",
       " 54.446128845214844,\n",
       " 53.92045211791992,\n",
       " 54.652225494384766,\n",
       " 51.657135009765625,\n",
       " 52.658878326416016,\n",
       " 51.657135009765625,\n",
       " 54.372737884521484,\n",
       " 52.51715087890625,\n",
       " 53.275516510009766,\n",
       " 54.13755798339844,\n",
       " 53.88905334472656,\n",
       " 52.963924407958984,\n",
       " 51.575557708740234,\n",
       " 53.09560775756836,\n",
       " 54.86821746826172,\n",
       " 53.020320892333984,\n",
       " 54.602134704589844,\n",
       " 54.713619232177734,\n",
       " 53.92045211791992,\n",
       " 54.36623001098633,\n",
       " 52.39279556274414,\n",
       " 53.66986083984375,\n",
       " 53.826717376708984,\n",
       " 53.36640930175781,\n",
       " 54.579750061035156,\n",
       " 50.91527557373047,\n",
       " 54.75816345214844,\n",
       " 50.187103271484375,\n",
       " 54.840301513671875,\n",
       " 54.386837005615234,\n",
       " 50.901893615722656,\n",
       " 53.05078125,\n",
       " 54.363346099853516,\n",
       " 53.95742416381836,\n",
       " 53.1905632019043,\n",
       " 54.97011947631836,\n",
       " 52.440406799316406,\n",
       " 52.39279556274414,\n",
       " 54.489990234375,\n",
       " 52.2166862487793,\n",
       " 52.62441635131836,\n",
       " 51.64051055908203,\n",
       " 51.44866180419922,\n",
       " 53.43792724609375,\n",
       " 53.02411651611328,\n",
       " 51.41313934326172,\n",
       " 52.40067672729492,\n",
       " 51.342933654785156,\n",
       " 52.83488464355469,\n",
       " 53.92045211791992,\n",
       " 54.174964904785156,\n",
       " 51.657135009765625,\n",
       " 54.913780212402344,\n",
       " 53.806671142578125,\n",
       " 52.86345672607422,\n",
       " 54.77970504760742,\n",
       " 54.46673583984375,\n",
       " 50.92597579956055,\n",
       " 53.68401336669922,\n",
       " 53.43516540527344,\n",
       " 54.679603576660156,\n",
       " 52.4927864074707,\n",
       " 51.898677825927734,\n",
       " 50.77534103393555,\n",
       " 51.170623779296875,\n",
       " 53.524757385253906,\n",
       " 54.523033142089844,\n",
       " 54.80324935913086,\n",
       " 52.169700622558594,\n",
       " 54.713619232177734,\n",
       " 53.160804748535156,\n",
       " 51.657135009765625,\n",
       " 51.657135009765625,\n",
       " 53.170841217041016,\n",
       " 51.657135009765625,\n",
       " 51.58301544189453,\n",
       " 53.58852005004883,\n",
       " 53.898094177246094,\n",
       " 54.917118072509766,\n",
       " 53.61560821533203,\n",
       " 54.507293701171875,\n",
       " 53.113319396972656,\n",
       " 53.92633819580078,\n",
       " 54.43320846557617,\n",
       " 53.491661071777344,\n",
       " 53.857025146484375,\n",
       " 53.48759460449219,\n",
       " 53.1817741394043,\n",
       " 53.8162841796875,\n",
       " 51.94717025756836,\n",
       " 53.26299285888672,\n",
       " 53.478363037109375,\n",
       " 54.36463928222656,\n",
       " 54.05331039428711,\n",
       " 54.59553527832031,\n",
       " 53.160804748535156,\n",
       " 51.657135009765625,\n",
       " 53.83063507080078,\n",
       " 52.967735290527344,\n",
       " 52.85456848144531,\n",
       " 52.46630096435547,\n",
       " 51.554386138916016,\n",
       " 54.801395416259766,\n",
       " 54.23685073852539,\n",
       " 52.757850646972656,\n",
       " 51.429779052734375,\n",
       " 51.69302749633789,\n",
       " 50.168182373046875,\n",
       " 53.56979751586914,\n",
       " 54.363521575927734,\n",
       " 54.811641693115234,\n",
       " 53.50955581665039,\n",
       " 52.622161865234375,\n",
       " 53.19638442993164,\n",
       " 51.36199951171875,\n",
       " 51.16464614868164,\n",
       " 54.153560638427734,\n",
       " 51.538963317871094,\n",
       " 51.433990478515625,\n",
       " 50.087284088134766,\n",
       " 53.92045211791992,\n",
       " 54.83991622924805,\n",
       " 50.91527557373047,\n",
       " 52.259098052978516,\n",
       " 53.491920471191406,\n",
       " 52.38815689086914,\n",
       " 54.960906982421875,\n",
       " 54.578857421875,\n",
       " 54.373043060302734,\n",
       " 53.07133865356445,\n",
       " 53.11976623535156,\n",
       " 53.6663818359375,\n",
       " 54.02870559692383,\n",
       " 52.93281936645508,\n",
       " 53.04732894897461,\n",
       " 54.815834045410156,\n",
       " 53.57587432861328,\n",
       " 52.61054229736328,\n",
       " 54.5369873046875,\n",
       " 53.72447204589844,\n",
       " 54.22753143310547,\n",
       " 52.54866409301758,\n",
       " 54.77180862426758,\n",
       " 54.683815002441406,\n",
       " 53.718326568603516,\n",
       " 51.74085235595703,\n",
       " 54.70067596435547,\n",
       " 51.55825424194336,\n",
       " 54.18805694580078,\n",
       " 52.29811096191406,\n",
       " 53.78726577758789,\n",
       " 54.15860366821289,\n",
       " 51.878753662109375,\n",
       " 53.98927688598633,\n",
       " 52.922882080078125,\n",
       " 53.0401496887207,\n",
       " 54.8583984375,\n",
       " 50.876708984375,\n",
       " 51.23433303833008,\n",
       " 53.12591552734375,\n",
       " 53.92045211791992,\n",
       " 53.160804748535156,\n",
       " 54.838226318359375,\n",
       " 54.929195404052734,\n",
       " 54.53894805908203,\n",
       " 51.95585632324219,\n",
       " 53.94850158691406,\n",
       " 51.07244873046875,\n",
       " 54.62453842163086,\n",
       " 53.70474624633789,\n",
       " 54.90290069580078,\n",
       " 54.809043884277344,\n",
       " 53.7992057800293,\n",
       " 54.68379211425781,\n",
       " 54.500667572021484,\n",
       " 54.09468078613281,\n",
       " 53.15394973754883,\n",
       " 52.30427169799805,\n",
       " 54.36049270629883,\n",
       " 53.91352081298828,\n",
       " 53.13631057739258,\n",
       " 52.40692138671875,\n",
       " 52.73509216308594,\n",
       " 54.621700286865234,\n",
       " 53.95323181152344,\n",
       " 53.499576568603516,\n",
       " 54.72145462036133,\n",
       " 52.97471237182617,\n",
       " 54.650272369384766,\n",
       " 54.06647491455078,\n",
       " 54.90290069580078,\n",
       " 54.20455551147461,\n",
       " 52.22694396972656,\n",
       " 54.45618438720703,\n",
       " 54.574607849121094,\n",
       " 51.53498077392578,\n",
       " 53.61675262451172,\n",
       " 50.922786712646484,\n",
       " 54.82228469848633,\n",
       " 54.10183334350586,\n",
       " 54.123374938964844,\n",
       " 54.713619232177734,\n",
       " 54.064178466796875,\n",
       " 53.92045211791992,\n",
       " 53.160804748535156,\n",
       " 54.85667037963867,\n",
       " 54.90290069580078,\n",
       " 53.34239196777344,\n",
       " 53.12762451171875,\n",
       " 54.68968963623047,\n",
       " 53.26872634887695,\n",
       " 53.2598762512207,\n",
       " 53.58085250854492,\n",
       " 54.80841827392578,\n",
       " 52.364173889160156,\n",
       " 53.70281982421875,\n",
       " 50.417999267578125,\n",
       " 54.94345474243164,\n",
       " 54.01472473144531,\n",
       " 53.99949264526367,\n",
       " 54.19071578979492,\n",
       " 51.8826904296875,\n",
       " 52.426605224609375,\n",
       " 53.5186653137207,\n",
       " 54.521358489990234,\n",
       " 53.51629638671875,\n",
       " 51.129127502441406,\n",
       " 53.366092681884766,\n",
       " 54.143898010253906,\n",
       " 50.63874816894531,\n",
       " 52.3681640625,\n",
       " 53.465885162353516,\n",
       " 54.828041076660156,\n",
       " 54.709930419921875,\n",
       " 52.60651397705078,\n",
       " 54.248653411865234,\n",
       " 54.276100158691406,\n",
       " 54.51388168334961,\n",
       " 53.42730712890625,\n",
       " 54.060482025146484,\n",
       " 50.24288558959961,\n",
       " 54.18459701538086,\n",
       " 52.52828598022461,\n",
       " 54.715309143066406,\n",
       " 54.123374938964844,\n",
       " 52.7199592590332,\n",
       " 51.866127014160156,\n",
       " 53.35324478149414,\n",
       " 53.365684509277344,\n",
       " 52.67361831665039,\n",
       " 52.082698822021484,\n",
       " 54.123374938964844,\n",
       " 51.289676666259766,\n",
       " 52.9948616027832,\n",
       " 54.83391571044922,\n",
       " 53.90549087524414,\n",
       " 51.53233337402344,\n",
       " 53.14906692504883,\n",
       " 54.37470245361328,\n",
       " 54.00870132446289,\n",
       " 54.67147445678711,\n",
       " 54.90290069580078,\n",
       " 52.463401794433594,\n",
       " 53.92045211791992,\n",
       " 54.89420700073242,\n",
       " 53.49250793457031,\n",
       " 54.90290069580078,\n",
       " 50.91527557373047,\n",
       " 51.9913444519043,\n",
       " 53.29591369628906,\n",
       " 54.26925277709961,\n",
       " 54.79978561401367,\n",
       " 54.23332977294922,\n",
       " 53.388423919677734,\n",
       " 53.37962341308594,\n",
       " 54.42227554321289,\n",
       " 50.894935607910156,\n",
       " 52.91009521484375,\n",
       " 53.5418586730957,\n",
       " 54.90290069580078,\n",
       " 54.90290069580078,\n",
       " 54.78357696533203,\n",
       " 54.90290069580078,\n",
       " 52.428653717041016,\n",
       " 53.509254455566406,\n",
       " 52.161407470703125,\n",
       " 53.57188034057617,\n",
       " 53.29710388183594,\n",
       " 50.27800750732422,\n",
       " 53.228065490722656,\n",
       " 54.90290069580078,\n",
       " 54.123374938964844,\n",
       " 54.207767486572266,\n",
       " 54.90290069580078,\n",
       " 54.134395599365234,\n",
       " 54.20537185668945,\n",
       " 54.17319107055664,\n",
       " 53.12485122680664,\n",
       " 52.5405387878418,\n",
       " 54.123374938964844,\n",
       " 53.25230026245117,\n",
       " 53.15972137451172,\n",
       " 51.57152557373047,\n",
       " 54.123374938964844,\n",
       " 53.914127349853516,\n",
       " 54.40641784667969,\n",
       " 51.24359893798828,\n",
       " 51.41065979003906,\n",
       " 51.24272155761719,\n",
       " 53.365684509277344,\n",
       " 51.15818405151367,\n",
       " 52.021244049072266,\n",
       " 54.68736267089844,\n",
       " 51.64442825317383,\n",
       " 51.87382507324219,\n",
       " 52.74696731567383,\n",
       " 52.87645721435547,\n",
       " 51.67204284667969,\n",
       " 53.368412017822266,\n",
       " 53.554290771484375,\n",
       " 54.9222412109375,\n",
       " 52.241641998291016,\n",
       " 50.190757751464844,\n",
       " 54.81426239013672,\n",
       " 53.94023132324219,\n",
       " 53.94622039794922,\n",
       " 53.21564483642578,\n",
       " 51.412784576416016,\n",
       " 53.51716613769531,\n",
       " 53.58363342285156,\n",
       " 53.92045211791992,\n",
       " 54.58400344848633,\n",
       " 54.907100677490234,\n",
       " 54.90290069580078,\n",
       " 51.657135009765625,\n",
       " 53.123531341552734,\n",
       " 53.471805572509766,\n",
       " 50.91527557373047,\n",
       " 54.225460052490234,\n",
       " 53.57386779785156,\n",
       " 50.64336395263672,\n",
       " 54.22821044921875,\n",
       " 54.962738037109375,\n",
       " 53.146873474121094,\n",
       " 51.40094757080078,\n",
       " 54.58710479736328,\n",
       " 54.628623962402344,\n",
       " 52.529136657714844,\n",
       " 54.90290069580078,\n",
       " 51.04566192626953,\n",
       " 53.477352142333984,\n",
       " 54.123374938964844,\n",
       " 54.94868469238281,\n",
       " 50.207916259765625,\n",
       " 54.90290069580078,\n",
       " 54.67596435546875,\n",
       " 54.911651611328125,\n",
       " 54.15894317626953,\n",
       " 54.98485565185547,\n",
       " 54.995914459228516,\n",
       " 54.6807861328125,\n",
       " 52.984737396240234,\n",
       " 54.90290069580078,\n",
       " 50.12145233154297,\n",
       " 51.2779541015625,\n",
       " 54.96829605102539,\n",
       " 54.968475341796875,\n",
       " 54.52825927734375,\n",
       " 54.95313262939453,\n",
       " 54.90290069580078,\n",
       " 53.54048156738281,\n",
       " 52.250728607177734,\n",
       " 54.90290069580078,\n",
       " 51.32569885253906,\n",
       " 53.99734115600586,\n",
       " 54.123374938964844,\n",
       " 53.89878463745117,\n",
       " 50.5084342956543,\n",
       " 54.78826141357422,\n",
       " 50.575748443603516,\n",
       " 52.44026184082031,\n",
       " 54.46934509277344,\n",
       " 53.04130172729492,\n",
       " 54.123374938964844,\n",
       " 54.023563385009766,\n",
       " 50.883079528808594,\n",
       " 50.02070999145508,\n",
       " 54.19727325439453,\n",
       " 52.69877243041992,\n",
       " 54.39667892456055,\n",
       " 54.40126037597656,\n",
       " 51.505157470703125,\n",
       " 53.00993347167969,\n",
       " 53.365684509277344,\n",
       " 51.795841217041016,\n",
       " 54.90290069580078,\n",
       " 54.90290069580078,\n",
       " 50.831329345703125,\n",
       " 54.713619232177734,\n",
       " 54.713619232177734,\n",
       " 54.90290069580078,\n",
       " 53.3695182800293,\n",
       " 53.948760986328125,\n",
       " 54.31285858154297,\n",
       " 54.43955612182617,\n",
       " 51.76387023925781,\n",
       " 52.49808120727539,\n",
       " 54.577945709228516,\n",
       " 52.961585998535156,\n",
       " 54.408138275146484,\n",
       " 51.62322998046875,\n",
       " 52.06734085083008,\n",
       " 52.364990234375,\n",
       " 54.90290069580078,\n",
       " 51.18008041381836,\n",
       " 54.50864028930664,\n",
       " 53.528053283691406,\n",
       " 53.29582977294922,\n",
       " 53.291255950927734,\n",
       " 54.27897644042969,\n",
       " 54.90290069580078,\n",
       " 54.90290069580078,\n",
       " 52.83296203613281,\n",
       " 54.72385025024414,\n",
       " 54.73716354370117,\n",
       " 52.840396881103516,\n",
       " 54.88563537597656,\n",
       " 54.08760070800781,\n",
       " 54.12651062011719,\n",
       " 54.6731071472168,\n",
       " 54.90290069580078,\n",
       " 54.95270538330078,\n",
       " 53.356685638427734,\n",
       " 54.90290069580078,\n",
       " 54.90290069580078,\n",
       " 53.30014419555664,\n",
       " 50.196998596191406,\n",
       " 53.25495529174805,\n",
       " 54.23183822631836,\n",
       " 51.02371597290039,\n",
       " 53.364749908447266,\n",
       " 50.97193908691406,\n",
       " 54.35068893432617,\n",
       " 53.67936706542969,\n",
       " 51.87382507324219,\n",
       " 52.05803680419922,\n",
       " 54.90290069580078,\n",
       " 52.60890579223633,\n",
       " 52.89455795288086,\n",
       " 53.47111511230469,\n",
       " 54.90290069580078,\n",
       " 53.977230072021484,\n",
       " 54.608642578125,\n",
       " 51.662139892578125,\n",
       " 54.62898254394531,\n",
       " 53.365684509277344,\n",
       " 53.24742889404297,\n",
       " 54.429386138916016,\n",
       " 52.75081253051758,\n",
       " 54.049041748046875,\n",
       " 52.027565002441406,\n",
       " 51.94490432739258,\n",
       " 54.123374938964844,\n",
       " 54.123374938964844,\n",
       " 54.33435821533203,\n",
       " 53.365684509277344,\n",
       " 52.7828369140625,\n",
       " 51.87382507324219,\n",
       " 50.20988464355469,\n",
       " 54.67795944213867,\n",
       " 51.54689407348633,\n",
       " 54.746891021728516,\n",
       " 54.90290069580078,\n",
       " 54.123374938964844,\n",
       " 54.123374938964844,\n",
       " 52.60890579223633,\n",
       " 50.15234375,\n",
       " 54.52879333496094,\n",
       " 54.75392150878906,\n",
       " 54.90290069580078,\n",
       " 52.53908157348633,\n",
       " 51.89509582519531,\n",
       " 51.477840423583984,\n",
       " 53.39357376098633,\n",
       " 54.90290069580078,\n",
       " 50.74668502807617,\n",
       " 52.236412048339844,\n",
       " 53.430931091308594,\n",
       " 51.92203140258789,\n",
       " 51.289215087890625,\n",
       " 54.045074462890625,\n",
       " 54.90290069580078,\n",
       " 54.901790618896484,\n",
       " 54.649375915527344,\n",
       " 53.296592712402344,\n",
       " 54.123374938964844,\n",
       " 52.73684310913086,\n",
       " 53.166961669921875,\n",
       " 52.134681701660156,\n",
       " 54.713619232177734,\n",
       " 54.78569793701172,\n",
       " 51.657135009765625,\n",
       " 52.12852096557617,\n",
       " 53.365684509277344,\n",
       " 51.657135009765625,\n",
       " 54.384544372558594,\n",
       " 52.07500076293945,\n",
       " 54.94508361816406,\n",
       " 54.179264068603516,\n",
       " 52.50455856323242,\n",
       " 53.575408935546875,\n",
       " 54.90290069580078,\n",
       " 50.85797119140625,\n",
       " 53.365684509277344,\n",
       " 50.10675048828125,\n",
       " 51.60927200317383,\n",
       " 53.686771392822266,\n",
       " 53.31962203979492,\n",
       " 54.123374938964844,\n",
       " 54.08306121826172,\n",
       " 54.140621185302734,\n",
       " 52.94804763793945,\n",
       " 54.163421630859375,\n",
       " 54.250328063964844,\n",
       " 53.81879806518555,\n",
       " 54.90290069580078,\n",
       " 53.365684509277344,\n",
       " 53.31427764892578,\n",
       " 52.880619049072266,\n",
       " 54.15837860107422,\n",
       " 54.123374938964844,\n",
       " 54.553977966308594,\n",
       " 54.71760940551758,\n",
       " 54.42241287231445,\n",
       " 53.365684509277344,\n",
       " 54.543701171875,\n",
       " 54.115020751953125,\n",
       " 53.168182373046875,\n",
       " 51.79700469970703,\n",
       " 51.58380889892578,\n",
       " 52.531837463378906,\n",
       " 54.917747497558594,\n",
       " 54.58051300048828,\n",
       " 52.468170166015625,\n",
       " 54.90290069580078,\n",
       " 53.0514030456543,\n",
       " 52.705299377441406,\n",
       " 54.237693786621094,\n",
       " 52.86429214477539,\n",
       " 54.123374938964844,\n",
       " 52.60890579223633,\n",
       " 53.00872039794922,\n",
       " 53.999629974365234,\n",
       " 54.772178649902344,\n",
       " 53.41752243041992,\n",
       " 54.951419830322266,\n",
       " 53.211814880371094,\n",
       " 54.66667938232422,\n",
       " 54.69636154174805,\n",
       " 52.46500015258789,\n",
       " 53.50286865234375,\n",
       " 53.365684509277344,\n",
       " 50.28351974487305,\n",
       " 54.63437271118164,\n",
       " 54.123374938964844,\n",
       " 54.90290069580078,\n",
       " 51.13556671142578,\n",
       " 52.5372428894043,\n",
       " 52.561737060546875,\n",
       " 54.869083404541016,\n",
       " 52.94739532470703,\n",
       " 54.90290069580078,\n",
       " 52.5714225769043,\n",
       " 53.651466369628906,\n",
       " 54.90290069580078,\n",
       " 52.95283126831055,\n",
       " 54.123374938964844,\n",
       " 52.13506317138672,\n",
       " 54.90290069580078,\n",
       " 53.09180450439453,\n",
       " 53.95237350463867,\n",
       " 54.97245407104492,\n",
       " 53.365684509277344,\n",
       " 54.90290069580078,\n",
       " 52.21284866333008,\n",
       " 54.210819244384766,\n",
       " 53.854942321777344,\n",
       " 53.87928771972656,\n",
       " 50.6484260559082,\n",
       " 51.743099212646484,\n",
       " 54.82762145996094,\n",
       " 54.396484375,\n",
       " 54.123374938964844,\n",
       " 52.60890579223633,\n",
       " 50.78371047973633,\n",
       " 52.79048538208008,\n",
       " 50.661827087402344,\n",
       " 54.90290069580078,\n",
       " 54.88413619995117,\n",
       " 54.90290069580078,\n",
       " 52.14788818359375,\n",
       " 50.040531158447266,\n",
       " 52.60890579223633,\n",
       " 54.46570587158203,\n",
       " 50.854888916015625,\n",
       " 52.60890579223633,\n",
       " 53.365684509277344,\n",
       " 51.881961822509766,\n",
       " 51.141109466552734,\n",
       " 50.42095947265625,\n",
       " 52.60890579223633,\n",
       " 54.316917419433594,\n",
       " 51.45210647583008,\n",
       " 52.770904541015625,\n",
       " 53.51384353637695,\n",
       " 54.2326545715332,\n",
       " 52.14789962768555,\n",
       " 52.4164924621582,\n",
       " 52.20966339111328,\n",
       " 53.56708526611328,\n",
       " 52.60890579223633,\n",
       " 54.123374938964844,\n",
       " 52.60890579223633,\n",
       " 54.90290069580078,\n",
       " 54.21100616455078,\n",
       " 54.6379508972168,\n",
       " 53.386871337890625,\n",
       " 53.8890495300293,\n",
       " 52.661720275878906,\n",
       " 52.60890579223633,\n",
       " 52.158233642578125,\n",
       " 54.90290069580078,\n",
       " 54.88359832763672,\n",
       " 51.16450119018555,\n",
       " 54.81388473510742,\n",
       " 50.99175262451172,\n",
       " 54.66891098022461,\n",
       " 53.64657211303711,\n",
       " 53.365684509277344,\n",
       " 54.123374938964844,\n",
       " 53.980735778808594,\n",
       " 53.92757034301758,\n",
       " 54.12841033935547,\n",
       " 53.89690017700195,\n",
       " 53.369850158691406,\n",
       " 54.946815490722656,\n",
       " 54.67613220214844,\n",
       " 54.90290069580078,\n",
       " 54.123374938964844,\n",
       " 53.11715316772461,\n",
       " 52.732505798339844,\n",
       " 52.6153678894043,\n",
       " 52.64372253417969,\n",
       " 52.7687873840332,\n",
       " 53.23421096801758,\n",
       " 54.90290069580078,\n",
       " 54.83024978637695,\n",
       " 53.365684509277344,\n",
       " 54.123374938964844,\n",
       " 54.10634994506836,\n",
       " 53.964107513427734,\n",
       " 53.836795806884766,\n",
       " 54.90290069580078,\n",
       " 54.0656852722168,\n",
       " 53.65339279174805,\n",
       " 53.81053924560547,\n",
       " 54.11134719848633,\n",
       " 53.8236198425293,\n",
       " 53.365684509277344,\n",
       " 53.540470123291016,\n",
       " 52.422664642333984,\n",
       " 53.365684509277344,\n",
       " 50.82480239868164,\n",
       " 54.73858642578125,\n",
       " 52.9984016418457,\n",
       " 52.60890579223633,\n",
       " 53.365684509277344,\n",
       " 54.90290069580078,\n",
       " 53.07417297363281,\n",
       " 54.01896667480469,\n",
       " 52.50405502319336,\n",
       " 52.6421012878418,\n",
       " 51.54899597167969,\n",
       " 54.28386306762695,\n",
       " 54.070335388183594,\n",
       " 52.49067306518555,\n",
       " 54.90290069580078,\n",
       " 54.80263137817383,\n",
       " 54.9541015625,\n",
       " 54.026519775390625,\n",
       " 53.65286636352539,\n",
       " 51.980289459228516,\n",
       " 52.60890579223633,\n",
       " 54.55552673339844,\n",
       " 52.52146911621094,\n",
       " 54.367069244384766,\n",
       " 53.80887222290039,\n",
       " 51.87382507324219,\n",
       " 54.123374938964844,\n",
       " 50.791908264160156,\n",
       " 54.28818130493164,\n",
       " 54.70539855957031,\n",
       " 51.397315979003906,\n",
       " 54.90290069580078,\n",
       " 52.88189697265625,\n",
       " 50.022377014160156,\n",
       " 54.123374938964844,\n",
       " 50.97488021850586,\n",
       " 54.48318862915039,\n",
       " 53.4470100402832,\n",
       " 50.2630500793457,\n",
       " 53.79805374145508,\n",
       " 54.90290069580078,\n",
       " 54.90290069580078,\n",
       " 52.983184814453125,\n",
       " 53.365684509277344,\n",
       " 53.974647521972656,\n",
       " 54.90290069580078,\n",
       " 54.90290069580078,\n",
       " 53.2251091003418,\n",
       " 53.180419921875,\n",
       " 51.141109466552734,\n",
       " 52.60890579223633,\n",
       " 53.12216567993164,\n",
       " 50.21051788330078,\n",
       " 52.14896774291992,\n",
       " 50.92795944213867,\n",
       " 54.266143798828125,\n",
       " 50.196937561035156,\n",
       " 51.87382507324219,\n",
       " 53.365684509277344,\n",
       " 54.793663024902344,\n",
       " 54.222206115722656,\n",
       " 53.761356353759766,\n",
       " 54.649147033691406,\n",
       " 54.90290069580078,\n",
       " 54.123374938964844,\n",
       " 50.50223159790039,\n",
       " 54.123374938964844,\n",
       " 54.96015548706055,\n",
       " 51.383514404296875,\n",
       " 53.72675323486328,\n",
       " 54.58153533935547,\n",
       " 53.28461837768555,\n",
       " 54.319522857666016,\n",
       " 53.683555603027344,\n",
       " 52.866695404052734,\n",
       " 53.72848129272461,\n",
       " 54.85722351074219,\n",
       " 50.514495849609375,\n",
       " 52.60890579223633,\n",
       " 53.365684509277344,\n",
       " 54.0678596496582,\n",
       " 54.90290069580078,\n",
       " 50.50108337402344,\n",
       " 54.90290069580078,\n",
       " 54.578948974609375,\n",
       " 53.88813400268555,\n",
       " 54.504451751708984,\n",
       " 54.84060287475586,\n",
       " 53.285892486572266,\n",
       " 50.122711181640625,\n",
       " 52.602882385253906,\n",
       " 50.584659576416016,\n",
       " 53.365684509277344,\n",
       " 51.141109466552734,\n",
       " 50.6694450378418,\n",
       " 51.17335510253906,\n",
       " 54.90290069580078,\n",
       " 53.832359313964844,\n",
       " 52.33834457397461,\n",
       " 50.157623291015625,\n",
       " 53.42923355102539,\n",
       " 51.31250762939453,\n",
       " 54.261898040771484,\n",
       " 54.64735412597656,\n",
       " 53.92045211791992,\n",
       " 54.423072814941406,\n",
       " 53.160804748535156,\n",
       " 53.160804748535156,\n",
       " 54.687774658203125,\n",
       " 53.32539749145508,\n",
       " 54.90290069580078,\n",
       " 51.399532318115234,\n",
       " 50.91527557373047,\n",
       " 51.29624557495117,\n",
       " 54.87863540649414,\n",
       " 53.21083450317383,\n",
       " 54.272029876708984,\n",
       " 54.147483825683594,\n",
       " 54.90290069580078,\n",
       " 51.15140914916992,\n",
       " 53.98320007324219,\n",
       " 54.9244384765625,\n",
       " 50.75094985961914,\n",
       " 54.03770065307617,\n",
       " 53.98433303833008,\n",
       " 53.770320892333984,\n",
       " 54.96127700805664,\n",
       " 54.239505767822266,\n",
       " 53.594390869140625,\n",
       " 54.11345291137695,\n",
       " 54.78789520263672,\n",
       " 54.77678680419922,\n",
       " 54.31293487548828,\n",
       " 54.03889083862305,\n",
       " 53.796478271484375,\n",
       " 54.53483963012695,\n",
       " 50.32961654663086,\n",
       " 54.26308822631836,\n",
       " 54.13810348510742,\n",
       " 53.20980453491211,\n",
       " 52.781925201416016,\n",
       " 52.060577392578125,\n",
       " 54.90290069580078,\n",
       " 53.365684509277344,\n",
       " 53.46548843383789,\n",
       " 51.847694396972656,\n",
       " 54.90290069580078,\n",
       " 54.90290069580078,\n",
       " 52.37419509887695,\n",
       " 50.164608001708984,\n",
       " 54.56316375732422,\n",
       " 52.98297119140625,\n",
       " 53.64731216430664,\n",
       " 54.22093200683594,\n",
       " 54.90290069580078,\n",
       " 53.09111785888672,\n",
       " 52.60890579223633,\n",
       " 53.876346588134766,\n",
       " 54.90290069580078,\n",
       " 53.275184631347656,\n",
       " 54.48451614379883,\n",
       " 51.489688873291016,\n",
       " 54.40199661254883,\n",
       " 52.847381591796875,\n",
       " 52.60890579223633,\n",
       " 51.141109466552734,\n",
       " 52.60890579223633,\n",
       " 52.99440383911133,\n",
       " 53.365684509277344,\n",
       " 54.615787506103516,\n",
       " 52.67186737060547,\n",
       " 54.913536071777344,\n",
       " 53.365684509277344,\n",
       " 51.19865417480469,\n",
       " 54.90290069580078,\n",
       " 50.1044807434082,\n",
       " 54.23515319824219,\n",
       " 54.90290069580078,\n",
       " 53.69599914550781,\n",
       " 53.57065963745117,\n",
       " 54.123374938964844,\n",
       " 53.94231033325195,\n",
       " 54.47332000732422,\n",
       " 54.98683547973633,\n",
       " 54.123374938964844,\n",
       " 54.57647705078125,\n",
       " 53.062049865722656,\n",
       " 54.912513732910156,\n",
       " 53.63158416748047,\n",
       " 54.86063766479492,\n",
       " 53.29307174682617,\n",
       " 54.014122009277344,\n",
       " 52.00283432006836,\n",
       " 53.71757125854492,\n",
       " 52.798580169677734,\n",
       " 52.921119689941406,\n",
       " 54.312870025634766,\n",
       " 54.70431900024414,\n",
       " 54.95450210571289,\n",
       " 53.967552185058594,\n",
       " 53.23600387573242,\n",
       " 54.90290069580078,\n",
       " 54.866519927978516,\n",
       " 54.802452087402344,\n",
       " 54.33811950683594,\n",
       " 54.448402404785156,\n",
       " 54.830116271972656,\n",
       " 52.63468933105469,\n",
       " 54.952903747558594,\n",
       " 54.1605339050293,\n",
       " 52.14617156982422,\n",
       " 54.508209228515625,\n",
       " 54.558319091796875,\n",
       " 54.90290069580078,\n",
       " 53.598018646240234,\n",
       " 51.992408752441406,\n",
       " 52.569087982177734,\n",
       " 54.022029876708984,\n",
       " 54.51924514770508,\n",
       " 53.86152267456055,\n",
       " 53.786964416503906,\n",
       " 54.5621337890625,\n",
       " 54.123374938964844,\n",
       " 52.3944206237793,\n",
       " 54.8934326171875,\n",
       " 54.90290069580078,\n",
       " 54.123374938964844,\n",
       " 53.26838302612305,\n",
       " 51.560516357421875,\n",
       " 53.62693405151367,\n",
       " 54.31712341308594,\n",
       " 54.32775115966797,\n",
       " 54.90290069580078,\n",
       " 51.141109466552734,\n",
       " 51.69390106201172,\n",
       " 51.17487335205078,\n",
       " 53.74293518066406,\n",
       " 53.63755798339844,\n",
       " 53.55071258544922,\n",
       " 54.90290069580078,\n",
       " 52.08222579956055,\n",
       " 51.63645553588867,\n",
       " 53.818294525146484,\n",
       " 54.914615631103516,\n",
       " 54.41482162475586,\n",
       " 50.302940368652344,\n",
       " 54.90290069580078,\n",
       " 54.90290069580078,\n",
       " 51.174869537353516,\n",
       " 51.60789489746094,\n",
       " 52.90823745727539,\n",
       " 52.60890579223633,\n",
       " 54.90290069580078,\n",
       " 54.57773208618164,\n",
       " 50.115726470947266,\n",
       " 53.72639465332031,\n",
       " 54.66859817504883,\n",
       " 54.622013092041016,\n",
       " 53.81273651123047,\n",
       " 54.77824020385742,\n",
       " 54.37228012084961,\n",
       " 53.949859619140625,\n",
       " 54.123374938964844,\n",
       " 54.123374938964844,\n",
       " 54.06203079223633,\n",
       " 53.365684509277344,\n",
       " 54.123374938964844,\n",
       " 53.71181869506836,\n",
       " 54.88197708129883,\n",
       " 50.42095947265625,\n",
       " 51.83365249633789,\n",
       " 53.365684509277344,\n",
       " 53.50999450683594,\n",
       " 52.60890579223633,\n",
       " 54.90290069580078,\n",
       " 52.60890579223633,\n",
       " 53.7098388671875,\n",
       " 52.885459899902344,\n",
       " 54.90290069580078,\n",
       " 52.644779205322266,\n",
       " 50.355377197265625,\n",
       " 50.42095947265625,\n",
       " 54.123374938964844,\n",
       " 54.123374938964844,\n",
       " 51.87382507324219,\n",
       " 51.069557189941406,\n",
       " 54.114864349365234,\n",
       " 54.09446716308594,\n",
       " 54.22035598754883,\n",
       " 52.60890579223633,\n",
       " ...]"
      ]
     },
     "execution_count": 112,
     "metadata": {},
     "output_type": "execute_result"
    }
   ],
   "source": [
    "vpeak_orp[5]"
   ]
  },
  {
   "cell_type": "code",
   "execution_count": 92,
   "metadata": {},
   "outputs": [
    {
     "data": {
      "text/plain": [
       "(28.0, 800.0)"
      ]
     },
     "execution_count": 92,
     "metadata": {},
     "output_type": "execute_result"
    },
    {
     "data": {
      "image/png": "[encoded data removed]",
      "text/plain": [
       "<Figure size 432x288 with 1 Axes>"
      ]
     },
     "metadata": {
      "needs_background": "light"
     },
     "output_type": "display_data"
    }
   ],
   "source": [
    "plt.plot(bin_o[1:],orp_frac)\n",
    "plt.title('Orphan fraction')\n",
    "plt.xlabel(r' $V_{peak}$ ')\n",
    "plt.ylabel(r'$Fraction$')\n",
    "plt.xlim(28,800)\n",
    "# plt.plot(bin_o[1:],sub_frac,label= 'subhalo fraction')"
   ]
  },
  {
   "cell_type": "markdown",
   "metadata": {},
   "source": [
    "## 对红移分bin计算 zform cdf"
   ]
  },
  {
   "cell_type": "markdown",
   "metadata": {},
   "source": [
    "### 对total suhbhalo"
   ]
  },
  {
   "cell_type": "code",
   "execution_count": 169,
   "metadata": {
    "ExecuteTime": {
     "end_time": "2020-12-11T04:34:18.897832Z",
     "start_time": "2020-12-11T04:34:18.895530Z"
    }
   },
   "outputs": [],
   "source": [
    "arr_red = np.arange(201)\n",
    "bin_red = 0 + 10 * arr_red / 200"
   ]
  },
  {
   "cell_type": "code",
   "execution_count": 93,
   "metadata": {},
   "outputs": [
    {
     "data": {
      "text/plain": [
       "(201,)"
      ]
     },
     "execution_count": 93,
     "metadata": {},
     "output_type": "execute_result"
    }
   ],
   "source": [
    "bin_red.shape"
   ]
  },
  {
   "cell_type": "markdown",
   "metadata": {},
   "source": [
    "### 用np.histgram计算cdf"
   ]
  },
  {
   "cell_type": "code",
   "execution_count": 207,
   "metadata": {},
   "outputs": [
    {
     "data": {
      "text/plain": [
       "[31.40896987915039,\n",
       " 32.205108642578125,\n",
       " 32.28962707519531,\n",
       " 32.323970794677734,\n",
       " 32.55146408081055,\n",
       " 32.83756637573242,\n",
       " 33.162353515625,\n",
       " 33.36574935913086,\n",
       " 33.374366760253906,\n",
       " 33.4238166809082,\n",
       " 33.42707443237305,\n",
       " 33.60605239868164,\n",
       " 33.63984298706055,\n",
       " 33.70759963989258,\n",
       " 34.056636810302734,\n",
       " 34.08015823364258,\n",
       " 34.168373107910156,\n",
       " 34.185062408447266,\n",
       " 34.220645904541016,\n",
       " 34.367923736572266,\n",
       " 34.38455581665039,\n",
       " 34.405303955078125,\n",
       " 34.4516487121582,\n",
       " 34.45857620239258,\n",
       " 34.579410552978516,\n",
       " 34.6014289855957,\n",
       " 34.70458984375,\n",
       " 34.7125129699707,\n",
       " 34.836734771728516,\n",
       " 34.86333084106445,\n",
       " 34.91875076293945]"
      ]
     },
     "execution_count": 207,
     "metadata": {},
     "output_type": "execute_result"
    }
   ],
   "source": [
    "vpeak_sta[1]"
   ]
  },
  {
   "cell_type": "code",
   "execution_count": 212,
   "metadata": {},
   "outputs": [],
   "source": [
    "v_5 = np.histogram(zform_sta[5],bin_red)\n",
    "v_25 = np.histogram(zform_sta[25],bin_red)\n",
    "cdf_5 = np.cumsum(v_5[0]/sum(v_5[0]))\n",
    "cdf_25 = np.cumsum(v_25[0]/sum(v_25[0]))"
   ]
  },
  {
   "cell_type": "code",
   "execution_count": 213,
   "metadata": {},
   "outputs": [
    {
     "data": {
      "text/plain": [
       "[<matplotlib.lines.Line2D at 0x2ac18cbf1b50>]"
      ]
     },
     "execution_count": 213,
     "metadata": {},
     "output_type": "execute_result"
    },
    {
     "data": {
      "image/png": "[encoded data removed]",
      "text/plain": [
       "<Figure size 432x288 with 1 Axes>"
      ]
     },
     "metadata": {
      "needs_background": "light"
     },
     "output_type": "display_data"
    }
   ],
   "source": [
    "plt.plot(bin_red[1:],cdf_5,'r--')\n",
    "plt.plot(v_25[1][1:],cdf_25)\n",
    "plt.plot(bin_red[1:],cdf_25)"
   ]
  },
  {
   "cell_type": "code",
   "execution_count": 210,
   "metadata": {},
   "outputs": [
    {
     "name": "stdout",
     "output_type": "stream",
     "text": [
      "5\n",
      "10\n",
      "15\n",
      "20\n",
      "25\n"
     ]
    },
    {
     "data": {
      "text/plain": [
       "<matplotlib.legend.Legend at 0x2ac19b27f750>"
      ]
     },
     "execution_count": 210,
     "metadata": {},
     "output_type": "execute_result"
    },
    {
     "data": {
      "image/png": "[encoded data removed]",
      "text/plain": [
       "<Figure size 432x288 with 1 Axes>"
      ]
     },
     "metadata": {
      "needs_background": "light"
     },
     "output_type": "display_data"
    }
   ],
   "source": [
    "for i in range(5,30,5):\n",
    "# for i in range(len(vpeak_bin):\n",
    "    print(i)\n",
    "    info = np.array(vpeak_bin[i])\n",
    "    v_hist = np.histogram(info[:,2],bin_red)[0]\n",
    "    cdf = np.cumsum(v_hist/sum(v_hist))\n",
    "    plt.plot(bin_red[1:],cdf,label = '$vpeak_bin is%s$'%bin_0[i])\n",
    "plt.legend()"
   ]
  },
  {
   "cell_type": "markdown",
   "metadata": {},
   "source": [
    "### 用plt.hist统计cdf"
   ]
  },
  {
   "cell_type": "code",
   "execution_count": 97,
   "metadata": {
    "ExecuteTime": {
     "end_time": "2020-12-11T04:57:33.140352Z",
     "start_time": "2020-12-11T04:57:13.899740Z"
    }
   },
   "outputs": [
    {
     "data": {
      "text/plain": [
       "Text(0, 0.5, '$cdf$')"
      ]
     },
     "execution_count": 97,
     "metadata": {},
     "output_type": "execute_result"
    },
    {
     "data": {
      "image/png": "[encoded data removed]",
      "text/plain": [
       "<Figure size 432x288 with 1 Axes>"
      ]
     },
     "metadata": {
      "needs_background": "light"
     },
     "output_type": "display_data"
    }
   ],
   "source": [
    "# a = plt.hist(zform_sta[1],bin_red,density = True,cumulative = True,histtype = 'step',color = 'r')\n",
    "v_5 = plt.hist(zform_sta[5],bin_red,density = True,cumulative = True,histtype = 'step',color = 'pink',label = '$50 km /s \\ < \\ V_{peak}\\ < \\ 55 km/s$')\n",
    "v_10 = plt.hist(zform_sta[10],bin_red,density = True,cumulative = True,histtype = 'step',color = 'red',label = '$75 km /s \\ < \\ V_{peak}\\ < \\ 80 km/s$')\n",
    "v_15 = plt.hist(zform_sta[15],bin_red,density = True,cumulative = True,histtype = 'step',color = 'orangered',label = '$100 km /s \\ < \\ V_{peak}\\ < \\ 105 km/s$')\n",
    "v_20 = plt.hist(zform_sta[20],bin_red,density = True,cumulative = True,histtype = 'step',color = 'lightblue',label = '$125 km /s \\ < \\ V_{peak}\\ < \\ 130 km/s$')\n",
    "v_25 = plt.hist(zform_sta[25],bin_red,density = True,cumulative = True,histtype = 'step',color = 'green',label = '$150 km /s \\ < \\ V_{peak}\\ < \\ 155 km/s$')\n",
    "v_55 = plt.hist(zform_sta[55],bin_red,density = True,cumulative = True,histtype = 'step',color = 'blue',label = '$300 km /s \\ < \\ V_{peak}\\ < \\ 305 km/s$')\n",
    "v_105 = plt.hist(zform_sta[105],bin_red,density = True,cumulative = True,histtype = 'step',color = 'orange',label = '$550 km /s \\ < \\ V_{peak}\\ < \\ 555 km/s$')\n",
    "v_155 = plt.hist(zform_sta[155],bin_red,density = True,cumulative = True,histtype = 'step',color = 'yellow',label = '$800 km /s \\ < \\ V_{peak}\\ < \\ 805 km/s$')\n",
    "\n",
    "\n",
    "\n",
    "plt.legend(loc = 'lower right')\n",
    "plt.title(r'Cumulative distribution function')\n",
    "plt.xlabel(r' $Z_{form}$ ')\n",
    "plt.ylabel(r'$cdf$')\n",
    "# plt.savefig('/home/yunzheng/mock/color/picture/comparision_vpeak.pdf',dpi = 100)"
   ]
  },
  {
   "cell_type": "code",
   "execution_count": null,
   "metadata": {},
   "outputs": [],
   "source": [
    "v_25[0][]"
   ]
  },
  {
   "cell_type": "code",
   "execution_count": 98,
   "metadata": {
    "ExecuteTime": {
     "end_time": "2020-12-11T05:05:35.819580Z",
     "start_time": "2020-12-11T05:05:35.358049Z"
    }
   },
   "outputs": [
    {
     "data": {
      "text/plain": [
       "Text(0, 0.5, '$cdf$')"
      ]
     },
     "execution_count": 98,
     "metadata": {},
     "output_type": "execute_result"
    },
    {
     "data": {
      "image/png": "[encoded data removed]",
      "text/plain": [
       "<Figure size 432x288 with 1 Axes>"
      ]
     },
     "metadata": {
      "needs_background": "light"
     },
     "output_type": "display_data"
    }
   ],
   "source": [
    "plt.plot(v_5[1][1:],v_5[0],color = 'pink',linestyle = '--',label = '$30 km /s \\ < \\ V_{peak}\\ < \\ 35 km/s$')\n",
    "plt.plot(v_10[1][1:],v_10[0],color = 'red',linestyle = '--',label = '$75 km /s \\ < \\ V_{peak}\\ < \\ 80 km/s$')\n",
    "plt.plot(v_15[1][1:],v_15[0],color = 'orangered',label = '$100 km /s \\ < \\ V_{peak}\\ < \\ 105 km/s$',linestyle = '--')\n",
    "plt.plot(v_20[1][1:],v_20[0],color = 'orange',label = '$125 km /s \\ < \\ V_{peak}\\ < \\ 130 km/s$',linestyle = '--')\n",
    "plt.legend()\n",
    "plt.legend(loc = 'lower right')\n",
    "plt.title(r'Cumulative distribution function')\n",
    "plt.xlabel(r' $Z_{form}$ ')\n",
    "plt.ylabel(r'$cdf$')\n",
    "# plt.savefig('/home/yunzheng/mock/color/picture/comparision_vpeak_1.pdf',dpi = 100)"
   ]
  },
  {
   "cell_type": "code",
   "execution_count": 188,
   "metadata": {
    "ExecuteTime": {
     "end_time": "2020-12-11T05:10:07.855128Z",
     "start_time": "2020-12-11T05:10:07.366663Z"
    }
   },
   "outputs": [
    {
     "data": {
      "image/png": "[encoded data removed]",
      "text/plain": [
       "<Figure size 432x288 with 1 Axes>"
      ]
     },
     "metadata": {
      "needs_background": "light"
     },
     "output_type": "display_data"
    }
   ],
   "source": [
    "plt.plot(v_20[1][1:],v_20[0],color = 'orange',label = '$125 km /s \\ < \\ V_{peak}\\ < \\ 130 km/s$',linestyle = '--')\n",
    "\n",
    "\n",
    "plt.plot(v_25[1][1:],v_25[0],color = 'green',label = '$150 km /s \\ < \\ V_{peak}\\ < \\ 155 km/s$')\n",
    "plt.plot(v_55[1][1:],v_55[0],color = 'blue',label = '$300 km /s \\ < \\ V_{peak}\\ < \\ 305 km/s$')\n",
    "plt.plot(v_105[1][1:],v_105[0],color = 'lightblue',label = '$550 km /s \\ < \\ V_{peak}\\ < \\ 555 km/s$')\n",
    "plt.plot(v_155[1][1:],v_155[0],color = 'yellow',label = '$800 km /s \\ < \\ V_{peak}\\ < \\ 805 km/s$')\n",
    "plt.legend()\n",
    "plt.legend(loc = 'lower right')\n",
    "plt.title(r'Cumulative distribution function')\n",
    "plt.xlabel(r' $Z_{form}$ ')\n",
    "plt.ylabel(r'$cdf$')\n",
    "plt.savefig('/home/yunzheng/mock/color/picture/comparision_vpeak_2.pdf',dpi = 100)"
   ]
  },
  {
   "cell_type": "markdown",
   "metadata": {},
   "source": [
    "### 对subhalo"
   ]
  },
  {
   "cell_type": "code",
   "execution_count": 2,
   "metadata": {},
   "outputs": [
    {
     "ename": "NameError",
     "evalue": "name 'np' is not defined",
     "output_type": "error",
     "traceback": [
      "\u001b[0;31m---------------------------------------------------------------------------\u001b[0m",
      "\u001b[0;31mNameError\u001b[0m                                 Traceback (most recent call last)",
      "\u001b[0;32m<ipython-input-2-981507f22df8>\u001b[0m in \u001b[0;36m<module>\u001b[0;34m\u001b[0m\n\u001b[0;32m----> 1\u001b[0;31m \u001b[0marr_red\u001b[0m \u001b[0;34m=\u001b[0m \u001b[0mnp\u001b[0m\u001b[0;34m.\u001b[0m\u001b[0marange\u001b[0m\u001b[0;34m(\u001b[0m\u001b[0;36m201\u001b[0m\u001b[0;34m)\u001b[0m\u001b[0;34m\u001b[0m\u001b[0;34m\u001b[0m\u001b[0m\n\u001b[0m\u001b[1;32m      2\u001b[0m \u001b[0mbin_red\u001b[0m \u001b[0;34m=\u001b[0m \u001b[0;36m0\u001b[0m \u001b[0;34m+\u001b[0m \u001b[0;36m12\u001b[0m \u001b[0;34m*\u001b[0m \u001b[0marr_red\u001b[0m \u001b[0;34m/\u001b[0m \u001b[0;36m200\u001b[0m\u001b[0;34m\u001b[0m\u001b[0;34m\u001b[0m\u001b[0m\n",
      "\u001b[0;31mNameError\u001b[0m: name 'np' is not defined"
     ]
    }
   ],
   "source": [
    "arr_red = np.arange(201)\n",
    "bin_red = 0 + 12 * arr_red / 200"
   ]
  },
  {
   "cell_type": "code",
   "execution_count": 114,
   "metadata": {},
   "outputs": [
    {
     "data": {
      "image/png": "[encoded data removed]",
      "text/plain": [
       "<Figure size 432x288 with 1 Axes>"
      ]
     },
     "metadata": {
      "needs_background": "light"
     },
     "output_type": "display_data"
    }
   ],
   "source": [
    "# a = plt.hist(zform_sta[1],bin_red,density = True,cumulative = True,histtype = 'step',color = 'r')\n",
    "v_5_sub = plt.hist(zform_sub[5],bin_red,density = True,cumulative = True,histtype = 'step',color = 'pink',label = '$50 km /s \\ < \\ V_{peak}\\ < \\ 55 km/s$')\n",
    "v_10_sub = plt.hist(zform_sub[10],bin_red,density = True,cumulative = True,histtype = 'step',color = 'red',label = '$75 km /s \\ < \\ V_{peak}\\ < \\ 80 km/s$')\n",
    "v_15_sub = plt.hist(zform_sub[15],bin_red,density = True,cumulative = True,histtype = 'step',color = 'orangered',label = '$100 km /s \\ < \\ V_{peak}\\ < \\ 105 km/s$')\n",
    "v_20_sub = plt.hist(zform_sub[20],bin_red,density = True,cumulative = True,histtype = 'step',color = 'lightblue',label = '$125 km /s \\ < \\ V_{peak}\\ < \\ 130 km/s$')\n",
    "v_25_sub = plt.hist(zform_sub[25],bin_red,density = True,cumulative = True,histtype = 'step',color = 'green',label = '$150 km /s \\ < \\ V_{peak}\\ < \\ 155 km/s$')\n",
    "v_55_sub = plt.hist(zform_sub[55],bin_red,density = True,cumulative = True,histtype = 'step',color = 'blue',label = '$300 km /s \\ < \\ V_{peak}\\ < \\ 305 km/s$')\n",
    "v_105_sub = plt.hist(zform_sub[105],bin_red,density = True,cumulative = True,histtype = 'step',color = 'orange',label = '$550 km /s \\ < \\ V_{peak}\\ < \\ 555 km/s$')\n",
    "v_155_sub = plt.hist(zform_sub[155],bin_red,density = True,cumulative = True,histtype = 'step',color = 'yellow',label = '$800 km /s \\ < \\ V_{peak}\\ < \\ 805 km/s$')\n",
    "\n",
    "\n",
    "\n",
    "plt.legend(loc = 'lower right')\n",
    "plt.title(r'Cumulative distribution function')\n",
    "plt.xlabel(r' $Z_{form}$ ')\n",
    "plt.ylabel(r'$cdf$')\n",
    "plt.savefig('/home/yunzheng/mock/color/picture/comparision_vpeak_subhalo.pdf',dpi = 100)"
   ]
  },
  {
   "cell_type": "code",
   "execution_count": 115,
   "metadata": {},
   "outputs": [
    {
     "data": {
      "text/plain": [
       "Text(0, 0.5, '$cdf$')"
      ]
     },
     "execution_count": 115,
     "metadata": {},
     "output_type": "execute_result"
    },
    {
     "data": {
      "image/png": "[encoded data removed]",
      "text/plain": [
       "<Figure size 432x288 with 1 Axes>"
      ]
     },
     "metadata": {
      "needs_background": "light"
     },
     "output_type": "display_data"
    }
   ],
   "source": [
    "plt.plot(v_5[1][1:],v_5[0],color = 'pink',linestyle = '--',label = '$50 km /s \\ < \\ V_{peak}\\ < \\ 55 km/s$')\n",
    "plt.plot(v_10[1][1:],v_10[0],color = 'red',linestyle = '--',label = '$75 km /s \\ < \\ V_{peak}\\ < \\ 80 km/s$')\n",
    "plt.plot(v_15[1][1:],v_15[0],color = 'orangered',label = '$100 km /s \\ < \\ V_{peak}\\ < \\ 105 km/s$',linestyle = '--')\n",
    "plt.plot(v_20[1][1:],v_20[0],color = 'orange',label = '$125 km /s \\ < \\ V_{peak}\\ < \\ 130 km/s$',linestyle = '--')\n",
    "\n",
    "plt.plot(v_5_sub[1][1:],v_5_sub[0],color = 'pink')\n",
    "plt.plot(v_10_sub[1][1:],v_10_sub[0],color = 'red')\n",
    "plt.plot(v_15_sub[1][1:],v_15_sub[0],color = 'orangered')\n",
    "plt.plot(v_20_sub[1][1:],v_20_sub[0],color = 'orange')\n",
    "plt.legend()\n",
    "plt.legend(loc = 'lower right')\n",
    "plt.title(r'Cumulative distribution function')\n",
    "plt.xlabel(r' $Z_{form}$ ')\n",
    "plt.ylabel(r'$cdf$')\n",
    "# plt.savefig('/home/yunzheng/mock/color/picture/comparision_vpeak_1.pdf',dpi = 100)"
   ]
  },
  {
   "cell_type": "code",
   "execution_count": 93,
   "metadata": {},
   "outputs": [
    {
     "data": {
      "image/png": "[encoded data removed]",
      "text/plain": [
       "<Figure size 720x576 with 1 Axes>"
      ]
     },
     "metadata": {
      "needs_background": "light"
     },
     "output_type": "display_data"
    }
   ],
   "source": [
    "plt.figure(figsize=(10,8))\n",
    "plt.plot(v_20[1][1:],v_20[0],color = 'orange',label = '$125 km /s \\ < \\ V_{peak}\\ < \\ 130 km/s$',linestyle = '--')\n",
    "plt.plot(v_25[1][1:],v_25[0],color = 'green',label = '$150 km /s \\ < \\ V_{peak}\\ < \\ 155 km/s$',linestyle = '--')\n",
    "plt.plot(v_55[1][1:],v_55[0],color = 'blue',label = '$300 km /s \\ < \\ V_{peak}\\ < \\ 305 km/s$',linestyle = '--')\n",
    "plt.plot(v_105[1][1:],v_105[0],color = 'lightblue',label = '$550 km /s \\ < \\ V_{peak}\\ < \\ 555 km/s$',linestyle = '--')\n",
    "plt.plot(v_155[1][1:],v_155[0],color = 'yellow',label = '$800 km /s \\ < \\ V_{peak}\\ < \\ 805 km/s$',linestyle = '--')\n",
    "\n",
    "plt.plot(v_20_sub[1][1:],v_20_sub[0],color = 'orange')\n",
    "plt.plot(v_25_sub[1][1:],v_25_sub[0],color = 'green')\n",
    "plt.plot(v_55_sub[1][1:],v_55_sub[0],color = 'blue')#label = '$300 km /s \\ < \\ V_{peak}\\ < \\ 305 km/s$')\n",
    "plt.plot(v_105_sub[1][1:],v_105_sub[0],color = 'lightblue')#label = '$550 km /s \\ < \\ V_{peak}\\ < \\ 555 km/s$')\n",
    "plt.plot(v_155_sub[1][1:],v_155_sub[0],color = 'yellow')#label = '$800 km /s \\ < \\ V_{peak}\\ < \\ 805 km/s$')\n",
    "\n",
    "\n",
    "\n",
    "plt.legend()\n",
    "plt.legend(loc = 'lower right')\n",
    "plt.title(r'Cumulative distribution function')\n",
    "plt.xlabel(r' $Z_{form}$ ')\n",
    "plt.ylabel(r'$cdf$')\n",
    "plt.savefig('/home/yunzheng/mock/color/picture/comparision_vpeak_2.pdf',dpi = 100)"
   ]
  },
  {
   "cell_type": "markdown",
   "metadata": {},
   "source": [
    "### 对orphan"
   ]
  },
  {
   "cell_type": "code",
   "execution_count": 80,
   "metadata": {},
   "outputs": [
    {
     "data": {
      "text/plain": [
       "Text(0, 0.5, '$cdf$')"
      ]
     },
     "execution_count": 80,
     "metadata": {},
     "output_type": "execute_result"
    },
    {
     "data": {
      "image/png": "[encoded data removed]",
      "text/plain": [
       "<Figure size 432x288 with 1 Axes>"
      ]
     },
     "metadata": {
      "needs_background": "light"
     },
     "output_type": "display_data"
    }
   ],
   "source": [
    "# a = plt.hist(zform_sta[1],bin_red,density = True,cumulative = True,histtype = 'step',color = 'r')\n",
    "v_5_orp = plt.hist(zform_orp[5],bin_red,density = True,cumulative = True,histtype = 'step',color = 'pink',label = '$30 km /s \\ < \\ V_{peak}\\ < \\ 35 km/s$')\n",
    "v_10_orp = plt.hist(zform_orp[10],bin_red,density = True,cumulative = True,histtype = 'step',color = 'red',label = '$75 km /s \\ < \\ V_{peak}\\ < \\ 80 km/s$')\n",
    "v_15_orp = plt.hist(zform_orp[15],bin_red,density = True,cumulative = True,histtype = 'step',color = 'orangered',label = '$100 km /s \\ < \\ V_{peak}\\ < \\ 105 km/s$')\n",
    "v_20_orp = plt.hist(zform_orp[20],bin_red,density = True,cumulative = True,histtype = 'step',color = 'lightblue',label = '$125 km /s \\ < \\ V_{peak}\\ < \\ 130 km/s$')\n",
    "v_25_orp = plt.hist(zform_orp[25],bin_red,density = True,cumulative = True,histtype = 'step',color = 'green',label = '$150 km /s \\ < \\ V_{peak}\\ < \\ 155 km/s$')\n",
    "v_55_orp = plt.hist(zform_orp[55],bin_red,density = True,cumulative = True,histtype = 'step',color = 'blue',label = '$300 km /s \\ < \\ V_{peak}\\ < \\ 305 km/s$')\n",
    "# v_105_orp = plt.hist(zform_orp[105],bin_red,density = True,cumulative = True,histtype = 'step',color = 'orange',label = '$550 km /s \\ < \\ V_{peak}\\ < \\ 555 km/s$')\n",
    "# v_155_orp = plt.hist(zform_orp[155],bin_red,density = True,cumulative = True,histtype = 'step',color = 'yellow',label = '$800 km /s \\ < \\ V_{peak}\\ < \\ 805 km/s$')\n",
    "\n",
    "\n",
    "\n",
    "plt.legend(loc = 'lower right')\n",
    "plt.title(r'Cumulative distribution function')\n",
    "plt.xlabel(r' $Z_{form}$ ')\n",
    "plt.ylabel(r'$cdf$')\n",
    "# plt.savefig('/home/yunzheng/mock/color/picture/comparision_vpeak.pdf',dpi = 100)"
   ]
  },
  {
   "cell_type": "code",
   "execution_count": 91,
   "metadata": {},
   "outputs": [
    {
     "data": {
      "text/plain": [
       "Text(0, 0.5, '$cdf$')"
      ]
     },
     "execution_count": 91,
     "metadata": {},
     "output_type": "execute_result"
    },
    {
     "data": {
      "image/png": "[encoded data removed]",
      "text/plain": [
       "<Figure size 720x576 with 2 Axes>"
      ]
     },
     "metadata": {
      "needs_background": "light"
     },
     "output_type": "display_data"
    }
   ],
   "source": [
    "fig = plt.figure(figsize=(10,8))\n",
    "ax = fig.add_subplot(111)\n",
    "\n",
    "ax.plot(v_5[1][1:],v_5[0],color = 'pink',linestyle = '--',label = '$30 km /s \\ < \\ V_{peak}\\ < \\ 35 km/s$')\n",
    "ax.plot(v_10[1][1:],v_10[0],color = 'red',linestyle = '--',label = '$75 km /s \\ < \\ V_{peak}\\ < \\ 80 km/s$')\n",
    "ax.plot(v_15[1][1:],v_15[0],color = 'orangered',label = '$100 km /s \\ < \\ V_{peak}\\ < \\ 105 km/s$',linestyle = '--')\n",
    "ax.plot(v_20[1][1:],v_20[0],color = 'orange',label = '$125 km /s \\ < \\ V_{peak}\\ < \\ 130 km/s$',linestyle = '--')\n",
    "ax.legend(loc ='lower right')\n",
    "\n",
    "ax2 = ax.twinx()\n",
    "ax2.plot(v_5_sub[1][1:],v_5_sub[0],color = 'pink')\n",
    "ax2.plot(v_10_sub[1][1:],v_10_sub[0],color = 'red')\n",
    "ax2.plot(v_15_sub[1][1:],v_15_sub[0],color = 'orangered')\n",
    "ax2.plot(v_20_sub[1][1:],v_20_sub[0],color = 'orange')\n",
    "\n",
    "\n",
    "ax2.plot(v_5_orp[1][1:],v_5_orp[0],color = 'pink',linestyle = '-.')\n",
    "ax2.plot(v_10_orp[1][1:],v_10_orp[0],color = 'red',linestyle = '-.')\n",
    "ax2.plot(v_15_orp[1][1:],v_15_orp[0],color = 'orangered',linestyle = '-.')\n",
    "ax2.plot(v_20_orp[1][1:],v_20_orp[0],color = 'orange',linestyle = '-.')\n",
    "ax2.legend(handles=[l1, l2, l3], labels=['total', 'subhalos','orphans'],  loc='upper left')\n",
    "# plt.legend(loc = 'lower right')\n",
    "plt.title(r'Cumulative distribution function')\n",
    "plt.xlabel(r' $Z_{form}$ ')\n",
    "plt.ylabel(r'$cdf$')\n",
    "# plt.savefig('/home/yunzheng/mock/color/picture/comparision_vpeak_1.pdf',dpi = 100)"
   ]
  },
  {
   "cell_type": "markdown",
   "metadata": {},
   "source": [
    "## poor fraction"
   ]
  },
  {
   "cell_type": "code",
   "execution_count": 156,
   "metadata": {
    "ExecuteTime": {
     "end_time": "2020-12-11T04:43:06.474440Z",
     "start_time": "2020-12-11T04:43:06.470865Z"
    }
   },
   "outputs": [],
   "source": [
    "fraction = np.load('/home/yunzheng/mock/color/data/newcatalogue/snap_92_new_new_zform.npy')\n",
    "total = fraction[:,1]\n",
    "poor = fraction[:,0]"
   ]
  },
  {
   "cell_type": "code",
   "execution_count": 117,
   "metadata": {
    "ExecuteTime": {
     "end_time": "2020-12-11T04:51:34.473772Z",
     "start_time": "2020-12-11T04:51:34.471586Z"
    }
   },
   "outputs": [],
   "source": [
    "fraction_sub = np.load('/home/yunzheng/mock/color/data/newcatalogue/snap_92_subhalo_fracton.npy')\n",
    "total_sub = fraction_sub[:,1]\n",
    "poor_sub = fraction_sub[:,0]"
   ]
  },
  {
   "cell_type": "code",
   "execution_count": 124,
   "metadata": {},
   "outputs": [],
   "source": [
    "fraction_orphan = np.load('/home/yunzheng/mock/color/data/newcatalogue/snap_92_orphan_fracton.npy')\n",
    "total_orphan = fraction_orphan[:,1]\n",
    "poor_orphan = fraction_orphan[:,0]"
   ]
  },
  {
   "cell_type": "code",
   "execution_count": 125,
   "metadata": {},
   "outputs": [],
   "source": [
    "frac_orphan = poor_orphan[1:29] / total_orphan[1:29]"
   ]
  },
  {
   "cell_type": "code",
   "execution_count": 118,
   "metadata": {
    "collapsed": true,
    "jupyter": {
     "outputs_hidden": true
    }
   },
   "outputs": [
    {
     "data": {
      "text/plain": [
       "array([0.00000e+00, 2.50000e+01, 3.32000e+02, 3.34400e+03, 1.66820e+04,\n",
       "       6.03200e+04, 1.58345e+05, 3.06012e+05, 4.92347e+05, 5.19578e+05,\n",
       "       5.26661e+05, 3.89077e+05, 2.70650e+05, 1.67269e+05, 8.87350e+04,\n",
       "       5.14410e+04, 2.40500e+04, 1.23220e+04, 6.01700e+03, 2.91500e+03,\n",
       "       1.35900e+03, 6.44000e+02, 2.15000e+02, 1.09000e+02, 3.10000e+01,\n",
       "       2.00000e+01, 7.00000e+00, 2.00000e+00, 0.00000e+00, 1.00000e+00,\n",
       "       0.00000e+00, 0.00000e+00, 0.00000e+00, 0.00000e+00, 0.00000e+00,\n",
       "       0.00000e+00, 0.00000e+00, 0.00000e+00, 0.00000e+00, 0.00000e+00,\n",
       "       0.00000e+00, 0.00000e+00, 0.00000e+00, 0.00000e+00, 0.00000e+00,\n",
       "       0.00000e+00, 0.00000e+00, 0.00000e+00, 0.00000e+00, 0.00000e+00,\n",
       "       0.00000e+00, 0.00000e+00, 0.00000e+00, 0.00000e+00, 0.00000e+00,\n",
       "       0.00000e+00, 0.00000e+00, 0.00000e+00, 0.00000e+00, 0.00000e+00,\n",
       "       0.00000e+00, 0.00000e+00, 0.00000e+00, 0.00000e+00, 0.00000e+00,\n",
       "       0.00000e+00, 0.00000e+00, 0.00000e+00, 0.00000e+00, 0.00000e+00,\n",
       "       0.00000e+00, 0.00000e+00, 0.00000e+00, 0.00000e+00, 0.00000e+00,\n",
       "       0.00000e+00, 0.00000e+00, 0.00000e+00, 0.00000e+00, 0.00000e+00,\n",
       "       0.00000e+00, 0.00000e+00, 0.00000e+00, 0.00000e+00, 0.00000e+00,\n",
       "       0.00000e+00, 0.00000e+00, 0.00000e+00, 0.00000e+00, 0.00000e+00,\n",
       "       0.00000e+00, 0.00000e+00, 0.00000e+00, 0.00000e+00, 0.00000e+00,\n",
       "       0.00000e+00, 0.00000e+00, 0.00000e+00, 0.00000e+00, 0.00000e+00,\n",
       "       0.00000e+00, 0.00000e+00, 0.00000e+00, 0.00000e+00, 0.00000e+00,\n",
       "       0.00000e+00, 0.00000e+00, 0.00000e+00, 0.00000e+00, 0.00000e+00,\n",
       "       0.00000e+00, 0.00000e+00, 0.00000e+00, 0.00000e+00, 0.00000e+00,\n",
       "       0.00000e+00, 0.00000e+00, 0.00000e+00, 0.00000e+00, 0.00000e+00,\n",
       "       0.00000e+00, 0.00000e+00, 0.00000e+00, 0.00000e+00, 0.00000e+00,\n",
       "       0.00000e+00, 0.00000e+00, 0.00000e+00, 0.00000e+00, 0.00000e+00,\n",
       "       0.00000e+00, 0.00000e+00, 0.00000e+00, 0.00000e+00, 0.00000e+00,\n",
       "       0.00000e+00, 0.00000e+00, 0.00000e+00, 0.00000e+00, 0.00000e+00,\n",
       "       0.00000e+00, 0.00000e+00, 0.00000e+00, 0.00000e+00, 0.00000e+00,\n",
       "       0.00000e+00, 0.00000e+00, 0.00000e+00, 0.00000e+00, 0.00000e+00,\n",
       "       0.00000e+00, 0.00000e+00, 0.00000e+00, 0.00000e+00, 0.00000e+00,\n",
       "       0.00000e+00, 0.00000e+00, 0.00000e+00, 0.00000e+00, 0.00000e+00,\n",
       "       0.00000e+00, 0.00000e+00, 0.00000e+00, 0.00000e+00, 0.00000e+00,\n",
       "       0.00000e+00, 0.00000e+00, 0.00000e+00, 0.00000e+00, 0.00000e+00,\n",
       "       0.00000e+00, 0.00000e+00, 0.00000e+00, 0.00000e+00, 0.00000e+00,\n",
       "       0.00000e+00, 0.00000e+00, 0.00000e+00, 0.00000e+00, 0.00000e+00,\n",
       "       0.00000e+00, 0.00000e+00, 0.00000e+00, 0.00000e+00, 0.00000e+00,\n",
       "       0.00000e+00, 0.00000e+00, 0.00000e+00, 0.00000e+00, 0.00000e+00,\n",
       "       0.00000e+00, 0.00000e+00, 0.00000e+00, 0.00000e+00, 0.00000e+00,\n",
       "       0.00000e+00, 0.00000e+00, 0.00000e+00, 0.00000e+00, 0.00000e+00,\n",
       "       0.00000e+00, 0.00000e+00, 0.00000e+00, 0.00000e+00, 0.00000e+00,\n",
       "       0.00000e+00, 0.00000e+00, 0.00000e+00, 0.00000e+00, 0.00000e+00,\n",
       "       0.00000e+00, 0.00000e+00, 0.00000e+00, 0.00000e+00, 0.00000e+00,\n",
       "       0.00000e+00, 0.00000e+00, 0.00000e+00, 0.00000e+00, 0.00000e+00,\n",
       "       0.00000e+00, 0.00000e+00, 0.00000e+00, 0.00000e+00, 0.00000e+00,\n",
       "       0.00000e+00, 0.00000e+00, 0.00000e+00, 0.00000e+00, 0.00000e+00,\n",
       "       0.00000e+00, 0.00000e+00, 0.00000e+00, 0.00000e+00, 0.00000e+00,\n",
       "       0.00000e+00, 0.00000e+00, 0.00000e+00, 0.00000e+00, 0.00000e+00,\n",
       "       0.00000e+00, 0.00000e+00, 0.00000e+00, 0.00000e+00, 0.00000e+00,\n",
       "       0.00000e+00, 0.00000e+00, 0.00000e+00, 0.00000e+00, 0.00000e+00,\n",
       "       0.00000e+00, 0.00000e+00, 0.00000e+00, 0.00000e+00, 0.00000e+00,\n",
       "       0.00000e+00, 0.00000e+00, 0.00000e+00, 0.00000e+00, 0.00000e+00,\n",
       "       0.00000e+00, 0.00000e+00, 0.00000e+00, 0.00000e+00, 0.00000e+00,\n",
       "       0.00000e+00, 0.00000e+00, 0.00000e+00, 0.00000e+00, 0.00000e+00,\n",
       "       0.00000e+00, 0.00000e+00, 0.00000e+00, 0.00000e+00, 0.00000e+00,\n",
       "       0.00000e+00, 0.00000e+00, 0.00000e+00, 0.00000e+00, 0.00000e+00,\n",
       "       0.00000e+00, 0.00000e+00, 0.00000e+00, 0.00000e+00, 0.00000e+00,\n",
       "       0.00000e+00, 0.00000e+00, 0.00000e+00, 0.00000e+00, 0.00000e+00,\n",
       "       0.00000e+00, 0.00000e+00, 0.00000e+00, 0.00000e+00, 0.00000e+00,\n",
       "       0.00000e+00, 0.00000e+00, 0.00000e+00, 0.00000e+00, 0.00000e+00,\n",
       "       0.00000e+00, 0.00000e+00, 0.00000e+00, 0.00000e+00, 0.00000e+00,\n",
       "       0.00000e+00, 0.00000e+00, 0.00000e+00, 0.00000e+00, 0.00000e+00,\n",
       "       0.00000e+00, 0.00000e+00, 0.00000e+00, 0.00000e+00, 0.00000e+00,\n",
       "       0.00000e+00, 0.00000e+00, 0.00000e+00, 0.00000e+00, 0.00000e+00,\n",
       "       0.00000e+00, 0.00000e+00, 0.00000e+00, 0.00000e+00, 0.00000e+00,\n",
       "       0.00000e+00, 0.00000e+00, 0.00000e+00, 0.00000e+00, 0.00000e+00,\n",
       "       0.00000e+00, 0.00000e+00, 0.00000e+00, 0.00000e+00, 0.00000e+00,\n",
       "       0.00000e+00, 0.00000e+00, 0.00000e+00, 0.00000e+00, 0.00000e+00,\n",
       "       0.00000e+00, 0.00000e+00, 0.00000e+00, 0.00000e+00, 0.00000e+00,\n",
       "       0.00000e+00, 0.00000e+00, 0.00000e+00, 0.00000e+00, 0.00000e+00,\n",
       "       0.00000e+00, 0.00000e+00, 0.00000e+00, 0.00000e+00, 0.00000e+00,\n",
       "       0.00000e+00, 0.00000e+00, 0.00000e+00, 0.00000e+00, 0.00000e+00,\n",
       "       0.00000e+00, 0.00000e+00, 0.00000e+00])"
      ]
     },
     "execution_count": 118,
     "metadata": {},
     "output_type": "execute_result"
    }
   ],
   "source": [
    "poor_sub"
   ]
  },
  {
   "cell_type": "code",
   "execution_count": 122,
   "metadata": {},
   "outputs": [],
   "source": [
    "frac_subhalo = poor_sub[1:29] / total_sub[1:29]"
   ]
  },
  {
   "cell_type": "code",
   "execution_count": 127,
   "metadata": {},
   "outputs": [
    {
     "data": {
      "text/plain": [
       "<matplotlib.legend.Legend at 0x2b2f6ca8b790>"
      ]
     },
     "execution_count": 127,
     "metadata": {},
     "output_type": "execute_result"
    },
    {
     "data": {
      "image/png": "[encoded data removed]",
      "text/plain": [
       "<Figure size 432x288 with 1 Axes>"
      ]
     },
     "metadata": {
      "needs_background": "light"
     },
     "output_type": "display_data"
    }
   ],
   "source": [
    "plt.plot(bin_o[1:29],frac_orphan,'bo')\n",
    "plt.axhline(y=0.05, color='r', linestyle='-',label = 'Fraction = 0.05')\n",
    "plt.title(r'Fraction of poor definition orphans')\n",
    "plt.xlabel(r' $V_{peak}$ ')\n",
    "plt.ylabel(r'$Fraction$')\n",
    "plt.legend()\n",
    "# plt.savefig('/home/yunzheng/mock/color/picture/Fraction_vpeak.pdf',dpi = 100)"
   ]
  },
  {
   "cell_type": "code",
   "execution_count": 126,
   "metadata": {
    "ExecuteTime": {
     "end_time": "2020-12-11T04:51:59.858921Z",
     "start_time": "2020-12-11T04:51:59.856120Z"
    }
   },
   "outputs": [
    {
     "data": {
      "text/plain": [
       "<matplotlib.legend.Legend at 0x2b2f6b7bc690>"
      ]
     },
     "execution_count": 126,
     "metadata": {},
     "output_type": "execute_result"
    },
    {
     "data": {
      "image/png": "[encoded data removed]",
      "text/plain": [
       "<Figure size 432x288 with 1 Axes>"
      ]
     },
     "metadata": {
      "needs_background": "light"
     },
     "output_type": "display_data"
    }
   ],
   "source": [
    "plt.plot(bin_sub[1:29],frac_subhalo,'bo')\n",
    "plt.axhline(y=0.05, color='r', linestyle='-',label = 'Fraction = 0.05')\n",
    "plt.title(r'Fraction of poor definition subhalos')\n",
    "plt.xlabel(r' $V_{peak}$ ')\n",
    "plt.ylabel(r'$Fraction$')\n",
    "plt.legend()\n",
    "# plt.savefig('/home/yunzheng/mock/color/picture/Fraction_vpeak.pdf',dpi = 100)"
   ]
  },
  {
   "cell_type": "code",
   "execution_count": 195,
   "metadata": {
    "ExecuteTime": {
     "end_time": "2020-12-11T05:15:36.760377Z",
     "start_time": "2020-12-11T05:15:36.492819Z"
    }
   },
   "outputs": [
    {
     "data": {
      "image/png": "[encoded data removed]",
      "text/plain": [
       "<Figure size 432x288 with 1 Axes>"
      ]
     },
     "metadata": {
      "needs_background": "light"
     },
     "output_type": "display_data"
    }
   ],
   "source": [
    "plt.plot(bin_0[1:29],frac,'bo')\n",
    "plt.axhline(y=0.05, color='r', linestyle='-',label = 'Fraction = 0.05')\n",
    "plt.title(r'Fraction of poor definition subhalos')\n",
    "plt.xlabel(r' $V_{peak}$ ')\n",
    "plt.ylabel(r'$Fraction$')\n",
    "plt.legend()\n",
    "plt.savefig('/home/yunzheng/mock/color/picture/Fraction_vpeak.pdf',dpi = 100)"
   ]
  },
  {
   "cell_type": "code",
   "execution_count": 97,
   "metadata": {
    "ExecuteTime": {
     "end_time": "2020-12-11T05:40:07.046650Z",
     "start_time": "2020-12-11T05:40:02.007500Z"
    }
   },
   "outputs": [
    {
     "data": {
      "text/plain": [
       "(0.0, 500.0)"
      ]
     },
     "execution_count": 97,
     "metadata": {},
     "output_type": "execute_result"
    },
    {
     "data": {
      "image/png": "[encoded data removed]",
      "text/plain": [
       "<Figure size 432x288 with 1 Axes>"
      ]
     },
     "metadata": {
      "needs_background": "light"
     },
     "output_type": "display_data"
    }
   ],
   "source": [
    "plt.hist(vpeak,bin_0)\n",
    "plt.plot(bin_0,len_vpeak)\n",
    "plt.xlim(0,500)"
   ]
  },
  {
   "cell_type": "code",
   "execution_count": 101,
   "metadata": {},
   "outputs": [
    {
     "data": {
      "text/plain": [
       "(0.0, 300.0)"
      ]
     },
     "execution_count": 101,
     "metadata": {},
     "output_type": "execute_result"
    },
    {
     "data": {
      "image/png": "[encoded data removed]",
      "text/plain": [
       "<Figure size 432x288 with 1 Axes>"
      ]
     },
     "metadata": {
      "needs_background": "light"
     },
     "output_type": "display_data"
    }
   ],
   "source": [
    "plt.hist(vpeak_o,bin_o)\n",
    "plt.plot(bin_o,len_orphan)\n",
    "plt.xlim(0,300)"
   ]
  },
  {
   "cell_type": "code",
   "execution_count": null,
   "metadata": {},
   "outputs": [],
   "source": [
    "plt.hist(vpeak_s,bin_s)"
   ]
  },
  {
   "cell_type": "markdown",
   "metadata": {},
   "source": [
    "# check new code"
   ]
  },
  {
   "cell_type": "code",
   "execution_count": 129,
   "metadata": {},
   "outputs": [],
   "source": [
    "subhalonew = np.load('/home/yunzheng/mock/color/data/newcatalogue/snap_92_subhalo_with_zform.npy')"
   ]
  },
  {
   "cell_type": "code",
   "execution_count": 132,
   "metadata": {},
   "outputs": [],
   "source": [
    "newvpeak = subhalonew[:,1]\n",
    "newzform = subhalonew[:,-1]"
   ]
  },
  {
   "cell_type": "code",
   "execution_count": 134,
   "metadata": {},
   "outputs": [
    {
     "name": "stdout",
     "output_type": "stream",
     "text": [
      "1835.6221923828125\n",
      "31.40896987915039\n"
     ]
    }
   ],
   "source": [
    "print(max(newvpeak))\n",
    "print(min(newvpeak))"
   ]
  },
  {
   "cell_type": "code",
   "execution_count": 135,
   "metadata": {},
   "outputs": [],
   "source": [
    "######对subhalo\n",
    "bin_sub = np.arange(30,1841,5)\n",
    "inds_sub = np.digitize(newvpeak,bin_sub)"
   ]
  },
  {
   "cell_type": "code",
   "execution_count": null,
   "metadata": {},
   "outputs": [],
   "source": [
    "zform_sub = [[]for _ in range(363)]\n",
    "vpeak_sub = [[]for _ in range(363)]\n",
    "for n in range(len(vpeak_s)):\n",
    "    vpeak_sub[inds_sub[n]].append(newvpeak[n])\n",
    "    zform_sub[inds_sub[n]].append(newzform[n])"
   ]
  }
 ],
 "metadata": {
  "kernelspec": {
   "display_name": "Python 3",
   "language": "python",
   "name": "python3"
  },
  "language_info": {
   "codemirror_mode": {
    "name": "ipython",
    "version": 3
   },
   "file_extension": ".py",
   "mimetype": "text/x-python",
   "name": "python",
   "nbconvert_exporter": "python",
   "pygments_lexer": "ipython3",
   "version": "3.7.8"
  },
  "toc": {
   "base_numbering": 1,
   "nav_menu": {},
   "number_sections": true,
   "sideBar": true,
   "skip_h1_title": false,
   "title_cell": "Table of Contents",
   "title_sidebar": "Contents",
   "toc_cell": false,
   "toc_position": {},
   "toc_section_display": true,
   "toc_window_display": false
  }
 },
 "nbformat": 4,
 "nbformat_minor": 4
}
