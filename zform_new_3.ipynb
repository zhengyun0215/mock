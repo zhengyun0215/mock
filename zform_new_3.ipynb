{
 "cells": [
  {
   "cell_type": "markdown",
   "metadata": {},
   "source": [
    "# load data"
   ]
  },
  {
   "cell_type": "code",
   "execution_count": 11,
   "metadata": {
    "ExecuteTime": {
     "end_time": "2021-03-24T11:46:17.782082Z",
     "start_time": "2021-03-24T11:46:17.780055Z"
    },
    "execution": {
     "iopub.execute_input": "2021-04-02T16:02:12.178225Z",
     "iopub.status.busy": "2021-04-02T16:02:12.178024Z",
     "iopub.status.idle": "2021-04-02T16:02:22.876986Z",
     "shell.execute_reply": "2021-04-02T16:02:22.876394Z",
     "shell.execute_reply.started": "2021-04-02T16:02:12.178205Z"
    },
    "tags": []
   },
   "outputs": [],
   "source": [
    "import numpy as np\n",
    "import matplotlib.pyplot as plt"
   ]
  },
  {
   "cell_type": "code",
   "execution_count": 12,
   "metadata": {
    "ExecuteTime": {
     "end_time": "2021-03-24T12:00:55.819976Z",
     "start_time": "2021-03-24T12:00:55.636450Z"
    },
    "execution": {
     "iopub.execute_input": "2021-04-02T16:02:22.878052Z",
     "iopub.status.busy": "2021-04-02T16:02:22.877897Z",
     "iopub.status.idle": "2021-04-02T16:02:24.145767Z",
     "shell.execute_reply": "2021-04-02T16:02:24.145194Z",
     "shell.execute_reply.started": "2021-04-02T16:02:22.878033Z"
    },
    "tags": []
   },
   "outputs": [],
   "source": [
    "table = np.load('/home/yunzheng/mock/color/data/newcatalogue/snapshot_92_new_withmag.npy')"
   ]
  },
  {
   "cell_type": "code",
   "execution_count": 13,
   "metadata": {
    "ExecuteTime": {
     "end_time": "2021-03-24T11:45:29.664347Z",
     "start_time": "2021-03-24T11:45:05.256Z"
    },
    "execution": {
     "iopub.execute_input": "2021-04-02T16:02:24.147052Z",
     "iopub.status.busy": "2021-04-02T16:02:24.146856Z",
     "iopub.status.idle": "2021-04-02T16:02:24.757778Z",
     "shell.execute_reply": "2021-04-02T16:02:24.757364Z",
     "shell.execute_reply.started": "2021-04-02T16:02:24.147028Z"
    },
    "tags": []
   },
   "outputs": [
    {
     "data": {
      "text/plain": [
       "(26241654, 10)"
      ]
     },
     "execution_count": 13,
     "metadata": {},
     "output_type": "execute_result"
    }
   ],
   "source": [
    "table.shape"
   ]
  },
  {
   "cell_type": "code",
   "execution_count": 14,
   "metadata": {
    "ExecuteTime": {
     "end_time": "2021-03-24T11:45:29.665388Z",
     "start_time": "2021-03-24T11:45:05.961Z"
    },
    "execution": {
     "iopub.execute_input": "2021-04-02T16:02:24.758738Z",
     "iopub.status.busy": "2021-04-02T16:02:24.758506Z",
     "iopub.status.idle": "2021-04-02T16:02:26.149195Z",
     "shell.execute_reply": "2021-04-02T16:02:26.148633Z",
     "shell.execute_reply.started": "2021-04-02T16:02:24.758719Z"
    },
    "tags": []
   },
   "outputs": [],
   "source": [
    "vpeak = table[:,1]\n",
    "zform = table[:,8]\n",
    "mag = table[:,9]"
   ]
  },
  {
   "cell_type": "markdown",
   "metadata": {},
   "source": [
    "# 分红移bin计算 zform cdf"
   ]
  },
  {
   "cell_type": "markdown",
   "metadata": {},
   "source": [
    "## 对红移分bin"
   ]
  },
  {
   "cell_type": "code",
   "execution_count": 5,
   "metadata": {
    "ExecuteTime": {
     "end_time": "2021-03-24T11:45:29.666115Z",
     "start_time": "2021-03-24T11:45:11.839Z"
    },
    "execution": {
     "iopub.execute_input": "2021-03-31T02:31:06.882326Z",
     "iopub.status.busy": "2021-03-31T02:31:06.882123Z",
     "iopub.status.idle": "2021-03-31T02:31:07.218649Z",
     "shell.execute_reply": "2021-03-31T02:31:07.218024Z",
     "shell.execute_reply.started": "2021-03-31T02:31:06.882306Z"
    },
    "tags": []
   },
   "outputs": [
    {
     "name": "stdout",
     "output_type": "stream",
     "text": [
      "12.406872085246118\n",
      "0.2182580231028184\n"
     ]
    }
   ],
   "source": [
    "print(np.max(zform))\n",
    "print(np.min(zform))"
   ]
  },
  {
   "cell_type": "code",
   "execution_count": 7,
   "metadata": {
    "execution": {
     "iopub.execute_input": "2021-03-21T12:29:06.580631Z",
     "iopub.status.busy": "2021-03-21T12:29:06.580396Z",
     "iopub.status.idle": "2021-03-21T12:29:11.693111Z",
     "shell.execute_reply": "2021-03-21T12:29:11.692475Z",
     "shell.execute_reply.started": "2021-03-21T12:29:06.580608Z"
    }
   },
   "outputs": [],
   "source": [
    "ntemp = 0\n",
    "for i in range(len(zform)):\n",
    "    if zform[i] == 0.2182580231028184:\n",
    "        ntemp = ntemp + 1"
   ]
  },
  {
   "cell_type": "code",
   "execution_count": 8,
   "metadata": {
    "execution": {
     "iopub.execute_input": "2021-03-21T12:29:27.600392Z",
     "iopub.status.busy": "2021-03-21T12:29:27.600173Z",
     "iopub.status.idle": "2021-03-21T12:29:27.603980Z",
     "shell.execute_reply": "2021-03-21T12:29:27.603456Z",
     "shell.execute_reply.started": "2021-03-21T12:29:27.600369Z"
    }
   },
   "outputs": [
    {
     "data": {
      "text/plain": [
       "128"
      ]
     },
     "execution_count": 8,
     "metadata": {},
     "output_type": "execute_result"
    }
   ],
   "source": [
    "ntemp"
   ]
  },
  {
   "cell_type": "code",
   "execution_count": 9,
   "metadata": {
    "execution": {
     "iopub.execute_input": "2021-03-21T12:29:44.817217Z",
     "iopub.status.busy": "2021-03-21T12:29:44.816983Z",
     "iopub.status.idle": "2021-03-21T12:29:49.748596Z",
     "shell.execute_reply": "2021-03-21T12:29:49.747769Z",
     "shell.execute_reply.started": "2021-03-21T12:29:44.817194Z"
    }
   },
   "outputs": [],
   "source": [
    "ntemp = 0\n",
    "for i in range(len(zform)):\n",
    "    if zform[i] == 12.406872085246118:\n",
    "        ntemp = ntemp + 1"
   ]
  },
  {
   "cell_type": "code",
   "execution_count": 10,
   "metadata": {
    "execution": {
     "iopub.execute_input": "2021-03-21T12:29:51.548054Z",
     "iopub.status.busy": "2021-03-21T12:29:51.547884Z",
     "iopub.status.idle": "2021-03-21T12:29:51.551613Z",
     "shell.execute_reply": "2021-03-21T12:29:51.551118Z",
     "shell.execute_reply.started": "2021-03-21T12:29:51.548034Z"
    }
   },
   "outputs": [
    {
     "data": {
      "text/plain": [
       "1"
      ]
     },
     "execution_count": 10,
     "metadata": {},
     "output_type": "execute_result"
    }
   ],
   "source": [
    "ntemp"
   ]
  },
  {
   "cell_type": "markdown",
   "metadata": {},
   "source": [
    "### 分100000个红移bin"
   ]
  },
  {
   "cell_type": "code",
   "execution_count": 6,
   "metadata": {
    "ExecuteTime": {
     "end_time": "2021-03-22T06:53:18.743102Z",
     "start_time": "2021-03-22T06:53:18.739576Z"
    },
    "execution": {
     "iopub.execute_input": "2021-03-31T02:31:20.570400Z",
     "iopub.status.busy": "2021-03-31T02:31:20.570202Z",
     "iopub.status.idle": "2021-03-31T02:31:20.573893Z",
     "shell.execute_reply": "2021-03-31T02:31:20.573352Z",
     "shell.execute_reply.started": "2021-03-31T02:31:20.570381Z"
    },
    "tags": []
   },
   "outputs": [],
   "source": [
    "arr_red = np.arange(100001)\n",
    "bin_red = 0.21 + 12.2 * arr_red / 100000"
   ]
  },
  {
   "cell_type": "code",
   "execution_count": 7,
   "metadata": {
    "ExecuteTime": {
     "end_time": "2021-03-22T06:53:20.288562Z",
     "start_time": "2021-03-22T06:53:20.284628Z"
    },
    "execution": {
     "iopub.execute_input": "2021-03-31T02:31:38.916578Z",
     "iopub.status.busy": "2021-03-31T02:31:38.916380Z",
     "iopub.status.idle": "2021-03-31T02:31:38.920598Z",
     "shell.execute_reply": "2021-03-31T02:31:38.920049Z",
     "shell.execute_reply.started": "2021-03-31T02:31:38.916558Z"
    },
    "tags": []
   },
   "outputs": [
    {
     "data": {
      "text/plain": [
       "array([0.21    , 0.210122, 0.210244, 0.210366, 0.210488, 0.21061 ,\n",
       "       0.210732, 0.210854, 0.210976, 0.211098, 0.21122 , 0.211342,\n",
       "       0.211464, 0.211586, 0.211708, 0.21183 , 0.211952, 0.212074,\n",
       "       0.212196, 0.212318])"
      ]
     },
     "execution_count": 7,
     "metadata": {},
     "output_type": "execute_result"
    }
   ],
   "source": [
    "bin_red[:20]"
   ]
  },
  {
   "cell_type": "code",
   "execution_count": 8,
   "metadata": {
    "execution": {
     "iopub.execute_input": "2021-03-31T02:31:40.843018Z",
     "iopub.status.busy": "2021-03-31T02:31:40.842851Z",
     "iopub.status.idle": "2021-03-31T02:31:40.846694Z",
     "shell.execute_reply": "2021-03-31T02:31:40.846191Z",
     "shell.execute_reply.started": "2021-03-31T02:31:40.842998Z"
    },
    "tags": []
   },
   "outputs": [
    {
     "data": {
      "text/plain": [
       "array([12.407682, 12.407804, 12.407926, 12.408048, 12.40817 , 12.408292,\n",
       "       12.408414, 12.408536, 12.408658, 12.40878 , 12.408902, 12.409024,\n",
       "       12.409146, 12.409268, 12.40939 , 12.409512, 12.409634, 12.409756,\n",
       "       12.409878, 12.41    ])"
      ]
     },
     "execution_count": 8,
     "metadata": {},
     "output_type": "execute_result"
    }
   ],
   "source": [
    "bin_red[-20:]"
   ]
  },
  {
   "cell_type": "code",
   "execution_count": 9,
   "metadata": {
    "ExecuteTime": {
     "end_time": "2021-03-22T06:53:22.668164Z",
     "start_time": "2021-03-22T06:53:22.665134Z"
    },
    "execution": {
     "iopub.execute_input": "2021-03-31T02:31:42.857638Z",
     "iopub.status.busy": "2021-03-31T02:31:42.857450Z",
     "iopub.status.idle": "2021-03-31T02:31:42.860625Z",
     "shell.execute_reply": "2021-03-31T02:31:42.860095Z",
     "shell.execute_reply.started": "2021-03-31T02:31:42.857617Z"
    },
    "tags": []
   },
   "outputs": [],
   "source": [
    "red_bin_mean = 0.5 * (bin_red[1:] + bin_red[:-1])"
   ]
  },
  {
   "cell_type": "code",
   "execution_count": 10,
   "metadata": {
    "ExecuteTime": {
     "end_time": "2021-03-22T06:53:23.324442Z",
     "start_time": "2021-03-22T06:53:23.321046Z"
    },
    "execution": {
     "iopub.execute_input": "2021-03-31T02:31:43.879974Z",
     "iopub.status.busy": "2021-03-31T02:31:43.879826Z",
     "iopub.status.idle": "2021-03-31T02:31:44.198715Z",
     "shell.execute_reply": "2021-03-31T02:31:44.198204Z",
     "shell.execute_reply.started": "2021-03-31T02:31:43.879956Z"
    },
    "tags": []
   },
   "outputs": [
    {
     "data": {
      "text/plain": [
       "array([ 0.210061,  0.210183,  0.210305, ..., 12.409695, 12.409817,\n",
       "       12.409939])"
      ]
     },
     "execution_count": 10,
     "metadata": {},
     "output_type": "execute_result"
    }
   ],
   "source": [
    "red_bin_mean"
   ]
  },
  {
   "cell_type": "markdown",
   "metadata": {},
   "source": [
    "# 分mag bin存 vpeak，zform，mag"
   ]
  },
  {
   "cell_type": "markdown",
   "metadata": {},
   "source": [
    "## 分mag bin"
   ]
  },
  {
   "cell_type": "code",
   "execution_count": 15,
   "metadata": {
    "ExecuteTime": {
     "end_time": "2021-03-22T06:53:29.273946Z",
     "start_time": "2021-03-22T06:53:29.268885Z"
    },
    "execution": {
     "iopub.execute_input": "2021-04-02T16:04:53.903184Z",
     "iopub.status.busy": "2021-04-02T16:04:53.902937Z",
     "iopub.status.idle": "2021-04-02T16:04:53.948153Z",
     "shell.execute_reply": "2021-04-02T16:04:53.947652Z",
     "shell.execute_reply.started": "2021-04-02T16:04:53.903159Z"
    },
    "tags": []
   },
   "outputs": [],
   "source": [
    "# mag_bin_new = np.arange(-235,-150,1)\n",
    "mag_bin_new = np.array([-23.5,-23.0, -22.8, -22.7,\n",
    "       -22.6, -22.5, -22.4, -22.3, -22.2, -22.1, -22. , -21.9, -21.8,\n",
    "       -21.7, -21.6, -21.5, -21.4, -21.3, -21.2, -21.1, -21.0 , -20.9,\n",
    "       -20.8, -20.7, -20.6, -20.5, -20.4, -20.3, -20.2, -20.1, -20.0 ,\n",
    "       -19.9, -19.8, -19.7, -19.6, -19.5, -19.4, -19.3, -19.2, -19.1,\n",
    "       -19.0 , -18.9, -18.8, -18.7, -18.6, -18.5, -18.4, -18.3, -18.2,\n",
    "       -18.1, -18.0 , -17.9, -17.8, -17.7, -17.6, -17.5, -17.4, -17.3,\n",
    "       -17.2, -17.10, -17.0 , -16.9, -16.8, -16.7, -16.6, -16.5, -16.4,\n",
    "       -16.3, -16.2, -16.10, -16.0 , -15.9, -15.8, -15.7, -15.6, -15.5,\n",
    "       -15.4, -15.3, -15.20, -15.10])"
   ]
  },
  {
   "cell_type": "code",
   "execution_count": 16,
   "metadata": {
    "ExecuteTime": {
     "end_time": "2021-03-22T06:53:33.218459Z",
     "start_time": "2021-03-22T06:53:33.215936Z"
    },
    "execution": {
     "iopub.execute_input": "2021-04-02T16:04:55.633988Z",
     "iopub.status.busy": "2021-04-02T16:04:55.633745Z",
     "iopub.status.idle": "2021-04-02T16:04:55.636696Z",
     "shell.execute_reply": "2021-04-02T16:04:55.636243Z",
     "shell.execute_reply.started": "2021-04-02T16:04:55.633964Z"
    },
    "tags": []
   },
   "outputs": [],
   "source": [
    "mag_bin_mean = 0.5 * (mag_bin_new[1:] + mag_bin_new[:-1])"
   ]
  },
  {
   "cell_type": "code",
   "execution_count": 17,
   "metadata": {
    "ExecuteTime": {
     "end_time": "2021-03-22T06:53:34.336547Z",
     "start_time": "2021-03-22T06:53:34.333372Z"
    },
    "execution": {
     "iopub.execute_input": "2021-04-02T16:04:56.203346Z",
     "iopub.status.busy": "2021-04-02T16:04:56.203117Z",
     "iopub.status.idle": "2021-04-02T16:04:56.206655Z",
     "shell.execute_reply": "2021-04-02T16:04:56.206223Z",
     "shell.execute_reply.started": "2021-04-02T16:04:56.203322Z"
    },
    "tags": []
   },
   "outputs": [
    {
     "data": {
      "text/plain": [
       "(79,)"
      ]
     },
     "execution_count": 17,
     "metadata": {},
     "output_type": "execute_result"
    }
   ],
   "source": [
    "mag_bin_mean.shape"
   ]
  },
  {
   "cell_type": "code",
   "execution_count": 18,
   "metadata": {
    "ExecuteTime": {
     "end_time": "2021-03-22T06:53:34.914976Z",
     "start_time": "2021-03-22T06:53:34.911159Z"
    },
    "collapsed": true,
    "execution": {
     "iopub.execute_input": "2021-04-02T16:04:58.307185Z",
     "iopub.status.busy": "2021-04-02T16:04:58.306994Z",
     "iopub.status.idle": "2021-04-02T16:04:59.781113Z",
     "shell.execute_reply": "2021-04-02T16:04:59.780694Z",
     "shell.execute_reply.started": "2021-04-02T16:04:58.307163Z"
    },
    "jupyter": {
     "outputs_hidden": true
    },
    "tags": []
   },
   "outputs": [
    {
     "data": {
      "text/plain": [
       "array([-23.25, -22.9 , -22.75, -22.65, -22.55, -22.45, -22.35, -22.25,\n",
       "       -22.15, -22.05, -21.95, -21.85, -21.75, -21.65, -21.55, -21.45,\n",
       "       -21.35, -21.25, -21.15, -21.05, -20.95, -20.85, -20.75, -20.65,\n",
       "       -20.55, -20.45, -20.35, -20.25, -20.15, -20.05, -19.95, -19.85,\n",
       "       -19.75, -19.65, -19.55, -19.45, -19.35, -19.25, -19.15, -19.05,\n",
       "       -18.95, -18.85, -18.75, -18.65, -18.55, -18.45, -18.35, -18.25,\n",
       "       -18.15, -18.05, -17.95, -17.85, -17.75, -17.65, -17.55, -17.45,\n",
       "       -17.35, -17.25, -17.15, -17.05, -16.95, -16.85, -16.75, -16.65,\n",
       "       -16.55, -16.45, -16.35, -16.25, -16.15, -16.05, -15.95, -15.85,\n",
       "       -15.75, -15.65, -15.55, -15.45, -15.35, -15.25, -15.15])"
      ]
     },
     "execution_count": 18,
     "metadata": {},
     "output_type": "execute_result"
    }
   ],
   "source": [
    "mag_bin_mean"
   ]
  },
  {
   "cell_type": "code",
   "execution_count": 15,
   "metadata": {
    "execution": {
     "iopub.execute_input": "2021-03-31T02:46:10.209773Z",
     "iopub.status.busy": "2021-03-31T02:46:10.209612Z",
     "iopub.status.idle": "2021-03-31T02:46:10.212975Z",
     "shell.execute_reply": "2021-03-31T02:46:10.212488Z",
     "shell.execute_reply.started": "2021-03-31T02:46:10.209755Z"
    },
    "tags": []
   },
   "outputs": [
    {
     "data": {
      "text/plain": [
       "-15.350000000000001"
      ]
     },
     "execution_count": 15,
     "metadata": {},
     "output_type": "execute_result"
    }
   ],
   "source": [
    "mag_bin_mean[76]"
   ]
  },
  {
   "cell_type": "code",
   "execution_count": 16,
   "metadata": {
    "execution": {
     "iopub.execute_input": "2021-03-31T02:46:11.587738Z",
     "iopub.status.busy": "2021-03-31T02:46:11.587592Z",
     "iopub.status.idle": "2021-03-31T02:46:13.242660Z",
     "shell.execute_reply": "2021-03-31T02:46:13.242104Z",
     "shell.execute_reply.started": "2021-03-31T02:46:11.587720Z"
    },
    "tags": []
   },
   "outputs": [
    {
     "data": {
      "text/plain": [
       "-23.25"
      ]
     },
     "execution_count": 16,
     "metadata": {},
     "output_type": "execute_result"
    }
   ],
   "source": [
    "mag_bin_mean[0]"
   ]
  },
  {
   "cell_type": "code",
   "execution_count": 19,
   "metadata": {
    "ExecuteTime": {
     "end_time": "2021-03-22T06:53:45.025778Z",
     "start_time": "2021-03-22T06:53:43.666703Z"
    },
    "execution": {
     "iopub.execute_input": "2021-04-02T16:05:10.717250Z",
     "iopub.status.busy": "2021-04-02T16:05:10.717001Z",
     "iopub.status.idle": "2021-04-02T16:05:11.795019Z",
     "shell.execute_reply": "2021-04-02T16:05:11.794198Z",
     "shell.execute_reply.started": "2021-04-02T16:05:10.717224Z"
    },
    "tags": []
   },
   "outputs": [],
   "source": [
    "inds = np.digitize(mag,mag_bin_new)"
   ]
  },
  {
   "cell_type": "code",
   "execution_count": 103,
   "metadata": {
    "execution": {
     "iopub.execute_input": "2021-03-31T09:05:50.664977Z",
     "iopub.status.busy": "2021-03-31T09:05:50.664775Z",
     "iopub.status.idle": "2021-03-31T09:05:50.668503Z",
     "shell.execute_reply": "2021-03-31T09:05:50.668081Z",
     "shell.execute_reply.started": "2021-03-31T09:05:50.664957Z"
    },
    "tags": []
   },
   "outputs": [
    {
     "data": {
      "text/plain": [
       "-15.199737749455144"
      ]
     },
     "execution_count": 103,
     "metadata": {},
     "output_type": "execute_result"
    }
   ],
   "source": [
    "mag[5]"
   ]
  },
  {
   "cell_type": "code",
   "execution_count": 104,
   "metadata": {
    "execution": {
     "iopub.execute_input": "2021-03-31T09:05:58.918899Z",
     "iopub.status.busy": "2021-03-31T09:05:58.918697Z",
     "iopub.status.idle": "2021-03-31T09:05:58.922141Z",
     "shell.execute_reply": "2021-03-31T09:05:58.921703Z",
     "shell.execute_reply.started": "2021-03-31T09:05:58.918877Z"
    },
    "tags": []
   },
   "outputs": [
    {
     "data": {
      "text/plain": [
       "79"
      ]
     },
     "execution_count": 104,
     "metadata": {},
     "output_type": "execute_result"
    }
   ],
   "source": [
    "inds[5]"
   ]
  },
  {
   "cell_type": "code",
   "execution_count": 52,
   "metadata": {
    "execution": {
     "iopub.execute_input": "2021-03-31T06:25:16.441472Z",
     "iopub.status.busy": "2021-03-31T06:25:16.441277Z",
     "iopub.status.idle": "2021-03-31T06:25:16.444701Z",
     "shell.execute_reply": "2021-03-31T06:25:16.444283Z",
     "shell.execute_reply.started": "2021-03-31T06:25:16.441452Z"
    },
    "tags": []
   },
   "outputs": [
    {
     "data": {
      "text/plain": [
       "-15.149999999999999"
      ]
     },
     "execution_count": 52,
     "metadata": {},
     "output_type": "execute_result"
    }
   ],
   "source": [
    "mag_bin_mean[78]"
   ]
  },
  {
   "cell_type": "code",
   "execution_count": 18,
   "metadata": {
    "execution": {
     "iopub.execute_input": "2021-03-31T02:46:21.536669Z",
     "iopub.status.busy": "2021-03-31T02:46:21.536502Z",
     "iopub.status.idle": "2021-03-31T02:46:22.542803Z",
     "shell.execute_reply": "2021-03-31T02:46:22.542276Z",
     "shell.execute_reply.started": "2021-03-31T02:46:21.536651Z"
    },
    "tags": []
   },
   "outputs": [
    {
     "data": {
      "text/plain": [
       "79"
      ]
     },
     "execution_count": 18,
     "metadata": {},
     "output_type": "execute_result"
    }
   ],
   "source": [
    "np.max(inds)"
   ]
  },
  {
   "cell_type": "code",
   "execution_count": 19,
   "metadata": {
    "execution": {
     "iopub.execute_input": "2021-03-31T02:46:22.543879Z",
     "iopub.status.busy": "2021-03-31T02:46:22.543720Z",
     "iopub.status.idle": "2021-03-31T02:46:24.270799Z",
     "shell.execute_reply": "2021-03-31T02:46:24.270281Z",
     "shell.execute_reply.started": "2021-03-31T02:46:22.543861Z"
    },
    "tags": []
   },
   "outputs": [
    {
     "data": {
      "text/plain": [
       "1"
      ]
     },
     "execution_count": 19,
     "metadata": {},
     "output_type": "execute_result"
    }
   ],
   "source": [
    "np.min(inds)"
   ]
  },
  {
   "cell_type": "markdown",
   "metadata": {},
   "source": [
    "## 分bin存每组信息"
   ]
  },
  {
   "cell_type": "code",
   "execution_count": 20,
   "metadata": {
    "ExecuteTime": {
     "end_time": "2021-03-22T06:54:26.168187Z",
     "start_time": "2021-03-22T06:53:48.841757Z"
    },
    "execution": {
     "iopub.execute_input": "2021-03-31T02:46:30.555243Z",
     "iopub.status.busy": "2021-03-31T02:46:30.555051Z",
     "iopub.status.idle": "2021-03-31T02:47:24.908131Z",
     "shell.execute_reply": "2021-03-31T02:47:24.907155Z",
     "shell.execute_reply.started": "2021-03-31T02:46:30.555224Z"
    },
    "tags": []
   },
   "outputs": [],
   "source": [
    "# 尝试把subhalo信息都存成一行方便查找\n",
    "total_bin = [[]for _ in range(80)]\n",
    "for n in range(len(vpeak)):\n",
    "    sub_info = np.array((vpeak[n],zform[n],mag[n]))\n",
    "    total_bin[inds[n]].append(sub_info)"
   ]
  },
  {
   "cell_type": "code",
   "execution_count": 21,
   "metadata": {
    "collapsed": true,
    "execution": {
     "iopub.execute_input": "2021-03-31T02:47:24.909680Z",
     "iopub.status.busy": "2021-03-31T02:47:24.909505Z",
     "iopub.status.idle": "2021-03-31T02:47:24.927077Z",
     "shell.execute_reply": "2021-03-31T02:47:24.926509Z",
     "shell.execute_reply.started": "2021-03-31T02:47:24.909659Z"
    },
    "jupyter": {
     "outputs_hidden": true
    },
    "tags": []
   },
   "outputs": [
    {
     "name": "stdout",
     "output_type": "stream",
     "text": [
      "-23.5\n",
      "0\n",
      "-23.0\n",
      "92\n",
      "-22.8\n",
      "324\n",
      "-22.7\n",
      "393\n",
      "-22.6\n",
      "687\n",
      "-22.5\n",
      "1144\n",
      "-22.4\n",
      "1826\n",
      "-22.3\n",
      "2805\n",
      "-22.2\n",
      "4153\n",
      "-22.1\n",
      "5954\n",
      "-22.0\n",
      "8289\n",
      "-21.9\n",
      "11221\n",
      "-21.8\n",
      "14828\n",
      "-21.7\n",
      "19158\n",
      "-21.6\n",
      "24231\n",
      "-21.5\n",
      "30094\n",
      "-21.4\n",
      "36739\n",
      "-21.3\n",
      "44133\n",
      "-21.2\n",
      "52289\n",
      "-21.1\n",
      "61149\n",
      "-21.0\n",
      "70633\n",
      "-20.9\n",
      "80745\n",
      "-20.8\n",
      "91397\n",
      "-20.7\n",
      "102481\n",
      "-20.6\n",
      "114015\n",
      "-20.5\n",
      "125899\n",
      "-20.4\n",
      "138018\n",
      "-20.3\n",
      "150422\n",
      "-20.2\n",
      "163009\n",
      "-20.1\n",
      "175668\n",
      "-20.0\n",
      "188485\n",
      "-19.9\n",
      "201364\n",
      "-19.8\n",
      "214205\n",
      "-19.7\n",
      "227122\n",
      "-19.6\n",
      "240031\n",
      "-19.5\n",
      "252835\n",
      "-19.4\n",
      "265680\n",
      "-19.3\n",
      "278483\n",
      "-19.2\n",
      "291157\n",
      "-19.1\n",
      "303866\n",
      "-19.0\n",
      "316531\n",
      "-18.9\n",
      "329067\n",
      "-18.8\n",
      "341656\n",
      "-18.7\n",
      "354217\n",
      "-18.6\n",
      "366669\n",
      "-18.5\n",
      "379201\n",
      "-18.4\n",
      "391733\n",
      "-18.3\n",
      "404189\n",
      "-18.2\n",
      "416756\n",
      "-18.1\n",
      "429359\n",
      "-18.0\n",
      "441919\n",
      "-17.9\n",
      "454628\n",
      "-17.8\n",
      "467409\n",
      "-17.7\n",
      "480185\n",
      "-17.6\n",
      "493145\n",
      "-17.5\n",
      "506213\n",
      "-17.4\n",
      "519315\n",
      "-17.3\n",
      "532635\n",
      "-17.2\n",
      "546099\n",
      "-17.1\n",
      "559632\n",
      "-17.0\n",
      "573418\n",
      "-16.9\n",
      "587381\n",
      "-16.8\n",
      "601449\n",
      "-16.7\n",
      "615801\n",
      "-16.6\n",
      "630364\n",
      "-16.5\n",
      "645064\n",
      "-16.4\n",
      "660079\n",
      "-16.3\n",
      "675337\n",
      "-16.2\n",
      "690765\n",
      "-16.1\n",
      "706538\n",
      "-16.0\n",
      "722581\n",
      "-15.9\n",
      "738830\n",
      "-15.8\n",
      "755450\n",
      "-15.7\n",
      "772373\n",
      "-15.6\n",
      "789531\n",
      "-15.5\n",
      "807089\n",
      "-15.4\n",
      "824980\n",
      "-15.3\n",
      "843137\n",
      "-15.2\n",
      "861724\n",
      "-15.1\n",
      "14181\n"
     ]
    }
   ],
   "source": [
    "for i in range(80):\n",
    "    print(mag_bin_new[i])\n",
    "    print(len(total_bin[i]))"
   ]
  },
  {
   "cell_type": "code",
   "execution_count": 46,
   "metadata": {
    "collapsed": true,
    "execution": {
     "iopub.execute_input": "2021-03-21T13:26:58.703984Z",
     "iopub.status.busy": "2021-03-21T13:26:58.703831Z",
     "iopub.status.idle": "2021-03-21T13:26:58.716213Z",
     "shell.execute_reply": "2021-03-21T13:26:58.715808Z",
     "shell.execute_reply.started": "2021-03-21T13:26:58.703965Z"
    },
    "jupyter": {
     "outputs_hidden": true
    },
    "tags": []
   },
   "outputs": [
    {
     "data": {
      "text/plain": [
       "[array([485.57998657,   3.79772895, -23.0835925 ]),\n",
       " array([516.96459961,   1.14324532, -23.13550425]),\n",
       " array([532.92041016,   1.28246896, -23.03265183]),\n",
       " array([540.47052002,   2.14456664, -23.14747063]),\n",
       " array([548.45910645,   2.70337906, -23.16556092]),\n",
       " array([553.47216797,   1.82796884, -23.0167527 ]),\n",
       " array([553.887146  ,   1.48119624, -23.15618668]),\n",
       " array([561.875     ,   1.21855496, -23.06288073]),\n",
       " array([681.45941162,   1.21616015, -23.00390221]),\n",
       " array([727.45178223,   1.19573969, -23.03781334]),\n",
       " array([737.86810303,   2.61344436, -23.23783961]),\n",
       " array([749.54418945,   1.06201343, -23.12462861]),\n",
       " array([764.08410645,   3.23431208, -23.01826627]),\n",
       " array([767.67346191,   1.7807957 , -23.07166636]),\n",
       " array([778.34417725,   1.54858114, -23.10535799]),\n",
       " array([778.65704346,   2.08595373, -23.03957476]),\n",
       " array([780.16766357,   1.3296965 , -23.05072039]),\n",
       " array([783.59881592,   1.36811077, -23.22901763]),\n",
       " array([790.70788574,   3.21369617, -23.13176038]),\n",
       " array([803.7387085 ,   2.25040226, -23.02133457]),\n",
       " array([808.7489624 ,   1.11026923, -23.07869953]),\n",
       " array([809.02404785,   1.22820282, -23.12813929]),\n",
       " array([815.30780029,   1.22114392, -23.00945469]),\n",
       " array([ 8.57857361e+02,  6.96472048e-01, -2.31517487e+01]),\n",
       " array([858.63470459,   1.34156946, -23.096757  ]),\n",
       " array([865.84161377,   2.12611124, -23.14335402]),\n",
       " array([868.67480469,   1.2260417 , -23.0431779 ]),\n",
       " array([870.32330322,   1.3298912 , -23.04689364]),\n",
       " array([870.91497803,   3.89848985, -23.06941364]),\n",
       " array([880.92321777,   2.26992199, -23.0739637 ]),\n",
       " array([885.22918701,   1.98369553, -23.02288762]),\n",
       " array([890.00756836,   0.91492109, -23.31511109]),\n",
       " array([891.12573242,   1.20634843, -23.19932322]),\n",
       " array([893.33929443,   3.06248977, -23.39905791]),\n",
       " array([894.60253906,   1.04695225, -23.04879599]),\n",
       " array([917.40386963,   1.48712437, -23.05463558]),\n",
       " array([923.4788208 ,   1.06531926, -23.0052769 ]),\n",
       " array([ 9.36009094e+02,  8.56347451e-01, -2.30260552e+01]),\n",
       " array([946.82336426,   1.11433802, -23.16077188]),\n",
       " array([ 9.50122681e+02,  5.03693476e-01, -2.31393795e+01]),\n",
       " array([951.28631592,   1.38661773, -23.01979887]),\n",
       " array([ 9.54945984e+02,  6.72434227e-01, -2.30244610e+01]),\n",
       " array([955.67041016,   1.25079712, -23.06720382]),\n",
       " array([ 9.66710938e+02,  5.36025452e-01, -2.32827404e+01]),\n",
       " array([967.47302246,   1.02830128, -23.00253935]),\n",
       " array([972.98956299,   1.7922301 , -23.22081186]),\n",
       " array([985.52697754,   1.86277761, -23.00119139]),\n",
       " array([998.61401367,   2.91507393, -23.08868641]),\n",
       " array([1000.53131104,    1.80016648,  -23.01378084]),\n",
       " array([1009.91662598,    1.38091417,  -23.36264436]),\n",
       " array([1011.33221436,    1.45869104,  -23.17575746]),\n",
       " array([1012.33612061,    1.56685193,  -23.12118818]),\n",
       " array([1013.11883545,    1.2907526 ,  -23.09955201]),\n",
       " array([ 1.01570050e+03,  5.04787979e-01, -2.30080461e+01]),\n",
       " array([1024.73828125,    1.9765426 ,  -23.08611116]),\n",
       " array([ 1.04577722e+03,  7.88812963e-01, -2.30913209e+01]),\n",
       " array([ 1.07381177e+03,  9.33741041e-01, -2.30123217e+01]),\n",
       " array([1089.27441406,    1.17777799,  -23.04136268]),\n",
       " array([ 1.10623987e+03,  8.18480229e-01, -2.30108797e+01]),\n",
       " array([1113.81604004,    2.02820695,  -23.03607762]),\n",
       " array([ 1.11670044e+03,  1.00834315e+00, -2.30309685e+01]),\n",
       " array([1124.6673584 ,    2.24479884,  -23.18121554]),\n",
       " array([ 1.14247888e+03,  7.58490563e-01, -2.32060307e+01]),\n",
       " array([ 1.14777759e+03,  1.04781449e+00, -2.31705657e+01]),\n",
       " array([ 1.14942285e+03,  1.04539865e+00, -2.30450213e+01]),\n",
       " array([ 1.15362463e+03,  9.27207720e-01, -2.30811280e+01]),\n",
       " array([1176.35253906,    1.87404631,  -23.00665364]),\n",
       " array([ 1.17741736e+03,  9.91274903e-01, -2.30276707e+01]),\n",
       " array([1188.62194824,    1.40695461,  -23.21319216]),\n",
       " array([ 1.20374255e+03,  1.09930397e+00, -2.30566432e+01]),\n",
       " array([ 1.20423083e+03,  7.40603705e-01, -2.30343591e+01]),\n",
       " array([ 1.22175110e+03,  6.12836277e-01, -2.30152577e+01]),\n",
       " array([ 1.22630017e+03,  1.06503089e+00, -2.32696509e+01]),\n",
       " array([1236.17077637,    1.60431278,  -23.11785046]),\n",
       " array([1309.5123291 ,    1.36468282,  -23.10241778]),\n",
       " array([ 1.34459753e+03,  1.06108583e+00, -2.30526617e+01]),\n",
       " array([ 1.34543750e+03,  1.12306263e+00, -2.31114599e+01]),\n",
       " array([ 1.35368921e+03,  8.15830121e-01, -2.32976779e+01]),\n",
       " array([ 1.35549438e+03,  7.09437442e-01, -2.30650353e+01]),\n",
       " array([1360.7677002 ,    2.20290554,  -23.06076455]),\n",
       " array([1362.0189209 ,    1.72127224,  -23.05868582]),\n",
       " array([ 1.43203699e+03,  5.55675632e-01, -2.34588460e+01]),\n",
       " array([ 1.48389111e+03,  9.76250424e-01, -2.32474588e+01]),\n",
       " array([ 1.49589539e+03,  1.12315016e+00, -2.32579944e+01]),\n",
       " array([ 1.50168604e+03,  9.45291794e-01, -2.31929517e+01]),\n",
       " array([ 1.51193433e+03,  1.49119176e+00, -2.31083766e+01]),\n",
       " array([ 1.53002686e+03,  1.28237437e+00, -2.30293083e+01]),\n",
       " array([ 1.56084460e+03,  7.26307254e-01, -2.30940173e+01]),\n",
       " array([ 1.58777856e+03,  8.29273181e-01, -2.33361184e+01]),\n",
       " array([ 1.68668042e+03,  9.53621939e-01, -2.31869445e+01]),\n",
       " array([1694.80126953,    2.18064083,  -23.07630745]),\n",
       " array([ 1.83562219e+03,  8.63603291e-01, -2.31146095e+01])]"
      ]
     },
     "execution_count": 46,
     "metadata": {},
     "output_type": "execute_result"
    }
   ],
   "source": [
    "total_bin[1]"
   ]
  },
  {
   "cell_type": "code",
   "execution_count": 53,
   "metadata": {
    "execution": {
     "iopub.execute_input": "2021-03-31T06:31:24.607195Z",
     "iopub.status.busy": "2021-03-31T06:31:24.606982Z",
     "iopub.status.idle": "2021-03-31T06:31:24.610371Z",
     "shell.execute_reply": "2021-03-31T06:31:24.609944Z",
     "shell.execute_reply.started": "2021-03-31T06:31:24.607174Z"
    },
    "tags": []
   },
   "outputs": [
    {
     "data": {
      "text/plain": [
       "(100001,)"
      ]
     },
     "execution_count": 53,
     "metadata": {},
     "output_type": "execute_result"
    }
   ],
   "source": [
    "bin_red.shape"
   ]
  },
  {
   "cell_type": "markdown",
   "metadata": {},
   "source": [
    "# 计算每个mag bin内的zform cdf分布\n"
   ]
  },
  {
   "cell_type": "markdown",
   "metadata": {},
   "source": [
    "## cdf 插值test"
   ]
  },
  {
   "cell_type": "code",
   "execution_count": 27,
   "metadata": {
    "ExecuteTime": {
     "end_time": "2021-03-22T06:55:54.525482Z",
     "start_time": "2021-03-22T06:55:54.388224Z"
    },
    "execution": {
     "iopub.execute_input": "2021-03-31T02:48:32.889979Z",
     "iopub.status.busy": "2021-03-31T02:48:32.889787Z",
     "iopub.status.idle": "2021-03-31T02:48:32.893641Z",
     "shell.execute_reply": "2021-03-31T02:48:32.893099Z",
     "shell.execute_reply.started": "2021-03-31T02:48:32.889958Z"
    },
    "tags": []
   },
   "outputs": [],
   "source": [
    "a = np.array([1,2,2,2.5,3,4,5,5,6,6,8,9,9,10,10.5])\n",
    "bintemp = np.arange(0,14)\n",
    "q = np.histogram(a,bintemp)[0]\n",
    "b = np.cumsum(q)/sum(q)"
   ]
  },
  {
   "cell_type": "code",
   "execution_count": 28,
   "metadata": {
    "execution": {
     "iopub.execute_input": "2021-03-31T02:48:36.729874Z",
     "iopub.status.busy": "2021-03-31T02:48:36.729719Z",
     "iopub.status.idle": "2021-03-31T02:48:36.732466Z",
     "shell.execute_reply": "2021-03-31T02:48:36.731960Z",
     "shell.execute_reply.started": "2021-03-31T02:48:36.729854Z"
    },
    "tags": []
   },
   "outputs": [],
   "source": [
    "bintemp_mean = 0.5 *(bintemp[1:]+bintemp[:-1])"
   ]
  },
  {
   "cell_type": "code",
   "execution_count": 29,
   "metadata": {
    "ExecuteTime": {
     "end_time": "2021-03-22T06:55:56.478826Z",
     "start_time": "2021-03-22T06:55:56.475433Z"
    },
    "execution": {
     "iopub.execute_input": "2021-03-31T02:48:37.665957Z",
     "iopub.status.busy": "2021-03-31T02:48:37.665812Z",
     "iopub.status.idle": "2021-03-31T02:48:38.693485Z",
     "shell.execute_reply": "2021-03-31T02:48:38.692958Z",
     "shell.execute_reply.started": "2021-03-31T02:48:37.665939Z"
    },
    "tags": []
   },
   "outputs": [
    {
     "data": {
      "text/plain": [
       "array([0, 1, 3, 1, 1, 2, 2, 0, 1, 2, 2, 0, 0])"
      ]
     },
     "execution_count": 29,
     "metadata": {},
     "output_type": "execute_result"
    }
   ],
   "source": [
    "q"
   ]
  },
  {
   "cell_type": "code",
   "execution_count": 30,
   "metadata": {
    "ExecuteTime": {
     "end_time": "2021-03-22T06:55:57.111439Z",
     "start_time": "2021-03-22T06:55:57.108069Z"
    },
    "execution": {
     "iopub.execute_input": "2021-03-31T02:48:38.917200Z",
     "iopub.status.busy": "2021-03-31T02:48:38.917043Z",
     "iopub.status.idle": "2021-03-31T02:48:39.165535Z",
     "shell.execute_reply": "2021-03-31T02:48:39.165042Z",
     "shell.execute_reply.started": "2021-03-31T02:48:38.917184Z"
    },
    "tags": []
   },
   "outputs": [
    {
     "data": {
      "text/plain": [
       "(array([10, 11, 12]),)"
      ]
     },
     "execution_count": 30,
     "metadata": {},
     "output_type": "execute_result"
    }
   ],
   "source": [
    "np.where(b == 1.0)"
   ]
  },
  {
   "cell_type": "code",
   "execution_count": 31,
   "metadata": {
    "ExecuteTime": {
     "end_time": "2021-03-22T06:56:03.672727Z",
     "start_time": "2021-03-22T06:56:03.669431Z"
    },
    "execution": {
     "iopub.execute_input": "2021-03-31T02:49:00.074338Z",
     "iopub.status.busy": "2021-03-31T02:49:00.074135Z",
     "iopub.status.idle": "2021-03-31T02:49:00.077821Z",
     "shell.execute_reply": "2021-03-31T02:49:00.077333Z",
     "shell.execute_reply.started": "2021-03-31T02:49:00.074318Z"
    },
    "tags": []
   },
   "outputs": [
    {
     "data": {
      "text/plain": [
       "1.0"
      ]
     },
     "execution_count": 31,
     "metadata": {},
     "output_type": "execute_result"
    }
   ],
   "source": [
    "b[10]"
   ]
  },
  {
   "cell_type": "code",
   "execution_count": 32,
   "metadata": {
    "execution": {
     "iopub.execute_input": "2021-03-31T02:49:01.823564Z",
     "iopub.status.busy": "2021-03-31T02:49:01.823412Z",
     "iopub.status.idle": "2021-03-31T02:49:02.445782Z",
     "shell.execute_reply": "2021-03-31T02:49:02.445255Z",
     "shell.execute_reply.started": "2021-03-31T02:49:01.823546Z"
    },
    "tags": []
   },
   "outputs": [
    {
     "data": {
      "text/plain": [
       "10"
      ]
     },
     "execution_count": 32,
     "metadata": {},
     "output_type": "execute_result"
    }
   ],
   "source": [
    "bintemp[10]"
   ]
  },
  {
   "cell_type": "code",
   "execution_count": 33,
   "metadata": {
    "execution": {
     "iopub.execute_input": "2021-03-31T02:49:04.260784Z",
     "iopub.status.busy": "2021-03-31T02:49:04.260605Z",
     "iopub.status.idle": "2021-03-31T02:49:04.264431Z",
     "shell.execute_reply": "2021-03-31T02:49:04.263927Z",
     "shell.execute_reply.started": "2021-03-31T02:49:04.260763Z"
    },
    "tags": []
   },
   "outputs": [
    {
     "data": {
      "text/plain": [
       "array([ 0.5,  1.5,  2.5,  3.5,  4.5,  5.5,  6.5,  7.5,  8.5,  9.5, 10.5,\n",
       "       11.5, 12.5])"
      ]
     },
     "execution_count": 33,
     "metadata": {},
     "output_type": "execute_result"
    }
   ],
   "source": [
    "bintemp_mean"
   ]
  },
  {
   "cell_type": "code",
   "execution_count": 285,
   "metadata": {
    "execution": {
     "iopub.execute_input": "2021-03-21T19:20:33.072731Z",
     "iopub.status.busy": "2021-03-21T19:20:33.072541Z",
     "iopub.status.idle": "2021-03-21T19:20:33.189515Z",
     "shell.execute_reply": "2021-03-21T19:20:33.189079Z",
     "shell.execute_reply.started": "2021-03-21T19:20:33.072709Z"
    },
    "tags": []
   },
   "outputs": [
    {
     "data": {
      "text/plain": [
       "[<matplotlib.lines.Line2D at 0x2b5802300910>]"
      ]
     },
     "execution_count": 285,
     "metadata": {},
     "output_type": "execute_result"
    },
    {
     "data": {
      "image/png": "[encoded data removed]",
      "text/plain": [
       "<Figure size 432x288 with 1 Axes>"
      ]
     },
     "metadata": {
      "needs_background": "light"
     },
     "output_type": "display_data"
    }
   ],
   "source": [
    "plt.plot(bintemp_mean,b)"
   ]
  },
  {
   "cell_type": "code",
   "execution_count": 34,
   "metadata": {
    "execution": {
     "iopub.execute_input": "2021-03-31T02:49:20.451008Z",
     "iopub.status.busy": "2021-03-31T02:49:20.450811Z",
     "iopub.status.idle": "2021-03-31T02:49:20.453804Z",
     "shell.execute_reply": "2021-03-31T02:49:20.453265Z",
     "shell.execute_reply.started": "2021-03-31T02:49:20.450987Z"
    },
    "tags": []
   },
   "outputs": [],
   "source": [
    "te = np.interp(10.5,bintemp_mean,b)"
   ]
  },
  {
   "cell_type": "code",
   "execution_count": 35,
   "metadata": {
    "execution": {
     "iopub.execute_input": "2021-03-31T02:49:23.010281Z",
     "iopub.status.busy": "2021-03-31T02:49:23.010082Z",
     "iopub.status.idle": "2021-03-31T02:49:23.013610Z",
     "shell.execute_reply": "2021-03-31T02:49:23.013102Z",
     "shell.execute_reply.started": "2021-03-31T02:49:23.010261Z"
    },
    "tags": []
   },
   "outputs": [
    {
     "data": {
      "text/plain": [
       "1.0"
      ]
     },
     "execution_count": 35,
     "metadata": {},
     "output_type": "execute_result"
    }
   ],
   "source": [
    "te"
   ]
  },
  {
   "cell_type": "markdown",
   "metadata": {},
   "source": [
    "## stats.cumfreq计算cdf"
   ]
  },
  {
   "cell_type": "code",
   "execution_count": 277,
   "metadata": {
    "execution": {
     "iopub.execute_input": "2021-03-21T19:19:29.365240Z",
     "iopub.status.busy": "2021-03-21T19:19:29.365019Z",
     "iopub.status.idle": "2021-03-21T19:19:29.368865Z",
     "shell.execute_reply": "2021-03-21T19:19:29.368370Z",
     "shell.execute_reply.started": "2021-03-21T19:19:29.365217Z"
    },
    "tags": []
   },
   "outputs": [],
   "source": [
    "a = np.array([1,2,2.5,2,3,4,5,5,6,6,8,9,9,10])\n",
    "bintemp = np.arange(1,14)\n",
    "res = stats.cumfreq(a,15)\n"
   ]
  },
  {
   "cell_type": "code",
   "execution_count": 182,
   "metadata": {
    "execution": {
     "iopub.execute_input": "2021-03-21T18:03:31.134841Z",
     "iopub.status.busy": "2021-03-21T18:03:31.134582Z",
     "iopub.status.idle": "2021-03-21T18:03:31.138088Z",
     "shell.execute_reply": "2021-03-21T18:03:31.137642Z",
     "shell.execute_reply.started": "2021-03-21T18:03:31.134817Z"
    }
   },
   "outputs": [
    {
     "data": {
      "text/plain": [
       "0.6785714285714286"
      ]
     },
     "execution_count": 182,
     "metadata": {},
     "output_type": "execute_result"
    }
   ],
   "source": [
    "res.lowerlimit"
   ]
  },
  {
   "cell_type": "code",
   "execution_count": 183,
   "metadata": {
    "execution": {
     "iopub.execute_input": "2021-03-21T18:03:45.297853Z",
     "iopub.status.busy": "2021-03-21T18:03:45.297609Z",
     "iopub.status.idle": "2021-03-21T18:03:45.301109Z",
     "shell.execute_reply": "2021-03-21T18:03:45.300674Z",
     "shell.execute_reply.started": "2021-03-21T18:03:45.297829Z"
    }
   },
   "outputs": [
    {
     "data": {
      "text/plain": [
       "0.6428571428571428"
      ]
     },
     "execution_count": 183,
     "metadata": {},
     "output_type": "execute_result"
    }
   ],
   "source": [
    "res.binsize"
   ]
  },
  {
   "cell_type": "code",
   "execution_count": 187,
   "metadata": {
    "execution": {
     "iopub.execute_input": "2021-03-21T18:05:47.524788Z",
     "iopub.status.busy": "2021-03-21T18:05:47.524615Z",
     "iopub.status.idle": "2021-03-21T18:05:47.526959Z",
     "shell.execute_reply": "2021-03-21T18:05:47.526541Z",
     "shell.execute_reply.started": "2021-03-21T18:05:47.524768Z"
    },
    "tags": []
   },
   "outputs": [],
   "source": [
    "q = res.cumcount"
   ]
  },
  {
   "cell_type": "code",
   "execution_count": 188,
   "metadata": {
    "execution": {
     "iopub.execute_input": "2021-03-21T18:05:47.857778Z",
     "iopub.status.busy": "2021-03-21T18:05:47.857624Z",
     "iopub.status.idle": "2021-03-21T18:05:47.859899Z",
     "shell.execute_reply": "2021-03-21T18:05:47.859483Z",
     "shell.execute_reply.started": "2021-03-21T18:05:47.857759Z"
    },
    "tags": []
   },
   "outputs": [],
   "source": [
    "b_new = q/ q[-1]"
   ]
  },
  {
   "cell_type": "code",
   "execution_count": 189,
   "metadata": {
    "execution": {
     "iopub.execute_input": "2021-03-21T18:05:53.351262Z",
     "iopub.status.busy": "2021-03-21T18:05:53.351080Z",
     "iopub.status.idle": "2021-03-21T18:05:53.354728Z",
     "shell.execute_reply": "2021-03-21T18:05:53.354302Z",
     "shell.execute_reply.started": "2021-03-21T18:05:53.351242Z"
    },
    "tags": []
   },
   "outputs": [
    {
     "data": {
      "text/plain": [
       "1.0"
      ]
     },
     "execution_count": 189,
     "metadata": {},
     "output_type": "execute_result"
    }
   ],
   "source": [
    "b_new[-1]"
   ]
  },
  {
   "cell_type": "markdown",
   "metadata": {},
   "source": [
    "## zform cdf "
   ]
  },
  {
   "cell_type": "code",
   "execution_count": 36,
   "metadata": {
    "ExecuteTime": {
     "end_time": "2021-03-22T10:54:07.721664Z",
     "start_time": "2021-03-22T10:53:42.628163Z"
    },
    "execution": {
     "iopub.execute_input": "2021-03-31T02:50:31.476457Z",
     "iopub.status.busy": "2021-03-31T02:50:31.476265Z",
     "iopub.status.idle": "2021-03-31T02:50:53.698504Z",
     "shell.execute_reply": "2021-03-31T02:50:53.697814Z",
     "shell.execute_reply.started": "2021-03-31T02:50:31.476437Z"
    },
    "tags": []
   },
   "outputs": [],
   "source": [
    "total_cdf = [[]for _ in range(80)]\n",
    "# bins = [[]for _ in range(80)]\n",
    "for i in range(1,80):\n",
    "    info = np.array(total_bin[i])\n",
    "    hist = np.histogram(info[:,1],bin_red)\n",
    "    hist_temp = hist[0]\n",
    "#     hist_bins = hist[1]\n",
    "    cdf = np.cumsum(hist_temp)/sum(hist_temp)\n",
    "    total_cdf[i].append(cdf)\n",
    "#     bins[i].append(hist_bins)"
   ]
  },
  {
   "cell_type": "code",
   "execution_count": 54,
   "metadata": {
    "ExecuteTime": {
     "end_time": "2021-03-22T10:56:10.543449Z",
     "start_time": "2021-03-22T10:56:10.540052Z"
    },
    "execution": {
     "iopub.execute_input": "2021-03-31T06:31:42.898387Z",
     "iopub.status.busy": "2021-03-31T06:31:42.898186Z",
     "iopub.status.idle": "2021-03-31T06:31:42.901978Z",
     "shell.execute_reply": "2021-03-31T06:31:42.901556Z",
     "shell.execute_reply.started": "2021-03-31T06:31:42.898367Z"
    },
    "tags": []
   },
   "outputs": [
    {
     "data": {
      "text/plain": [
       "array([ 0.210122,  0.210244,  0.210366, ..., 12.409756, 12.409878,\n",
       "       12.41    ])"
      ]
     },
     "execution_count": 54,
     "metadata": {},
     "output_type": "execute_result"
    }
   ],
   "source": [
    "bin_red[1:]"
   ]
  },
  {
   "cell_type": "code",
   "execution_count": 38,
   "metadata": {
    "ExecuteTime": {
     "end_time": "2021-03-22T10:55:53.985001Z",
     "start_time": "2021-03-22T10:55:53.980751Z"
    },
    "execution": {
     "iopub.execute_input": "2021-03-31T02:51:14.374560Z",
     "iopub.status.busy": "2021-03-31T02:51:14.374361Z",
     "iopub.status.idle": "2021-03-31T02:51:14.378456Z",
     "shell.execute_reply": "2021-03-31T02:51:14.377946Z",
     "shell.execute_reply.started": "2021-03-31T02:51:14.374539Z"
    }
   },
   "outputs": [
    {
     "data": {
      "text/plain": [
       "array([ 0.210122,  0.210244,  0.210366, ..., 12.409756, 12.409878,\n",
       "       12.41    ])"
      ]
     },
     "execution_count": 38,
     "metadata": {},
     "output_type": "execute_result"
    }
   ],
   "source": [
    "hist[1][1:]"
   ]
  },
  {
   "cell_type": "code",
   "execution_count": 55,
   "metadata": {
    "execution": {
     "iopub.execute_input": "2021-03-31T06:32:19.377071Z",
     "iopub.status.busy": "2021-03-31T06:32:19.376860Z",
     "iopub.status.idle": "2021-03-31T06:32:19.380500Z",
     "shell.execute_reply": "2021-03-31T06:32:19.380097Z",
     "shell.execute_reply.started": "2021-03-31T06:32:19.377043Z"
    },
    "tags": []
   },
   "outputs": [
    {
     "data": {
      "text/plain": [
       "array([ 0.210061,  0.210183,  0.210305, ..., 12.409695, 12.409817,\n",
       "       12.409939])"
      ]
     },
     "execution_count": 55,
     "metadata": {},
     "output_type": "execute_result"
    }
   ],
   "source": [
    "red_bin_mean"
   ]
  },
  {
   "cell_type": "code",
   "execution_count": 40,
   "metadata": {
    "ExecuteTime": {
     "end_time": "2021-03-22T08:19:47.442069Z",
     "start_time": "2021-03-22T08:19:47.438708Z"
    },
    "execution": {
     "iopub.execute_input": "2021-03-31T02:52:22.296038Z",
     "iopub.status.busy": "2021-03-31T02:52:22.295838Z",
     "iopub.status.idle": "2021-03-31T02:52:22.299894Z",
     "shell.execute_reply": "2021-03-31T02:52:22.299389Z",
     "shell.execute_reply.started": "2021-03-31T02:52:22.296017Z"
    }
   },
   "outputs": [
    {
     "data": {
      "text/plain": [
       "array([0., 0., 0., ..., 1., 1., 1.])"
      ]
     },
     "execution_count": 40,
     "metadata": {},
     "output_type": "execute_result"
    }
   ],
   "source": [
    "total_cdf[1][0]"
   ]
  },
  {
   "cell_type": "code",
   "execution_count": 41,
   "metadata": {
    "execution": {
     "iopub.execute_input": "2021-03-31T02:52:23.552655Z",
     "iopub.status.busy": "2021-03-31T02:52:23.552467Z",
     "iopub.status.idle": "2021-03-31T02:52:23.556307Z",
     "shell.execute_reply": "2021-03-31T02:52:23.555803Z",
     "shell.execute_reply.started": "2021-03-31T02:52:23.552636Z"
    },
    "tags": []
   },
   "outputs": [
    {
     "data": {
      "text/plain": [
       "1.0"
      ]
     },
     "execution_count": 41,
     "metadata": {},
     "output_type": "execute_result"
    }
   ],
   "source": [
    "np.max(total_cdf[1][0])"
   ]
  },
  {
   "cell_type": "code",
   "execution_count": 42,
   "metadata": {
    "execution": {
     "iopub.execute_input": "2021-03-31T02:52:29.239603Z",
     "iopub.status.busy": "2021-03-31T02:52:29.239429Z",
     "iopub.status.idle": "2021-03-31T02:52:29.243272Z",
     "shell.execute_reply": "2021-03-31T02:52:29.242770Z",
     "shell.execute_reply.started": "2021-03-31T02:52:29.239583Z"
    },
    "tags": []
   },
   "outputs": [
    {
     "data": {
      "text/plain": [
       "0.0"
      ]
     },
     "execution_count": 42,
     "metadata": {},
     "output_type": "execute_result"
    }
   ],
   "source": [
    "np.min((total_cdf[1][0]))"
   ]
  },
  {
   "cell_type": "code",
   "execution_count": 213,
   "metadata": {
    "collapsed": true,
    "execution": {
     "iopub.execute_input": "2021-03-21T18:37:05.127644Z",
     "iopub.status.busy": "2021-03-21T18:37:05.127442Z",
     "iopub.status.idle": "2021-03-21T18:37:05.275633Z",
     "shell.execute_reply": "2021-03-21T18:37:05.275178Z",
     "shell.execute_reply.started": "2021-03-21T18:37:05.127622Z"
    },
    "jupyter": {
     "outputs_hidden": true
    },
    "tags": []
   },
   "outputs": [
    {
     "data": {
      "text/plain": [
       "[<matplotlib.lines.Line2D at 0x2b57f5a4d3d0>]"
      ]
     },
     "execution_count": 213,
     "metadata": {},
     "output_type": "execute_result"
    },
    {
     "data": {
      "image/png": "[encoded data removed]",
      "text/plain": [
       "<Figure size 864x720 with 1 Axes>"
      ]
     },
     "metadata": {
      "needs_background": "light"
     },
     "output_type": "display_data"
    }
   ],
   "source": [
    "plt.figure(figsize=(12,10))\n",
    "plt.plot(red_bin_mean,total_cdf[2][0],label = '$%s \\ <\\ M_{r} <\\ %s$'%(mag_bin_new[i-1],mag_bin_new[i]))"
   ]
  },
  {
   "cell_type": "code",
   "execution_count": 43,
   "metadata": {
    "ExecuteTime": {
     "end_time": "2021-03-22T10:55:53.978539Z",
     "start_time": "2021-03-22T10:54:13.344803Z"
    },
    "code_folding": [],
    "execution": {
     "iopub.execute_input": "2021-03-31T02:54:46.323628Z",
     "iopub.status.busy": "2021-03-31T02:54:46.323373Z",
     "iopub.status.idle": "2021-03-31T02:56:16.148678Z",
     "shell.execute_reply": "2021-03-31T02:56:16.147764Z",
     "shell.execute_reply.started": "2021-03-31T02:54:46.323606Z"
    },
    "tags": []
   },
   "outputs": [],
   "source": [
    "cdf_zform = np.zeros(len(vpeak))\n",
    "for n in range(len(vpeak)):\n",
    "    cdf_zform[n] = np.interp(zform[n],red_bin_mean,total_cdf[inds[n]][0])"
   ]
  },
  {
   "cell_type": "code",
   "execution_count": 62,
   "metadata": {
    "ExecuteTime": {
     "end_time": "2021-03-22T08:25:53.910060Z",
     "start_time": "2021-03-22T08:25:53.904309Z"
    },
    "execution": {
     "iopub.execute_input": "2021-03-31T08:19:39.291694Z",
     "iopub.status.busy": "2021-03-31T08:19:39.291476Z",
     "iopub.status.idle": "2021-03-31T08:19:39.295876Z",
     "shell.execute_reply": "2021-03-31T08:19:39.295455Z",
     "shell.execute_reply.started": "2021-03-31T08:19:39.291672Z"
    },
    "tags": []
   },
   "outputs": [
    {
     "data": {
      "text/plain": [
       "4.236858129797444"
      ]
     },
     "execution_count": 62,
     "metadata": {},
     "output_type": "execute_result"
    }
   ],
   "source": [
    "np.max(np.array(total_bin[2])[:,1])"
   ]
  },
  {
   "cell_type": "code",
   "execution_count": 63,
   "metadata": {
    "ExecuteTime": {
     "end_time": "2021-03-22T08:25:56.461429Z",
     "start_time": "2021-03-22T08:25:56.457850Z"
    },
    "execution": {
     "iopub.execute_input": "2021-03-31T08:19:40.431669Z",
     "iopub.status.busy": "2021-03-31T08:19:40.431517Z",
     "iopub.status.idle": "2021-03-31T08:19:40.435205Z",
     "shell.execute_reply": "2021-03-31T08:19:40.434773Z",
     "shell.execute_reply.started": "2021-03-31T08:19:40.431651Z"
    },
    "tags": []
   },
   "outputs": [
    {
     "data": {
      "text/plain": [
       "3.898489850024956"
      ]
     },
     "execution_count": 63,
     "metadata": {},
     "output_type": "execute_result"
    }
   ],
   "source": [
    "np.max(np.array(total_bin[1])[:,1])"
   ]
  },
  {
   "cell_type": "code",
   "execution_count": 357,
   "metadata": {
    "execution": {
     "iopub.execute_input": "2021-03-21T19:48:04.734623Z",
     "iopub.status.busy": "2021-03-21T19:48:04.734408Z",
     "iopub.status.idle": "2021-03-21T19:48:04.739050Z",
     "shell.execute_reply": "2021-03-21T19:48:04.738621Z",
     "shell.execute_reply.started": "2021-03-21T19:48:04.734599Z"
    },
    "tags": []
   },
   "outputs": [
    {
     "data": {
      "text/plain": [
       "(array([56]),)"
      ]
     },
     "execution_count": 357,
     "metadata": {},
     "output_type": "execute_result"
    }
   ],
   "source": [
    "np.where(np.array(total_bin[2])[:,1] ==4.236858129797444)"
   ]
  },
  {
   "cell_type": "code",
   "execution_count": 46,
   "metadata": {
    "execution": {
     "iopub.execute_input": "2021-03-31T02:58:44.679912Z",
     "iopub.status.busy": "2021-03-31T02:58:44.679709Z",
     "iopub.status.idle": "2021-03-31T02:58:44.684031Z",
     "shell.execute_reply": "2021-03-31T02:58:44.683530Z",
     "shell.execute_reply.started": "2021-03-31T02:58:44.679891Z"
    },
    "tags": []
   },
   "outputs": [
    {
     "data": {
      "text/plain": [
       "(array([33007, 33008, 33009, ..., 99997, 99998, 99999]),)"
      ]
     },
     "execution_count": 46,
     "metadata": {},
     "output_type": "execute_result"
    }
   ],
   "source": [
    "np.where(total_cdf[2][0]==1.0)"
   ]
  },
  {
   "cell_type": "code",
   "execution_count": 402,
   "metadata": {
    "execution": {
     "iopub.execute_input": "2021-03-22T06:02:43.095989Z",
     "iopub.status.busy": "2021-03-22T06:02:43.095766Z",
     "iopub.status.idle": "2021-03-22T06:02:43.099476Z",
     "shell.execute_reply": "2021-03-22T06:02:43.099031Z",
     "shell.execute_reply.started": "2021-03-22T06:02:43.095966Z"
    }
   },
   "outputs": [
    {
     "data": {
      "text/plain": [
       "4.236853999999999"
      ]
     },
     "execution_count": 402,
     "metadata": {},
     "output_type": "execute_result"
    }
   ],
   "source": [
    "bins[1][0][33007]"
   ]
  },
  {
   "cell_type": "code",
   "execution_count": 332,
   "metadata": {
    "execution": {
     "iopub.execute_input": "2021-03-21T19:40:32.369789Z",
     "iopub.status.busy": "2021-03-21T19:40:32.369555Z",
     "iopub.status.idle": "2021-03-21T19:40:32.373315Z",
     "shell.execute_reply": "2021-03-21T19:40:32.372879Z",
     "shell.execute_reply.started": "2021-03-21T19:40:32.369765Z"
    },
    "tags": []
   },
   "outputs": [
    {
     "data": {
      "text/plain": [
       "1.0"
      ]
     },
     "execution_count": 332,
     "metadata": {},
     "output_type": "execute_result"
    }
   ],
   "source": [
    "total_cdf[1][0][30233]"
   ]
  },
  {
   "cell_type": "markdown",
   "metadata": {},
   "source": [
    "### 由于红移bin取中间值，故red_bin_mean不确定最后等于1的zform所在区间"
   ]
  },
  {
   "cell_type": "code",
   "execution_count": 321,
   "metadata": {
    "execution": {
     "iopub.execute_input": "2021-03-21T19:34:08.386868Z",
     "iopub.status.busy": "2021-03-21T19:34:08.386624Z",
     "iopub.status.idle": "2021-03-21T19:34:08.390542Z",
     "shell.execute_reply": "2021-03-21T19:34:08.390106Z",
     "shell.execute_reply.started": "2021-03-21T19:34:08.386846Z"
    },
    "tags": []
   },
   "outputs": [
    {
     "data": {
      "text/plain": [
       "1.0"
      ]
     },
     "execution_count": 321,
     "metadata": {},
     "output_type": "execute_result"
    }
   ],
   "source": [
    "np.interp(3.898489850024956,red_bin_mean,total_cdf[1][0])"
   ]
  },
  {
   "cell_type": "code",
   "execution_count": 401,
   "metadata": {
    "execution": {
     "iopub.execute_input": "2021-03-22T06:00:17.586211Z",
     "iopub.status.busy": "2021-03-22T06:00:17.585982Z",
     "iopub.status.idle": "2021-03-22T06:00:17.589568Z",
     "shell.execute_reply": "2021-03-22T06:00:17.589124Z",
     "shell.execute_reply.started": "2021-03-22T06:00:17.586188Z"
    }
   },
   "outputs": [
    {
     "data": {
      "text/plain": [
       "4.236793"
      ]
     },
     "execution_count": 401,
     "metadata": {},
     "output_type": "execute_result"
    }
   ],
   "source": [
    "red_bin_mean[33006]"
   ]
  },
  {
   "cell_type": "code",
   "execution_count": 400,
   "metadata": {
    "execution": {
     "iopub.execute_input": "2021-03-22T05:59:57.407312Z",
     "iopub.status.busy": "2021-03-22T05:59:57.407084Z",
     "iopub.status.idle": "2021-03-22T05:59:57.410683Z",
     "shell.execute_reply": "2021-03-22T05:59:57.410219Z",
     "shell.execute_reply.started": "2021-03-22T05:59:57.407289Z"
    },
    "tags": []
   },
   "outputs": [
    {
     "data": {
      "text/plain": [
       "4.236915"
      ]
     },
     "execution_count": 400,
     "metadata": {},
     "output_type": "execute_result"
    }
   ],
   "source": [
    "red_bin_mean[33007]"
   ]
  },
  {
   "cell_type": "code",
   "execution_count": 351,
   "metadata": {
    "execution": {
     "iopub.execute_input": "2021-03-21T19:46:24.903432Z",
     "iopub.status.busy": "2021-03-21T19:46:24.903239Z",
     "iopub.status.idle": "2021-03-21T19:46:24.906817Z",
     "shell.execute_reply": "2021-03-21T19:46:24.906391Z",
     "shell.execute_reply.started": "2021-03-21T19:46:24.903409Z"
    }
   },
   "outputs": [
    {
     "data": {
      "text/plain": [
       "array([ 0.21    ,  0.210122,  0.210244, ..., 12.409756, 12.409878,\n",
       "       12.41    ])"
      ]
     },
     "execution_count": 351,
     "metadata": {},
     "output_type": "execute_result"
    }
   ],
   "source": [
    "bin_red"
   ]
  },
  {
   "cell_type": "code",
   "execution_count": 195,
   "metadata": {
    "ExecuteTime": {
     "end_time": "2021-03-22T08:38:22.329629Z",
     "start_time": "2021-03-22T08:38:22.263075Z"
    },
    "execution": {
     "iopub.execute_input": "2021-03-21T19:45:43.156842Z",
     "iopub.status.busy": "2021-03-21T19:45:43.156609Z",
     "iopub.status.idle": "2021-03-21T19:45:43.162132Z",
     "shell.execute_reply": "2021-03-21T19:45:43.161700Z",
     "shell.execute_reply.started": "2021-03-21T19:45:43.156818Z"
    },
    "scrolled": true,
    "tags": []
   },
   "outputs": [
    {
     "data": {
      "text/plain": [
       "1.0365037176271014e-07"
      ]
     },
     "execution_count": 195,
     "metadata": {},
     "output_type": "execute_result"
    }
   ],
   "source": [
    "np.min(cdf_zform)"
   ]
  },
  {
   "cell_type": "code",
   "execution_count": 67,
   "metadata": {
    "execution": {
     "iopub.execute_input": "2021-03-31T08:21:42.808036Z",
     "iopub.status.busy": "2021-03-31T08:21:42.807824Z",
     "iopub.status.idle": "2021-03-31T08:21:42.828227Z",
     "shell.execute_reply": "2021-03-31T08:21:42.827795Z",
     "shell.execute_reply.started": "2021-03-31T08:21:42.808014Z"
    },
    "tags": []
   },
   "outputs": [
    {
     "data": {
      "text/plain": [
       "9.156009856785694e-07"
      ]
     },
     "execution_count": 67,
     "metadata": {},
     "output_type": "execute_result"
    }
   ],
   "source": [
    "np.min(cdf_zform)"
   ]
  },
  {
   "cell_type": "code",
   "execution_count": 353,
   "metadata": {
    "execution": {
     "iopub.execute_input": "2021-03-21T19:46:45.831047Z",
     "iopub.status.busy": "2021-03-21T19:46:45.830893Z",
     "iopub.status.idle": "2021-03-21T19:46:45.851010Z",
     "shell.execute_reply": "2021-03-21T19:46:45.850600Z",
     "shell.execute_reply.started": "2021-03-21T19:46:45.831028Z"
    },
    "tags": []
   },
   "outputs": [
    {
     "data": {
      "text/plain": [
       "1.0"
      ]
     },
     "execution_count": 353,
     "metadata": {},
     "output_type": "execute_result"
    }
   ],
   "source": [
    "np.max(cdf_zform)"
   ]
  },
  {
   "cell_type": "code",
   "execution_count": 66,
   "metadata": {
    "ExecuteTime": {
     "end_time": "2021-03-22T08:34:14.326391Z",
     "start_time": "2021-03-22T08:34:14.301484Z"
    },
    "execution": {
     "iopub.execute_input": "2021-03-31T08:21:18.096489Z",
     "iopub.status.busy": "2021-03-31T08:21:18.096283Z",
     "iopub.status.idle": "2021-03-31T08:21:18.116669Z",
     "shell.execute_reply": "2021-03-31T08:21:18.116247Z",
     "shell.execute_reply.started": "2021-03-31T08:21:18.096468Z"
    }
   },
   "outputs": [
    {
     "data": {
      "text/plain": [
       "1.0"
      ]
     },
     "execution_count": 66,
     "metadata": {},
     "output_type": "execute_result"
    }
   ],
   "source": [
    "np.max(cdf_zform)"
   ]
  },
  {
   "cell_type": "code",
   "execution_count": 185,
   "metadata": {
    "ExecuteTime": {
     "end_time": "2021-03-22T08:34:09.607574Z",
     "start_time": "2021-03-22T08:34:09.542091Z"
    },
    "execution": {
     "iopub.execute_input": "2021-03-21T18:49:28.712641Z",
     "iopub.status.busy": "2021-03-21T18:49:28.712420Z",
     "iopub.status.idle": "2021-03-21T18:49:28.759477Z",
     "shell.execute_reply": "2021-03-21T18:49:28.759012Z",
     "shell.execute_reply.started": "2021-03-21T18:49:28.712617Z"
    }
   },
   "outputs": [
    {
     "data": {
      "text/plain": [
       "(array([2111957]),)"
      ]
     },
     "execution_count": 185,
     "metadata": {},
     "output_type": "execute_result"
    }
   ],
   "source": [
    "np.where(cdf_zform ==np.min(cdf_zform))"
   ]
  },
  {
   "cell_type": "code",
   "execution_count": 65,
   "metadata": {
    "ExecuteTime": {
     "end_time": "2021-03-22T08:34:05.886063Z",
     "start_time": "2021-03-22T08:34:05.812415Z"
    },
    "execution": {
     "iopub.execute_input": "2021-03-31T08:20:53.414753Z",
     "iopub.status.busy": "2021-03-31T08:20:53.414545Z",
     "iopub.status.idle": "2021-03-31T08:20:53.464266Z",
     "shell.execute_reply": "2021-03-31T08:20:53.463791Z",
     "shell.execute_reply.started": "2021-03-31T08:20:53.414733Z"
    },
    "tags": []
   },
   "outputs": [
    {
     "data": {
      "text/plain": [
       "(array([13363129, 13363130, 13694794, 14846064, 17942857, 18185752,\n",
       "        19012508, 20341237, 20484724, 21409223, 21681947, 21781435,\n",
       "        21799057, 22089677, 22300551, 22789609, 23625294, 23803840,\n",
       "        23899645, 24262711, 24286062, 24305968, 24871766, 24878575,\n",
       "        24915372, 24999582, 25005658, 25076073, 25103401, 25138369,\n",
       "        25147412, 25174681, 25181053, 25191897, 25202177, 25243447,\n",
       "        25264546, 25446240, 25481085, 25746998, 25779539, 25906733,\n",
       "        25929780, 26003638, 26029654, 26125611, 26135881, 26202136,\n",
       "        26240253]),)"
      ]
     },
     "execution_count": 65,
     "metadata": {},
     "output_type": "execute_result"
    }
   ],
   "source": [
    "np.where(cdf_zform ==np.max(cdf_zform))"
   ]
  },
  {
   "cell_type": "code",
   "execution_count": 188,
   "metadata": {
    "ExecuteTime": {
     "end_time": "2021-03-22T08:35:36.620193Z",
     "start_time": "2021-03-22T08:35:36.617336Z"
    },
    "execution": {
     "iopub.execute_input": "2021-03-21T18:49:55.085605Z",
     "iopub.status.busy": "2021-03-21T18:49:55.085376Z",
     "iopub.status.idle": "2021-03-21T18:49:55.089056Z",
     "shell.execute_reply": "2021-03-21T18:49:55.088617Z",
     "shell.execute_reply.started": "2021-03-21T18:49:55.085582Z"
    },
    "tags": []
   },
   "outputs": [
    {
     "data": {
      "text/plain": [
       "12.232608340845307"
      ]
     },
     "execution_count": 188,
     "metadata": {},
     "output_type": "execute_result"
    }
   ],
   "source": [
    "zform[24878575]"
   ]
  },
  {
   "cell_type": "code",
   "execution_count": 189,
   "metadata": {
    "ExecuteTime": {
     "end_time": "2021-03-22T08:35:47.776352Z",
     "start_time": "2021-03-22T08:35:47.773435Z"
    },
    "execution": {
     "iopub.execute_input": "2021-03-21T19:08:22.818114Z",
     "iopub.status.busy": "2021-03-21T19:08:22.817945Z",
     "iopub.status.idle": "2021-03-21T19:08:22.821351Z",
     "shell.execute_reply": "2021-03-21T19:08:22.820940Z",
     "shell.execute_reply.started": "2021-03-21T19:08:22.818094Z"
    },
    "tags": []
   },
   "outputs": [
    {
     "data": {
      "text/plain": [
       "48"
      ]
     },
     "execution_count": 189,
     "metadata": {},
     "output_type": "execute_result"
    }
   ],
   "source": [
    "inds[24878575]"
   ]
  },
  {
   "cell_type": "code",
   "execution_count": 190,
   "metadata": {
    "ExecuteTime": {
     "end_time": "2021-03-22T08:35:58.512269Z",
     "start_time": "2021-03-22T08:35:58.509412Z"
    }
   },
   "outputs": [
    {
     "data": {
      "text/plain": [
       "0.999999928032059"
      ]
     },
     "execution_count": 190,
     "metadata": {},
     "output_type": "execute_result"
    }
   ],
   "source": [
    "cdf_zform[24878575]"
   ]
  },
  {
   "cell_type": "code",
   "execution_count": 197,
   "metadata": {
    "ExecuteTime": {
     "end_time": "2021-03-22T08:38:53.979434Z",
     "start_time": "2021-03-22T08:38:53.976625Z"
    }
   },
   "outputs": [
    {
     "data": {
      "text/plain": [
       "1.0365037176271014e-07"
      ]
     },
     "execution_count": 197,
     "metadata": {},
     "output_type": "execute_result"
    }
   ],
   "source": [
    "cdf_zform[2111957]"
   ]
  },
  {
   "cell_type": "code",
   "execution_count": 196,
   "metadata": {
    "ExecuteTime": {
     "end_time": "2021-03-22T08:38:43.787749Z",
     "start_time": "2021-03-22T08:38:43.784742Z"
    }
   },
   "outputs": [
    {
     "data": {
      "text/plain": [
       "-16.709252518677555"
      ]
     },
     "execution_count": 196,
     "metadata": {},
     "output_type": "execute_result"
    }
   ],
   "source": [
    "mag[2111957]"
   ]
  },
  {
   "cell_type": "code",
   "execution_count": 187,
   "metadata": {
    "ExecuteTime": {
     "end_time": "2021-03-22T08:35:03.309346Z",
     "start_time": "2021-03-22T08:35:03.306477Z"
    }
   },
   "outputs": [
    {
     "data": {
      "text/plain": [
       "-18.20749817817565"
      ]
     },
     "execution_count": 187,
     "metadata": {},
     "output_type": "execute_result"
    }
   ],
   "source": [
    "mag[24878575]"
   ]
  },
  {
   "cell_type": "code",
   "execution_count": 222,
   "metadata": {
    "execution": {
     "iopub.execute_input": "2021-03-21T18:50:01.012166Z",
     "iopub.status.busy": "2021-03-21T18:50:01.012014Z",
     "iopub.status.idle": "2021-03-21T18:50:01.015519Z",
     "shell.execute_reply": "2021-03-21T18:50:01.015120Z",
     "shell.execute_reply.started": "2021-03-21T18:50:01.012146Z"
    },
    "tags": []
   },
   "outputs": [
    {
     "data": {
      "text/plain": [
       "1.0"
      ]
     },
     "execution_count": 222,
     "metadata": {},
     "output_type": "execute_result"
    }
   ],
   "source": [
    "np.interp(zform[25005658],red_bin_mean,total_cdf[inds[25005658]][0])"
   ]
  },
  {
   "cell_type": "code",
   "execution_count": 128,
   "metadata": {
    "execution": {
     "iopub.execute_input": "2021-03-21T16:28:01.783795Z",
     "iopub.status.busy": "2021-03-21T16:28:01.783625Z",
     "iopub.status.idle": "2021-03-21T16:28:01.787052Z",
     "shell.execute_reply": "2021-03-21T16:28:01.786626Z",
     "shell.execute_reply.started": "2021-03-21T16:28:01.783776Z"
    },
    "tags": []
   },
   "outputs": [
    {
     "data": {
      "text/plain": [
       "array([0., 0., 0., ..., 1., 1., 1.])"
      ]
     },
     "execution_count": 128,
     "metadata": {},
     "output_type": "execute_result"
    }
   ],
   "source": [
    "total_cdf[41]"
   ]
  },
  {
   "cell_type": "code",
   "execution_count": 132,
   "metadata": {
    "execution": {
     "iopub.execute_input": "2021-03-21T16:29:09.743039Z",
     "iopub.status.busy": "2021-03-21T16:29:09.742827Z",
     "iopub.status.idle": "2021-03-21T16:29:11.595766Z",
     "shell.execute_reply": "2021-03-21T16:29:11.595293Z",
     "shell.execute_reply.started": "2021-03-21T16:29:09.743018Z"
    },
    "tags": []
   },
   "outputs": [
    {
     "data": {
      "text/plain": [
       "[<matplotlib.lines.Line2D at 0x2b5662a78190>]"
      ]
     },
     "execution_count": 132,
     "metadata": {},
     "output_type": "execute_result"
    },
    {
     "data": {
      "image/png": "[encoded data removed]",
      "text/plain": [
       "<Figure size 432x288 with 1 Axes>"
      ]
     },
     "metadata": {
      "needs_background": "light"
     },
     "output_type": "display_data"
    }
   ],
   "source": [
    "plt.plot(red_bin_mean,total_cdf[41][0])"
   ]
  },
  {
   "cell_type": "code",
   "execution_count": 150,
   "metadata": {
    "execution": {
     "iopub.execute_input": "2021-03-21T16:35:39.611183Z",
     "iopub.status.busy": "2021-03-21T16:35:39.610985Z",
     "iopub.status.idle": "2021-03-21T16:35:39.614690Z",
     "shell.execute_reply": "2021-03-21T16:35:39.614248Z",
     "shell.execute_reply.started": "2021-03-21T16:35:39.611162Z"
    },
    "tags": []
   },
   "outputs": [
    {
     "data": {
      "text/plain": [
       "array([12.222669, 12.222791])"
      ]
     },
     "execution_count": 150,
     "metadata": {},
     "output_type": "execute_result"
    }
   ],
   "source": [
    "red_bin_mean[-1536:-1534]"
   ]
  },
  {
   "cell_type": "code",
   "execution_count": 158,
   "metadata": {
    "execution": {
     "iopub.execute_input": "2021-03-21T16:38:15.928291Z",
     "iopub.status.busy": "2021-03-21T16:38:15.928116Z",
     "iopub.status.idle": "2021-03-21T16:38:15.931558Z",
     "shell.execute_reply": "2021-03-21T16:38:15.931122Z",
     "shell.execute_reply.started": "2021-03-21T16:38:15.928270Z"
    },
    "tags": []
   },
   "outputs": [
    {
     "data": {
      "text/plain": [
       "1.0000000000006632"
      ]
     },
     "execution_count": 158,
     "metadata": {},
     "output_type": "execute_result"
    }
   ],
   "source": [
    "total_cdf[41][0][-1]"
   ]
  },
  {
   "cell_type": "code",
   "execution_count": 154,
   "metadata": {
    "execution": {
     "iopub.execute_input": "2021-03-21T16:37:35.405655Z",
     "iopub.status.busy": "2021-03-21T16:37:35.405440Z",
     "iopub.status.idle": "2021-03-21T16:37:35.409358Z",
     "shell.execute_reply": "2021-03-21T16:37:35.408912Z",
     "shell.execute_reply.started": "2021-03-21T16:37:35.405632Z"
    },
    "tags": []
   },
   "outputs": [
    {
     "data": {
      "text/plain": [
       "1.0"
      ]
     },
     "execution_count": 154,
     "metadata": {},
     "output_type": "execute_result"
    }
   ],
   "source": [
    "np.interp(zform[25005658],[12.222669, 12.222791],[1,1])"
   ]
  },
  {
   "cell_type": "code",
   "execution_count": 56,
   "metadata": {
    "ExecuteTime": {
     "end_time": "2021-03-22T07:02:35.658918Z",
     "start_time": "2021-03-22T07:02:19.065208Z"
    },
    "execution": {
     "iopub.execute_input": "2021-03-31T06:33:28.800218Z",
     "iopub.status.busy": "2021-03-31T06:33:28.800005Z",
     "iopub.status.idle": "2021-03-31T06:33:54.555621Z",
     "shell.execute_reply": "2021-03-31T06:33:54.555123Z",
     "shell.execute_reply.started": "2021-03-31T06:33:28.800197Z"
    },
    "tags": []
   },
   "outputs": [],
   "source": [
    "from scipy import stats"
   ]
  },
  {
   "cell_type": "markdown",
   "metadata": {},
   "source": [
    "## 与bin_red[1:]插值结果比较"
   ]
  },
  {
   "cell_type": "code",
   "execution_count": 68,
   "metadata": {
    "execution": {
     "iopub.execute_input": "2021-03-31T08:32:10.513657Z",
     "iopub.status.busy": "2021-03-31T08:32:10.513452Z",
     "iopub.status.idle": "2021-03-31T08:32:10.783230Z",
     "shell.execute_reply": "2021-03-31T08:32:10.782702Z",
     "shell.execute_reply.started": "2021-03-31T08:32:10.513635Z"
    }
   },
   "outputs": [],
   "source": [
    "cdf_zform_check = np.load('/home/yunzheng/mock/color/data/zcdf_new/cdf_zform_3.npy')"
   ]
  },
  {
   "cell_type": "code",
   "execution_count": 69,
   "metadata": {
    "execution": {
     "iopub.execute_input": "2021-03-31T08:33:16.465618Z",
     "iopub.status.busy": "2021-03-31T08:33:16.465438Z",
     "iopub.status.idle": "2021-03-31T08:33:16.485709Z",
     "shell.execute_reply": "2021-03-31T08:33:16.485293Z",
     "shell.execute_reply.started": "2021-03-31T08:33:16.465600Z"
    }
   },
   "outputs": [
    {
     "data": {
      "text/plain": [
       "0.999999928032059"
      ]
     },
     "execution_count": 69,
     "metadata": {},
     "output_type": "execute_result"
    }
   ],
   "source": [
    "np.max(cdf_zform_check)"
   ]
  },
  {
   "cell_type": "code",
   "execution_count": 70,
   "metadata": {
    "execution": {
     "iopub.execute_input": "2021-03-31T08:33:24.885854Z",
     "iopub.status.busy": "2021-03-31T08:33:24.885682Z",
     "iopub.status.idle": "2021-03-31T08:33:24.905955Z",
     "shell.execute_reply": "2021-03-31T08:33:24.905549Z",
     "shell.execute_reply.started": "2021-03-31T08:33:24.885834Z"
    }
   },
   "outputs": [
    {
     "data": {
      "text/plain": [
       "1.0365037176271014e-07"
      ]
     },
     "execution_count": 70,
     "metadata": {},
     "output_type": "execute_result"
    }
   ],
   "source": [
    "np.min(cdf_zform_check)"
   ]
  },
  {
   "cell_type": "markdown",
   "metadata": {
    "execution": {
     "iopub.execute_input": "2021-03-21T16:45:34.615167Z",
     "iopub.status.busy": "2021-03-21T16:45:34.614972Z",
     "iopub.status.idle": "2021-03-21T16:45:34.643272Z",
     "shell.execute_reply": "2021-03-21T16:45:34.642677Z",
     "shell.execute_reply.started": "2021-03-21T16:45:34.615144Z"
    }
   },
   "source": [
    "# 比较反函数和插值结果"
   ]
  },
  {
   "cell_type": "markdown",
   "metadata": {},
   "source": [
    "## 定义cdf函数"
   ]
  },
  {
   "cell_type": "code",
   "execution_count": 57,
   "metadata": {
    "ExecuteTime": {
     "end_time": "2021-03-22T07:02:37.058460Z",
     "start_time": "2021-03-22T07:02:37.054853Z"
    },
    "execution": {
     "iopub.execute_input": "2021-03-31T06:33:54.556638Z",
     "iopub.status.busy": "2021-03-31T06:33:54.556479Z",
     "iopub.status.idle": "2021-03-31T06:33:54.559969Z",
     "shell.execute_reply": "2021-03-31T06:33:54.559555Z",
     "shell.execute_reply.started": "2021-03-31T06:33:54.556618Z"
    },
    "tags": []
   },
   "outputs": [],
   "source": [
    "def blue(M):\n",
    "    if  M < -26.571428571428571:\n",
    "        y = 0\n",
    "        return y\n",
    "    elif (M < -19.53846153846154):\n",
    "        y = 0.46 + 0.07 * (M + 20)\n",
    "        return y\n",
    "    elif M < -17.1733389977005:\n",
    "        y = 0.4 + 0.2 * (M + 20)\n",
    "        return y\n",
    "    else :\n",
    "        y = 1 / (1 + np.exp(- (M + 20.5)))\n",
    "        return y"
   ]
  },
  {
   "cell_type": "code",
   "execution_count": 58,
   "metadata": {
    "ExecuteTime": {
     "end_time": "2021-03-22T07:02:37.486985Z",
     "start_time": "2021-03-22T07:02:37.482986Z"
    },
    "execution": {
     "iopub.execute_input": "2021-03-31T06:33:54.560998Z",
     "iopub.status.busy": "2021-03-31T06:33:54.560825Z",
     "iopub.status.idle": "2021-03-31T06:33:55.153643Z",
     "shell.execute_reply": "2021-03-31T06:33:55.153231Z",
     "shell.execute_reply.started": "2021-03-31T06:33:54.560979Z"
    },
    "tags": []
   },
   "outputs": [],
   "source": [
    "def mu_blue(M,z):\n",
    "    y = 0.62 - 0.11 * (M + 20) - 0.25 * (min(z,0.4) - 0.1)\n",
    "    return y\n",
    "def sigma_blue(M,z):\n",
    "    y = 0.12 + 0.02 * (M + 20) + 0.2 * (z - 0.1)\n",
    "    return y\n",
    "def mu_red(M,z):\n",
    "    y = 0.932 - 0.032 * (M + 20) - 0.18 * (min(z,0.4) - 0.1)\n",
    "    return y\n",
    "def sigma_red(M,z):\n",
    "    y = 0.07 + 0.01 * (M + 20) + 0.5 * (z - 0.1) + 0.1 * (z - 0.1)**2\n",
    "    return y"
   ]
  },
  {
   "cell_type": "code",
   "execution_count": 59,
   "metadata": {
    "ExecuteTime": {
     "end_time": "2021-03-22T07:02:38.542428Z",
     "start_time": "2021-03-22T07:02:38.539275Z"
    },
    "execution": {
     "iopub.execute_input": "2021-03-31T06:33:55.154493Z",
     "iopub.status.busy": "2021-03-31T06:33:55.154361Z",
     "iopub.status.idle": "2021-03-31T06:33:56.234428Z",
     "shell.execute_reply": "2021-03-31T06:33:56.234025Z",
     "shell.execute_reply.started": "2021-03-31T06:33:55.154477Z"
    },
    "tags": []
   },
   "outputs": [],
   "source": [
    "def cdf(col,M,z):\n",
    "    y = blue(M) * norm.cdf(col,loc = mu_blue(M, z),scale = sigma_blue(M, z)) + (1 - blue(M)) * norm.cdf(col,loc = mu_red(M,z),scale = sigma_red(M,z))\n",
    "    return y"
   ]
  },
  {
   "cell_type": "code",
   "execution_count": 60,
   "metadata": {
    "ExecuteTime": {
     "end_time": "2021-03-22T07:02:39.248090Z",
     "start_time": "2021-03-22T07:02:39.244933Z"
    },
    "execution": {
     "iopub.execute_input": "2021-03-31T06:33:56.235256Z",
     "iopub.status.busy": "2021-03-31T06:33:56.235023Z",
     "iopub.status.idle": "2021-03-31T06:34:00.176767Z",
     "shell.execute_reply": "2021-03-31T06:34:00.176312Z",
     "shell.execute_reply.started": "2021-03-31T06:33:56.235239Z"
    },
    "tags": []
   },
   "outputs": [],
   "source": [
    "def pdf(col,M,z):\n",
    "    y = blue(M) * norm.pdf(col,loc = mu_blue(M, z),scale = sigma_blue(M, z)) + (1 - blue(M)) * norm.pdf(col,loc = mu_red(M,z),scale = sigma_red(M,z))\n",
    "    return y"
   ]
  },
  {
   "cell_type": "markdown",
   "metadata": {},
   "source": [
    "## inversefunc test"
   ]
  },
  {
   "cell_type": "code",
   "execution_count": 71,
   "metadata": {
    "ExecuteTime": {
     "end_time": "2021-03-22T07:02:35.972099Z",
     "start_time": "2021-03-22T07:02:35.739569Z"
    },
    "execution": {
     "iopub.execute_input": "2021-03-31T08:36:54.880310Z",
     "iopub.status.busy": "2021-03-31T08:36:54.880096Z",
     "iopub.status.idle": "2021-03-31T08:36:54.882693Z",
     "shell.execute_reply": "2021-03-31T08:36:54.882254Z",
     "shell.execute_reply.started": "2021-03-31T08:36:54.880289Z"
    },
    "tags": []
   },
   "outputs": [],
   "source": [
    "# from pynverse import inversefunc\n",
    "from scipy.stats import norm"
   ]
  },
  {
   "cell_type": "code",
   "execution_count": 72,
   "metadata": {
    "ExecuteTime": {
     "end_time": "2021-03-22T07:02:44.100880Z",
     "start_time": "2021-03-22T07:02:44.098237Z"
    },
    "execution": {
     "iopub.execute_input": "2021-03-31T08:37:05.751915Z",
     "iopub.status.busy": "2021-03-31T08:37:05.751712Z",
     "iopub.status.idle": "2021-03-31T08:37:05.754398Z",
     "shell.execute_reply": "2021-03-31T08:37:05.753940Z",
     "shell.execute_reply.started": "2021-03-31T08:37:05.751894Z"
    },
    "tags": []
   },
   "outputs": [],
   "source": [
    "z0 =0.2182580231028184"
   ]
  },
  {
   "cell_type": "code",
   "execution_count": 244,
   "metadata": {
    "ExecuteTime": {
     "end_time": "2021-03-22T10:37:42.324614Z",
     "start_time": "2021-03-22T10:37:42.321138Z"
    },
    "execution": {
     "iopub.execute_input": "2021-03-22T06:18:06.887232Z",
     "iopub.status.busy": "2021-03-22T06:18:06.887055Z",
     "iopub.status.idle": "2021-03-22T06:18:06.890321Z",
     "shell.execute_reply": "2021-03-22T06:18:06.889867Z",
     "shell.execute_reply.started": "2021-03-22T06:18:06.887210Z"
    },
    "tags": []
   },
   "outputs": [],
   "source": [
    "\n",
    "invergau = inversefunc(cdf, args=(-16.709252518677555,z0),accuracy=15)"
   ]
  },
  {
   "cell_type": "code",
   "execution_count": 245,
   "metadata": {
    "ExecuteTime": {
     "end_time": "2021-03-22T10:37:51.696446Z",
     "start_time": "2021-03-22T10:37:51.685941Z"
    },
    "execution": {
     "iopub.execute_input": "2021-03-22T06:21:17.018833Z",
     "iopub.status.busy": "2021-03-22T06:21:17.018600Z",
     "iopub.status.idle": "2021-03-22T06:21:17.031598Z",
     "shell.execute_reply": "2021-03-22T06:21:17.031154Z",
     "shell.execute_reply.started": "2021-03-22T06:21:17.018810Z"
    },
    "tags": []
   },
   "outputs": [
    {
     "data": {
      "text/plain": [
       "array(-0.85836642)"
      ]
     },
     "execution_count": 245,
     "metadata": {},
     "output_type": "execute_result"
    }
   ],
   "source": [
    "invergau(1.0365037176271014e-07)"
   ]
  },
  {
   "cell_type": "markdown",
   "metadata": {},
   "source": [
    "## np.interp做插值"
   ]
  },
  {
   "cell_type": "code",
   "execution_count": 93,
   "metadata": {
    "ExecuteTime": {
     "end_time": "2021-03-22T10:38:13.672295Z",
     "start_time": "2021-03-22T10:38:11.630466Z"
    },
    "execution": {
     "iopub.execute_input": "2021-03-31T08:54:20.139426Z",
     "iopub.status.busy": "2021-03-31T08:54:20.139230Z",
     "iopub.status.idle": "2021-03-31T08:54:21.474337Z",
     "shell.execute_reply": "2021-03-31T08:54:21.473806Z",
     "shell.execute_reply.started": "2021-03-31T08:54:20.139407Z"
    },
    "tags": []
   },
   "outputs": [],
   "source": [
    "color = np.linspace(-1.5,2.2,10000000)\n",
    "distest = cdf(color,-16.709252518677555,0.2182580231028184)"
   ]
  },
  {
   "cell_type": "code",
   "execution_count": 94,
   "metadata": {
    "ExecuteTime": {
     "end_time": "2021-03-22T10:38:13.677445Z",
     "start_time": "2021-03-22T10:38:13.674092Z"
    },
    "execution": {
     "iopub.execute_input": "2021-03-31T08:54:22.178022Z",
     "iopub.status.busy": "2021-03-31T08:54:22.177840Z",
     "iopub.status.idle": "2021-03-31T08:54:22.181360Z",
     "shell.execute_reply": "2021-03-31T08:54:22.180939Z",
     "shell.execute_reply.started": "2021-03-31T08:54:22.178001Z"
    },
    "tags": []
   },
   "outputs": [
    {
     "data": {
      "text/plain": [
       "1.542392927702722"
      ]
     },
     "execution_count": 94,
     "metadata": {},
     "output_type": "execute_result"
    }
   ],
   "source": [
    "np.interp(0.999999928032059,distest,color)"
   ]
  },
  {
   "cell_type": "code",
   "execution_count": 164,
   "metadata": {
    "ExecuteTime": {
     "end_time": "2021-03-22T08:10:08.213009Z",
     "start_time": "2021-03-22T08:10:08.209280Z"
    }
   },
   "outputs": [
    {
     "data": {
      "text/plain": [
       "1.0"
      ]
     },
     "execution_count": 164,
     "metadata": {},
     "output_type": "execute_result"
    }
   ],
   "source": [
    "cdf(1.875,-22.5,0.2182580231028184)"
   ]
  },
  {
   "cell_type": "code",
   "execution_count": 141,
   "metadata": {
    "ExecuteTime": {
     "end_time": "2021-03-22T08:04:33.747296Z",
     "start_time": "2021-03-22T08:04:33.744141Z"
    }
   },
   "outputs": [
    {
     "data": {
      "text/plain": [
       "0.01"
      ]
     },
     "execution_count": 141,
     "metadata": {},
     "output_type": "execute_result"
    }
   ],
   "source": [
    "1.0e-16 * 100000000000000"
   ]
  },
  {
   "cell_type": "code",
   "execution_count": 142,
   "metadata": {
    "ExecuteTime": {
     "end_time": "2021-03-22T08:04:42.576525Z",
     "start_time": "2021-03-22T08:04:42.573439Z"
    }
   },
   "outputs": [
    {
     "data": {
      "text/plain": [
       "100000000000000"
      ]
     },
     "execution_count": 142,
     "metadata": {},
     "output_type": "execute_result"
    }
   ],
   "source": [
    "100000000000000"
   ]
  },
  {
   "cell_type": "code",
   "execution_count": 166,
   "metadata": {
    "ExecuteTime": {
     "end_time": "2021-03-22T08:11:03.726033Z",
     "start_time": "2021-03-22T08:11:03.722913Z"
    }
   },
   "outputs": [],
   "source": [
    "\n",
    "def binary(MIN,MAX,mag):\n",
    "    while True:\n",
    "        MID = 0.5 * (MIN + MAX)\n",
    "        fun_mid = cdf(MID,mag,z0)\n",
    "        if (1 - fun_mid) < 1e-40:\n",
    "            print(\"The solution is:\",end='')\n",
    "            print(MID)\n",
    "            break\n",
    "        else:\n",
    "            MIN = MID"
   ]
  },
  {
   "cell_type": "code",
   "execution_count": 170,
   "metadata": {
    "ExecuteTime": {
     "end_time": "2021-03-22T08:17:56.096829Z",
     "start_time": "2021-03-22T08:11:26.814325Z"
    },
    "collapsed": true,
    "jupyter": {
     "outputs_hidden": true
    }
   },
   "outputs": [
    {
     "ename": "KeyboardInterrupt",
     "evalue": "",
     "output_type": "error",
     "traceback": [
      "\u001b[0;31m---------------------------------------------------------------------------\u001b[0m",
      "\u001b[0;31mKeyboardInterrupt\u001b[0m                         Traceback (most recent call last)",
      "\u001b[0;32m<ipython-input-170-8431ccd06f56>\u001b[0m in \u001b[0;36m<module>\u001b[0;34m\u001b[0m\n\u001b[0;32m----> 1\u001b[0;31m \u001b[0mbinary\u001b[0m\u001b[0;34m(\u001b[0m\u001b[0;34m-\u001b[0m\u001b[0;36m1.5\u001b[0m\u001b[0;34m,\u001b[0m\u001b[0;36m2.1\u001b[0m\u001b[0;34m,\u001b[0m\u001b[0;34m-\u001b[0m\u001b[0;36m15.5\u001b[0m\u001b[0;34m)\u001b[0m\u001b[0;34m\u001b[0m\u001b[0;34m\u001b[0m\u001b[0m\n\u001b[0m",
      "\u001b[0;32m<ipython-input-166-71801eab43f8>\u001b[0m in \u001b[0;36mbinary\u001b[0;34m(MIN, MAX, mag)\u001b[0m\n\u001b[1;32m      2\u001b[0m     \u001b[0;32mwhile\u001b[0m \u001b[0;32mTrue\u001b[0m\u001b[0;34m:\u001b[0m\u001b[0;34m\u001b[0m\u001b[0;34m\u001b[0m\u001b[0m\n\u001b[1;32m      3\u001b[0m         \u001b[0mMID\u001b[0m \u001b[0;34m=\u001b[0m \u001b[0;36m0.5\u001b[0m \u001b[0;34m*\u001b[0m \u001b[0;34m(\u001b[0m\u001b[0mMIN\u001b[0m \u001b[0;34m+\u001b[0m \u001b[0mMAX\u001b[0m\u001b[0;34m)\u001b[0m\u001b[0;34m\u001b[0m\u001b[0;34m\u001b[0m\u001b[0m\n\u001b[0;32m----> 4\u001b[0;31m         \u001b[0mfun_mid\u001b[0m \u001b[0;34m=\u001b[0m \u001b[0mcdf\u001b[0m\u001b[0;34m(\u001b[0m\u001b[0mMID\u001b[0m\u001b[0;34m,\u001b[0m\u001b[0mmag\u001b[0m\u001b[0;34m,\u001b[0m\u001b[0mz0\u001b[0m\u001b[0;34m)\u001b[0m\u001b[0;34m\u001b[0m\u001b[0;34m\u001b[0m\u001b[0m\n\u001b[0m\u001b[1;32m      5\u001b[0m         \u001b[0;32mif\u001b[0m \u001b[0;34m(\u001b[0m\u001b[0;36m1\u001b[0m \u001b[0;34m-\u001b[0m \u001b[0mfun_mid\u001b[0m\u001b[0;34m)\u001b[0m \u001b[0;34m<\u001b[0m \u001b[0;36m1e-40\u001b[0m\u001b[0;34m:\u001b[0m\u001b[0;34m\u001b[0m\u001b[0;34m\u001b[0m\u001b[0m\n\u001b[1;32m      6\u001b[0m             \u001b[0mprint\u001b[0m\u001b[0;34m(\u001b[0m\u001b[0;34m\"The solution is:\"\u001b[0m\u001b[0;34m,\u001b[0m\u001b[0mend\u001b[0m\u001b[0;34m=\u001b[0m\u001b[0;34m''\u001b[0m\u001b[0;34m)\u001b[0m\u001b[0;34m\u001b[0m\u001b[0;34m\u001b[0m\u001b[0m\n",
      "\u001b[0;32m<ipython-input-31-493bf43bd2e0>\u001b[0m in \u001b[0;36mcdf\u001b[0;34m(col, M, z)\u001b[0m\n\u001b[1;32m      1\u001b[0m \u001b[0;32mdef\u001b[0m \u001b[0mcdf\u001b[0m\u001b[0;34m(\u001b[0m\u001b[0mcol\u001b[0m\u001b[0;34m,\u001b[0m\u001b[0mM\u001b[0m\u001b[0;34m,\u001b[0m\u001b[0mz\u001b[0m\u001b[0;34m)\u001b[0m\u001b[0;34m:\u001b[0m\u001b[0;34m\u001b[0m\u001b[0;34m\u001b[0m\u001b[0m\n\u001b[0;32m----> 2\u001b[0;31m     \u001b[0my\u001b[0m \u001b[0;34m=\u001b[0m \u001b[0mblue\u001b[0m\u001b[0;34m(\u001b[0m\u001b[0mM\u001b[0m\u001b[0;34m)\u001b[0m \u001b[0;34m*\u001b[0m \u001b[0mnorm\u001b[0m\u001b[0;34m.\u001b[0m\u001b[0mcdf\u001b[0m\u001b[0;34m(\u001b[0m\u001b[0mcol\u001b[0m\u001b[0;34m,\u001b[0m\u001b[0mloc\u001b[0m \u001b[0;34m=\u001b[0m \u001b[0mmu_blue\u001b[0m\u001b[0;34m(\u001b[0m\u001b[0mM\u001b[0m\u001b[0;34m,\u001b[0m \u001b[0mz\u001b[0m\u001b[0;34m)\u001b[0m\u001b[0;34m,\u001b[0m\u001b[0mscale\u001b[0m \u001b[0;34m=\u001b[0m \u001b[0msigma_blue\u001b[0m\u001b[0;34m(\u001b[0m\u001b[0mM\u001b[0m\u001b[0;34m,\u001b[0m \u001b[0mz\u001b[0m\u001b[0;34m)\u001b[0m\u001b[0;34m)\u001b[0m \u001b[0;34m+\u001b[0m \u001b[0;34m(\u001b[0m\u001b[0;36m1\u001b[0m \u001b[0;34m-\u001b[0m \u001b[0mblue\u001b[0m\u001b[0;34m(\u001b[0m\u001b[0mM\u001b[0m\u001b[0;34m)\u001b[0m\u001b[0;34m)\u001b[0m \u001b[0;34m*\u001b[0m \u001b[0mnorm\u001b[0m\u001b[0;34m.\u001b[0m\u001b[0mcdf\u001b[0m\u001b[0;34m(\u001b[0m\u001b[0mcol\u001b[0m\u001b[0;34m,\u001b[0m\u001b[0mloc\u001b[0m \u001b[0;34m=\u001b[0m \u001b[0mmu_red\u001b[0m\u001b[0;34m(\u001b[0m\u001b[0mM\u001b[0m\u001b[0;34m,\u001b[0m\u001b[0mz\u001b[0m\u001b[0;34m)\u001b[0m\u001b[0;34m,\u001b[0m\u001b[0mscale\u001b[0m \u001b[0;34m=\u001b[0m \u001b[0msigma_red\u001b[0m\u001b[0;34m(\u001b[0m\u001b[0mM\u001b[0m\u001b[0;34m,\u001b[0m\u001b[0mz\u001b[0m\u001b[0;34m)\u001b[0m\u001b[0;34m)\u001b[0m\u001b[0;34m\u001b[0m\u001b[0;34m\u001b[0m\u001b[0m\n\u001b[0m\u001b[1;32m      3\u001b[0m     \u001b[0;32mreturn\u001b[0m \u001b[0my\u001b[0m\u001b[0;34m\u001b[0m\u001b[0;34m\u001b[0m\u001b[0m\n",
      "\u001b[0;32m~/anaconda/envs/py37/lib/python3.7/site-packages/scipy/stats/_distn_infrastructure.py\u001b[0m in \u001b[0;36mcdf\u001b[0;34m(self, x, *args, **kwds)\u001b[0m\n\u001b[1;32m   1917\u001b[0m         \u001b[0m_a\u001b[0m\u001b[0;34m,\u001b[0m \u001b[0m_b\u001b[0m \u001b[0;34m=\u001b[0m \u001b[0mself\u001b[0m\u001b[0;34m.\u001b[0m\u001b[0m_get_support\u001b[0m\u001b[0;34m(\u001b[0m\u001b[0;34m*\u001b[0m\u001b[0margs\u001b[0m\u001b[0;34m)\u001b[0m\u001b[0;34m\u001b[0m\u001b[0;34m\u001b[0m\u001b[0m\n\u001b[1;32m   1918\u001b[0m         \u001b[0mdtyp\u001b[0m \u001b[0;34m=\u001b[0m \u001b[0mnp\u001b[0m\u001b[0;34m.\u001b[0m\u001b[0mfind_common_type\u001b[0m\u001b[0;34m(\u001b[0m\u001b[0;34m[\u001b[0m\u001b[0mx\u001b[0m\u001b[0;34m.\u001b[0m\u001b[0mdtype\u001b[0m\u001b[0;34m,\u001b[0m \u001b[0mnp\u001b[0m\u001b[0;34m.\u001b[0m\u001b[0mfloat64\u001b[0m\u001b[0;34m]\u001b[0m\u001b[0;34m,\u001b[0m \u001b[0;34m[\u001b[0m\u001b[0;34m]\u001b[0m\u001b[0;34m)\u001b[0m\u001b[0;34m\u001b[0m\u001b[0;34m\u001b[0m\u001b[0m\n\u001b[0;32m-> 1919\u001b[0;31m         \u001b[0mx\u001b[0m \u001b[0;34m=\u001b[0m \u001b[0mnp\u001b[0m\u001b[0;34m.\u001b[0m\u001b[0masarray\u001b[0m\u001b[0;34m(\u001b[0m\u001b[0;34m(\u001b[0m\u001b[0mx\u001b[0m \u001b[0;34m-\u001b[0m \u001b[0mloc\u001b[0m\u001b[0;34m)\u001b[0m\u001b[0;34m/\u001b[0m\u001b[0mscale\u001b[0m\u001b[0;34m,\u001b[0m \u001b[0mdtype\u001b[0m\u001b[0;34m=\u001b[0m\u001b[0mdtyp\u001b[0m\u001b[0;34m)\u001b[0m\u001b[0;34m\u001b[0m\u001b[0;34m\u001b[0m\u001b[0m\n\u001b[0m\u001b[1;32m   1920\u001b[0m         \u001b[0mcond0\u001b[0m \u001b[0;34m=\u001b[0m \u001b[0mself\u001b[0m\u001b[0;34m.\u001b[0m\u001b[0m_argcheck\u001b[0m\u001b[0;34m(\u001b[0m\u001b[0;34m*\u001b[0m\u001b[0margs\u001b[0m\u001b[0;34m)\u001b[0m \u001b[0;34m&\u001b[0m \u001b[0;34m(\u001b[0m\u001b[0mscale\u001b[0m \u001b[0;34m>\u001b[0m \u001b[0;36m0\u001b[0m\u001b[0;34m)\u001b[0m\u001b[0;34m\u001b[0m\u001b[0;34m\u001b[0m\u001b[0m\n\u001b[1;32m   1921\u001b[0m         \u001b[0mcond1\u001b[0m \u001b[0;34m=\u001b[0m \u001b[0mself\u001b[0m\u001b[0;34m.\u001b[0m\u001b[0m_open_support_mask\u001b[0m\u001b[0;34m(\u001b[0m\u001b[0mx\u001b[0m\u001b[0;34m,\u001b[0m \u001b[0;34m*\u001b[0m\u001b[0margs\u001b[0m\u001b[0;34m)\u001b[0m \u001b[0;34m&\u001b[0m \u001b[0;34m(\u001b[0m\u001b[0mscale\u001b[0m \u001b[0;34m>\u001b[0m \u001b[0;36m0\u001b[0m\u001b[0;34m)\u001b[0m\u001b[0;34m\u001b[0m\u001b[0;34m\u001b[0m\u001b[0m\n",
      "\u001b[0;32m~/anaconda/envs/py37/lib/python3.7/site-packages/numpy/core/_asarray.py\u001b[0m in \u001b[0;36masarray\u001b[0;34m(a, dtype, order, like)\u001b[0m\n\u001b[1;32m    100\u001b[0m         \u001b[0;32mreturn\u001b[0m \u001b[0m_asarray_with_like\u001b[0m\u001b[0;34m(\u001b[0m\u001b[0ma\u001b[0m\u001b[0;34m,\u001b[0m \u001b[0mdtype\u001b[0m\u001b[0;34m=\u001b[0m\u001b[0mdtype\u001b[0m\u001b[0;34m,\u001b[0m \u001b[0morder\u001b[0m\u001b[0;34m=\u001b[0m\u001b[0morder\u001b[0m\u001b[0;34m,\u001b[0m \u001b[0mlike\u001b[0m\u001b[0;34m=\u001b[0m\u001b[0mlike\u001b[0m\u001b[0;34m)\u001b[0m\u001b[0;34m\u001b[0m\u001b[0;34m\u001b[0m\u001b[0m\n\u001b[1;32m    101\u001b[0m \u001b[0;34m\u001b[0m\u001b[0m\n\u001b[0;32m--> 102\u001b[0;31m     \u001b[0;32mreturn\u001b[0m \u001b[0marray\u001b[0m\u001b[0;34m(\u001b[0m\u001b[0ma\u001b[0m\u001b[0;34m,\u001b[0m \u001b[0mdtype\u001b[0m\u001b[0;34m,\u001b[0m \u001b[0mcopy\u001b[0m\u001b[0;34m=\u001b[0m\u001b[0;32mFalse\u001b[0m\u001b[0;34m,\u001b[0m \u001b[0morder\u001b[0m\u001b[0;34m=\u001b[0m\u001b[0morder\u001b[0m\u001b[0;34m)\u001b[0m\u001b[0;34m\u001b[0m\u001b[0;34m\u001b[0m\u001b[0m\n\u001b[0m\u001b[1;32m    103\u001b[0m \u001b[0;34m\u001b[0m\u001b[0m\n\u001b[1;32m    104\u001b[0m \u001b[0;34m\u001b[0m\u001b[0m\n",
      "\u001b[0;31mKeyboardInterrupt\u001b[0m: "
     ]
    }
   ],
   "source": [
    "binary(-1.5,2.1,-15.5)"
   ]
  },
  {
   "cell_type": "code",
   "execution_count": 136,
   "metadata": {
    "ExecuteTime": {
     "end_time": "2021-03-22T10:27:20.265524Z",
     "start_time": "2021-03-22T10:27:20.205679Z"
    },
    "execution": {
     "iopub.execute_input": "2021-03-31T14:25:56.995128Z",
     "iopub.status.busy": "2021-03-31T14:25:56.994900Z",
     "iopub.status.idle": "2021-03-31T14:25:57.033398Z",
     "shell.execute_reply": "2021-03-31T14:25:57.032858Z",
     "shell.execute_reply.started": "2021-03-31T14:25:56.995106Z"
    }
   },
   "outputs": [],
   "source": [
    "\n",
    "color0 = np.linspace(-1.5,2.2,10000000)\n",
    "def colorassign(mag,cdf_z):\n",
    "    distest = cdf(color0,mag,z0)\n",
    "    finalcolor = np.interp(cdf_z,distest,color0)\n",
    "    return finalcolor"
   ]
  },
  {
   "cell_type": "code",
   "execution_count": 141,
   "metadata": {
    "ExecuteTime": {
     "end_time": "2021-03-22T10:37:23.776566Z",
     "start_time": "2021-03-22T10:37:19.686714Z"
    },
    "execution": {
     "iopub.execute_input": "2021-03-31T14:27:05.683661Z",
     "iopub.status.busy": "2021-03-31T14:27:05.683505Z",
     "iopub.status.idle": "2021-03-31T14:27:08.251187Z",
     "shell.execute_reply": "2021-03-31T14:27:08.250650Z",
     "shell.execute_reply.started": "2021-03-31T14:27:05.683643Z"
    },
    "tags": []
   },
   "outputs": [],
   "source": [
    "col = np.zeros(26241654)\n",
    "for count in range(2111957,2111959):\n",
    "    col[count] = colorassign(mag[count],cdf_zform_check[count])"
   ]
  },
  {
   "cell_type": "code",
   "execution_count": 142,
   "metadata": {
    "ExecuteTime": {
     "end_time": "2021-03-22T10:37:23.782722Z",
     "start_time": "2021-03-22T10:37:23.778817Z"
    },
    "execution": {
     "iopub.execute_input": "2021-03-31T14:27:10.865405Z",
     "iopub.status.busy": "2021-03-31T14:27:10.865236Z",
     "iopub.status.idle": "2021-03-31T14:27:10.868414Z",
     "shell.execute_reply": "2021-03-31T14:27:10.868002Z",
     "shell.execute_reply.started": "2021-03-31T14:27:10.865386Z"
    },
    "tags": []
   },
   "outputs": [
    {
     "data": {
      "text/plain": [
       "-0.8583664176723407"
      ]
     },
     "execution_count": 142,
     "metadata": {},
     "output_type": "execute_result"
    }
   ],
   "source": [
    "col[2111957]"
   ]
  },
  {
   "cell_type": "code",
   "execution_count": 143,
   "metadata": {
    "ExecuteTime": {
     "end_time": "2021-03-22T10:28:14.658534Z",
     "start_time": "2021-03-22T10:28:14.655514Z"
    },
    "execution": {
     "iopub.execute_input": "2021-03-31T14:27:15.356023Z",
     "iopub.status.busy": "2021-03-31T14:27:15.355833Z",
     "iopub.status.idle": "2021-03-31T14:27:15.359230Z",
     "shell.execute_reply": "2021-03-31T14:27:15.358800Z",
     "shell.execute_reply.started": "2021-03-31T14:27:15.356002Z"
    },
    "tags": []
   },
   "outputs": [
    {
     "data": {
      "text/plain": [
       "-16.709252518677555"
      ]
     },
     "execution_count": 143,
     "metadata": {},
     "output_type": "execute_result"
    }
   ],
   "source": [
    "mag[2111957]"
   ]
  },
  {
   "cell_type": "code",
   "execution_count": 145,
   "metadata": {
    "ExecuteTime": {
     "end_time": "2021-03-22T10:28:24.523372Z",
     "start_time": "2021-03-22T10:28:24.520308Z"
    },
    "execution": {
     "iopub.execute_input": "2021-03-31T14:27:23.878421Z",
     "iopub.status.busy": "2021-03-31T14:27:23.878268Z",
     "iopub.status.idle": "2021-03-31T14:27:23.881514Z",
     "shell.execute_reply": "2021-03-31T14:27:23.881102Z",
     "shell.execute_reply.started": "2021-03-31T14:27:23.878402Z"
    },
    "tags": []
   },
   "outputs": [
    {
     "data": {
      "text/plain": [
       "1.0365037176271014e-07"
      ]
     },
     "execution_count": 145,
     "metadata": {},
     "output_type": "execute_result"
    }
   ],
   "source": [
    "cdf_zform_check[2111957]"
   ]
  },
  {
   "cell_type": "markdown",
   "metadata": {},
   "source": [
    "### 对mag bin做插值"
   ]
  },
  {
   "cell_type": "code",
   "execution_count": 83,
   "metadata": {
    "execution": {
     "iopub.execute_input": "2021-03-31T08:45:23.644962Z",
     "iopub.status.busy": "2021-03-31T08:45:23.644760Z",
     "iopub.status.idle": "2021-03-31T08:45:23.682644Z",
     "shell.execute_reply": "2021-03-31T08:45:23.682117Z",
     "shell.execute_reply.started": "2021-03-31T08:45:23.644941Z"
    },
    "tags": []
   },
   "outputs": [],
   "source": [
    "color0 = np.linspace(-1.5,2.2,10000000)"
   ]
  },
  {
   "cell_type": "code",
   "execution_count": 95,
   "metadata": {
    "execution": {
     "iopub.execute_input": "2021-03-31T08:57:38.591127Z",
     "iopub.status.busy": "2021-03-31T08:57:38.590969Z",
     "iopub.status.idle": "2021-03-31T08:57:38.594092Z",
     "shell.execute_reply": "2021-03-31T08:57:38.593695Z",
     "shell.execute_reply.started": "2021-03-31T08:57:38.591108Z"
    }
   },
   "outputs": [
    {
     "data": {
      "text/plain": [
       "(79,)"
      ]
     },
     "execution_count": 95,
     "metadata": {},
     "output_type": "execute_result"
    }
   ],
   "source": [
    "mag_bin_mean.shape"
   ]
  },
  {
   "cell_type": "code",
   "execution_count": 96,
   "metadata": {
    "execution": {
     "iopub.execute_input": "2021-03-31T08:58:34.907448Z",
     "iopub.status.busy": "2021-03-31T08:58:34.907241Z",
     "iopub.status.idle": "2021-03-31T09:00:16.624759Z",
     "shell.execute_reply": "2021-03-31T09:00:16.623913Z",
     "shell.execute_reply.started": "2021-03-31T08:58:34.907428Z"
    },
    "tags": []
   },
   "outputs": [],
   "source": [
    "cdf_bins = [[] for _ in range(79)]\n",
    "for n in range(79):\n",
    "    temp_cdf = cdf(color0, mag_bin_mean[n], z0)\n",
    "    cdf_bins[n].append(temp_cdf)"
   ]
  },
  {
   "cell_type": "code",
   "execution_count": 150,
   "metadata": {
    "execution": {
     "iopub.execute_input": "2021-03-31T14:30:14.258343Z",
     "iopub.status.busy": "2021-03-31T14:30:14.258120Z",
     "iopub.status.idle": "2021-03-31T14:30:14.262298Z",
     "shell.execute_reply": "2021-03-31T14:30:14.261853Z",
     "shell.execute_reply.started": "2021-03-31T14:30:14.258322Z"
    },
    "tags": []
   },
   "outputs": [
    {
     "data": {
      "text/plain": [
       "array([4.88778223e-11, 4.88783196e-11, 4.88788170e-11, ...,\n",
       "       1.00000000e+00, 1.00000000e+00, 1.00000000e+00])"
      ]
     },
     "execution_count": 150,
     "metadata": {},
     "output_type": "execute_result"
    }
   ],
   "source": [
    "cdf_bins[78][0]"
   ]
  },
  {
   "cell_type": "code",
   "execution_count": 92,
   "metadata": {
    "execution": {
     "iopub.execute_input": "2021-03-31T08:53:31.029633Z",
     "iopub.status.busy": "2021-03-31T08:53:31.029425Z",
     "iopub.status.idle": "2021-03-31T08:53:31.978901Z",
     "shell.execute_reply": "2021-03-31T08:53:31.978442Z",
     "shell.execute_reply.started": "2021-03-31T08:53:31.029612Z"
    },
    "tags": []
   },
   "outputs": [
    {
     "data": {
      "text/plain": [
       "[<matplotlib.lines.Line2D at 0x2b7eefab51f0>]"
      ]
     },
     "execution_count": 92,
     "metadata": {},
     "output_type": "execute_result"
    },
    {
     "data": {
      "image/png": "[encoded data removed]",
      "text/plain": [
       "<Figure size 432x288 with 1 Axes>"
      ]
     },
     "metadata": {
      "needs_background": "light"
     },
     "output_type": "display_data"
    }
   ],
   "source": [
    "plt.plot(color0,cdf_bins[78][0])"
   ]
  },
  {
   "cell_type": "code",
   "execution_count": 102,
   "metadata": {
    "execution": {
     "iopub.execute_input": "2021-03-31T09:04:48.246232Z",
     "iopub.status.busy": "2021-03-31T09:04:48.246025Z",
     "iopub.status.idle": "2021-03-31T09:04:48.249330Z",
     "shell.execute_reply": "2021-03-31T09:04:48.248908Z",
     "shell.execute_reply.started": "2021-03-31T09:04:48.246211Z"
    },
    "tags": []
   },
   "outputs": [
    {
     "data": {
      "text/plain": [
       "(26241654,)"
      ]
     },
     "execution_count": 102,
     "metadata": {},
     "output_type": "execute_result"
    }
   ],
   "source": [
    "inds.shape"
   ]
  },
  {
   "cell_type": "code",
   "execution_count": 151,
   "metadata": {
    "execution": {
     "iopub.execute_input": "2021-03-31T14:36:05.118815Z",
     "iopub.status.busy": "2021-03-31T14:36:05.118592Z",
     "iopub.status.idle": "2021-03-31T14:36:05.129920Z",
     "shell.execute_reply": "2021-03-31T14:36:05.129440Z",
     "shell.execute_reply.started": "2021-03-31T14:36:05.118794Z"
    },
    "tags": []
   },
   "outputs": [
    {
     "name": "stdout",
     "output_type": "stream",
     "text": [
      "1\n",
      "10\n"
     ]
    }
   ],
   "source": [
    "finalcolor=np.zeros(26241654)\n",
    "for i in range(26240253,26240255):\n",
    "    print(inds[i])\n",
    "    finalcolor[i] = np.interp(cdf_zform_check[i],cdf_bins[inds[i]-1][0],color0)"
   ]
  },
  {
   "cell_type": "code",
   "execution_count": 152,
   "metadata": {
    "execution": {
     "iopub.execute_input": "2021-03-31T14:36:12.636009Z",
     "iopub.status.busy": "2021-03-31T14:36:12.635775Z",
     "iopub.status.idle": "2021-03-31T14:36:12.639804Z",
     "shell.execute_reply": "2021-03-31T14:36:12.639348Z",
     "shell.execute_reply.started": "2021-03-31T14:36:12.635988Z"
    },
    "tags": []
   },
   "outputs": [
    {
     "data": {
      "text/plain": [
       "1.2569365034511966"
      ]
     },
     "execution_count": 152,
     "metadata": {},
     "output_type": "execute_result"
    }
   ],
   "source": [
    "finalcolor[26240253]"
   ]
  },
  {
   "cell_type": "code",
   "execution_count": 153,
   "metadata": {
    "execution": {
     "iopub.execute_input": "2021-03-31T14:36:25.954520Z",
     "iopub.status.busy": "2021-03-31T14:36:25.954306Z",
     "iopub.status.idle": "2021-03-31T14:36:25.958051Z",
     "shell.execute_reply": "2021-03-31T14:36:25.957541Z",
     "shell.execute_reply.started": "2021-03-31T14:36:25.954499Z"
    }
   },
   "outputs": [
    {
     "data": {
      "text/plain": [
       "0.9948191397858189"
      ]
     },
     "execution_count": 153,
     "metadata": {},
     "output_type": "execute_result"
    }
   ],
   "source": [
    "cdf_zform_check[26240253]"
   ]
  },
  {
   "cell_type": "markdown",
   "metadata": {},
   "source": [
    "### 对单个mag做插值"
   ]
  },
  {
   "cell_type": "code",
   "execution_count": 112,
   "metadata": {
    "execution": {
     "iopub.execute_input": "2021-03-31T13:48:59.341766Z",
     "iopub.status.busy": "2021-03-31T13:48:59.341541Z",
     "iopub.status.idle": "2021-03-31T13:48:59.345314Z",
     "shell.execute_reply": "2021-03-31T13:48:59.344885Z",
     "shell.execute_reply.started": "2021-03-31T13:48:59.341743Z"
    }
   },
   "outputs": [
    {
     "data": {
      "text/plain": [
       "array([-1.5       , -1.49999963, -1.49999926, ...,  2.19999926,\n",
       "        2.19999963,  2.2       ])"
      ]
     },
     "execution_count": 112,
     "metadata": {},
     "output_type": "execute_result"
    }
   ],
   "source": [
    "color0"
   ]
  },
  {
   "cell_type": "code",
   "execution_count": 154,
   "metadata": {
    "execution": {
     "iopub.execute_input": "2021-03-31T14:36:47.980515Z",
     "iopub.status.busy": "2021-03-31T14:36:47.980304Z",
     "iopub.status.idle": "2021-03-31T14:36:50.594228Z",
     "shell.execute_reply": "2021-03-31T14:36:50.593546Z",
     "shell.execute_reply.started": "2021-03-31T14:36:47.980495Z"
    },
    "tags": []
   },
   "outputs": [],
   "source": [
    "def colorassign(mag,cdf_z):\n",
    "    distest = cdf(color0,mag,z0)\n",
    "    finalcolor = np.interp(cdf_z,distest,color0)\n",
    "    return finalcolor\n",
    "\n",
    "mul_col = np.zeros(26241654)\n",
    "for i in range(26240253,26240255):\n",
    "    mul_col[i] = colorassign(mag[i],cdf_zform_check[i])\n"
   ]
  },
  {
   "cell_type": "code",
   "execution_count": 155,
   "metadata": {
    "execution": {
     "iopub.execute_input": "2021-03-31T14:36:57.577120Z",
     "iopub.status.busy": "2021-03-31T14:36:57.576892Z",
     "iopub.status.idle": "2021-03-31T14:36:57.580761Z",
     "shell.execute_reply": "2021-03-31T14:36:57.580247Z",
     "shell.execute_reply.started": "2021-03-31T14:36:57.577100Z"
    },
    "tags": []
   },
   "outputs": [
    {
     "data": {
      "text/plain": [
       "1.2550176355390654"
      ]
     },
     "execution_count": 155,
     "metadata": {},
     "output_type": "execute_result"
    }
   ],
   "source": [
    "mul_col[26240253]"
   ]
  },
  {
   "cell_type": "code",
   "execution_count": 135,
   "metadata": {
    "execution": {
     "iopub.execute_input": "2021-03-31T14:25:13.030630Z",
     "iopub.status.busy": "2021-03-31T14:25:13.030408Z",
     "iopub.status.idle": "2021-03-31T14:25:13.033963Z",
     "shell.execute_reply": "2021-03-31T14:25:13.033536Z",
     "shell.execute_reply.started": "2021-03-31T14:25:13.030609Z"
    }
   },
   "outputs": [
    {
     "data": {
      "text/plain": [
       "-16.709252518677555"
      ]
     },
     "execution_count": 135,
     "metadata": {},
     "output_type": "execute_result"
    }
   ],
   "source": [
    "mag[2111957]"
   ]
  },
  {
   "cell_type": "code",
   "execution_count": 130,
   "metadata": {
    "execution": {
     "iopub.execute_input": "2021-03-31T14:14:44.042661Z",
     "iopub.status.busy": "2021-03-31T14:14:44.042435Z",
     "iopub.status.idle": "2021-03-31T14:14:44.171098Z",
     "shell.execute_reply": "2021-03-31T14:14:44.170642Z",
     "shell.execute_reply.started": "2021-03-31T14:14:44.042640Z"
    },
    "tags": []
   },
   "outputs": [
    {
     "data": {
      "text/plain": [
       "<matplotlib.collections.PathCollection at 0x2b7ee629d490>"
      ]
     },
     "execution_count": 130,
     "metadata": {},
     "output_type": "execute_result"
    },
    {
     "data": {
      "image/png": "[encoded data removed]",
      "text/plain": [
       "<Figure size 432x288 with 1 Axes>"
      ]
     },
     "metadata": {
      "needs_background": "light"
     },
     "output_type": "display_data"
    }
   ],
   "source": [
    "plt.scatter(mag[10000:10100],mul_col,s = 0.5)\n",
    "plt.scatter(mag[10000:10100],finalcolor,s= 0.5)"
   ]
  },
  {
   "cell_type": "markdown",
   "metadata": {},
   "source": [
    "# check z_form cdf"
   ]
  },
  {
   "cell_type": "code",
   "execution_count": 73,
   "metadata": {
    "ExecuteTime": {
     "end_time": "2021-03-22T10:57:53.489816Z",
     "start_time": "2021-03-22T10:57:53.342919Z"
    },
    "execution": {
     "iopub.execute_input": "2021-03-31T08:38:44.242166Z",
     "iopub.status.busy": "2021-03-31T08:38:44.241949Z",
     "iopub.status.idle": "2021-03-31T08:38:44.570928Z",
     "shell.execute_reply": "2021-03-31T08:38:44.570409Z",
     "shell.execute_reply.started": "2021-03-31T08:38:44.242144Z"
    }
   },
   "outputs": [],
   "source": [
    "z1 = np.load('/home/yunzheng/mock/color/data/zcdf_new/cdf_zform_2.npy')"
   ]
  },
  {
   "cell_type": "code",
   "execution_count": 75,
   "metadata": {
    "ExecuteTime": {
     "end_time": "2021-03-22T10:57:57.744604Z",
     "start_time": "2021-03-22T10:57:57.579595Z"
    },
    "execution": {
     "iopub.execute_input": "2021-03-31T08:38:57.409202Z",
     "iopub.status.busy": "2021-03-31T08:38:57.408990Z",
     "iopub.status.idle": "2021-03-31T08:38:57.744380Z",
     "shell.execute_reply": "2021-03-31T08:38:57.743855Z",
     "shell.execute_reply.started": "2021-03-31T08:38:57.409181Z"
    }
   },
   "outputs": [],
   "source": [
    "z2 = np.load('/home/yunzheng/mock/color/data/zcdf_new/cdf_zform_3.npy')"
   ]
  },
  {
   "cell_type": "code",
   "execution_count": 250,
   "metadata": {
    "ExecuteTime": {
     "end_time": "2021-03-22T10:48:57.269053Z",
     "start_time": "2021-03-22T10:48:57.265912Z"
    }
   },
   "outputs": [
    {
     "data": {
      "text/plain": [
       "(26241654,)"
      ]
     },
     "execution_count": 250,
     "metadata": {},
     "output_type": "execute_result"
    }
   ],
   "source": [
    "z1.shape"
   ]
  },
  {
   "cell_type": "code",
   "execution_count": 271,
   "metadata": {
    "ExecuteTime": {
     "end_time": "2021-03-22T10:58:20.211942Z",
     "start_time": "2021-03-22T10:58:20.208906Z"
    }
   },
   "outputs": [
    {
     "data": {
      "text/plain": [
       "(26241654,)"
      ]
     },
     "execution_count": 271,
     "metadata": {},
     "output_type": "execute_result"
    }
   ],
   "source": [
    "z2.shape"
   ]
  },
  {
   "cell_type": "code",
   "execution_count": 74,
   "metadata": {
    "ExecuteTime": {
     "end_time": "2021-03-22T12:45:47.721800Z",
     "start_time": "2021-03-22T12:45:47.718357Z"
    },
    "execution": {
     "iopub.execute_input": "2021-03-31T08:38:52.006163Z",
     "iopub.status.busy": "2021-03-31T08:38:52.005952Z",
     "iopub.status.idle": "2021-03-31T08:38:52.009746Z",
     "shell.execute_reply": "2021-03-31T08:38:52.009326Z",
     "shell.execute_reply.started": "2021-03-31T08:38:52.006142Z"
    }
   },
   "outputs": [
    {
     "data": {
      "text/plain": [
       "array([0.00097281, 0.00419073, 0.01704272, 0.01090488, 0.01000264,\n",
       "       0.02125868, 0.08004263, 0.00276913, 0.07008721, 0.03949082])"
      ]
     },
     "execution_count": 74,
     "metadata": {},
     "output_type": "execute_result"
    }
   ],
   "source": [
    "z1[4040:4050]"
   ]
  },
  {
   "cell_type": "code",
   "execution_count": 76,
   "metadata": {
    "execution": {
     "iopub.execute_input": "2021-03-31T08:39:05.167804Z",
     "iopub.status.busy": "2021-03-31T08:39:05.167601Z",
     "iopub.status.idle": "2021-03-31T08:39:05.171412Z",
     "shell.execute_reply": "2021-03-31T08:39:05.170980Z",
     "shell.execute_reply.started": "2021-03-31T08:39:05.167784Z"
    }
   },
   "outputs": [
    {
     "data": {
      "text/plain": [
       "array([0.0009049 , 0.0041832 , 0.01639717, 0.01047465, 0.00997016,\n",
       "       0.02106821, 0.08242734, 0.00277313, 0.07214228, 0.04070824])"
      ]
     },
     "execution_count": 76,
     "metadata": {},
     "output_type": "execute_result"
    }
   ],
   "source": [
    "z2[4040:4050]"
   ]
  },
  {
   "cell_type": "code",
   "execution_count": 287,
   "metadata": {
    "ExecuteTime": {
     "end_time": "2021-03-22T12:45:49.912050Z",
     "start_time": "2021-03-22T12:45:49.908621Z"
    }
   },
   "outputs": [
    {
     "data": {
      "text/plain": [
       "array([0.0009049 , 0.0041832 , 0.01639717, 0.01047465, 0.00997016,\n",
       "       0.02106821, 0.08242734, 0.00277313, 0.07214228, 0.04070824])"
      ]
     },
     "execution_count": 287,
     "metadata": {},
     "output_type": "execute_result"
    }
   ],
   "source": [
    "z2[4040:4050]"
   ]
  },
  {
   "cell_type": "code",
   "execution_count": 77,
   "metadata": {
    "ExecuteTime": {
     "end_time": "2021-03-22T10:59:16.105733Z",
     "start_time": "2021-03-22T10:59:16.102048Z"
    },
    "execution": {
     "iopub.execute_input": "2021-03-31T08:42:29.929992Z",
     "iopub.status.busy": "2021-03-31T08:42:29.929784Z",
     "iopub.status.idle": "2021-03-31T08:42:29.933641Z",
     "shell.execute_reply": "2021-03-31T08:42:29.933213Z",
     "shell.execute_reply.started": "2021-03-31T08:42:29.929970Z"
    }
   },
   "outputs": [
    {
     "data": {
      "text/plain": [
       "array([0.00112713, 0.00418436, 0.01694143, 0.01083648, 0.01006232,\n",
       "       0.02165076, 0.08246466, 0.00277432, 0.07217662, 0.04110264])"
      ]
     },
     "execution_count": 77,
     "metadata": {},
     "output_type": "execute_result"
    }
   ],
   "source": [
    "cdf_zform[4040:4050]"
   ]
  },
  {
   "cell_type": "markdown",
   "metadata": {},
   "source": [
    "# color comparison between theory and mock"
   ]
  },
  {
   "cell_type": "code",
   "execution_count": 31,
   "metadata": {
    "execution": {
     "iopub.execute_input": "2021-04-02T16:14:26.987482Z",
     "iopub.status.busy": "2021-04-02T16:14:26.987279Z",
     "iopub.status.idle": "2021-04-02T16:14:46.769198Z",
     "shell.execute_reply": "2021-04-02T16:14:46.768591Z",
     "shell.execute_reply.started": "2021-04-02T16:14:26.987461Z"
    },
    "tags": []
   },
   "outputs": [],
   "source": [
    "import numpy as np\n",
    "from scipy.stats import norm"
   ]
  },
  {
   "cell_type": "code",
   "execution_count": 3,
   "metadata": {
    "execution": {
     "iopub.execute_input": "2021-04-02T15:56:23.370695Z",
     "iopub.status.busy": "2021-04-02T15:56:23.370492Z",
     "iopub.status.idle": "2021-04-02T15:56:23.584105Z",
     "shell.execute_reply": "2021-04-02T15:56:23.583476Z",
     "shell.execute_reply.started": "2021-04-02T15:56:23.370673Z"
    },
    "tags": []
   },
   "outputs": [],
   "source": [
    "color = np.load('/home/yunzheng/mock/color/data/zcdf_new/color_mul_interp.npy')"
   ]
  },
  {
   "cell_type": "code",
   "execution_count": 4,
   "metadata": {
    "execution": {
     "iopub.execute_input": "2021-04-02T15:56:38.066088Z",
     "iopub.status.busy": "2021-04-02T15:56:38.065881Z",
     "iopub.status.idle": "2021-04-02T15:56:38.074615Z",
     "shell.execute_reply": "2021-04-02T15:56:38.074078Z",
     "shell.execute_reply.started": "2021-04-02T15:56:38.066067Z"
    }
   },
   "outputs": [
    {
     "data": {
      "text/plain": [
       "array([-0.73198615, -0.68474536, -0.51660745, -0.77605616, -0.66200555,\n",
       "       -0.7318218 , -0.77597172, -0.77459834, -0.52508325, -0.66211432])"
      ]
     },
     "execution_count": 4,
     "metadata": {},
     "output_type": "execute_result"
    }
   ],
   "source": [
    "color[:10]"
   ]
  },
  {
   "cell_type": "code",
   "execution_count": 5,
   "metadata": {
    "execution": {
     "iopub.execute_input": "2021-04-02T15:56:53.620114Z",
     "iopub.status.busy": "2021-04-02T15:56:53.619948Z",
     "iopub.status.idle": "2021-04-02T15:56:53.640320Z",
     "shell.execute_reply": "2021-04-02T15:56:53.639828Z",
     "shell.execute_reply.started": "2021-04-02T15:56:53.620094Z"
    }
   },
   "outputs": [
    {
     "data": {
      "text/plain": [
       "1.5945069420331515"
      ]
     },
     "execution_count": 5,
     "metadata": {},
     "output_type": "execute_result"
    }
   ],
   "source": [
    "np.max(color)"
   ]
  },
  {
   "cell_type": "code",
   "execution_count": 6,
   "metadata": {
    "execution": {
     "iopub.execute_input": "2021-04-02T15:57:01.997102Z",
     "iopub.status.busy": "2021-04-02T15:57:01.996941Z",
     "iopub.status.idle": "2021-04-02T15:57:02.017289Z",
     "shell.execute_reply": "2021-04-02T15:57:02.016802Z",
     "shell.execute_reply.started": "2021-04-02T15:57:01.997083Z"
    }
   },
   "outputs": [
    {
     "data": {
      "text/plain": [
       "-0.9524718977761165"
      ]
     },
     "execution_count": 6,
     "metadata": {},
     "output_type": "execute_result"
    }
   ],
   "source": [
    "np.min(color)"
   ]
  },
  {
   "cell_type": "markdown",
   "metadata": {},
   "source": [
    "## Gaussian components"
   ]
  },
  {
   "cell_type": "markdown",
   "metadata": {},
   "source": [
    "### Two Gaussian Function"
   ]
  },
  {
   "cell_type": "code",
   "execution_count": 29,
   "metadata": {
    "execution": {
     "iopub.execute_input": "2021-04-02T16:13:35.423472Z",
     "iopub.status.busy": "2021-04-02T16:13:35.423267Z",
     "iopub.status.idle": "2021-04-02T16:13:35.427300Z",
     "shell.execute_reply": "2021-04-02T16:13:35.426742Z",
     "shell.execute_reply.started": "2021-04-02T16:13:35.423451Z"
    }
   },
   "outputs": [],
   "source": [
    "def blue(M):\n",
    "    if  M < -26.571428571428571:\n",
    "        y = 0\n",
    "        return y\n",
    "    elif (M < -19.53846153846154):\n",
    "        y = 0.46 + 0.07 * (M + 20)\n",
    "        return y\n",
    "    elif M < -17.1733389977005:\n",
    "        y = 0.4 + 0.2 * (M + 20)\n",
    "        return y\n",
    "    else :\n",
    "        y = 1 / (1 + np.exp(- (M + 20.5)))\n",
    "        return y"
   ]
  },
  {
   "cell_type": "code",
   "execution_count": 7,
   "metadata": {
    "execution": {
     "iopub.execute_input": "2021-04-02T16:00:08.287816Z",
     "iopub.status.busy": "2021-04-02T16:00:08.287598Z",
     "iopub.status.idle": "2021-04-02T16:00:08.292248Z",
     "shell.execute_reply": "2021-04-02T16:00:08.291678Z",
     "shell.execute_reply.started": "2021-04-02T16:00:08.287793Z"
    }
   },
   "outputs": [],
   "source": [
    "def mu_blue(M,z):\n",
    "    y = 0.62 - 0.11 * (M + 20) - 0.25 * (min(z,0.4) - 0.1)\n",
    "    return y\n",
    "def sigma_blue(M,z):\n",
    "    y = 0.12 + 0.02 * (M + 20) + 0.2 * (z - 0.1)\n",
    "    return y\n",
    "def mu_red(M,z):\n",
    "    y = 0.932 - 0.032 * (M + 20) - 0.18 * (min(z,0.4) - 0.1)\n",
    "    return y\n",
    "def sigma_red(M,z):\n",
    "    y = 0.07 + 0.01 * (M + 20) + 0.5 * (z - 0.1) + 0.1 * (z - 0.1)**2\n",
    "    return y"
   ]
  },
  {
   "cell_type": "code",
   "execution_count": 8,
   "metadata": {
    "execution": {
     "iopub.execute_input": "2021-04-02T16:00:18.075995Z",
     "iopub.status.busy": "2021-04-02T16:00:18.075794Z",
     "iopub.status.idle": "2021-04-02T16:00:18.079362Z",
     "shell.execute_reply": "2021-04-02T16:00:18.078831Z",
     "shell.execute_reply.started": "2021-04-02T16:00:18.075974Z"
    }
   },
   "outputs": [],
   "source": [
    "def cdf(col,M,z):\n",
    "    y = blue(M) * norm.cdf(col,loc = mu_blue(M, z),scale = sigma_blue(M, z)) + (1 - blue(M)) * norm.cdf(col,loc = mu_red(M,z),scale = sigma_red(M,z))\n",
    "    return y"
   ]
  },
  {
   "cell_type": "code",
   "execution_count": 9,
   "metadata": {
    "execution": {
     "iopub.execute_input": "2021-04-02T16:00:26.268485Z",
     "iopub.status.busy": "2021-04-02T16:00:26.268286Z",
     "iopub.status.idle": "2021-04-02T16:00:26.271865Z",
     "shell.execute_reply": "2021-04-02T16:00:26.271329Z",
     "shell.execute_reply.started": "2021-04-02T16:00:26.268462Z"
    }
   },
   "outputs": [],
   "source": [
    "def pdf(col,M,z):\n",
    "    y = blue(M) * norm.pdf(col,loc = mu_blue(M, z),scale = sigma_blue(M, z)) + (1 - blue(M)) * norm.pdf(col,loc = mu_red(M,z),scale = sigma_red(M,z))\n",
    "    return y"
   ]
  },
  {
   "cell_type": "code",
   "execution_count": 10,
   "metadata": {
    "execution": {
     "iopub.execute_input": "2021-04-02T16:01:02.295710Z",
     "iopub.status.busy": "2021-04-02T16:01:02.295511Z",
     "iopub.status.idle": "2021-04-02T16:01:02.298381Z",
     "shell.execute_reply": "2021-04-02T16:01:02.297838Z",
     "shell.execute_reply.started": "2021-04-02T16:01:02.295688Z"
    }
   },
   "outputs": [],
   "source": [
    "z0 = 0.2182580231028184"
   ]
  },
  {
   "cell_type": "markdown",
   "metadata": {},
   "source": [
    "## mock data"
   ]
  },
  {
   "cell_type": "code",
   "execution_count": 20,
   "metadata": {
    "execution": {
     "iopub.execute_input": "2021-04-02T16:07:17.929373Z",
     "iopub.status.busy": "2021-04-02T16:07:17.929109Z",
     "iopub.status.idle": "2021-04-02T16:07:37.159196Z",
     "shell.execute_reply": "2021-04-02T16:07:37.158482Z",
     "shell.execute_reply.started": "2021-04-02T16:07:17.929344Z"
    }
   },
   "outputs": [],
   "source": [
    "mag_sta = [[]for _ in range(80)]\n",
    "color_sta = [[]for _ in range(80)]\n",
    "for n in range(len(mag)):\n",
    "    mag_sta[inds[n]].append(mag[n])\n",
    "    color_sta[inds[n]].append(color[n])"
   ]
  },
  {
   "cell_type": "code",
   "execution_count": 54,
   "metadata": {
    "execution": {
     "iopub.execute_input": "2021-04-02T16:26:38.469644Z",
     "iopub.status.busy": "2021-04-02T16:26:38.469444Z",
     "iopub.status.idle": "2021-04-02T16:26:38.472387Z",
     "shell.execute_reply": "2021-04-02T16:26:38.471840Z",
     "shell.execute_reply.started": "2021-04-02T16:26:38.469623Z"
    },
    "tags": []
   },
   "outputs": [],
   "source": [
    "color_bin = np.arange(-1.0,1.8,0.025)"
   ]
  },
  {
   "cell_type": "code",
   "execution_count": 45,
   "metadata": {
    "execution": {
     "iopub.execute_input": "2021-04-02T16:22:29.007248Z",
     "iopub.status.busy": "2021-04-02T16:22:29.007045Z",
     "iopub.status.idle": "2021-04-02T16:22:29.010922Z",
     "shell.execute_reply": "2021-04-02T16:22:29.010399Z",
     "shell.execute_reply.started": "2021-04-02T16:22:29.007227Z"
    },
    "tags": []
   },
   "outputs": [
    {
     "data": {
      "text/plain": [
       "[-22.809463037303455,\n",
       " -22.805088910744548,\n",
       " -22.924820807849265,\n",
       " -22.811309659028854,\n",
       " -22.87954004396784,\n",
       " -22.866332824179757,\n",
       " -22.88903279980583,\n",
       " -22.910725768148946,\n",
       " -22.803659838376827,\n",
       " -22.847945556898924]"
      ]
     },
     "execution_count": 45,
     "metadata": {},
     "output_type": "execute_result"
    }
   ],
   "source": [
    "mag_sta[2][:10]"
   ]
  },
  {
   "cell_type": "code",
   "execution_count": 24,
   "metadata": {
    "execution": {
     "iopub.execute_input": "2021-04-02T16:10:30.244242Z",
     "iopub.status.busy": "2021-04-02T16:10:30.244032Z",
     "iopub.status.idle": "2021-04-02T16:10:30.424341Z",
     "shell.execute_reply": "2021-04-02T16:10:30.423745Z",
     "shell.execute_reply.started": "2021-04-02T16:10:30.244219Z"
    },
    "tags": []
   },
   "outputs": [],
   "source": [
    "\n",
    "# color_23 = color_sta[]\n",
    "color_22 = color_sta[10] + color_sta[11]\n",
    "color_21 = color_sta[20] + color_sta[21]\n",
    "color_20 = color_sta[30] + color_sta[31]\n",
    "color_19 = color_sta[40] + color_sta[41]\n",
    "color_18 = color_sta[50] + color_sta[51]\n",
    "color_17 = color_sta[60] + color_sta[61]\n",
    "color_16 = color_sta[70] + color_sta[71]"
   ]
  },
  {
   "cell_type": "code",
   "execution_count": 50,
   "metadata": {
    "execution": {
     "iopub.execute_input": "2021-04-02T16:25:35.866591Z",
     "iopub.status.busy": "2021-04-02T16:25:35.866388Z",
     "iopub.status.idle": "2021-04-02T16:25:37.390582Z",
     "shell.execute_reply": "2021-04-02T16:25:37.389962Z",
     "shell.execute_reply.started": "2021-04-02T16:25:35.866571Z"
    },
    "tags": []
   },
   "outputs": [],
   "source": [
    "mag16 = np.histogram(color_16,color_bin,density = True)\n",
    "mag17 = np.histogram(color_17,color_bin,density = True)\n",
    "mag18 = np.histogram(color_18,color_bin,density = True)\n",
    "mag19 = np.histogram(color_19,color_bin,density = True)\n",
    "mag20 = np.histogram(color_20,color_bin,density = True)\n",
    "mag21 = np.histogram(color_21,color_bin,density = True)\n",
    "mag22 = np.histogram(color_22,color_bin,density = True)\n",
    "# mag23 = np.histogram(color_23,color_bin,density = True)"
   ]
  },
  {
   "cell_type": "markdown",
   "metadata": {},
   "source": [
    "## Theory comparison"
   ]
  },
  {
   "cell_type": "code",
   "execution_count": 56,
   "metadata": {
    "execution": {
     "iopub.execute_input": "2021-04-02T16:26:57.802751Z",
     "iopub.status.busy": "2021-04-02T16:26:57.802545Z",
     "iopub.status.idle": "2021-04-02T16:26:57.808898Z",
     "shell.execute_reply": "2021-04-02T16:26:57.808345Z",
     "shell.execute_reply.started": "2021-04-02T16:26:57.802730Z"
    },
    "tags": []
   },
   "outputs": [],
   "source": [
    "pdf_theory = [[]for _ in range(8)]\n",
    "for i in range(8):\n",
    "    pdf_theory[i] = pdf(color_bin,-16-i,z = z0)"
   ]
  },
  {
   "cell_type": "code",
   "execution_count": 59,
   "metadata": {
    "execution": {
     "iopub.execute_input": "2021-04-02T16:27:54.610705Z",
     "iopub.status.busy": "2021-04-02T16:27:54.610492Z",
     "iopub.status.idle": "2021-04-02T16:27:54.613623Z",
     "shell.execute_reply": "2021-04-02T16:27:54.613073Z",
     "shell.execute_reply.started": "2021-04-02T16:27:54.610683Z"
    },
    "tags": []
   },
   "outputs": [],
   "source": [
    "color_bin_new = 0.5 * (color_bin[1:]+color_bin[:-1])"
   ]
  },
  {
   "cell_type": "code",
   "execution_count": 60,
   "metadata": {
    "execution": {
     "iopub.execute_input": "2021-04-02T16:27:59.580139Z",
     "iopub.status.busy": "2021-04-02T16:27:59.579939Z",
     "iopub.status.idle": "2021-04-02T16:27:59.583640Z",
     "shell.execute_reply": "2021-04-02T16:27:59.583100Z",
     "shell.execute_reply.started": "2021-04-02T16:27:59.580118Z"
    },
    "tags": []
   },
   "outputs": [
    {
     "data": {
      "text/plain": [
       "(111,)"
      ]
     },
     "execution_count": 60,
     "metadata": {},
     "output_type": "execute_result"
    }
   ],
   "source": [
    "color_bin_new.shape"
   ]
  },
  {
   "cell_type": "code",
   "execution_count": 61,
   "metadata": {
    "execution": {
     "iopub.execute_input": "2021-04-02T16:28:16.927625Z",
     "iopub.status.busy": "2021-04-02T16:28:16.927414Z",
     "iopub.status.idle": "2021-04-02T16:28:17.094677Z",
     "shell.execute_reply": "2021-04-02T16:28:17.094111Z",
     "shell.execute_reply.started": "2021-04-02T16:28:16.927603Z"
    },
    "tags": []
   },
   "outputs": [
    {
     "data": {
      "text/plain": [
       "[Text(0.0, 0, ''),\n",
       " Text(0.2, 0, ''),\n",
       " Text(0.4, 0, ''),\n",
       " Text(0.6000000000000001, 0, ''),\n",
       " Text(0.8, 0, ''),\n",
       " Text(1.0, 0, ''),\n",
       " Text(1.2000000000000002, 0, ''),\n",
       " Text(1.4000000000000001, 0, ''),\n",
       " Text(1.6, 0, ''),\n",
       " Text(1.8, 0, '')]"
      ]
     },
     "execution_count": 61,
     "metadata": {},
     "output_type": "execute_result"
    },
    {
     "data": {
      "image/png": "[encoded data removed]",
      "text/plain": [
       "<Figure size 576x864 with 1 Axes>"
      ]
     },
     "metadata": {
      "needs_background": "light"
     },
     "output_type": "display_data"
    }
   ],
   "source": [
    "fig = plt.figure(figsize=(8,12))\n",
    "frame1 = fig.add_axes((.1,.75,.8,.25)) #前两个参数表示起点的位置坐标，后两个参数表示长宽\n",
    "ax = plt.gca()\n",
    "plt.plot(color_bin_new,mag22[0],label = 'Mock')\n",
    "# plt.hist(color_22,color_bin,density=True,label='hist')\n",
    "plt.plot(color_bin,pdf_theory[6],label = 'Analytic',linestyle = ':')\n",
    "plt.text(0.1,4,'$M_{r} \\ = \\ -23$',fontsize = 10)\n",
    "plt.xlim(0,1.7)\n",
    "plt.legend()\n",
    "plt.title(r'Color PDF Comparison ')\n",
    "plt.ylabel(r'$pdf(^{0.1}(g-r))$')\n",
    "frame1.set_xticklabels([])"
   ]
  },
  {
   "cell_type": "code",
   "execution_count": 89,
   "metadata": {
    "execution": {
     "iopub.execute_input": "2021-04-03T06:34:18.045362Z",
     "iopub.status.busy": "2021-04-03T06:34:18.045151Z",
     "iopub.status.idle": "2021-04-03T06:34:19.262864Z",
     "shell.execute_reply": "2021-04-03T06:34:19.262259Z",
     "shell.execute_reply.started": "2021-04-03T06:34:18.045339Z"
    },
    "tags": []
   },
   "outputs": [
    {
     "data": {
      "image/png": "[encoded data removed]",
      "text/plain": [
       "<Figure size 576x864 with 4 Axes>"
      ]
     },
     "metadata": {
      "needs_background": "light"
     },
     "output_type": "display_data"
    }
   ],
   "source": [
    "fig2 = plt.figure(figsize=(8,12))\n",
    "\n",
    "frame1 = fig2.add_axes((.1,.75,.8,.25)) #前两个参数表示起点的位置坐标，后两个参数表示长宽\n",
    "ax = plt.gca()\n",
    "plt.plot(color_bin_new,mag22[0],label = 'Mock')\n",
    "plt.plot(color_bin,pdf_theory[6],label = 'Analytic',linestyle = ':')\n",
    "plt.text(0.1,2.5,'$M_{r} \\ = \\ -22$',fontsize = 10)\n",
    "plt.xlim(-0.2,1.7)\n",
    "plt.legend()\n",
    "plt.title(r'Color PDF Comparison ')\n",
    "plt.ylabel(r'$pdf(^{0.1}(g-r))$')\n",
    "frame1.set_xticklabels([])\n",
    "\n",
    "frame2 = fig2.add_axes((.1,.5,.8,.25)) #前两个参数表示起点的位置坐标，后两个参数表示长宽\n",
    "ax = plt.gca()\n",
    "plt.plot(color_bin_new,mag21[0],label = 'Mock')\n",
    "plt.plot(color_bin,pdf_theory[5],label = 'Analytic',linestyle = ':')\n",
    "plt.text(0.1,2.,'$M_{r} \\ = \\ -21$',fontsize = 10)\n",
    "plt.xlim(-0.2,1.7)\n",
    "\n",
    "plt.ylabel(r'$pdf(^{0.1}(g-r))$')\n",
    "frame2.set_xticklabels([])\n",
    "\n",
    "frame3 = fig2.add_axes((.1,.25,.8,.25))\n",
    "ax = plt.gca()\n",
    "plt.plot(color_bin_new,mag20[0],label = 'Mock')\n",
    "plt.plot(color_bin,pdf_theory[4],label = 'Analytic',linestyle = ':')\n",
    "plt.text(0.1,1.5,'$M_{r} \\ = \\ -20$',fontsize = 10)\n",
    "plt.xlim(-0.2,1.7)\n",
    "plt.ylabel(r'$pdf(^{0.1}(g-r))$')\n",
    "frame3.set_xticklabels([])\n",
    "\n",
    "\n",
    "frame4 = fig2.add_axes((.1,.0,.8,.25))\n",
    "ax = plt.gca()\n",
    "plt.plot(color_bin_new,mag19[0],label = 'Mock')\n",
    "plt.plot(color_bin,pdf_theory[3],label = 'Analytic',linestyle = ':')\n",
    "plt.text(0.1,1.2,'$M_{r} \\ = \\ -19$',fontsize = 10)\n",
    "plt.xlim(-0.2,1.7)\n",
    "plt.ylabel(r'$pdf(^{0.1}(g-r))$')\n",
    "\n",
    "\n",
    "plt.xlabel(r' $^{0.1}(g-r)$ ')\n",
    "\n",
    "plt.savefig('/home/yunzheng/mock/color/picture/colorassign20_new_new_new.pdf',dpi = 100)"
   ]
  },
  {
   "cell_type": "code",
   "execution_count": 94,
   "metadata": {
    "execution": {
     "iopub.execute_input": "2021-04-03T06:40:37.260890Z",
     "iopub.status.busy": "2021-04-03T06:40:37.260672Z",
     "iopub.status.idle": "2021-04-03T06:40:37.866017Z",
     "shell.execute_reply": "2021-04-03T06:40:37.865442Z",
     "shell.execute_reply.started": "2021-04-03T06:40:37.260868Z"
    },
    "tags": []
   },
   "outputs": [
    {
     "data": {
      "image/png": "[encoded data removed]",
      "text/plain": [
       "<Figure size 576x864 with 3 Axes>"
      ]
     },
     "metadata": {
      "needs_background": "light"
     },
     "output_type": "display_data"
    }
   ],
   "source": [
    "fig2 = plt.figure(figsize=(8,12))\n",
    "\n",
    "frame1 = fig2.add_axes((.1,.65,.8,.3)) #前两个参数表示起点的位置坐标，后两个参数表示长宽\n",
    "ax = plt.gca()\n",
    "plt.plot(color_bin_new,mag18[0],label = 'Mock')\n",
    "plt.plot(color_bin,pdf_theory[2],label = 'Analytic',linestyle = ':')\n",
    "plt.text(1.1,1.25,'$M_{r} \\ = \\ -18$',fontsize = 10)\n",
    "plt.xlim(-0.7,1.5)\n",
    "plt.legend()\n",
    "plt.title(r'Color PDF Comparison ')\n",
    "plt.ylabel(r'$pdf(^{0.1}(g-r))$')\n",
    "frame1.set_xticklabels([])\n",
    "\n",
    "frame2 = fig2.add_axes((.1,.35,.8,.3)) #前两个参数表示起点的位置坐标，后两个参数表示长宽\n",
    "ax = plt.gca()\n",
    "plt.plot(color_bin_new,mag17[0],label = 'Mock')\n",
    "plt.plot(color_bin,pdf_theory[1],label = 'Analytic',linestyle = ':')\n",
    "plt.text(1.1,1.,'$M_{r} \\ = \\ -17$',fontsize = 10)\n",
    "plt.xlim(-0.7,1.5)\n",
    "\n",
    "plt.ylabel(r'$pdf(^{0.1}(g-r))$')\n",
    "frame2.set_xticklabels([])\n",
    "\n",
    "frame3 = fig2.add_axes((.1,.05,.8,.3))\n",
    "ax = plt.gca()\n",
    "plt.plot(color_bin_new,mag16[0],label = 'Mock')\n",
    "plt.plot(color_bin,pdf_theory[0],label = 'Analytic',linestyle = ':')\n",
    "plt.text(1.1,1,'$M_{r} \\ = \\ -16$',fontsize = 10)\n",
    "plt.xlim(-0.7,1.5)\n",
    "plt.ylabel(r'$pdf(^{0.1}(g-r))$')\n",
    "plt.xlabel(r' $^{0.1}(g-r)$ ')\n",
    "\n",
    "plt.savefig('/home/yunzheng/mock/color/picture/colorassign16_new_new_new.pdf',dpi = 100)"
   ]
  },
  {
   "cell_type": "markdown",
   "metadata": {},
   "source": [
    "## 用新的magbin比较"
   ]
  },
  {
   "cell_type": "code",
   "execution_count": 64,
   "metadata": {
    "execution": {
     "iopub.execute_input": "2021-04-02T16:30:46.358437Z",
     "iopub.status.busy": "2021-04-02T16:30:46.358219Z",
     "iopub.status.idle": "2021-04-02T16:30:46.361393Z",
     "shell.execute_reply": "2021-04-02T16:30:46.360840Z",
     "shell.execute_reply.started": "2021-04-02T16:30:46.358414Z"
    }
   },
   "outputs": [],
   "source": [
    "mag_bin_new2 = np.arange(-23.5,-14.9,0.2)"
   ]
  },
  {
   "cell_type": "code",
   "execution_count": 65,
   "metadata": {
    "execution": {
     "iopub.execute_input": "2021-04-02T16:30:55.967880Z",
     "iopub.status.busy": "2021-04-02T16:30:55.967663Z",
     "iopub.status.idle": "2021-04-02T16:30:55.971567Z",
     "shell.execute_reply": "2021-04-02T16:30:55.971000Z",
     "shell.execute_reply.started": "2021-04-02T16:30:55.967858Z"
    }
   },
   "outputs": [
    {
     "data": {
      "text/plain": [
       "(43,)"
      ]
     },
     "execution_count": 65,
     "metadata": {},
     "output_type": "execute_result"
    }
   ],
   "source": [
    "mag_bin_new2.shape"
   ]
  },
  {
   "cell_type": "code",
   "execution_count": 66,
   "metadata": {
    "execution": {
     "iopub.execute_input": "2021-04-02T16:31:43.396079Z",
     "iopub.status.busy": "2021-04-02T16:31:43.395862Z",
     "iopub.status.idle": "2021-04-02T16:31:44.378466Z",
     "shell.execute_reply": "2021-04-02T16:31:44.377851Z",
     "shell.execute_reply.started": "2021-04-02T16:31:43.396057Z"
    }
   },
   "outputs": [],
   "source": [
    "inds_new = np.digitize(mag,mag_bin_new2)"
   ]
  },
  {
   "cell_type": "code",
   "execution_count": 67,
   "metadata": {
    "execution": {
     "iopub.execute_input": "2021-04-02T16:32:05.693467Z",
     "iopub.status.busy": "2021-04-02T16:32:05.693263Z",
     "iopub.status.idle": "2021-04-02T16:32:24.721218Z",
     "shell.execute_reply": "2021-04-02T16:32:24.720377Z",
     "shell.execute_reply.started": "2021-04-02T16:32:05.693445Z"
    }
   },
   "outputs": [],
   "source": [
    "mag_sta2 = [[]for _ in range(43)]\n",
    "color_sta2 = [[]for _ in range(43)]\n",
    "for n in range(len(mag)):\n",
    "    mag_sta2[inds_new[n]].append(mag[n])\n",
    "    color_sta2[inds_new[n]].append(color[n])"
   ]
  },
  {
   "cell_type": "code",
   "execution_count": 68,
   "metadata": {
    "execution": {
     "iopub.execute_input": "2021-04-02T16:32:36.362529Z",
     "iopub.status.busy": "2021-04-02T16:32:36.362302Z",
     "iopub.status.idle": "2021-04-02T16:32:36.370521Z",
     "shell.execute_reply": "2021-04-02T16:32:36.369974Z",
     "shell.execute_reply.started": "2021-04-02T16:32:36.362501Z"
    }
   },
   "outputs": [],
   "source": [
    "pdf_test16 = pdf(color_bin,-16,z = 0.2182580231028184)\n",
    "pdf_test17 = pdf(color_bin,-17,z = 0.2182580231028184)\n",
    "pdf_test18 = pdf(color_bin,-18,z = 0.2182580231028184)\n",
    "pdf_test19 = pdf(color_bin,-19,z = 0.2182580231028184)\n",
    "pdf_test20 = pdf(color_bin,-20,z = 0.2182580231028184)\n",
    "pdf_test21 = pdf(color_bin,-21,z = 0.2182580231028184)\n",
    "pdf_test22 = pdf(color_bin,-22,z = 0.2182580231028184)\n",
    "pdf_test23 = pdf(color_bin,-23,z = 0.2182580231028184)"
   ]
  },
  {
   "cell_type": "code",
   "execution_count": 69,
   "metadata": {
    "execution": {
     "iopub.execute_input": "2021-04-02T16:32:48.992962Z",
     "iopub.status.busy": "2021-04-02T16:32:48.992747Z",
     "iopub.status.idle": "2021-04-02T16:32:49.026498Z",
     "shell.execute_reply": "2021-04-02T16:32:49.025857Z",
     "shell.execute_reply.started": "2021-04-02T16:32:48.992940Z"
    }
   },
   "outputs": [
    {
     "name": "stdout",
     "output_type": "stream",
     "text": [
      "0.08370150010360003\n",
      "1.4846435551805888\n"
     ]
    }
   ],
   "source": [
    "print(np.min(color_sta[23]))\n",
    "print(np.max(color_sta[23]))"
   ]
  },
  {
   "cell_type": "code",
   "execution_count": 70,
   "metadata": {
    "execution": {
     "iopub.execute_input": "2021-04-02T16:33:15.645585Z",
     "iopub.status.busy": "2021-04-02T16:33:15.645406Z",
     "iopub.status.idle": "2021-04-02T16:33:15.649218Z",
     "shell.execute_reply": "2021-04-02T16:33:15.648707Z",
     "shell.execute_reply.started": "2021-04-02T16:33:15.645562Z"
    }
   },
   "outputs": [
    {
     "data": {
      "text/plain": [
       "(112,)"
      ]
     },
     "execution_count": 70,
     "metadata": {},
     "output_type": "execute_result"
    }
   ],
   "source": [
    "color_bin.shape"
   ]
  },
  {
   "cell_type": "code",
   "execution_count": 71,
   "metadata": {
    "execution": {
     "iopub.execute_input": "2021-04-02T16:33:42.327649Z",
     "iopub.status.busy": "2021-04-02T16:33:42.327440Z",
     "iopub.status.idle": "2021-04-02T16:33:43.729588Z",
     "shell.execute_reply": "2021-04-02T16:33:43.728970Z",
     "shell.execute_reply.started": "2021-04-02T16:33:42.327626Z"
    }
   },
   "outputs": [],
   "source": [
    "mag16 = np.histogram(color_sta2[38],color_bin,density = True)\n",
    "mag17 = np.histogram(color_sta2[33],color_bin,density = True)\n",
    "mag18 = np.histogram(color_sta2[28],color_bin,density = True)\n",
    "mag19 = np.histogram(color_sta2[23],color_bin,density = True)\n",
    "mag20 = np.histogram(color_sta2[18],color_bin,density = True)\n",
    "mag21 = np.histogram(color_sta2[13],color_bin,density = True)\n",
    "mag22 = np.histogram(color_sta2[8],color_bin,density = True)\n",
    "mag23 = np.histogram(color_sta2[3],color_bin,density = True)"
   ]
  },
  {
   "cell_type": "code",
   "execution_count": 72,
   "metadata": {
    "execution": {
     "iopub.execute_input": "2021-04-02T16:33:55.906766Z",
     "iopub.status.busy": "2021-04-02T16:33:55.906556Z",
     "iopub.status.idle": "2021-04-02T16:33:59.373036Z",
     "shell.execute_reply": "2021-04-02T16:33:59.372465Z",
     "shell.execute_reply.started": "2021-04-02T16:33:55.906742Z"
    }
   },
   "outputs": [
    {
     "data": {
      "text/plain": [
       "Text(0.5, 0, ' $^{0.1}(g-r)$ ')"
      ]
     },
     "execution_count": 72,
     "metadata": {},
     "output_type": "execute_result"
    },
    {
     "data": {
      "image/png": "[encoded data removed]",
      "text/plain": [
       "<Figure size 576x864 with 4 Axes>"
      ]
     },
     "metadata": {
      "needs_background": "light"
     },
     "output_type": "display_data"
    }
   ],
   "source": [
    "fig2 = plt.figure(figsize=(8,12))\n",
    "\n",
    "frame1 = fig2.add_axes((.1,.75,.8,.25)) #前两个参数表示起点的位置坐标，后两个参数表示长宽\n",
    "ax = plt.gca()\n",
    "plt.plot(color_bin_new,mag23[0],label = 'Mock')\n",
    "plt.plot(color_bin,pdf_test23,label = 'Analytic',linestyle = ':')\n",
    "plt.text(0.1,4,'$M_{r} \\ = \\ -23$',fontsize = 10)\n",
    "plt.xlim(0,1.7)\n",
    "plt.legend()\n",
    "plt.title(r'Color PDF Comparison ')\n",
    "plt.ylabel(r'$pdf(^{0.1}(g-r))$')\n",
    "frame1.set_xticklabels([])\n",
    "\n",
    "frame2 = fig2.add_axes((.1,.5,.8,.25)) #前两个参数表示起点的位置坐标，后两个参数表示长宽\n",
    "ax = plt.gca()\n",
    "plt.plot(color_bin_new,mag22[0],label = 'Mock')\n",
    "plt.plot(color_bin,pdf_test22,label = 'Analytic',linestyle = ':')\n",
    "plt.text(0.1,2.5,'$M_{r} \\ = \\ -22$',fontsize = 10)\n",
    "plt.xlim(0,1.7)\n",
    "\n",
    "plt.ylabel(r'$pdf(^{0.1}(g-r))$')\n",
    "frame2.set_xticklabels([])\n",
    "\n",
    "frame3 = fig2.add_axes((.1,.25,.8,.25))\n",
    "ax = plt.gca()\n",
    "plt.plot(color_bin_new,mag21[0],label = 'Mock')\n",
    "plt.plot(color_bin,pdf_test21,label = 'Analytic',linestyle = ':')\n",
    "plt.text(0.1,2,'$M_{r} \\ = \\ -21$',fontsize = 10)\n",
    "plt.xlim(0,1.7)\n",
    "plt.ylabel(r'$pdf(^{0.1}(g-r))$')\n",
    "frame3.set_xticklabels([])\n",
    "\n",
    "\n",
    "frame4 = fig2.add_axes((.1,.0,.8,.25))\n",
    "ax = plt.gca()\n",
    "plt.plot(color_bin_new,mag20[0],label = 'Mock')\n",
    "plt.plot(color_bin,pdf_test20,label = 'Analytic',linestyle = ':')\n",
    "plt.text(0.1,1.75,'$M_{r} \\ = \\ -20$',fontsize = 10)\n",
    "plt.xlim(0,1.7)\n",
    "plt.ylabel(r'$pdf(^{0.1}(g-r))$')\n",
    "\n",
    "\n",
    "plt.xlabel(r' $^{0.1}(g-r)$ ')\n",
    "\n",
    "# plt.savefig('/home/yunzheng/mock/color/picture/colorassign20_new.pdf',dpi = 100)"
   ]
  },
  {
   "cell_type": "code",
   "execution_count": 74,
   "metadata": {
    "execution": {
     "iopub.execute_input": "2021-04-02T16:35:11.579838Z",
     "iopub.status.busy": "2021-04-02T16:35:11.579615Z",
     "iopub.status.idle": "2021-04-02T16:35:11.979239Z",
     "shell.execute_reply": "2021-04-02T16:35:11.978660Z",
     "shell.execute_reply.started": "2021-04-02T16:35:11.579814Z"
    },
    "tags": []
   },
   "outputs": [
    {
     "data": {
      "text/plain": [
       "Text(0.5, 0, ' $^{0.1}(g-r)$ ')"
      ]
     },
     "execution_count": 74,
     "metadata": {},
     "output_type": "execute_result"
    },
    {
     "data": {
      "image/png": "[encoded data removed]",
      "text/plain": [
       "<Figure size 576x864 with 3 Axes>"
      ]
     },
     "metadata": {
      "needs_background": "light"
     },
     "output_type": "display_data"
    }
   ],
   "source": [
    "fig2 = plt.figure(figsize=(8,12))\n",
    "frame1 = fig2.add_axes((.1,.65,.8,.3)) #前两个参数表示起点的位置坐标，后两个参数表示长宽\n",
    "ax = plt.gca()\n",
    "plt.plot(color_bin_new,mag17[0],label = 'Mock')\n",
    "plt.plot(color_bin,pdf_test17,label = 'Analytic',linestyle = ':')\n",
    "plt.text(1.4,1.4,'$M_{r} \\ = \\ -17$',fontsize = 10)\n",
    "plt.xlim(-1.0,1.7)\n",
    "plt.legend()\n",
    "plt.title(r'Color PDF Comparison ')\n",
    "plt.ylabel(r'$pdf(^{0.1}(g-r))$')\n",
    "frame1.set_xticklabels([])\n",
    "\n",
    "frame2 = fig2.add_axes((.1,.35,.8,.3))\n",
    "ax = plt.gca()\n",
    "\n",
    "plt.plot(color_bin_new,mag18[0],label = 'Mock')\n",
    "plt.plot(color_bin,pdf_test18,label = 'Analytic',linestyle = ':')\n",
    "plt.text(1.4,1.25,'$M_{r} \\ = \\ -18$',fontsize = 10)\n",
    "plt.xlim(-1.0,1.7)\n",
    "plt.ylabel(r'$pdf(^{0.1}(g-r))$')\n",
    "frame2.set_xticklabels([])\n",
    "\n",
    "\n",
    "frame3 = fig2.add_axes((.1,.05,.8,.3))\n",
    "ax = plt.gca()\n",
    "plt.plot(color_bin_new,mag16[0],label = 'Mock')\n",
    "plt.plot(color_bin,pdf_test16,label = 'Analytic',linestyle = ':')\n",
    "plt.text(1.4,1,'$M_{r} \\ = \\ -19$',fontsize = 10)\n",
    "plt.xlim(-1.0,1.7)\n",
    "plt.ylabel(r'$pdf(^{0.1}(g-r))$')\n",
    "plt.xlabel(r' $^{0.1}(g-r)$ ')\n",
    "\n",
    "# plt.savefig('/home/yunzheng/mock/color/picture/colorassign17_new.pdf',dpi = 100)"
   ]
  },
  {
   "cell_type": "markdown",
   "metadata": {},
   "source": [
    "# color-mag distribution"
   ]
  },
  {
   "cell_type": "code",
   "execution_count": 76,
   "metadata": {
    "execution": {
     "iopub.execute_input": "2021-04-02T16:36:55.787333Z",
     "iopub.status.busy": "2021-04-02T16:36:55.787136Z",
     "iopub.status.idle": "2021-04-02T16:36:55.790010Z",
     "shell.execute_reply": "2021-04-02T16:36:55.789469Z",
     "shell.execute_reply.started": "2021-04-02T16:36:55.787311Z"
    }
   },
   "outputs": [],
   "source": [
    "import matplotlib as mpl"
   ]
  },
  {
   "cell_type": "code",
   "execution_count": 78,
   "metadata": {
    "execution": {
     "iopub.execute_input": "2021-04-02T16:37:13.135817Z",
     "iopub.status.busy": "2021-04-02T16:37:13.135592Z",
     "iopub.status.idle": "2021-04-02T16:37:17.371083Z",
     "shell.execute_reply": "2021-04-02T16:37:17.370499Z",
     "shell.execute_reply.started": "2021-04-02T16:37:13.135778Z"
    },
    "tags": []
   },
   "outputs": [
    {
     "data": {
      "image/png": "[encoded data removed]",
      "text/plain": [
       "<Figure size 432x288 with 1 Axes>"
      ]
     },
     "metadata": {
      "needs_background": "light"
     },
     "output_type": "display_data"
    }
   ],
   "source": [
    "plt.hist2d(mag,color,bins = 1000,norm = mpl.colors.LogNorm())\n",
    "plt.gca().invert_xaxis()\n",
    "# plt.xlim(-17.5,-23)\n",
    "# plt.ylim(-5,5.5)"
   ]
  },
  {
   "cell_type": "code",
   "execution_count": 106,
   "metadata": {
    "execution": {
     "iopub.execute_input": "2021-04-03T06:54:50.123034Z",
     "iopub.status.busy": "2021-04-03T06:54:50.122816Z",
     "iopub.status.idle": "2021-04-03T06:54:52.915600Z",
     "shell.execute_reply": "2021-04-03T06:54:52.915041Z",
     "shell.execute_reply.started": "2021-04-03T06:54:50.123008Z"
    },
    "tags": []
   },
   "outputs": [
    {
     "data": {
      "text/plain": [
       "Text(0.5, 1.0, 'color distribution')"
      ]
     },
     "execution_count": 106,
     "metadata": {},
     "output_type": "execute_result"
    },
    {
     "data": {
      "image/png": "[encoded data removed]",
      "text/plain": [
       "<Figure size 576x432 with 2 Axes>"
      ]
     },
     "metadata": {
      "needs_background": "light"
     },
     "output_type": "display_data"
    }
   ],
   "source": [
    "fig = plt.figure(figsize = (8,6))\n",
    "ax = fig.add_subplot(111)\n",
    "\n",
    "counts,xbins,ybins,image = plt.hist2d(mag,color,bins = 100,norm = mpl.colors.LogNorm(),cmap = plt.cm.rainbow)\n",
    "# plt.contour(xbins[1:],ybins[1:],counts.transpose(),extent = [-22,-16.5,-1,1.5],linewidths=2)\n",
    "\n",
    "plt.gca().invert_xaxis()\n",
    "\n",
    "# plt.xlim(-17.5,-23)\n",
    "# plt.ylim(-0.5,1.5)\n",
    "plt.colorbar()\n",
    "# ax.set_aspect(np.diff(plt.get_xlim())/np.diff(plt.get_ylim()))\n",
    "# ax.set_aspect('equal')\n",
    "\n",
    "plt.xlabel('$M_{r}^{h}$')\n",
    "plt.ylabel('$^{0.1}(g-r)$')\n",
    "plt.title('color distribution')\n",
    "# plt.savefig('/home/yunzheng/mock/color/picture/color_distribution_new.pdf',dpi = 100,metadata = {'Comment':\"color distribution to mag\"})"
   ]
  },
  {
   "cell_type": "code",
   "execution_count": 116,
   "metadata": {
    "collapsed": true,
    "execution": {
     "iopub.execute_input": "2021-04-03T07:02:02.179747Z",
     "iopub.status.busy": "2021-04-03T07:02:02.179531Z",
     "iopub.status.idle": "2021-04-03T07:02:02.184296Z",
     "shell.execute_reply": "2021-04-03T07:02:02.183754Z",
     "shell.execute_reply.started": "2021-04-03T07:02:02.179724Z"
    },
    "jupyter": {
     "outputs_hidden": true
    },
    "tags": []
   },
   "outputs": [
    {
     "data": {
      "text/plain": [
       "array([2.0000e+00, 1.0000e+00, 6.0000e+00, 7.0000e+00, 1.0000e+01,\n",
       "       1.0000e+01, 2.9000e+01, 2.1000e+01, 4.2000e+01, 7.3000e+01,\n",
       "       8.1000e+01, 1.3000e+02, 1.8600e+02, 2.7500e+02, 3.5700e+02,\n",
       "       5.2000e+02, 6.8000e+02, 8.9900e+02, 1.1820e+03, 1.5990e+03,\n",
       "       2.0280e+03, 2.5970e+03, 3.3100e+03, 4.1590e+03, 5.1670e+03,\n",
       "       5.8980e+03, 7.4510e+03, 9.0620e+03, 1.0445e+04, 1.2309e+04,\n",
       "       1.3818e+04, 1.5584e+04, 1.7822e+04, 2.0363e+04, 2.0878e+04,\n",
       "       2.3229e+04, 2.5190e+04, 2.5852e+04, 2.6667e+04, 2.9409e+04,\n",
       "       2.8810e+04, 2.8109e+04, 2.8497e+04, 2.8152e+04, 2.7253e+04,\n",
       "       2.6098e+04, 2.4613e+04, 2.3136e+04, 2.1932e+04, 1.9180e+04,\n",
       "       1.7840e+04, 1.6422e+04, 1.3401e+04, 1.2345e+04, 1.0777e+04,\n",
       "       7.2590e+03, 8.3640e+03, 6.7390e+03, 4.9570e+03, 4.0760e+03,\n",
       "       3.6880e+03, 2.8740e+03, 2.1350e+03, 1.4470e+03, 1.7960e+03,\n",
       "       9.0200e+02, 1.1940e+03, 5.0500e+02, 9.4600e+02, 2.6100e+02,\n",
       "       7.1900e+02, 4.1400e+02, 3.2700e+02, 3.1600e+02, 1.4200e+02,\n",
       "       2.1200e+02, 8.4000e+01, 5.0000e+01, 1.5900e+02, 2.7000e+01,\n",
       "       9.2000e+01, 1.0000e+01, 6.6000e+01, 2.8000e+01, 1.7000e+01,\n",
       "       4.0000e+00, 5.0000e+00, 4.0000e+00, 5.0000e+00, 0.0000e+00,\n",
       "       0.0000e+00, 1.0000e+00, 1.0000e+00, 1.0000e+00, 0.0000e+00,\n",
       "       0.0000e+00, 0.0000e+00, 0.0000e+00, 0.0000e+00, 0.0000e+00])"
      ]
     },
     "execution_count": 116,
     "metadata": {},
     "output_type": "execute_result"
    }
   ],
   "source": [
    "counts[-5]"
   ]
  },
  {
   "cell_type": "code",
   "execution_count": 119,
   "metadata": {
    "execution": {
     "iopub.execute_input": "2021-04-03T07:03:04.716543Z",
     "iopub.status.busy": "2021-04-03T07:03:04.716328Z",
     "iopub.status.idle": "2021-04-03T07:03:04.720071Z",
     "shell.execute_reply": "2021-04-03T07:03:04.719521Z",
     "shell.execute_reply.started": "2021-04-03T07:03:04.716521Z"
    },
    "tags": []
   },
   "outputs": [
    {
     "data": {
      "text/plain": [
       "(96,)"
      ]
     },
     "execution_count": 119,
     "metadata": {},
     "output_type": "execute_result"
    }
   ],
   "source": [
    "xbins[5:].shape"
   ]
  },
  {
   "cell_type": "code",
   "execution_count": 129,
   "metadata": {
    "execution": {
     "iopub.execute_input": "2021-04-03T08:17:51.577539Z",
     "iopub.status.busy": "2021-04-03T08:17:51.577332Z",
     "iopub.status.idle": "2021-04-03T08:17:54.894896Z",
     "shell.execute_reply": "2021-04-03T08:17:54.894309Z",
     "shell.execute_reply.started": "2021-04-03T08:17:51.577518Z"
    },
    "tags": []
   },
   "outputs": [
    {
     "name": "stderr",
     "output_type": "stream",
     "text": [
      "<ipython-input-129-b5a087bb519b>:18: UserWarning: Unknown infodict keyword: Comment\n",
      "  plt.savefig('/home/yunzheng/mock/color/picture/color_distributioncontour_new.pdf',dpi = 100,metadata = {'Comment':\"color distribution to mag\"})\n"
     ]
    },
    {
     "data": {
      "image/png": "[encoded data removed]",
      "text/plain": [
       "<Figure size 720x720 with 1 Axes>"
      ]
     },
     "metadata": {
      "needs_background": "light"
     },
     "output_type": "display_data"
    }
   ],
   "source": [
    "fig = plt.figure(figsize = (10,10))\n",
    "ax = fig.add_subplot(111)\n",
    "\n",
    "counts,xbins,ybins,image = plt.hist2d(mag,color,bins = 100,norm = mpl.colors.LogNorm(),cmap = plt.cm.GnBu)\n",
    "plt.contour(xbins[1:],ybins[1:],counts.transpose(),linewidths=2)\n",
    "\n",
    "plt.gca().invert_xaxis()\n",
    "\n",
    "# plt.xlim(-17.5,-23)\n",
    "# plt.ylim(-0.5,1.5)\n",
    "# plt.colorbar()\n",
    "# ax.set_aspect(np.diff(plt.get_xlim())/np.diff(plt.get_ylim()))\n",
    "# ax.set_aspect('equal')\n",
    "\n",
    "plt.xlabel('$M_{r}^{h}$')\n",
    "plt.ylabel('$^{0.1}(g-r)$')\n",
    "plt.title('color distribution')\n",
    "plt.savefig('/home/yunzheng/mock/color/picture/color_distributioncontour_new.pdf',dpi = 100,metadata = {'Comment':\"color distribution to mag\"})"
   ]
  },
  {
   "cell_type": "markdown",
   "metadata": {},
   "source": [
    "# color data double check"
   ]
  },
  {
   "cell_type": "code",
   "execution_count": 131,
   "metadata": {
    "execution": {
     "iopub.execute_input": "2021-04-03T08:21:56.689613Z",
     "iopub.status.busy": "2021-04-03T08:21:56.689405Z",
     "iopub.status.idle": "2021-04-03T08:21:56.918332Z",
     "shell.execute_reply": "2021-04-03T08:21:56.917695Z",
     "shell.execute_reply.started": "2021-04-03T08:21:56.689591Z"
    },
    "tags": []
   },
   "outputs": [],
   "source": [
    "color2 = np.load('/home/yunzheng/mock/color/data/zcdf_new/color_mul_normal.npy')"
   ]
  },
  {
   "cell_type": "code",
   "execution_count": 132,
   "metadata": {
    "execution": {
     "iopub.execute_input": "2021-04-03T08:22:23.073491Z",
     "iopub.status.busy": "2021-04-03T08:22:23.073283Z",
     "iopub.status.idle": "2021-04-03T08:22:23.155365Z",
     "shell.execute_reply": "2021-04-03T08:22:23.154745Z",
     "shell.execute_reply.started": "2021-04-03T08:22:23.073469Z"
    }
   },
   "outputs": [],
   "source": [
    "color_dev = color - color2"
   ]
  },
  {
   "cell_type": "code",
   "execution_count": 133,
   "metadata": {
    "execution": {
     "iopub.execute_input": "2021-04-03T08:22:35.289827Z",
     "iopub.status.busy": "2021-04-03T08:22:35.289616Z",
     "iopub.status.idle": "2021-04-03T08:22:35.293550Z",
     "shell.execute_reply": "2021-04-03T08:22:35.293012Z",
     "shell.execute_reply.started": "2021-04-03T08:22:35.289804Z"
    }
   },
   "outputs": [
    {
     "data": {
      "text/plain": [
       "array([0., 0., 0., ..., 0., 0., 0.])"
      ]
     },
     "execution_count": 133,
     "metadata": {},
     "output_type": "execute_result"
    }
   ],
   "source": [
    "color_dev"
   ]
  },
  {
   "cell_type": "code",
   "execution_count": 134,
   "metadata": {
    "execution": {
     "iopub.execute_input": "2021-04-03T08:22:44.598710Z",
     "iopub.status.busy": "2021-04-03T08:22:44.598554Z",
     "iopub.status.idle": "2021-04-03T08:22:44.601993Z",
     "shell.execute_reply": "2021-04-03T08:22:44.601471Z",
     "shell.execute_reply.started": "2021-04-03T08:22:44.598690Z"
    }
   },
   "outputs": [
    {
     "data": {
      "text/plain": [
       "(26241654,)"
      ]
     },
     "execution_count": 134,
     "metadata": {},
     "output_type": "execute_result"
    }
   ],
   "source": [
    "color2.shape"
   ]
  },
  {
   "cell_type": "code",
   "execution_count": 135,
   "metadata": {
    "execution": {
     "iopub.execute_input": "2021-04-03T08:22:50.774689Z",
     "iopub.status.busy": "2021-04-03T08:22:50.774496Z",
     "iopub.status.idle": "2021-04-03T08:22:50.778423Z",
     "shell.execute_reply": "2021-04-03T08:22:50.777895Z",
     "shell.execute_reply.started": "2021-04-03T08:22:50.774668Z"
    }
   },
   "outputs": [
    {
     "data": {
      "text/plain": [
       "array([-0.73198615, -0.68474536, -0.51660745, ...,  0.92147587,\n",
       "        1.104208  ,  0.8979283 ])"
      ]
     },
     "execution_count": 135,
     "metadata": {},
     "output_type": "execute_result"
    }
   ],
   "source": [
    "color"
   ]
  },
  {
   "cell_type": "code",
   "execution_count": 136,
   "metadata": {
    "execution": {
     "iopub.execute_input": "2021-04-03T08:22:55.375564Z",
     "iopub.status.busy": "2021-04-03T08:22:55.375361Z",
     "iopub.status.idle": "2021-04-03T08:22:55.379271Z",
     "shell.execute_reply": "2021-04-03T08:22:55.378753Z",
     "shell.execute_reply.started": "2021-04-03T08:22:55.375542Z"
    }
   },
   "outputs": [
    {
     "data": {
      "text/plain": [
       "array([-0.73198615, -0.68474536, -0.51660745, ...,  0.92147587,\n",
       "        1.104208  ,  0.8979283 ])"
      ]
     },
     "execution_count": 136,
     "metadata": {},
     "output_type": "execute_result"
    }
   ],
   "source": [
    "color2"
   ]
  },
  {
   "cell_type": "code",
   "execution_count": 137,
   "metadata": {
    "execution": {
     "iopub.execute_input": "2021-04-03T08:23:08.600332Z",
     "iopub.status.busy": "2021-04-03T08:23:08.600130Z",
     "iopub.status.idle": "2021-04-03T08:23:08.620630Z",
     "shell.execute_reply": "2021-04-03T08:23:08.620120Z",
     "shell.execute_reply.started": "2021-04-03T08:23:08.600311Z"
    }
   },
   "outputs": [
    {
     "data": {
      "text/plain": [
       "-0.9524718977761165"
      ]
     },
     "execution_count": 137,
     "metadata": {},
     "output_type": "execute_result"
    }
   ],
   "source": [
    "np.min(color2)"
   ]
  },
  {
   "cell_type": "code",
   "execution_count": 140,
   "metadata": {
    "execution": {
     "iopub.execute_input": "2021-04-03T08:23:38.668070Z",
     "iopub.status.busy": "2021-04-03T08:23:38.667863Z",
     "iopub.status.idle": "2021-04-03T08:23:38.688521Z",
     "shell.execute_reply": "2021-04-03T08:23:38.687998Z",
     "shell.execute_reply.started": "2021-04-03T08:23:38.668049Z"
    }
   },
   "outputs": [
    {
     "data": {
      "text/plain": [
       "-0.9524718977761165"
      ]
     },
     "execution_count": 140,
     "metadata": {},
     "output_type": "execute_result"
    }
   ],
   "source": [
    "np.min(color)"
   ]
  },
  {
   "cell_type": "code",
   "execution_count": 138,
   "metadata": {
    "execution": {
     "iopub.execute_input": "2021-04-03T08:23:18.575488Z",
     "iopub.status.busy": "2021-04-03T08:23:18.575304Z",
     "iopub.status.idle": "2021-04-03T08:23:18.595854Z",
     "shell.execute_reply": "2021-04-03T08:23:18.595341Z",
     "shell.execute_reply.started": "2021-04-03T08:23:18.575468Z"
    }
   },
   "outputs": [
    {
     "data": {
      "text/plain": [
       "1.5945069420331515"
      ]
     },
     "execution_count": 138,
     "metadata": {},
     "output_type": "execute_result"
    }
   ],
   "source": [
    "np.max(color)"
   ]
  },
  {
   "cell_type": "code",
   "execution_count": 139,
   "metadata": {
    "execution": {
     "iopub.execute_input": "2021-04-03T08:23:29.144579Z",
     "iopub.status.busy": "2021-04-03T08:23:29.144378Z",
     "iopub.status.idle": "2021-04-03T08:23:29.164947Z",
     "shell.execute_reply": "2021-04-03T08:23:29.164421Z",
     "shell.execute_reply.started": "2021-04-03T08:23:29.144558Z"
    }
   },
   "outputs": [
    {
     "data": {
      "text/plain": [
       "1.5945069420331515"
      ]
     },
     "execution_count": 139,
     "metadata": {},
     "output_type": "execute_result"
    }
   ],
   "source": [
    "np.max(color2)"
   ]
  },
  {
   "cell_type": "code",
   "execution_count": null,
   "metadata": {},
   "outputs": [],
   "source": []
  }
 ],
 "metadata": {
  "kernelspec": {
   "display_name": "Python 3",
   "language": "python",
   "name": "python3"
  },
  "language_info": {
   "codemirror_mode": {
    "name": "ipython",
    "version": 3
   },
   "file_extension": ".py",
   "mimetype": "text/x-python",
   "name": "python",
   "nbconvert_exporter": "python",
   "pygments_lexer": "ipython3",
   "version": "3.8.5"
  },
  "toc": {
   "base_numbering": 1,
   "nav_menu": {},
   "number_sections": true,
   "sideBar": true,
   "skip_h1_title": false,
   "title_cell": "Table of Contents",
   "title_sidebar": "Contents",
   "toc_cell": false,
   "toc_position": {
    "height": "calc(100% - 180px)",
    "left": "10px",
    "top": "150px",
    "width": "165px"
   },
   "toc_section_display": true,
   "toc_window_display": false
  },
  "toc-autonumbering": true
 },
 "nbformat": 4,
 "nbformat_minor": 5
}
